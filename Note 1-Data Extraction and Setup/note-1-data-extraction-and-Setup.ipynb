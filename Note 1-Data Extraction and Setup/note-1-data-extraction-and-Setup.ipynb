{
 "cells": [
  {
   "cell_type": "markdown",
   "id": "52b090b1",
   "metadata": {},
   "source": [
    "# Financial Data Analysis Pipeline: From API to Automated Insights"
   ]
  },
  {
   "cell_type": "markdown",
   "id": "9f0e27d1",
   "metadata": {},
   "source": [
    "───────────────────────────────────────────────────────────────────────────────────────────────────────────────────────────────────────    \n",
    "📘 **Author:** Teslim Uthman Adeyanju  \n",
    "📫 **Email:** [info@adeyanjuteslim.co.uk](mailto:info@adeyanjuteslim.co.uk)  \n",
    "🔗 **LinkedIn:** [linkedin.com/in/adeyanjuteslimuthman](https://www.linkedin.com/in/adeyanjuteslimuthman)  \n",
    "🌐 **Website & Blog:** [adeyanjuteslim.co.uk](https://adeyanjuteslim.co.uk)  \n",
    "───────────────────────────────────────────────────────────────────────────────────────────────────────────────────────────────────────    \n"
   ]
  },
  {
   "cell_type": "markdown",
   "id": "15a6f3c5",
   "metadata": {},
   "source": []
  },
  {
   "cell_type": "code",
   "execution_count": 41,
   "id": "5552d6d4",
   "metadata": {},
   "outputs": [],
   "source": [
    "# IMPORTS\n",
    "import numpy as np\n",
    "import pandas as pd\n",
    "\n",
    "#Fin Data Sources\n",
    "import yfinance as yf\n",
    "import pandas_datareader as pdr\n",
    "\n",
    "#Data viz\n",
    "import plotly.graph_objs as go\n",
    "import plotly.express as px\n",
    "\n",
    "import time\n",
    "from datetime import date\n",
    "\n",
    "import matplotlib.pyplot as plt\n",
    "import seaborn as sns"
   ]
  },
  {
   "cell_type": "markdown",
   "id": "9223fca7",
   "metadata": {},
   "source": [
    "## 📋 Configuration & Constants\n",
    "\n",
    "Set up configuration parameters and constants for the analysis."
   ]
  },
  {
   "cell_type": "code",
   "execution_count": 42,
   "id": "66e86173",
   "metadata": {},
   "outputs": [
    {
     "name": "stdout",
     "output_type": "stream",
     "text": [
      "✅ Configuration loaded successfully\n"
     ]
    }
   ],
   "source": [
    "# Configuration and Constants\n",
    "import warnings\n",
    "warnings.filterwarnings('ignore')\n",
    "\n",
    "# Set pandas display options\n",
    "pd.set_option('display.max_columns', None)\n",
    "pd.set_option('display.width', None)\n",
    "pd.set_option('display.max_colwidth', None)\n",
    "\n",
    "# Constants\n",
    "TRADING_DAYS_PER_YEAR = 252\n",
    "TRADING_DAYS_PER_QUARTER = 63\n",
    "FED_INFLATION_TARGET = 2.0\n",
    "\n",
    "# Data file paths\n",
    "DATA_FILES = {\n",
    "    'gdppot': 'gdppot.csv',\n",
    "    'cpi': 'df_cpi.csv',\n",
    "    'fedfunds': 'fedfunds.csv',\n",
    "    'spx_index': 'spx_index.csv',\n",
    "    'dax_daily': 'dax_daily.csv',\n",
    "    'snp500': 'snp500_daily_non_delayed.csv',\n",
    "    'macro_data': 'macro_data.csv'\n",
    "}\n",
    "\n",
    "# Style settings for plots\n",
    "plt.style.use('default')\n",
    "plt.rcParams['figure.figsize'] = (14, 8)\n",
    "plt.rcParams['font.size'] = 12\n",
    "\n",
    "print(\"✅ Configuration loaded successfully\")"
   ]
  },
  {
   "cell_type": "code",
   "execution_count": 43,
   "id": "998bb610",
   "metadata": {},
   "outputs": [
    {
     "name": "stdout",
     "output_type": "stream",
     "text": [
      "✅ Utility functions loaded successfully\n"
     ]
    }
   ],
   "source": [
    "# Utility Functions\n",
    "def safe_data_download(ticker_symbol, data_source, start_date, end_date=None, max_retries=3):\n",
    "    \"\"\"\n",
    "    Safely download financial data with retry mechanism and error handling.\n",
    "    \n",
    "    Args:\n",
    "        ticker_symbol (str): The ticker symbol or data identifier\n",
    "        data_source (str): Data source ('fred', 'yahoo', 'stooq')\n",
    "        start_date (datetime): Start date for data\n",
    "        end_date (datetime): End date for data (optional)\n",
    "        max_retries (int): Maximum number of retry attempts\n",
    "    \n",
    "    Returns:\n",
    "        pd.DataFrame: Downloaded data or None if failed\n",
    "    \"\"\"\n",
    "    for attempt in range(max_retries):\n",
    "        try:\n",
    "            if data_source.lower() == 'fred':\n",
    "                data = pdr.DataReader(ticker_symbol, \"fred\", start_date, end_date)\n",
    "            elif data_source.lower() == 'yahoo':\n",
    "                ticker_obj = yf.Ticker(ticker_symbol)\n",
    "                data = ticker_obj.history(start=start_date, end=end_date)\n",
    "            elif data_source.lower() == 'stooq':\n",
    "                data = pdr.get_data_stooq(ticker_symbol, start_date, end_date)\n",
    "            else:\n",
    "                raise ValueError(f\"Unsupported data source: {data_source}\")\n",
    "            \n",
    "            if not data.empty:\n",
    "                print(f\"✅ Successfully downloaded {ticker_symbol} from {data_source}\")\n",
    "                return data\n",
    "            else:\n",
    "                print(f\"⚠️  No data returned for {ticker_symbol}\")\n",
    "                return None\n",
    "                \n",
    "        except Exception as e:\n",
    "            print(f\"❌ Attempt {attempt + 1} failed for {ticker_symbol}: {str(e)}\")\n",
    "            if attempt == max_retries - 1:\n",
    "                print(f\"❌ Failed to download {ticker_symbol} after {max_retries} attempts\")\n",
    "                return None\n",
    "            time.sleep(2)  # Wait before retry\n",
    "\n",
    "def calculate_returns(data, price_column='Close', periods=None):\n",
    "    \"\"\"\n",
    "    Calculate various return periods for financial data.\n",
    "    \n",
    "    Args:\n",
    "        data (pd.DataFrame): DataFrame with price data\n",
    "        price_column (str): Name of the price column\n",
    "        periods (dict): Dictionary of period names and their trading days\n",
    "    \n",
    "    Returns:\n",
    "        pd.DataFrame: Data with calculated returns\n",
    "    \"\"\"\n",
    "    if periods is None:\n",
    "        periods = {\n",
    "            'daily': 1,\n",
    "            'weekly': 5,\n",
    "            'monthly': 21,\n",
    "            'quarterly': TRADING_DAYS_PER_QUARTER,\n",
    "            'yearly': TRADING_DAYS_PER_YEAR\n",
    "        }\n",
    "    \n",
    "    data_copy = data.copy()\n",
    "    \n",
    "    for period_name, days in periods.items():\n",
    "        if period_name == 'daily':\n",
    "            data_copy[f'{period_name}_return'] = data_copy[price_column].pct_change()\n",
    "        else:\n",
    "            data_copy[f'{period_name}_return'] = data_copy[price_column].pct_change(periods=days)\n",
    "    \n",
    "    return data_copy\n",
    "\n",
    "def safe_save_load_csv(data, filename, save=True):\n",
    "    \"\"\"\n",
    "    Safely save data to CSV or load from CSV if save=False.\n",
    "    \n",
    "    Args:\n",
    "        data (pd.DataFrame): Data to save (if save=True)\n",
    "        filename (str): Filename for the CSV\n",
    "        save (bool): Whether to save (True) or load (False)\n",
    "    \n",
    "    Returns:\n",
    "        pd.DataFrame: Loaded data (if save=False) or original data (if save=True)\n",
    "    \"\"\"\n",
    "    try:\n",
    "        if save:\n",
    "            data.to_csv(filename)\n",
    "            print(f\"✅ Data saved to {filename}\")\n",
    "            return data\n",
    "        else:\n",
    "            loaded_data = pd.read_csv(filename, index_col=0, parse_dates=True)\n",
    "            print(f\"✅ Data loaded from {filename}\")\n",
    "            return loaded_data\n",
    "    except Exception as e:\n",
    "        print(f\"❌ Error with {filename}: {str(e)}\")\n",
    "        return None\n",
    "\n",
    "def create_dual_axis_plot(data, primary_col, secondary_col, title, primary_label, secondary_label, \n",
    "                         primary_color='darkred', secondary_color='blue', figsize=(14, 6)):\n",
    "    \"\"\"\n",
    "    Create a standardized dual-axis plot for financial data.\n",
    "    \n",
    "    Args:\n",
    "        data (pd.DataFrame): Data to plot\n",
    "        primary_col (str): Column for primary y-axis\n",
    "        secondary_col (str): Column for secondary y-axis\n",
    "        title (str): Plot title\n",
    "        primary_label (str): Primary y-axis label\n",
    "        secondary_label (str): Secondary y-axis label\n",
    "        primary_color (str): Primary line color\n",
    "        secondary_color (str): Secondary line color\n",
    "        figsize (tuple): Figure size\n",
    "    \n",
    "    Returns:\n",
    "        tuple: Figure and axes objects\n",
    "    \"\"\"\n",
    "    fig, ax1 = plt.subplots(figsize=figsize)\n",
    "    \n",
    "    # Primary axis\n",
    "    ax1.plot(data.index, data[primary_col], color=primary_color, label=primary_label, linewidth=2)\n",
    "    ax1.set_ylabel(primary_label, color=primary_color, fontsize=12)\n",
    "    ax1.tick_params(axis='y', labelcolor=primary_color)\n",
    "    \n",
    "    # Secondary axis\n",
    "    ax2 = ax1.twinx()\n",
    "    ax2.plot(data.index, data[secondary_col], color=secondary_color, label=secondary_label, linewidth=2)\n",
    "    ax2.set_ylabel(secondary_label, color=secondary_color, fontsize=12)\n",
    "    ax2.tick_params(axis='y', labelcolor=secondary_color)\n",
    "    \n",
    "    # Formatting\n",
    "    ax1.set_xlabel('Date', fontsize=12)\n",
    "    ax1.grid(True, linestyle='--', alpha=0.7)\n",
    "    plt.title(title, fontsize=14, fontweight='bold', pad=20)\n",
    "    \n",
    "    # Combined legend\n",
    "    lines1, labels1 = ax1.get_legend_handles_labels()\n",
    "    lines2, labels2 = ax2.get_legend_handles_labels()\n",
    "    ax2.legend(lines1 + lines2, labels1 + labels2, loc='upper left')\n",
    "    \n",
    "    plt.tight_layout()\n",
    "    return fig, (ax1, ax2)\n",
    "\n",
    "print(\"✅ Utility functions loaded successfully\")"
   ]
  },
  {
   "cell_type": "code",
   "execution_count": null,
   "id": "41d84b13",
   "metadata": {},
   "outputs": [],
   "source": []
  },
  {
   "cell_type": "markdown",
   "id": "eb697231",
   "metadata": {},
   "source": [
    "# 📚 1.0 INTRODUCTION\n",
    "\n",
    "\n",
    "<div style=\"font-family: Avenir, sans-serif; font-size: 16px; line-height: 1.6; color: white; background-color: #333; padding: 10px; border-radius: 5px;\">\n",
    "This section provides an overview of the dataset and the problem we are trying to solve. We will also discuss the data overview, project objective, methodology and the tools (libaries) we will use to solve the problem.\n",
    "\n",
    "</div>"
   ]
  },
  {
   "cell_type": "markdown",
   "id": "c3d9afdc",
   "metadata": {},
   "source": [
    "## 🔍 1.1 GDP Overview\n",
    "____"
   ]
  },
  {
   "cell_type": "markdown",
   "id": "98872498",
   "metadata": {},
   "source": [
    "The Real Potential GDP (GDPPOT) dataset from the Federal Reserve Economic Data (FRED) provides a comprehensive view of the U.S. economy's potential output. This dataset is crucial for understanding economic growth, inflation, and overall economic health. By analyzing GDPPOT, policymakers and economists can better assess the economy's performance relative to its potential, identify output gaps, and make informed decisions to promote sustainable growth.\n",
    "\n",
    "This data will cover 70 years of economic data, from 1955 to 2025, and will be used to analyze the trends in the U.S. economy's potential output over time. The dataset includes quarterly data points, allowing for a detailed examination of economic fluctuations and long-term trends."
   ]
  },
  {
   "cell_type": "code",
   "execution_count": 44,
   "id": "0c65e20e",
   "metadata": {},
   "outputs": [
    {
     "name": "stdout",
     "output_type": "stream",
     "text": [
      "Year = 2025; month= 8; day=24\n",
      "Period for indexes: 1955-08-24 to 2025-08-24 \n"
     ]
    }
   ],
   "source": [
    "# Setting the Date \n",
    "end = date.today()  \n",
    "print(f'Year = {end.year}; month= {end.month}; day={end.day}')  \n",
    "\n",
    "start = date(year=end.year-70, \n",
    "             month=end.month, \n",
    "             day=end.day)  \n",
    "\n",
    "print(f'Period for indexes: {start} to {end} ')  "
   ]
  },
  {
   "cell_type": "markdown",
   "id": "434f80ee",
   "metadata": {},
   "source": [
    "### Real Potential GDP (GDPPOT) Analysis — U.S. FRED Data"
   ]
  },
  {
   "cell_type": "markdown",
   "id": "9ecbb1c0",
   "metadata": {},
   "source": [
    "The data source for this analysis is the Federal Reserve Economic Data (FRED) database, which provides a wealth of economic data. The GDPPOT dataset specifically focuses on the Real Potential GDP, which is a measure of the economy's maximum sustainable output, adjusted for inflation."
   ]
  },
  {
   "cell_type": "code",
   "execution_count": 45,
   "id": "6e020090",
   "metadata": {},
   "outputs": [
    {
     "name": "stdout",
     "output_type": "stream",
     "text": [
      "📊 Downloading Real Potential GDP (GDPPOT) data...\n",
      "✅ Successfully downloaded GDPPOT from fred\n",
      "✅ GDPPOT data downloaded successfully. Shape: (280, 1)\n",
      "📈 Data range: 1955-10-01 00:00:00 to 2025-07-01 00:00:00\n",
      "✅ Successfully downloaded GDPPOT from fred\n",
      "✅ GDPPOT data downloaded successfully. Shape: (280, 1)\n",
      "📈 Data range: 1955-10-01 00:00:00 to 2025-07-01 00:00:00\n"
     ]
    }
   ],
   "source": [
    "# Download GDPPOT data from FRED with improved error handling\n",
    "print(\"📊 Downloading Real Potential GDP (GDPPOT) data...\")\n",
    "gdppot = safe_data_download(\"GDPPOT\", \"fred\", start_date=start)\n",
    "\n",
    "if gdppot is not None:\n",
    "    print(f\"✅ GDPPOT data downloaded successfully. Shape: {gdppot.shape}\")\n",
    "    print(\"📈 Data range:\", gdppot.index.min(), \"to\", gdppot.index.max())\n",
    "else:\n",
    "    print(\"❌ Failed to download GDPPOT data\")"
   ]
  },
  {
   "cell_type": "code",
   "execution_count": 46,
   "id": "bf3f6af3",
   "metadata": {},
   "outputs": [
    {
     "name": "stdout",
     "output_type": "stream",
     "text": [
      "✅ Data saved to gdppot.csv\n"
     ]
    }
   ],
   "source": [
    "# Save GDPPOT data to CSV\n",
    "if gdppot is not None:\n",
    "    safe_save_load_csv(gdppot, DATA_FILES['gdppot'], save=True)\n",
    "else:\n",
    "    print(\"❌ No GDPPOT data to save\")"
   ]
  },
  {
   "cell_type": "code",
   "execution_count": null,
   "id": "2eea12b6",
   "metadata": {},
   "outputs": [],
   "source": [
    "# Load GDP data from CSV with proper date parsing\n",
    "gdppot = pd.read_csv('gdppot.csv', index_col=0, parse_dates=True)\n",
    "print(f\"✅ GDP data loaded from CSV. Shape: {gdppot.shape}\")\n",
    "print(f\"📅 Date range: {gdppot.index.min()} to {gdppot.index.max()}\")"
   ]
  },
  {
   "cell_type": "code",
   "execution_count": 48,
   "id": "d4bbfadb",
   "metadata": {},
   "outputs": [
    {
     "data": {
      "application/vnd.microsoft.datawrangler.viewer.v0+json": {
       "columns": [
        {
         "name": "index",
         "rawType": "int64",
         "type": "integer"
        },
        {
         "name": "DATE",
         "rawType": "object",
         "type": "string"
        },
        {
         "name": "GDPPOT",
         "rawType": "float64",
         "type": "float"
        }
       ],
       "ref": "ca98e902-ce2f-45ac-b703-e3fe91f82373",
       "rows": [
        [
         "0",
         "1955-10-01",
         "3019.152595"
        ],
        [
         "1",
         "1956-01-01",
         "3038.588138"
        ],
        [
         "2",
         "1956-04-01",
         "3057.44897"
        ],
        [
         "3",
         "1956-07-01",
         "3077.140146"
        ],
        [
         "4",
         "1956-10-01",
         "3098.206236"
        ]
       ],
       "shape": {
        "columns": 2,
        "rows": 5
       }
      },
      "text/html": [
       "<div>\n",
       "<style scoped>\n",
       "    .dataframe tbody tr th:only-of-type {\n",
       "        vertical-align: middle;\n",
       "    }\n",
       "\n",
       "    .dataframe tbody tr th {\n",
       "        vertical-align: top;\n",
       "    }\n",
       "\n",
       "    .dataframe thead th {\n",
       "        text-align: right;\n",
       "    }\n",
       "</style>\n",
       "<table border=\"1\" class=\"dataframe\">\n",
       "  <thead>\n",
       "    <tr style=\"text-align: right;\">\n",
       "      <th></th>\n",
       "      <th>DATE</th>\n",
       "      <th>GDPPOT</th>\n",
       "    </tr>\n",
       "  </thead>\n",
       "  <tbody>\n",
       "    <tr>\n",
       "      <th>0</th>\n",
       "      <td>1955-10-01</td>\n",
       "      <td>3019.152595</td>\n",
       "    </tr>\n",
       "    <tr>\n",
       "      <th>1</th>\n",
       "      <td>1956-01-01</td>\n",
       "      <td>3038.588138</td>\n",
       "    </tr>\n",
       "    <tr>\n",
       "      <th>2</th>\n",
       "      <td>1956-04-01</td>\n",
       "      <td>3057.448970</td>\n",
       "    </tr>\n",
       "    <tr>\n",
       "      <th>3</th>\n",
       "      <td>1956-07-01</td>\n",
       "      <td>3077.140146</td>\n",
       "    </tr>\n",
       "    <tr>\n",
       "      <th>4</th>\n",
       "      <td>1956-10-01</td>\n",
       "      <td>3098.206236</td>\n",
       "    </tr>\n",
       "  </tbody>\n",
       "</table>\n",
       "</div>"
      ],
      "text/plain": [
       "         DATE       GDPPOT\n",
       "0  1955-10-01  3019.152595\n",
       "1  1956-01-01  3038.588138\n",
       "2  1956-04-01  3057.448970\n",
       "3  1956-07-01  3077.140146\n",
       "4  1956-10-01  3098.206236"
      ]
     },
     "execution_count": 48,
     "metadata": {},
     "output_type": "execute_result"
    }
   ],
   "source": [
    "gdppot.head()"
   ]
  },
  {
   "cell_type": "markdown",
   "id": "72e1bece",
   "metadata": {},
   "source": [
    "The calculation will focused on the Real Potential GDP (GDPPOT) data, which is a key indicator of the economy's potential output. The analysis will involve calculating the growth rate of GDPPOT, identifying trends, and visualizing the data to provide insights into the U.S. economy's performance."
   ]
  },
  {
   "cell_type": "markdown",
   "id": "faa8b34d",
   "metadata": {},
   "source": [
    "### Growth Rate Calculations"
   ]
  },
  {
   "cell_type": "markdown",
   "id": "1590bee9",
   "metadata": {},
   "source": [
    "**Year-over-Year (YoY) Growth Rate**: Measures the percentage change in GDP from one year to the next."
   ]
  },
  {
   "cell_type": "code",
   "execution_count": 49,
   "id": "ef0e20ba",
   "metadata": {},
   "outputs": [],
   "source": [
    "gdppot['gdppot_us_yoy'] = gdppot['GDPPOT'] / gdppot['GDPPOT'].shift(4) - 1"
   ]
  },
  {
   "cell_type": "code",
   "execution_count": 50,
   "id": "486082e2",
   "metadata": {},
   "outputs": [
    {
     "data": {
      "application/vnd.microsoft.datawrangler.viewer.v0+json": {
       "columns": [
        {
         "name": "index",
         "rawType": "int64",
         "type": "integer"
        },
        {
         "name": "gdppot_us_yoy",
         "rawType": "float64",
         "type": "float"
        }
       ],
       "ref": "6740f045-640e-4868-b6a0-540b82e80163",
       "rows": [
        [
         "0",
         null
        ],
        [
         "1",
         null
        ],
        [
         "2",
         null
        ],
        [
         "3",
         null
        ],
        [
         "4",
         "0.026184049501479345"
        ],
        [
         "5",
         "0.027272053742217306"
        ],
        [
         "6",
         "0.02926497478059309"
        ],
        [
         "7",
         "0.031467437752508376"
        ],
        [
         "8",
         "0.033584610924525915"
        ],
        [
         "9",
         "0.034919208651249756"
        ],
        [
         "10",
         "0.03565326727376794"
        ],
        [
         "11",
         "0.0359236224530981"
        ],
        [
         "12",
         "0.0363126108446854"
        ],
        [
         "13",
         "0.037051401563444"
        ],
        [
         "14",
         "0.03825772808288641"
        ],
        [
         "15",
         "0.04008957499506427"
        ],
        [
         "16",
         "0.04150549102540646"
        ],
        [
         "17",
         "0.04273755932213752"
        ],
        [
         "18",
         "0.04302188332738188"
        ],
        [
         "19",
         "0.04242393777099451"
        ],
        [
         "20",
         "0.04131880259567233"
        ],
        [
         "21",
         "0.03989168181566516"
        ],
        [
         "22",
         "0.038239991891171776"
        ],
        [
         "23",
         "0.037100700710023915"
        ],
        [
         "24",
         "0.03662060281963919"
        ],
        [
         "25",
         "0.03703369374488563"
        ],
        [
         "26",
         "0.03882399393949876"
        ],
        [
         "27",
         "0.04091326381724225"
        ],
        [
         "28",
         "0.04301194413954623"
        ],
        [
         "29",
         "0.044365227819323616"
        ],
        [
         "30",
         "0.04474123081291115"
        ],
        [
         "31",
         "0.04441953264343734"
        ],
        [
         "32",
         "0.043915880442022326"
        ],
        [
         "33",
         "0.04347388736652835"
        ],
        [
         "34",
         "0.0435320076165997"
        ],
        [
         "35",
         "0.043864304823668876"
        ],
        [
         "36",
         "0.04414471308741774"
        ],
        [
         "37",
         "0.044635211755500004"
        ],
        [
         "38",
         "0.0444509336470813"
        ],
        [
         "39",
         "0.04437748528613672"
        ],
        [
         "40",
         "0.04427006401334088"
        ],
        [
         "41",
         "0.04401637145561099"
        ],
        [
         "42",
         "0.04411657484386877"
        ],
        [
         "43",
         "0.04406852353219981"
        ],
        [
         "44",
         "0.04404263942654674"
        ],
        [
         "45",
         "0.04428992963554501"
        ],
        [
         "46",
         "0.04481501224102358"
        ],
        [
         "47",
         "0.04539839504471477"
        ],
        [
         "48",
         "0.04619243728615019"
        ],
        [
         "49",
         "0.04658846116969917"
        ]
       ],
       "shape": {
        "columns": 1,
        "rows": 280
       }
      },
      "text/plain": [
       "0           NaN\n",
       "1           NaN\n",
       "2           NaN\n",
       "3           NaN\n",
       "4      0.026184\n",
       "         ...   \n",
       "275    0.023223\n",
       "276    0.023249\n",
       "277    0.023113\n",
       "278    0.023029\n",
       "279    0.023013\n",
       "Name: gdppot_us_yoy, Length: 280, dtype: float64"
      ]
     },
     "execution_count": 50,
     "metadata": {},
     "output_type": "execute_result"
    }
   ],
   "source": [
    "gdppot['gdppot_us_yoy']"
   ]
  },
  {
   "cell_type": "markdown",
   "id": "784c18f8",
   "metadata": {},
   "source": [
    "**Quarter-over-Quarter (QoQ) Growth Rate**: Measures the percentage change in GDP from one quarter to the next."
   ]
  },
  {
   "cell_type": "code",
   "execution_count": 7,
   "id": "575032ef",
   "metadata": {},
   "outputs": [],
   "source": [
    "gdppot['gdppot_us_qoq'] = gdppot['GDPPOT'] / gdppot['GDPPOT'].shift(1) - 1\n"
   ]
  },
  {
   "cell_type": "code",
   "execution_count": 8,
   "id": "31774b78",
   "metadata": {},
   "outputs": [
    {
     "data": {
      "application/vnd.microsoft.datawrangler.viewer.v0+json": {
       "columns": [
        {
         "name": "index",
         "rawType": "int64",
         "type": "integer"
        },
        {
         "name": "gdppot_us_qoq",
         "rawType": "float64",
         "type": "float"
        }
       ],
       "ref": "4f9ee73d-9d0e-421e-b88a-b9dc8ecb17c2",
       "rows": [
        [
         "0",
         null
        ],
        [
         "1",
         "0.006437416589074374"
        ],
        [
         "2",
         "0.006207103807235326"
        ],
        [
         "3",
         "0.006440393999445959"
        ],
        [
         "4",
         "0.006845996282419442"
        ],
        [
         "5",
         "0.007504484604620165"
        ],
        [
         "6",
         "0.008159158570951952"
        ],
        [
         "7",
         "0.008594016006933547"
        ],
        [
         "8",
         "0.008912631886861977"
        ],
        [
         "9",
         "0.008805406832568696"
        ],
        [
         "10",
         "0.008874236537457447"
        ],
        [
         "11",
         "0.008857307423747907"
        ],
        [
         "12",
         "0.009291477675705373"
        ],
        [
         "13",
         "0.00952458757378749"
        ],
        [
         "14",
         "0.01004778660882577"
        ],
        [
         "15",
         "0.010637281791812336"
        ],
        [
         "16",
         "0.010665467009783214"
        ],
        [
         "17",
         "0.01071882346580888"
        ],
        [
         "18",
         "0.010323197070077006"
        ],
        [
         "19",
         "0.010057901740993858"
        ],
        [
         "20",
         "0.00959400086476725"
        ],
        [
         "21",
         "0.009333639762108437"
        ],
        [
         "22",
         "0.008718471621971702"
        ],
        [
         "23",
         "0.008949535593581137"
        ],
        [
         "24",
         "0.009126636461649573"
        ],
        [
         "25",
         "0.009735856895356054"
        ],
        [
         "26",
         "0.01045988936659037"
        ],
        [
         "27",
         "0.010978722332794844"
        ],
        [
         "28",
         "0.011161228860720573"
        ],
        [
         "29",
         "0.011045965627763499"
        ],
        [
         "30",
         "0.010823685415311202"
        ],
        [
         "31",
         "0.010667420361780922"
        ],
        [
         "32",
         "0.010673614867508174"
        ],
        [
         "33",
         "0.010617889645602618"
        ],
        [
         "34",
         "0.010879987088104004"
        ],
        [
         "35",
         "0.01098925233110326"
        ],
        [
         "36",
         "0.010945107275335708"
        ],
        [
         "37",
         "0.011092638713043002"
        ],
        [
         "38",
         "0.010701663545337636"
        ],
        [
         "39",
         "0.010918157077966839"
        ],
        [
         "40",
         "0.010841124748251385"
        ],
        [
         "41",
         "0.010847006202396203"
        ],
        [
         "42",
         "0.010798669429511465"
        ],
        [
         "43",
         "0.01087163359140586"
        ],
        [
         "44",
         "0.010816064402228376"
        ],
        [
         "45",
         "0.011086433748733082"
        ],
        [
         "46",
         "0.011306912192269536"
        ],
        [
         "47",
         "0.01143606377365547"
        ],
        [
         "48",
         "0.01158383930724205"
        ],
        [
         "49",
         "0.011469168666159435"
        ]
       ],
       "shape": {
        "columns": 1,
        "rows": 280
       }
      },
      "text/plain": [
       "0           NaN\n",
       "1      0.006437\n",
       "2      0.006207\n",
       "3      0.006440\n",
       "4      0.006846\n",
       "         ...   \n",
       "275    0.005753\n",
       "276    0.005745\n",
       "277    0.005619\n",
       "278    0.005716\n",
       "279    0.005737\n",
       "Name: gdppot_us_qoq, Length: 280, dtype: float64"
      ]
     },
     "execution_count": 8,
     "metadata": {},
     "output_type": "execute_result"
    }
   ],
   "source": [
    "gdppot['gdppot_us_qoq']"
   ]
  },
  {
   "cell_type": "code",
   "execution_count": 9,
   "id": "3ce103b3",
   "metadata": {},
   "outputs": [
    {
     "data": {
      "application/vnd.microsoft.datawrangler.viewer.v0+json": {
       "columns": [
        {
         "name": "index",
         "rawType": "int64",
         "type": "integer"
        },
        {
         "name": "DATE",
         "rawType": "object",
         "type": "string"
        },
        {
         "name": "GDPPOT",
         "rawType": "float64",
         "type": "float"
        },
        {
         "name": "gdppot_us_yoy",
         "rawType": "float64",
         "type": "float"
        },
        {
         "name": "gdppot_us_qoq",
         "rawType": "float64",
         "type": "float"
        }
       ],
       "ref": "09b4bdf7-7973-4dd0-9ed6-f0aacda7f28b",
       "rows": [
        [
         "265",
         "2022-01-01",
         "21722.0248",
         "0.0208820306810229",
         "0.005366268935486307"
        ],
        [
         "266",
         "2022-04-01",
         "21840.56636",
         "0.02140346002252791",
         "0.005457205812599897"
        ],
        [
         "267",
         "2022-07-01",
         "21961.53508",
         "0.021798516380143074",
         "0.00553871717454868"
        ],
        [
         "268",
         "2022-10-01",
         "22084.92536",
         "0.022162492370504383",
         "0.005618472458802204"
        ],
        [
         "269",
         "2023-01-01",
         "22208.24254",
         "0.02238362880425404",
         "0.005583771644678048"
        ],
        [
         "270",
         "2023-04-01",
         "22333.11239",
         "0.02255188908022432",
         "0.005622680397833868"
        ],
        [
         "271",
         "2023-07-01",
         "22459.74068",
         "0.022685372319610986",
         "0.005669979525858571"
        ],
        [
         "272",
         "2023-10-01",
         "22588.18459",
         "0.022787454419542552",
         "0.005718850980072965"
        ],
        [
         "273",
         "2024-01-01",
         "22718.13",
         "0.022959379117083456",
         "0.005752804501939934"
        ],
        [
         "274",
         "2024-04-01",
         "22849.87",
         "0.02313862935787614",
         "0.005798892778586806"
        ],
        [
         "275",
         "2024-07-01",
         "22981.32",
         "0.023222855839313272",
         "0.005752767958854932"
        ],
        [
         "276",
         "2024-10-01",
         "23113.34",
         "0.023249119817822406",
         "0.005744665667594351"
        ],
        [
         "277",
         "2025-01-01",
         "23243.22",
         "0.023113258001428827",
         "0.005619265757350611"
        ],
        [
         "278",
         "2025-04-01",
         "23376.07",
         "0.02302857740547326",
         "0.005715645250528922"
        ],
        [
         "279",
         "2025-07-01",
         "23510.18",
         "0.02301260327953325",
         "0.005737063586821911"
        ]
       ],
       "shape": {
        "columns": 4,
        "rows": 15
       }
      },
      "text/html": [
       "<div>\n",
       "<style scoped>\n",
       "    .dataframe tbody tr th:only-of-type {\n",
       "        vertical-align: middle;\n",
       "    }\n",
       "\n",
       "    .dataframe tbody tr th {\n",
       "        vertical-align: top;\n",
       "    }\n",
       "\n",
       "    .dataframe thead th {\n",
       "        text-align: right;\n",
       "    }\n",
       "</style>\n",
       "<table border=\"1\" class=\"dataframe\">\n",
       "  <thead>\n",
       "    <tr style=\"text-align: right;\">\n",
       "      <th></th>\n",
       "      <th>DATE</th>\n",
       "      <th>GDPPOT</th>\n",
       "      <th>gdppot_us_yoy</th>\n",
       "      <th>gdppot_us_qoq</th>\n",
       "    </tr>\n",
       "  </thead>\n",
       "  <tbody>\n",
       "    <tr>\n",
       "      <th>265</th>\n",
       "      <td>2022-01-01</td>\n",
       "      <td>21722.02480</td>\n",
       "      <td>0.020882</td>\n",
       "      <td>0.005366</td>\n",
       "    </tr>\n",
       "    <tr>\n",
       "      <th>266</th>\n",
       "      <td>2022-04-01</td>\n",
       "      <td>21840.56636</td>\n",
       "      <td>0.021403</td>\n",
       "      <td>0.005457</td>\n",
       "    </tr>\n",
       "    <tr>\n",
       "      <th>267</th>\n",
       "      <td>2022-07-01</td>\n",
       "      <td>21961.53508</td>\n",
       "      <td>0.021799</td>\n",
       "      <td>0.005539</td>\n",
       "    </tr>\n",
       "    <tr>\n",
       "      <th>268</th>\n",
       "      <td>2022-10-01</td>\n",
       "      <td>22084.92536</td>\n",
       "      <td>0.022162</td>\n",
       "      <td>0.005618</td>\n",
       "    </tr>\n",
       "    <tr>\n",
       "      <th>269</th>\n",
       "      <td>2023-01-01</td>\n",
       "      <td>22208.24254</td>\n",
       "      <td>0.022384</td>\n",
       "      <td>0.005584</td>\n",
       "    </tr>\n",
       "    <tr>\n",
       "      <th>270</th>\n",
       "      <td>2023-04-01</td>\n",
       "      <td>22333.11239</td>\n",
       "      <td>0.022552</td>\n",
       "      <td>0.005623</td>\n",
       "    </tr>\n",
       "    <tr>\n",
       "      <th>271</th>\n",
       "      <td>2023-07-01</td>\n",
       "      <td>22459.74068</td>\n",
       "      <td>0.022685</td>\n",
       "      <td>0.005670</td>\n",
       "    </tr>\n",
       "    <tr>\n",
       "      <th>272</th>\n",
       "      <td>2023-10-01</td>\n",
       "      <td>22588.18459</td>\n",
       "      <td>0.022787</td>\n",
       "      <td>0.005719</td>\n",
       "    </tr>\n",
       "    <tr>\n",
       "      <th>273</th>\n",
       "      <td>2024-01-01</td>\n",
       "      <td>22718.13000</td>\n",
       "      <td>0.022959</td>\n",
       "      <td>0.005753</td>\n",
       "    </tr>\n",
       "    <tr>\n",
       "      <th>274</th>\n",
       "      <td>2024-04-01</td>\n",
       "      <td>22849.87000</td>\n",
       "      <td>0.023139</td>\n",
       "      <td>0.005799</td>\n",
       "    </tr>\n",
       "    <tr>\n",
       "      <th>275</th>\n",
       "      <td>2024-07-01</td>\n",
       "      <td>22981.32000</td>\n",
       "      <td>0.023223</td>\n",
       "      <td>0.005753</td>\n",
       "    </tr>\n",
       "    <tr>\n",
       "      <th>276</th>\n",
       "      <td>2024-10-01</td>\n",
       "      <td>23113.34000</td>\n",
       "      <td>0.023249</td>\n",
       "      <td>0.005745</td>\n",
       "    </tr>\n",
       "    <tr>\n",
       "      <th>277</th>\n",
       "      <td>2025-01-01</td>\n",
       "      <td>23243.22000</td>\n",
       "      <td>0.023113</td>\n",
       "      <td>0.005619</td>\n",
       "    </tr>\n",
       "    <tr>\n",
       "      <th>278</th>\n",
       "      <td>2025-04-01</td>\n",
       "      <td>23376.07000</td>\n",
       "      <td>0.023029</td>\n",
       "      <td>0.005716</td>\n",
       "    </tr>\n",
       "    <tr>\n",
       "      <th>279</th>\n",
       "      <td>2025-07-01</td>\n",
       "      <td>23510.18000</td>\n",
       "      <td>0.023013</td>\n",
       "      <td>0.005737</td>\n",
       "    </tr>\n",
       "  </tbody>\n",
       "</table>\n",
       "</div>"
      ],
      "text/plain": [
       "           DATE       GDPPOT  gdppot_us_yoy  gdppot_us_qoq\n",
       "265  2022-01-01  21722.02480       0.020882       0.005366\n",
       "266  2022-04-01  21840.56636       0.021403       0.005457\n",
       "267  2022-07-01  21961.53508       0.021799       0.005539\n",
       "268  2022-10-01  22084.92536       0.022162       0.005618\n",
       "269  2023-01-01  22208.24254       0.022384       0.005584\n",
       "270  2023-04-01  22333.11239       0.022552       0.005623\n",
       "271  2023-07-01  22459.74068       0.022685       0.005670\n",
       "272  2023-10-01  22588.18459       0.022787       0.005719\n",
       "273  2024-01-01  22718.13000       0.022959       0.005753\n",
       "274  2024-04-01  22849.87000       0.023139       0.005799\n",
       "275  2024-07-01  22981.32000       0.023223       0.005753\n",
       "276  2024-10-01  23113.34000       0.023249       0.005745\n",
       "277  2025-01-01  23243.22000       0.023113       0.005619\n",
       "278  2025-04-01  23376.07000       0.023029       0.005716\n",
       "279  2025-07-01  23510.18000       0.023013       0.005737"
      ]
     },
     "execution_count": 9,
     "metadata": {},
     "output_type": "execute_result"
    }
   ],
   "source": [
    "# View recent data\n",
    "gdppot.tail(15)"
   ]
  },
  {
   "cell_type": "code",
   "execution_count": 10,
   "id": "6567dc64",
   "metadata": {},
   "outputs": [
    {
     "data": {
      "image/png": "[encoded data removed]",
      "text/plain": [
       "<Figure size 1400x600 with 2 Axes>"
      ]
     },
     "metadata": {},
     "output_type": "display_data"
    }
   ],
   "source": [
    "import matplotlib.pyplot as plt\n",
    "import matplotlib.ticker as mtick\n",
    "\n",
    "# Create the figure and axes\n",
    "fig, ax1 = plt.subplots(figsize=(14, 6))\n",
    "\n",
    "# Plot US Potential GDP on the left y-axis\n",
    "ax1.plot(gdppot.index, gdppot.GDPPOT, color='darkred', label='US Potential GDP ($B)')\n",
    "ax1.set_ylabel('US Potential GDP ($ Billions)', color='darkred', fontsize=12)\n",
    "ax1.tick_params(axis='y', labelcolor='darkred')\n",
    "\n",
    "# Create secondary y-axis for YoY growth (%)\n",
    "ax2 = ax1.twinx()\n",
    "ax2.plot(gdppot.index, gdppot.gdppot_us_yoy, color='blue', marker='o', label='GDP Growth (% YoY)')\n",
    "ax2.set_ylabel('GDP Growth (% Y/Y)', color='blue', fontsize=12)\n",
    "ax2.tick_params(axis='y', labelcolor='blue')\n",
    "ax2.yaxis.set_major_formatter(mtick.PercentFormatter(1.0))\n",
    "\n",
    "# Labels and grid\n",
    "ax1.set_xlabel('Date', fontsize=12)\n",
    "ax1.grid(True, linestyle='--', alpha=0.5)\n",
    "\n",
    "# Title\n",
    "plt.title('US Potential GDP and Year-over-Year Growth', fontsize=14, fontweight='bold')\n",
    "\n",
    "# Combine and display legends\n",
    "lines1, labels1 = ax1.get_legend_handles_labels()\n",
    "lines2, labels2 = ax2.get_legend_handles_labels()\n",
    "ax2.legend(lines1 + lines2, labels1 + labels2, loc='upper left')\n",
    "\n",
    "# Show plot\n",
    "plt.tight_layout()\n",
    "plt.show()\n"
   ]
  },
  {
   "cell_type": "markdown",
   "id": "d3a46d2c",
   "metadata": {},
   "source": [
    "## 🔍 1.2 Inflation Overview\n",
    "____"
   ]
  },
  {
   "cell_type": "code",
   "execution_count": 11,
   "id": "8ec01388",
   "metadata": {},
   "outputs": [],
   "source": [
    "import pandas as pd\n",
    "import matplotlib.pyplot as plt\n",
    "import pandas_datareader.data as web\n",
    "from datetime import datetime, timedelta\n"
   ]
  },
  {
   "cell_type": "markdown",
   "id": "b4423dc8",
   "metadata": {},
   "source": [
    "**Fetch Core CPI Data from FRED**: "
   ]
  },
  {
   "cell_type": "markdown",
   "id": "38e09c3b",
   "metadata": {},
   "source": [
    "We will retrieve the Core Consumer Price Index (CPI) data from the FRED database. The Core CPI excludes food and energy prices, providing a clearer view of underlying inflation trends. The Core CPI is a key indicator of inflation, as it reflects the price changes of a basket of goods and services that consumers typically purchase."
   ]
  },
  {
   "cell_type": "code",
   "execution_count": null,
   "id": "573327b6",
   "metadata": {},
   "outputs": [],
   "source": [
    "def get_core_cpi_data(start=None, end=None):\n",
    "    \"\"\"\n",
    "    Download and process Core CPI data from FRED.\n",
    "    \n",
    "    Args:\n",
    "        start (datetime): Start date for data\n",
    "        end (datetime): End date for data\n",
    "    \n",
    "    Returns:\n",
    "        pd.DataFrame: Processed CPI data with growth calculations\n",
    "    \"\"\"\n",
    "    if start is None:\n",
    "        start = datetime.today() - timedelta(days=365*10)  # Default: last 10 years\n",
    "\n",
    "    try:\n",
    "        # Download Core CPI data (CPILFESL) using safe download function\n",
    "        df = safe_data_download(\"CPILFESL\", \"fred\", start, end)\n",
    "        \n",
    "        if df is None:\n",
    "            print(\"❌ Failed to download CPI data\")\n",
    "            return None\n",
    "            \n",
    "        df.rename(columns={\"CPILFESL\": \"core_cpi_index\"}, inplace=True)\n",
    "        \n",
    "        # Calculate YoY and MoM growth\n",
    "        df[\"yoy_growth\"] = df[\"core_cpi_index\"].pct_change(12) * 100\n",
    "        df[\"mom_growth\"] = df[\"core_cpi_index\"].pct_change(1) * 100\n",
    "        df[\"mom_annualized\"] = ((1 + df[\"mom_growth\"] / 100) ** 12 - 1) * 100\n",
    "        \n",
    "        return df\n",
    "        \n",
    "    except Exception as e:\n",
    "        print(f\"❌ Error processing CPI data: {str(e)}\")\n",
    "        return None\n",
    "\n",
    "# Download CPI data using the improved function\n",
    "print(\"📊 Downloading Core CPI data...\")\n",
    "df_cpi = get_core_cpi_data(start=start, end=end)\n",
    "\n",
    "if df_cpi is not None:\n",
    "    print(f\"✅ CPI data downloaded successfully. Shape: {df_cpi.shape}\")\n",
    "    print(\"\\n📈 Latest CPI data:\")\n",
    "    print(df_cpi.tail())\n",
    "else:\n",
    "    print(\"❌ Failed to download CPI data. Loading from CSV if available...\")\n",
    "    df_cpi = safe_save_load_csv(None, DATA_FILES['cpi'], save=False)"
   ]
  },
  {
   "cell_type": "code",
   "execution_count": null,
   "id": "09e4da08",
   "metadata": {},
   "outputs": [
    {
     "ename": "NameError",
     "evalue": "name 'df_cpi' is not defined",
     "output_type": "error",
     "traceback": [
      "\u001b[0;31m---------------------------------------------------------------------------\u001b[0m",
      "\u001b[0;31mNameError\u001b[0m                                 Traceback (most recent call last)",
      "Cell \u001b[0;32mIn[12], line 1\u001b[0m\n\u001b[0;32m----> 1\u001b[0m df_cpi \u001b[38;5;241m=\u001b[39m \u001b[43mdf_cpi\u001b[49m\u001b[38;5;241m.\u001b[39mto_csv(\u001b[38;5;124m'\u001b[39m\u001b[38;5;124mdf_cpi.csv\u001b[39m\u001b[38;5;124m'\u001b[39m)\n",
      "\u001b[0;31mNameError\u001b[0m: name 'df_cpi' is not defined"
     ]
    }
   ],
   "source": [
    "# Save CPI data to CSV (only if df_cpi exists and is not None)\n",
    "if 'df_cpi' in globals() and df_cpi is not None:\n",
    "    safe_save_load_csv(df_cpi, DATA_FILES['cpi'], save=True)\n",
    "    print(\"✅ CPI data saved successfully\")\n",
    "else:\n",
    "    print(\"⚠️  No CPI data to save - please run the CPI download cell first\")"
   ]
  },
  {
   "cell_type": "code",
   "execution_count": 13,
   "id": "2e8adee0",
   "metadata": {},
   "outputs": [
    {
     "name": "stdout",
     "output_type": "stream",
     "text": [
      "Year = 2025; month= 8; day=24\n",
      "Period for indexes: 1955-08-24 to 2025-08-24\n",
      "            core_cpi_index  yoy_growth  mom_growth  mom_annualized\n",
      "DATE                                                              \n",
      "2025-03-01         325.659    2.808733    0.056533        0.680506\n",
      "2025-04-01         326.430    2.781521    0.236751        2.878296\n",
      "2025-05-01         326.854    2.767149    0.129890        1.569864\n",
      "2025-06-01         327.600    2.907870    0.228236        2.773481\n",
      "2025-07-01         328.656    3.048603    0.322344        3.937452\n"
     ]
    }
   ],
   "source": [
    "from datetime import date, datetime, timedelta\n",
    "import pandas_datareader.data as web\n",
    "import pandas as pd\n",
    "\n",
    "# Step 1: Set the date range\n",
    "end = date.today()\n",
    "print(f'Year = {end.year}; month= {end.month}; day={end.day}')  \n",
    "\n",
    "start = date(year=end.year - 70, month=end.month, day=end.day)  \n",
    "print(f'Period for indexes: {start} to {end}')  \n",
    "\n",
    "# Step 2: Define the function (same as before)\n",
    "def get_core_cpi_data(start=None, end=None):\n",
    "    if start is None:\n",
    "        start = datetime.today() - timedelta(days=365*10)  # Default: last 10 years\n",
    "\n",
    "    df = web.DataReader(\"CPILFESL\", \"fred\", start, end)\n",
    "    df.rename(columns={\"CPILFESL\": \"core_cpi_index\"}, inplace=True)\n",
    "\n",
    "    df[\"yoy_growth\"] = df[\"core_cpi_index\"].pct_change(12) * 100\n",
    "    df[\"mom_growth\"] = df[\"core_cpi_index\"].pct_change(1) * 100\n",
    "    df[\"mom_annualized\"] = ((1 + df[\"mom_growth\"] / 100) ** 12 - 1) * 100\n",
    "\n",
    "    return df\n",
    "\n",
    "# Step 3: Call the function using custom start and end dates\n",
    "df_cpi = get_core_cpi_data(start=start, end=end)\n",
    "\n",
    "# Step 4: Display the result\n",
    "print(df_cpi.tail())\n"
   ]
  },
  {
   "cell_type": "markdown",
   "id": "18edc0e1",
   "metadata": {},
   "source": [
    "### Plot the CPI Index and Growth Rates"
   ]
  },
  {
   "cell_type": "markdown",
   "id": "12211a75",
   "metadata": {},
   "source": [
    "Note:\n",
    "* The first chart shows the CPI index and YoY growth on dual axes.\n",
    "* The second chart compares YoY and annualized MoM growth to assess inflation trends."
   ]
  },
  {
   "cell_type": "code",
   "execution_count": 14,
   "id": "9e668950",
   "metadata": {},
   "outputs": [
    {
     "data": {
      "image/png": "[encoded data removed]",
      "text/plain": [
       "<Figure size 1400x1000 with 3 Axes>"
      ]
     },
     "metadata": {},
     "output_type": "display_data"
    }
   ],
   "source": [
    "def plot_cpi(df):\n",
    "    fig, (ax1, ax2) = plt.subplots(2, 1, figsize=(14, 10))\n",
    "\n",
    "    # --- First Plot: CPI Index and YoY Growth ---\n",
    "    ax1.plot(df.index, df[\"core_cpi_index\"], color='darkred', label=\"CPI Index\")\n",
    "    ax1.set_ylabel(\"CPI Index Level\", color='darkred')\n",
    "\n",
    "    ax1_twin = ax1.twinx()\n",
    "    ax1_twin.plot(df.index, df[\"yoy_growth\"], color='blue', label=\"YoY Growth (%)\")\n",
    "    ax1_twin.axhline(2, color='green', linestyle='--', label=\"Fed Target (2%)\")\n",
    "    ax1_twin.set_ylabel(\"YoY Growth (%)\", color='blue')\n",
    "    ax1.set_title(\"Core CPI and Year-over-Year Growth\")\n",
    "    ax1.grid(True)\n",
    "\n",
    "    # --- Second Plot: YoY vs Annualized MoM Growth ---\n",
    "    ax2.plot(df.index, df[\"yoy_growth\"], label=\"YoY Growth (%)\", color='blue')\n",
    "    ax2.plot(df.index, df[\"mom_annualized\"], label=\"Annualized MoM Growth (%)\", color='orange')\n",
    "    ax2.axhline(2, color='green', linestyle='--', label=\"Fed Target (2%)\")\n",
    "    ax2.set_title(\"CPI Growth Trends\")\n",
    "    ax2.set_ylabel(\"Growth Rate (%)\")\n",
    "    ax2.set_xlabel(\"Date\")\n",
    "    ax2.grid(True)\n",
    "    ax2.legend()\n",
    "\n",
    "    plt.tight_layout()\n",
    "    plt.show()\n",
    "\n",
    "# Call the plotting function\n",
    "plot_cpi(df_cpi)"
   ]
  },
  {
   "cell_type": "code",
   "execution_count": 15,
   "id": "60321920",
   "metadata": {},
   "outputs": [
    {
     "name": "stdout",
     "output_type": "stream",
     "text": [
      "Latest CPI: 328.66\n",
      "Latest YoY Growth (%): 3.05\n",
      "Latest MoM Growth (%): 0.32\n",
      "Avg YoY Growth (12m): 3.09\n",
      "Volatility YoY (12m): 0.22\n",
      "Months Above 2% (YoY): 12\n",
      "Trend: Rising\n"
     ]
    }
   ],
   "source": [
    "def summarize_inflation(df, months=12):\n",
    "    recent = df.tail(months)\n",
    "\n",
    "    return {\n",
    "        \"Latest CPI\": df[\"core_cpi_index\"].iloc[-1],\n",
    "        \"Latest YoY Growth (%)\": df[\"yoy_growth\"].iloc[-1],\n",
    "        \"Latest MoM Growth (%)\": df[\"mom_growth\"].iloc[-1],\n",
    "        \"Avg YoY Growth (12m)\": recent[\"yoy_growth\"].mean(),\n",
    "        \"Volatility YoY (12m)\": recent[\"yoy_growth\"].std(),\n",
    "        \"Months Above 2% (YoY)\": (recent[\"yoy_growth\"] > 2).sum(),\n",
    "        \"Trend\": \"Rising\" if df[\"yoy_growth\"].iloc[-1] > df[\"yoy_growth\"].iloc[-3] else \"Falling\"\n",
    "    }\n",
    "\n",
    "# Call the summary function\n",
    "inflation_summary = summarize_inflation(df_cpi)\n",
    "for key, value in inflation_summary.items():\n",
    "    print(f\"{key}: {value:.2f}\" if isinstance(value, float) else f\"{key}: {value}\") "
   ]
  },
  {
   "cell_type": "markdown",
   "id": "ce914296",
   "metadata": {},
   "source": [
    "## 🔍 1.3 Interest Rate Overview\n",
    "____"
   ]
  },
  {
   "cell_type": "code",
   "execution_count": null,
   "id": "224f535f",
   "metadata": {},
   "outputs": [
    {
     "data": {
      "application/vnd.microsoft.datawrangler.viewer.v0+json": {
       "columns": [
        {
         "name": "DATE",
         "rawType": "datetime64[ns]",
         "type": "datetime"
        },
        {
         "name": "FEDFUNDS",
         "rawType": "float64",
         "type": "float"
        }
       ],
       "ref": "9435dd32-cac6-45b7-900c-d26916b4d864",
       "rows": [
        [
         "2024-10-01 00:00:00",
         "4.83"
        ],
        [
         "2024-11-01 00:00:00",
         "4.64"
        ],
        [
         "2024-12-01 00:00:00",
         "4.48"
        ],
        [
         "2025-01-01 00:00:00",
         "4.33"
        ],
        [
         "2025-02-01 00:00:00",
         "4.33"
        ],
        [
         "2025-03-01 00:00:00",
         "4.33"
        ],
        [
         "2025-04-01 00:00:00",
         "4.33"
        ],
        [
         "2025-05-01 00:00:00",
         "4.33"
        ],
        [
         "2025-06-01 00:00:00",
         "4.33"
        ],
        [
         "2025-07-01 00:00:00",
         "4.33"
        ]
       ],
       "shape": {
        "columns": 1,
        "rows": 10
       }
      },
      "text/html": [
       "<div>\n",
       "<style scoped>\n",
       "    .dataframe tbody tr th:only-of-type {\n",
       "        vertical-align: middle;\n",
       "    }\n",
       "\n",
       "    .dataframe tbody tr th {\n",
       "        vertical-align: top;\n",
       "    }\n",
       "\n",
       "    .dataframe thead th {\n",
       "        text-align: right;\n",
       "    }\n",
       "</style>\n",
       "<table border=\"1\" class=\"dataframe\">\n",
       "  <thead>\n",
       "    <tr style=\"text-align: right;\">\n",
       "      <th></th>\n",
       "      <th>FEDFUNDS</th>\n",
       "    </tr>\n",
       "    <tr>\n",
       "      <th>DATE</th>\n",
       "      <th></th>\n",
       "    </tr>\n",
       "  </thead>\n",
       "  <tbody>\n",
       "    <tr>\n",
       "      <th>2024-10-01</th>\n",
       "      <td>4.83</td>\n",
       "    </tr>\n",
       "    <tr>\n",
       "      <th>2024-11-01</th>\n",
       "      <td>4.64</td>\n",
       "    </tr>\n",
       "    <tr>\n",
       "      <th>2024-12-01</th>\n",
       "      <td>4.48</td>\n",
       "    </tr>\n",
       "    <tr>\n",
       "      <th>2025-01-01</th>\n",
       "      <td>4.33</td>\n",
       "    </tr>\n",
       "    <tr>\n",
       "      <th>2025-02-01</th>\n",
       "      <td>4.33</td>\n",
       "    </tr>\n",
       "    <tr>\n",
       "      <th>2025-03-01</th>\n",
       "      <td>4.33</td>\n",
       "    </tr>\n",
       "    <tr>\n",
       "      <th>2025-04-01</th>\n",
       "      <td>4.33</td>\n",
       "    </tr>\n",
       "    <tr>\n",
       "      <th>2025-05-01</th>\n",
       "      <td>4.33</td>\n",
       "    </tr>\n",
       "    <tr>\n",
       "      <th>2025-06-01</th>\n",
       "      <td>4.33</td>\n",
       "    </tr>\n",
       "    <tr>\n",
       "      <th>2025-07-01</th>\n",
       "      <td>4.33</td>\n",
       "    </tr>\n",
       "  </tbody>\n",
       "</table>\n",
       "</div>"
      ],
      "text/plain": [
       "            FEDFUNDS\n",
       "DATE                \n",
       "2024-10-01      4.83\n",
       "2024-11-01      4.64\n",
       "2024-12-01      4.48\n",
       "2025-01-01      4.33\n",
       "2025-02-01      4.33\n",
       "2025-03-01      4.33\n",
       "2025-04-01      4.33\n",
       "2025-05-01      4.33\n",
       "2025-06-01      4.33\n",
       "2025-07-01      4.33"
      ]
     },
     "execution_count": 16,
     "metadata": {},
     "output_type": "execute_result"
    }
   ],
   "source": [
    "# Federal Funds Rate data from FRED\n",
    "# Source: https://fred.stlouisfed.org/series/FEDFUNDS\n",
    "print(\"📊 Downloading Federal Funds Rate data...\")\n",
    "fedfunds = safe_data_download(\"FEDFUNDS\", \"fred\", start_date=start)\n",
    "\n",
    "if fedfunds is not None:\n",
    "    print(f\"✅ Fed Funds data downloaded successfully. Shape: {fedfunds.shape}\")\n",
    "    print(\"\\n📈 Latest Fed Funds data:\")\n",
    "    print(fedfunds.tail(10))\n",
    "else:\n",
    "    print(\"❌ Failed to download Fed Funds data\")\n",
    "    # Try to load from CSV as fallback\n",
    "    fedfunds = safe_save_load_csv(None, DATA_FILES['fedfunds'], save=False)"
   ]
  },
  {
   "cell_type": "code",
   "execution_count": null,
   "id": "ad06fa4f",
   "metadata": {},
   "outputs": [],
   "source": [
    "# Save Fed Funds data to CSV\n",
    "if fedfunds is not None:\n",
    "    safe_save_load_csv(fedfunds, DATA_FILES['fedfunds'], save=True)\n",
    "else:\n",
    "    print(\"❌ No Fed Funds data to save\")"
   ]
  },
  {
   "cell_type": "code",
   "execution_count": 18,
   "id": "b6cad847",
   "metadata": {},
   "outputs": [
    {
     "data": {
      "image/png": "[encoded data removed]",
      "text/plain": [
       "<Figure size 2000x600 with 1 Axes>"
      ]
     },
     "metadata": {},
     "output_type": "display_data"
    }
   ],
   "source": [
    "# Load the fedfunds data from the CSV file\n",
    "fedfunds = pd.read_csv('fedfunds.csv', index_col=0, parse_dates=True)\n",
    "\n",
    "# Fed Funds\n",
    "fig, ax = plt.subplots(figsize=(20, 6))\n",
    "plt.grid(True)\n",
    "\n",
    "# Plotting area under US potential GDP curve\n",
    "# ax.fill_between(fedfunds.index, fedfunds.FEDFUNDS, color=\"red\", alpha=0.3, label=\"Core CPI index (monthly)\")\n",
    "\n",
    "# # Creating a secondary y-axis for GDP growth percentage\n",
    "# ax2 = ax.twinx()\n",
    "ax.yaxis.set_major_formatter(mtick.PercentFormatter(1.0))\n",
    "ax.plot(fedfunds.index, fedfunds.FEDFUNDS/100, marker=\"o\", label=\"Fed Funds Rate\")\n",
    "\n",
    "# Setting labels and title\n",
    "ax.set_xlabel(\"Date\", fontsize=14)\n",
    "ax.set_ylabel(\"Fed Funds Rate\", color=\"blue\", fontsize=14)\n",
    "\n",
    "# Adding legend\n",
    "lines, labels = ax.get_legend_handles_labels()\n",
    "ax.legend(lines, labels, loc='upper left')\n",
    "\n",
    "plt.show()"
   ]
  },
  {
   "cell_type": "markdown",
   "id": "8fd59529",
   "metadata": {},
   "source": [
    "## 🔍 1.4 S&P 500 Index Overview\n",
    "____"
   ]
  },
  {
   "cell_type": "code",
   "execution_count": null,
   "id": "5eecac0c",
   "metadata": {},
   "outputs": [
    {
     "data": {
      "application/vnd.microsoft.datawrangler.viewer.v0+json": {
       "columns": [
        {
         "name": "Date",
         "rawType": "datetime64[ns]",
         "type": "datetime"
        },
        {
         "name": "Open",
         "rawType": "float64",
         "type": "float"
        },
        {
         "name": "High",
         "rawType": "float64",
         "type": "float"
        },
        {
         "name": "Low",
         "rawType": "float64",
         "type": "float"
        },
        {
         "name": "Close",
         "rawType": "float64",
         "type": "float"
        },
        {
         "name": "Volume",
         "rawType": "float64",
         "type": "float"
        }
       ],
       "ref": "c4bcf1ea-a9bc-4b23-9cec-36c2e8b641a8",
       "rows": [
        [
         "2025-08-22 00:00:00",
         "6384.59",
         "6478.89",
         "6384.59",
         "6466.91",
         "3056814743.0"
        ],
        [
         "2025-08-21 00:00:00",
         "6380.83",
         "6393.65",
         "6352.71",
         "6370.17",
         "2424712887.0"
        ],
        [
         "2025-08-20 00:00:00",
         "6406.62",
         "6408.4",
         "6343.86",
         "6395.78",
         "3043844556.0"
        ],
        [
         "2025-08-19 00:00:00",
         "6446.24",
         "6456.48",
         "6400.22",
         "6411.37",
         "2958805344.0"
        ],
        [
         "2025-08-18 00:00:00",
         "6445.02",
         "6455.35",
         "6437.7",
         "6449.15",
         "2597294219.0"
        ]
       ],
       "shape": {
        "columns": 5,
        "rows": 5
       }
      },
      "text/html": [
       "<div>\n",
       "<style scoped>\n",
       "    .dataframe tbody tr th:only-of-type {\n",
       "        vertical-align: middle;\n",
       "    }\n",
       "\n",
       "    .dataframe tbody tr th {\n",
       "        vertical-align: top;\n",
       "    }\n",
       "\n",
       "    .dataframe thead th {\n",
       "        text-align: right;\n",
       "    }\n",
       "</style>\n",
       "<table border=\"1\" class=\"dataframe\">\n",
       "  <thead>\n",
       "    <tr style=\"text-align: right;\">\n",
       "      <th></th>\n",
       "      <th>Open</th>\n",
       "      <th>High</th>\n",
       "      <th>Low</th>\n",
       "      <th>Close</th>\n",
       "      <th>Volume</th>\n",
       "    </tr>\n",
       "    <tr>\n",
       "      <th>Date</th>\n",
       "      <th></th>\n",
       "      <th></th>\n",
       "      <th></th>\n",
       "      <th></th>\n",
       "      <th></th>\n",
       "    </tr>\n",
       "  </thead>\n",
       "  <tbody>\n",
       "    <tr>\n",
       "      <th>2025-08-22</th>\n",
       "      <td>6384.59</td>\n",
       "      <td>6478.89</td>\n",
       "      <td>6384.59</td>\n",
       "      <td>6466.91</td>\n",
       "      <td>3.056815e+09</td>\n",
       "    </tr>\n",
       "    <tr>\n",
       "      <th>2025-08-21</th>\n",
       "      <td>6380.83</td>\n",
       "      <td>6393.65</td>\n",
       "      <td>6352.71</td>\n",
       "      <td>6370.17</td>\n",
       "      <td>2.424713e+09</td>\n",
       "    </tr>\n",
       "    <tr>\n",
       "      <th>2025-08-20</th>\n",
       "      <td>6406.62</td>\n",
       "      <td>6408.40</td>\n",
       "      <td>6343.86</td>\n",
       "      <td>6395.78</td>\n",
       "      <td>3.043845e+09</td>\n",
       "    </tr>\n",
       "    <tr>\n",
       "      <th>2025-08-19</th>\n",
       "      <td>6446.24</td>\n",
       "      <td>6456.48</td>\n",
       "      <td>6400.22</td>\n",
       "      <td>6411.37</td>\n",
       "      <td>2.958805e+09</td>\n",
       "    </tr>\n",
       "    <tr>\n",
       "      <th>2025-08-18</th>\n",
       "      <td>6445.02</td>\n",
       "      <td>6455.35</td>\n",
       "      <td>6437.70</td>\n",
       "      <td>6449.15</td>\n",
       "      <td>2.597294e+09</td>\n",
       "    </tr>\n",
       "  </tbody>\n",
       "</table>\n",
       "</div>"
      ],
      "text/plain": [
       "               Open     High      Low    Close        Volume\n",
       "Date                                                        \n",
       "2025-08-22  6384.59  6478.89  6384.59  6466.91  3.056815e+09\n",
       "2025-08-21  6380.83  6393.65  6352.71  6370.17  2.424713e+09\n",
       "2025-08-20  6406.62  6408.40  6343.86  6395.78  3.043845e+09\n",
       "2025-08-19  6446.24  6456.48  6400.22  6411.37  2.958805e+09\n",
       "2025-08-18  6445.02  6455.35  6437.70  6449.15  2.597294e+09"
      ]
     },
     "execution_count": 19,
     "metadata": {},
     "output_type": "execute_result"
    }
   ],
   "source": [
    "# S&P 500 Index data from Stooq\n",
    "# Source: https://stooq.com/t/\n",
    "# Note: This provides historical S&P 500 data with different structure than Yahoo Finance\n",
    "\n",
    "print(\"📊 Downloading S&P 500 index data from Stooq...\")\n",
    "spx_index = safe_data_download('^SPX', 'stooq', start_date=start, end_date=end)\n",
    "\n",
    "if spx_index is not None:\n",
    "    print(f\"✅ S&P 500 index data downloaded successfully. Shape: {spx_index.shape}\")\n",
    "    print(\"\\n📈 Sample S&P 500 data:\")\n",
    "    print(spx_index.head())\n",
    "else:\n",
    "    print(\"❌ Failed to download S&P 500 index data from Stooq\")"
   ]
  },
  {
   "cell_type": "code",
   "execution_count": 20,
   "id": "e876eb2c",
   "metadata": {},
   "outputs": [
    {
     "name": "stdout",
     "output_type": "stream",
     "text": [
      "S&P 500 index data saved to CSV\n"
     ]
    }
   ],
   "source": [
    "# Save spx_index to CSV if it's not None\n",
    "if spx_index is not None:\n",
    "\tspx_index.to_csv('spx_index.csv')\n",
    "\tprint(\"S&P 500 index data saved to CSV\")\n",
    "else:\n",
    "\tprint(\"Loading S&P 500 data from CSV\")\n",
    "\tspx_index = pd.read_csv('spx_index.csv', index_col=0, parse_dates=True)"
   ]
  },
  {
   "cell_type": "code",
   "execution_count": 21,
   "id": "80da027b",
   "metadata": {},
   "outputs": [
    {
     "data": {
      "application/vnd.microsoft.datawrangler.viewer.v0+json": {
       "columns": [
        {
         "name": "Date",
         "rawType": "datetime64[ns]",
         "type": "datetime"
        },
        {
         "name": "Open",
         "rawType": "float64",
         "type": "float"
        },
        {
         "name": "High",
         "rawType": "float64",
         "type": "float"
        },
        {
         "name": "Low",
         "rawType": "float64",
         "type": "float"
        },
        {
         "name": "Close",
         "rawType": "float64",
         "type": "float"
        },
        {
         "name": "Volume",
         "rawType": "float64",
         "type": "float"
        }
       ],
       "ref": "050bfa16-fd62-42e8-813d-a5262e8d0a31",
       "rows": [
        [
         "2025-08-22 00:00:00",
         "6384.59",
         "6478.89",
         "6384.59",
         "6466.91",
         "3056814743.0"
        ],
        [
         "2025-08-21 00:00:00",
         "6380.83",
         "6393.65",
         "6352.71",
         "6370.17",
         "2424712887.0"
        ],
        [
         "2025-08-20 00:00:00",
         "6406.62",
         "6408.4",
         "6343.86",
         "6395.78",
         "3043844556.0"
        ],
        [
         "2025-08-19 00:00:00",
         "6446.24",
         "6456.48",
         "6400.22",
         "6411.37",
         "2958805344.0"
        ],
        [
         "2025-08-18 00:00:00",
         "6445.02",
         "6455.35",
         "6437.7",
         "6449.15",
         "2597294219.0"
        ]
       ],
       "shape": {
        "columns": 5,
        "rows": 5
       }
      },
      "text/html": [
       "<div>\n",
       "<style scoped>\n",
       "    .dataframe tbody tr th:only-of-type {\n",
       "        vertical-align: middle;\n",
       "    }\n",
       "\n",
       "    .dataframe tbody tr th {\n",
       "        vertical-align: top;\n",
       "    }\n",
       "\n",
       "    .dataframe thead th {\n",
       "        text-align: right;\n",
       "    }\n",
       "</style>\n",
       "<table border=\"1\" class=\"dataframe\">\n",
       "  <thead>\n",
       "    <tr style=\"text-align: right;\">\n",
       "      <th></th>\n",
       "      <th>Open</th>\n",
       "      <th>High</th>\n",
       "      <th>Low</th>\n",
       "      <th>Close</th>\n",
       "      <th>Volume</th>\n",
       "    </tr>\n",
       "    <tr>\n",
       "      <th>Date</th>\n",
       "      <th></th>\n",
       "      <th></th>\n",
       "      <th></th>\n",
       "      <th></th>\n",
       "      <th></th>\n",
       "    </tr>\n",
       "  </thead>\n",
       "  <tbody>\n",
       "    <tr>\n",
       "      <th>2025-08-22</th>\n",
       "      <td>6384.59</td>\n",
       "      <td>6478.89</td>\n",
       "      <td>6384.59</td>\n",
       "      <td>6466.91</td>\n",
       "      <td>3.056815e+09</td>\n",
       "    </tr>\n",
       "    <tr>\n",
       "      <th>2025-08-21</th>\n",
       "      <td>6380.83</td>\n",
       "      <td>6393.65</td>\n",
       "      <td>6352.71</td>\n",
       "      <td>6370.17</td>\n",
       "      <td>2.424713e+09</td>\n",
       "    </tr>\n",
       "    <tr>\n",
       "      <th>2025-08-20</th>\n",
       "      <td>6406.62</td>\n",
       "      <td>6408.40</td>\n",
       "      <td>6343.86</td>\n",
       "      <td>6395.78</td>\n",
       "      <td>3.043845e+09</td>\n",
       "    </tr>\n",
       "    <tr>\n",
       "      <th>2025-08-19</th>\n",
       "      <td>6446.24</td>\n",
       "      <td>6456.48</td>\n",
       "      <td>6400.22</td>\n",
       "      <td>6411.37</td>\n",
       "      <td>2.958805e+09</td>\n",
       "    </tr>\n",
       "    <tr>\n",
       "      <th>2025-08-18</th>\n",
       "      <td>6445.02</td>\n",
       "      <td>6455.35</td>\n",
       "      <td>6437.70</td>\n",
       "      <td>6449.15</td>\n",
       "      <td>2.597294e+09</td>\n",
       "    </tr>\n",
       "  </tbody>\n",
       "</table>\n",
       "</div>"
      ],
      "text/plain": [
       "               Open     High      Low    Close        Volume\n",
       "Date                                                        \n",
       "2025-08-22  6384.59  6478.89  6384.59  6466.91  3.056815e+09\n",
       "2025-08-21  6380.83  6393.65  6352.71  6370.17  2.424713e+09\n",
       "2025-08-20  6406.62  6408.40  6343.86  6395.78  3.043845e+09\n",
       "2025-08-19  6446.24  6456.48  6400.22  6411.37  2.958805e+09\n",
       "2025-08-18  6445.02  6455.35  6437.70  6449.15  2.597294e+09"
      ]
     },
     "execution_count": 21,
     "metadata": {},
     "output_type": "execute_result"
    }
   ],
   "source": [
    "spx_index.head()"
   ]
  },
  {
   "cell_type": "code",
   "execution_count": 22,
   "id": "8a53aba1",
   "metadata": {},
   "outputs": [],
   "source": [
    "# 252 trading days a year\n",
    "  # REVERSE ORDER OF THE DATA!!!\n",
    "spx_index['spx_dod'] = (spx_index.Close/spx_index.Close.shift(-1)-1)\n",
    "spx_index['spx_qoq'] = (spx_index.Close/spx_index.Close.shift(-63)-1)\n",
    "spx_index['spx_yoy'] = (spx_index.Close/spx_index.Close.shift(-252)-1)"
   ]
  },
  {
   "cell_type": "code",
   "execution_count": 23,
   "id": "4864e05f",
   "metadata": {},
   "outputs": [
    {
     "data": {
      "application/vnd.microsoft.datawrangler.viewer.v0+json": {
       "columns": [
        {
         "name": "Date",
         "rawType": "datetime64[ns]",
         "type": "datetime"
        },
        {
         "name": "Open",
         "rawType": "float64",
         "type": "float"
        },
        {
         "name": "High",
         "rawType": "float64",
         "type": "float"
        },
        {
         "name": "Low",
         "rawType": "float64",
         "type": "float"
        },
        {
         "name": "Close",
         "rawType": "float64",
         "type": "float"
        },
        {
         "name": "Volume",
         "rawType": "float64",
         "type": "float"
        },
        {
         "name": "spx_dod",
         "rawType": "float64",
         "type": "float"
        },
        {
         "name": "spx_qoq",
         "rawType": "float64",
         "type": "float"
        },
        {
         "name": "spx_yoy",
         "rawType": "float64",
         "type": "float"
        }
       ],
       "ref": "1fc9837b-f623-4a86-9236-3589656e8310",
       "rows": [
        [
         "2025-08-22 00:00:00",
         "6384.59",
         "6478.89",
         "6384.59",
         "6466.91",
         "3056814743.0",
         "0.01518640789806236",
         "0.10696660909515732",
         "0.15539956263221089"
        ],
        [
         "2025-08-21 00:00:00",
         "6380.83",
         "6393.65",
         "6352.71",
         "6370.17",
         "2424712887.0",
         "-0.00400420277120217",
         "0.08992216760399763",
         "0.13585699638924797"
        ],
        [
         "2025-08-20 00:00:00",
         "6406.62",
         "6408.4",
         "6343.86",
         "6395.78",
         "3043844556.0",
         "-0.002431617579394141",
         "0.07664726300656843",
         "0.1515110050861952"
        ],
        [
         "2025-08-19 00:00:00",
         "6446.24",
         "6456.48",
         "6400.22",
         "6411.37",
         "2958805344.0",
         "-0.005858136343549147",
         "0.07508384197464602",
         "0.15661474738509384"
        ],
        [
         "2025-08-18 00:00:00",
         "6445.02",
         "6455.35",
         "6437.7",
         "6449.15",
         "2597294219.0",
         "-0.00010077831870769494",
         "0.08236634789993236",
         "0.18220013528351786"
        ]
       ],
       "shape": {
        "columns": 8,
        "rows": 5
       }
      },
      "text/html": [
       "<div>\n",
       "<style scoped>\n",
       "    .dataframe tbody tr th:only-of-type {\n",
       "        vertical-align: middle;\n",
       "    }\n",
       "\n",
       "    .dataframe tbody tr th {\n",
       "        vertical-align: top;\n",
       "    }\n",
       "\n",
       "    .dataframe thead th {\n",
       "        text-align: right;\n",
       "    }\n",
       "</style>\n",
       "<table border=\"1\" class=\"dataframe\">\n",
       "  <thead>\n",
       "    <tr style=\"text-align: right;\">\n",
       "      <th></th>\n",
       "      <th>Open</th>\n",
       "      <th>High</th>\n",
       "      <th>Low</th>\n",
       "      <th>Close</th>\n",
       "      <th>Volume</th>\n",
       "      <th>spx_dod</th>\n",
       "      <th>spx_qoq</th>\n",
       "      <th>spx_yoy</th>\n",
       "    </tr>\n",
       "    <tr>\n",
       "      <th>Date</th>\n",
       "      <th></th>\n",
       "      <th></th>\n",
       "      <th></th>\n",
       "      <th></th>\n",
       "      <th></th>\n",
       "      <th></th>\n",
       "      <th></th>\n",
       "      <th></th>\n",
       "    </tr>\n",
       "  </thead>\n",
       "  <tbody>\n",
       "    <tr>\n",
       "      <th>2025-08-22</th>\n",
       "      <td>6384.59</td>\n",
       "      <td>6478.89</td>\n",
       "      <td>6384.59</td>\n",
       "      <td>6466.91</td>\n",
       "      <td>3.056815e+09</td>\n",
       "      <td>0.015186</td>\n",
       "      <td>0.106967</td>\n",
       "      <td>0.155400</td>\n",
       "    </tr>\n",
       "    <tr>\n",
       "      <th>2025-08-21</th>\n",
       "      <td>6380.83</td>\n",
       "      <td>6393.65</td>\n",
       "      <td>6352.71</td>\n",
       "      <td>6370.17</td>\n",
       "      <td>2.424713e+09</td>\n",
       "      <td>-0.004004</td>\n",
       "      <td>0.089922</td>\n",
       "      <td>0.135857</td>\n",
       "    </tr>\n",
       "    <tr>\n",
       "      <th>2025-08-20</th>\n",
       "      <td>6406.62</td>\n",
       "      <td>6408.40</td>\n",
       "      <td>6343.86</td>\n",
       "      <td>6395.78</td>\n",
       "      <td>3.043845e+09</td>\n",
       "      <td>-0.002432</td>\n",
       "      <td>0.076647</td>\n",
       "      <td>0.151511</td>\n",
       "    </tr>\n",
       "    <tr>\n",
       "      <th>2025-08-19</th>\n",
       "      <td>6446.24</td>\n",
       "      <td>6456.48</td>\n",
       "      <td>6400.22</td>\n",
       "      <td>6411.37</td>\n",
       "      <td>2.958805e+09</td>\n",
       "      <td>-0.005858</td>\n",
       "      <td>0.075084</td>\n",
       "      <td>0.156615</td>\n",
       "    </tr>\n",
       "    <tr>\n",
       "      <th>2025-08-18</th>\n",
       "      <td>6445.02</td>\n",
       "      <td>6455.35</td>\n",
       "      <td>6437.70</td>\n",
       "      <td>6449.15</td>\n",
       "      <td>2.597294e+09</td>\n",
       "      <td>-0.000101</td>\n",
       "      <td>0.082366</td>\n",
       "      <td>0.182200</td>\n",
       "    </tr>\n",
       "  </tbody>\n",
       "</table>\n",
       "</div>"
      ],
      "text/plain": [
       "               Open     High      Low    Close        Volume   spx_dod  \\\n",
       "Date                                                                     \n",
       "2025-08-22  6384.59  6478.89  6384.59  6466.91  3.056815e+09  0.015186   \n",
       "2025-08-21  6380.83  6393.65  6352.71  6370.17  2.424713e+09 -0.004004   \n",
       "2025-08-20  6406.62  6408.40  6343.86  6395.78  3.043845e+09 -0.002432   \n",
       "2025-08-19  6446.24  6456.48  6400.22  6411.37  2.958805e+09 -0.005858   \n",
       "2025-08-18  6445.02  6455.35  6437.70  6449.15  2.597294e+09 -0.000101   \n",
       "\n",
       "             spx_qoq   spx_yoy  \n",
       "Date                            \n",
       "2025-08-22  0.106967  0.155400  \n",
       "2025-08-21  0.089922  0.135857  \n",
       "2025-08-20  0.076647  0.151511  \n",
       "2025-08-19  0.075084  0.156615  \n",
       "2025-08-18  0.082366  0.182200  "
      ]
     },
     "execution_count": 23,
     "metadata": {},
     "output_type": "execute_result"
    }
   ],
   "source": [
    "spx_index.head()"
   ]
  },
  {
   "cell_type": "code",
   "execution_count": 24,
   "id": "c423551b",
   "metadata": {},
   "outputs": [],
   "source": [
    "spx_truncated = spx_index[spx_index.index>='1990-01-01']"
   ]
  },
  {
   "cell_type": "code",
   "execution_count": 25,
   "id": "e56e18a0",
   "metadata": {},
   "outputs": [
    {
     "data": {
      "application/vnd.microsoft.datawrangler.viewer.v0+json": {
       "columns": [
        {
         "name": "Date",
         "rawType": "datetime64[ns]",
         "type": "datetime"
        },
        {
         "name": "Open",
         "rawType": "float64",
         "type": "float"
        },
        {
         "name": "High",
         "rawType": "float64",
         "type": "float"
        },
        {
         "name": "Low",
         "rawType": "float64",
         "type": "float"
        },
        {
         "name": "Close",
         "rawType": "float64",
         "type": "float"
        },
        {
         "name": "Volume",
         "rawType": "float64",
         "type": "float"
        },
        {
         "name": "spx_dod",
         "rawType": "float64",
         "type": "float"
        },
        {
         "name": "spx_qoq",
         "rawType": "float64",
         "type": "float"
        },
        {
         "name": "spx_yoy",
         "rawType": "float64",
         "type": "float"
        }
       ],
       "ref": "eca88bdf-5ca7-49b9-8bb6-0951a09dff3a",
       "rows": [
        [
         "2025-08-22 00:00:00",
         "6384.59",
         "6478.89",
         "6384.59",
         "6466.91",
         "3056814743.0",
         "0.01518640789806236",
         "0.10696660909515732",
         "0.15539956263221089"
        ],
        [
         "2025-08-21 00:00:00",
         "6380.83",
         "6393.65",
         "6352.71",
         "6370.17",
         "2424712887.0",
         "-0.00400420277120217",
         "0.08992216760399763",
         "0.13585699638924797"
        ],
        [
         "2025-08-20 00:00:00",
         "6406.62",
         "6408.4",
         "6343.86",
         "6395.78",
         "3043844556.0",
         "-0.002431617579394141",
         "0.07664726300656843",
         "0.1515110050861952"
        ],
        [
         "2025-08-19 00:00:00",
         "6446.24",
         "6456.48",
         "6400.22",
         "6411.37",
         "2958805344.0",
         "-0.005858136343549147",
         "0.07508384197464602",
         "0.15661474738509384"
        ],
        [
         "2025-08-18 00:00:00",
         "6445.02",
         "6455.35",
         "6437.7",
         "6449.15",
         "2597294219.0",
         "-0.00010077831870769494",
         "0.08236634789993236",
         "0.18220013528351786"
        ],
        [
         "2025-08-15 00:00:00",
         "6477.38",
         "6481.34",
         "6441.85",
         "6449.8",
         "3142526592.0",
         "-0.0028970988816641174",
         "0.09005852697260242",
         "0.18684020219231812"
        ],
        [
         "2025-08-14 00:00:00",
         "6453.46",
         "6473.92",
         "6441.07",
         "6468.54",
         "2792441868.0",
         "0.00030309684562790373",
         "0.09774326356197127",
         "0.21034205961765506"
        ],
        [
         "2025-08-13 00:00:00",
         "6462.67",
         "6480.28",
         "6445.02",
         "6466.58",
         "2961340868.0",
         "0.0032300302834731287",
         "0.09853479542346522",
         "0.21002739438938955"
        ],
        [
         "2025-08-12 00:00:00",
         "6395.17",
         "6446.55",
         "6385.76",
         "6445.76",
         "2880921978.0",
         "0.011345503612643082",
         "0.10293470951492001",
         "0.2117661877198358"
        ],
        [
         "2025-08-11 00:00:00",
         "6389.67",
         "6407.25",
         "6364.06",
         "6373.45",
         "2870335047.0",
         "-0.002504127898332431",
         "0.12606914244219425",
         "0.2257813251274161"
        ],
        [
         "2025-08-08 00:00:00",
         "6355.22",
         "6395.16",
         "6355.22",
         "6389.45",
         "2798987026.0",
         "0.007799684542586727",
         "0.1280928117176383",
         "0.21935370599023285"
        ],
        [
         "2025-08-07 00:00:00",
         "6374.32",
         "6389.71",
         "6310.32",
         "6340.0",
         "3120148645.0",
         "-0.0007974707882983934",
         "0.1258541574917249",
         "0.22244438745702655"
        ],
        [
         "2025-08-06 00:00:00",
         "6309.3",
         "6352.83",
         "6301.11",
         "6345.06",
         "3310732124.0",
         "0.007281888623775545",
         "0.1316500532378797",
         "0.1867555961216183"
        ],
        [
         "2025-08-05 00:00:00",
         "6336.63",
         "6346.0",
         "6289.37",
         "6299.19",
         "3191721992.0",
         "-0.004857865951336082",
         "0.11482590551431926",
         "0.156519200687391"
        ],
        [
         "2025-08-04 00:00:00",
         "6271.71",
         "6330.69",
         "6271.71",
         "6329.94",
         "3003746989.0",
         "0.01473707159815385",
         "0.11311892548714786",
         "0.14625065642938617"
        ],
        [
         "2025-08-01 00:00:00",
         "6287.28",
         "6287.28",
         "6212.69",
         "6238.01",
         "3624071031.0",
         "-0.01599207494727417",
         "0.11310745270460765",
         "0.1474439155035281"
        ],
        [
         "2025-07-31 00:00:00",
         "6427.02",
         "6427.02",
         "6327.64",
         "6339.39",
         "4089137265.0",
         "-0.0036948561190650597",
         "0.1383231640528204",
         "0.16030815185758684"
        ],
        [
         "2025-07-30 00:00:00",
         "6381.23",
         "6396.54",
         "6336.38",
         "6362.9",
         "3332521297.0",
         "-0.001249438851269713",
         "0.14423566266186882",
         "0.16555842538147303"
        ],
        [
         "2025-07-29 00:00:00",
         "6405.62",
         "6409.26",
         "6363.92",
         "6370.86",
         "3254273473.0",
         "-0.0029594179446209568",
         "0.15231471851684364",
         "0.1799593274584106"
        ],
        [
         "2025-07-28 00:00:00",
         "6397.69",
         "6401.07",
         "6375.79",
         "6389.77",
         "2844306551.0",
         "0.00017687645570885202",
         "0.15647550047871484",
         "0.17737551892068182"
        ],
        [
         "2025-07-25 00:00:00",
         "6370.01",
         "6395.82",
         "6368.53",
         "6388.64",
         "2983956118.0",
         "0.003974321701619488",
         "0.16479633603596855",
         "0.14991702275484475"
        ],
        [
         "2025-07-24 00:00:00",
         "6368.6",
         "6381.31",
         "6360.57",
         "6363.35",
         "3369954808.0",
         "0.000698232873244109",
         "0.18368967941873504",
         "0.1435803616196507"
        ],
        [
         "2025-07-23 00:00:00",
         "6326.9",
         "6360.64",
         "6317.49",
         "6358.91",
         "3241469766.0",
         "0.007811880905664648",
         "0.20257159931615654",
         "0.15511534968210716"
        ],
        [
         "2025-07-22 00:00:00",
         "6306.6",
         "6316.12",
         "6281.71",
         "6309.62",
         "3003304728.0",
         "0.0006375285460542557",
         "0.223221278740646",
         "0.13797774046412803"
        ],
        [
         "2025-07-21 00:00:00",
         "6304.74",
         "6336.08",
         "6303.79",
         "6305.6",
         "2661136349.0",
         "0.0013991255862113583",
         "0.19363204421981184",
         "0.1283635185844636"
        ],
        [
         "2025-07-18 00:00:00",
         "6312.95",
         "6315.61",
         "6285.27",
         "6296.79",
         "3037348968.0",
         "-9.051412020266714e-05",
         "0.1935458801675607",
         "0.11109366177300961"
        ],
        [
         "2025-07-17 00:00:00",
         "6263.4",
         "6304.69",
         "6262.27",
         "6297.36",
         "3025942711.0",
         "0.005373820585277134",
         "0.1669060135677265",
         "0.11829408192185698"
        ],
        [
         "2025-07-16 00:00:00",
         "6254.5",
         "6268.12",
         "6201.59",
         "6263.7",
         "2960714110.0",
         "0.003193588478737075",
         "0.15866347759976462",
         "0.115460300782676"
        ],
        [
         "2025-07-15 00:00:00",
         "6295.29",
         "6302.04",
         "6241.68",
         "6243.76",
         "3107719334.0",
         "-0.003956251515499609",
         "0.1641508308224695",
         "0.11804374218825542"
        ],
        [
         "2025-07-14 00:00:00",
         "6255.15",
         "6273.31",
         "6239.22",
         "6268.56",
         "2705073872.0",
         "0.0014074044490595128",
         "0.18992036901699882",
         "0.11264823186738893"
        ],
        [
         "2025-07-11 00:00:00",
         "6255.68",
         "6269.44",
         "6237.6",
         "6259.75",
         "2631005038.0",
         "-0.0032975291618766445",
         "0.1471256574245452",
         "0.12242647454357036"
        ],
        [
         "2025-07-10 00:00:00",
         "6266.8",
         "6290.22",
         "6251.44",
         "6280.46",
         "2818582888.0",
         "0.00274617371784025",
         "0.2604354605972179",
         "0.12697452829342248"
        ],
        [
         "2025-07-09 00:00:00",
         "6243.33",
         "6269.16",
         "6231.43",
         "6263.26",
         "2808148693.0",
         "0.0060621442064277",
         "0.2372482591732925",
         "0.1250307605811909"
        ],
        [
         "2025-07-08 00:00:00",
         "6234.03",
         "6242.7",
         "6217.75",
         "6225.52",
         "3027418207.0",
         "-0.0007158931489344988",
         "0.22692586636395173",
         "0.1243448642049334"
        ],
        [
         "2025-07-07 00:00:00",
         "6259.04",
         "6262.07",
         "6201.0",
         "6229.98",
         "2760139183.0",
         "-0.00786227873904155",
         "0.15444397500611484",
         "0.13087106394796866"
        ],
        [
         "2025-07-03 00:00:00",
         "6246.46",
         "6284.65",
         "6246.46",
         "6279.35",
         "1839509804.0",
         "0.00833892687501403",
         "0.10727970699897904",
         "0.14689438895068396"
        ],
        [
         "2025-07-02 00:00:00",
         "6193.88",
         "6227.6",
         "6188.29",
         "6227.42",
         "3141259934.0",
         "0.004745071401949907",
         "0.10551084932372579",
         "0.1404528539615566"
        ],
        [
         "2025-07-01 00:00:00",
         "6187.25",
         "6210.78",
         "6177.97",
         "6198.01",
         "3572880894.0",
         "-0.0011184618731818752",
         "0.1044504040557035",
         "0.13043168997258747"
        ],
        [
         "2025-06-30 00:00:00",
         "6193.36",
         "6215.08",
         "6174.97",
         "6204.95",
         "3332438031.0",
         "0.0051643671625301035",
         "0.1118109135736991",
         "0.13272421913507015"
        ],
        [
         "2025-06-27 00:00:00",
         "6150.7",
         "6187.68",
         "6132.35",
         "6173.07",
         "4642836205.0",
         "0.005219002706390752",
         "0.0842673242806029",
         "0.12867643025615694"
        ],
        [
         "2025-06-26 00:00:00",
         "6112.09",
         "6146.52",
         "6107.27",
         "6141.02",
         "3049538066.0",
         "0.008020143922681022",
         "0.07507090087882085",
         "0.12723321224625406"
        ],
        [
         "2025-06-25 00:00:00",
         "6104.23",
         "6108.51",
         "6080.09",
         "6092.16",
         "2894445051.0",
         "-3.282897091061443e-06",
         "0.05461816104489636",
         "0.11483689625262139"
        ],
        [
         "2025-06-24 00:00:00",
         "6061.21",
         "6101.76",
         "6059.25",
         "6092.18",
         "3291211984.0",
         "0.011121677894565751",
         "0.05628193502636303",
         "0.11309899016474922"
        ],
        [
         "2025-06-23 00:00:00",
         "5969.67",
         "6028.77",
         "5943.23",
         "6025.17",
         "3270234044.0",
         "0.009606490790637912",
         "0.06309769989201697",
         "0.0980749148446427"
        ],
        [
         "2025-06-20 00:00:00",
         "5999.67",
         "6018.2",
         "5952.56",
         "5967.84",
         "5195984630.0",
         "-0.002178612810510794",
         "0.0538505957205595",
         "0.09036894119194705"
        ],
        [
         "2025-06-18 00:00:00",
         "5987.93",
         "6018.25",
         "5971.89",
         "5980.87",
         "2951831932.0",
         "-0.00030922389816012696",
         "0.05384394453851704",
         "0.10112489874070252"
        ],
        [
         "2025-06-17 00:00:00",
         "6012.15",
         "6023.25",
         "5974.8",
         "5982.72",
         "2853845438.0",
         "-0.008352242873078675",
         "0.06555339058821019",
         "0.10103170192169686"
        ],
        [
         "2025-06-16 00:00:00",
         "6004.0",
         "6050.83",
         "6004.0",
         "6033.11",
         "2880110512.0",
         "0.009392719053299414",
         "0.06308060446298924",
         "0.11290843253034932"
        ],
        [
         "2025-06-13 00:00:00",
         "6000.56",
         "6026.16",
         "5963.21",
         "5976.97",
         "3029890480.0",
         "-0.01129645375054178",
         "0.05994566354669506",
         "0.11192822008736236"
        ],
        [
         "2025-06-12 00:00:00",
         "6009.9",
         "6045.43",
         "6003.88",
         "6045.26",
         "2623578843.0",
         "0.0038224979409655635",
         "0.09485431547834655",
         "0.12768080823908412"
        ]
       ],
       "shape": {
        "columns": 8,
        "rows": 8977
       }
      },
      "text/html": [
       "<div>\n",
       "<style scoped>\n",
       "    .dataframe tbody tr th:only-of-type {\n",
       "        vertical-align: middle;\n",
       "    }\n",
       "\n",
       "    .dataframe tbody tr th {\n",
       "        vertical-align: top;\n",
       "    }\n",
       "\n",
       "    .dataframe thead th {\n",
       "        text-align: right;\n",
       "    }\n",
       "</style>\n",
       "<table border=\"1\" class=\"dataframe\">\n",
       "  <thead>\n",
       "    <tr style=\"text-align: right;\">\n",
       "      <th></th>\n",
       "      <th>Open</th>\n",
       "      <th>High</th>\n",
       "      <th>Low</th>\n",
       "      <th>Close</th>\n",
       "      <th>Volume</th>\n",
       "      <th>spx_dod</th>\n",
       "      <th>spx_qoq</th>\n",
       "      <th>spx_yoy</th>\n",
       "    </tr>\n",
       "    <tr>\n",
       "      <th>Date</th>\n",
       "      <th></th>\n",
       "      <th></th>\n",
       "      <th></th>\n",
       "      <th></th>\n",
       "      <th></th>\n",
       "      <th></th>\n",
       "      <th></th>\n",
       "      <th></th>\n",
       "    </tr>\n",
       "  </thead>\n",
       "  <tbody>\n",
       "    <tr>\n",
       "      <th>2025-08-22</th>\n",
       "      <td>6384.59</td>\n",
       "      <td>6478.89</td>\n",
       "      <td>6384.59</td>\n",
       "      <td>6466.91</td>\n",
       "      <td>3.056815e+09</td>\n",
       "      <td>0.015186</td>\n",
       "      <td>0.106967</td>\n",
       "      <td>0.155400</td>\n",
       "    </tr>\n",
       "    <tr>\n",
       "      <th>2025-08-21</th>\n",
       "      <td>6380.83</td>\n",
       "      <td>6393.65</td>\n",
       "      <td>6352.71</td>\n",
       "      <td>6370.17</td>\n",
       "      <td>2.424713e+09</td>\n",
       "      <td>-0.004004</td>\n",
       "      <td>0.089922</td>\n",
       "      <td>0.135857</td>\n",
       "    </tr>\n",
       "    <tr>\n",
       "      <th>2025-08-20</th>\n",
       "      <td>6406.62</td>\n",
       "      <td>6408.40</td>\n",
       "      <td>6343.86</td>\n",
       "      <td>6395.78</td>\n",
       "      <td>3.043845e+09</td>\n",
       "      <td>-0.002432</td>\n",
       "      <td>0.076647</td>\n",
       "      <td>0.151511</td>\n",
       "    </tr>\n",
       "    <tr>\n",
       "      <th>2025-08-19</th>\n",
       "      <td>6446.24</td>\n",
       "      <td>6456.48</td>\n",
       "      <td>6400.22</td>\n",
       "      <td>6411.37</td>\n",
       "      <td>2.958805e+09</td>\n",
       "      <td>-0.005858</td>\n",
       "      <td>0.075084</td>\n",
       "      <td>0.156615</td>\n",
       "    </tr>\n",
       "    <tr>\n",
       "      <th>2025-08-18</th>\n",
       "      <td>6445.02</td>\n",
       "      <td>6455.35</td>\n",
       "      <td>6437.70</td>\n",
       "      <td>6449.15</td>\n",
       "      <td>2.597294e+09</td>\n",
       "      <td>-0.000101</td>\n",
       "      <td>0.082366</td>\n",
       "      <td>0.182200</td>\n",
       "    </tr>\n",
       "    <tr>\n",
       "      <th>...</th>\n",
       "      <td>...</td>\n",
       "      <td>...</td>\n",
       "      <td>...</td>\n",
       "      <td>...</td>\n",
       "      <td>...</td>\n",
       "      <td>...</td>\n",
       "      <td>...</td>\n",
       "      <td>...</td>\n",
       "    </tr>\n",
       "    <tr>\n",
       "      <th>1990-01-08</th>\n",
       "      <td>352.20</td>\n",
       "      <td>354.24</td>\n",
       "      <td>350.54</td>\n",
       "      <td>353.79</td>\n",
       "      <td>7.783889e+07</td>\n",
       "      <td>0.004514</td>\n",
       "      <td>-0.013908</td>\n",
       "      <td>0.259129</td>\n",
       "    </tr>\n",
       "    <tr>\n",
       "      <th>1990-01-05</th>\n",
       "      <td>355.67</td>\n",
       "      <td>355.67</td>\n",
       "      <td>351.35</td>\n",
       "      <td>352.20</td>\n",
       "      <td>8.807222e+07</td>\n",
       "      <td>-0.009756</td>\n",
       "      <td>-0.013362</td>\n",
       "      <td>0.254854</td>\n",
       "    </tr>\n",
       "    <tr>\n",
       "      <th>1990-01-04</th>\n",
       "      <td>358.76</td>\n",
       "      <td>358.76</td>\n",
       "      <td>352.89</td>\n",
       "      <td>355.67</td>\n",
       "      <td>9.833333e+07</td>\n",
       "      <td>-0.008613</td>\n",
       "      <td>-0.003558</td>\n",
       "      <td>0.270205</td>\n",
       "    </tr>\n",
       "    <tr>\n",
       "      <th>1990-01-03</th>\n",
       "      <td>359.69</td>\n",
       "      <td>360.59</td>\n",
       "      <td>357.89</td>\n",
       "      <td>358.76</td>\n",
       "      <td>1.068500e+08</td>\n",
       "      <td>-0.002586</td>\n",
       "      <td>0.011418</td>\n",
       "      <td>0.283899</td>\n",
       "    </tr>\n",
       "    <tr>\n",
       "      <th>1990-01-02</th>\n",
       "      <td>353.40</td>\n",
       "      <td>359.69</td>\n",
       "      <td>351.98</td>\n",
       "      <td>359.69</td>\n",
       "      <td>9.003889e+07</td>\n",
       "      <td>0.017799</td>\n",
       "      <td>0.025138</td>\n",
       "      <td>0.306491</td>\n",
       "    </tr>\n",
       "  </tbody>\n",
       "</table>\n",
       "<p>8977 rows × 8 columns</p>\n",
       "</div>"
      ],
      "text/plain": [
       "               Open     High      Low    Close        Volume   spx_dod  \\\n",
       "Date                                                                     \n",
       "2025-08-22  6384.59  6478.89  6384.59  6466.91  3.056815e+09  0.015186   \n",
       "2025-08-21  6380.83  6393.65  6352.71  6370.17  2.424713e+09 -0.004004   \n",
       "2025-08-20  6406.62  6408.40  6343.86  6395.78  3.043845e+09 -0.002432   \n",
       "2025-08-19  6446.24  6456.48  6400.22  6411.37  2.958805e+09 -0.005858   \n",
       "2025-08-18  6445.02  6455.35  6437.70  6449.15  2.597294e+09 -0.000101   \n",
       "...             ...      ...      ...      ...           ...       ...   \n",
       "1990-01-08   352.20   354.24   350.54   353.79  7.783889e+07  0.004514   \n",
       "1990-01-05   355.67   355.67   351.35   352.20  8.807222e+07 -0.009756   \n",
       "1990-01-04   358.76   358.76   352.89   355.67  9.833333e+07 -0.008613   \n",
       "1990-01-03   359.69   360.59   357.89   358.76  1.068500e+08 -0.002586   \n",
       "1990-01-02   353.40   359.69   351.98   359.69  9.003889e+07  0.017799   \n",
       "\n",
       "             spx_qoq   spx_yoy  \n",
       "Date                            \n",
       "2025-08-22  0.106967  0.155400  \n",
       "2025-08-21  0.089922  0.135857  \n",
       "2025-08-20  0.076647  0.151511  \n",
       "2025-08-19  0.075084  0.156615  \n",
       "2025-08-18  0.082366  0.182200  \n",
       "...              ...       ...  \n",
       "1990-01-08 -0.013908  0.259129  \n",
       "1990-01-05 -0.013362  0.254854  \n",
       "1990-01-04 -0.003558  0.270205  \n",
       "1990-01-03  0.011418  0.283899  \n",
       "1990-01-02  0.025138  0.306491  \n",
       "\n",
       "[8977 rows x 8 columns]"
      ]
     },
     "execution_count": 25,
     "metadata": {},
     "output_type": "execute_result"
    }
   ],
   "source": [
    "spx_truncated"
   ]
  },
  {
   "cell_type": "code",
   "execution_count": 26,
   "id": "4eaed7ee",
   "metadata": {},
   "outputs": [
    {
     "data": {
      "image/png": "[encoded data removed]",
      "text/plain": [
       "<Figure size 2000x600 with 2 Axes>"
      ]
     },
     "metadata": {},
     "output_type": "display_data"
    }
   ],
   "source": [
    "# S&P500 abs. vs. relative growth\n",
    "fig, ax = plt.subplots(figsize=(20, 6))\n",
    "plt.grid(True)\n",
    "\n",
    "# Plotting area under CPI\n",
    "ax.fill_between(spx_truncated.index, spx_truncated.Close, color=\"red\", alpha=0.3, label=\"S&P 500 Absolute Value (Close price)\")\n",
    "\n",
    "# Creating a secondary y-axis for CPI growth percentage\n",
    "ax2 = ax.twinx()\n",
    "ax2.yaxis.set_major_formatter(mtick.PercentFormatter(1.0))\n",
    "ax2.plot(spx_truncated.spx_yoy,\n",
    "         color=\"blue\",\n",
    "        #  marker=\".\",\n",
    "         label=\"Year-over-Year Growth (%)\")\n",
    "\n",
    "# Setting labels and title\n",
    "ax.set_xlabel(\"Date\", fontsize=14)\n",
    "ax.set_ylabel(\"S&P 500 Absolute Value (Close price\", color=\"red\", fontsize=14)\n",
    "ax2.set_ylabel(\"Year-over-Year Growth (%)\", color=\"blue\", fontsize=14)\n",
    "\n",
    "# Adding legend\n",
    "lines, labels = ax.get_legend_handles_labels()\n",
    "lines2, labels2 = ax2.get_legend_handles_labels()\n",
    "ax2.legend(lines + lines2, labels + labels2, loc='upper left')\n",
    "\n",
    "plt.show()"
   ]
  },
  {
   "cell_type": "markdown",
   "id": "e5295d3d",
   "metadata": {},
   "source": [
    "## 🔍 1.5 DAX Index (OHLCV Data)\n",
    "____"
   ]
  },
  {
   "cell_type": "code",
   "execution_count": null,
   "id": "08e51cec",
   "metadata": {},
   "outputs": [],
   "source": [
    "# DAX Index (OHLCV) data from Yahoo Finance\n",
    "# Source: DAX index (XETRA - XETRA Delayed Price. Currency in EUR)\n",
    "# URL: https://finance.yahoo.com/quote/%5EGDAXI\n",
    "# This provides Open, High, Low, Close, Volume data with Adjusted Close for more accurate price reflections\n",
    "\n",
    "print(\"📊 Downloading DAX index OHLCV data from Yahoo Finance...\")\n",
    "dax_daily = safe_data_download(\"^GDAXI\", \"yahoo\", start_date=start)\n",
    "\n",
    "if dax_daily is not None:\n",
    "    print(f\"✅ DAX data downloaded successfully. Shape: {dax_daily.shape}\")\n",
    "    print(\"📈 Data includes: Open, High, Low, Close, Adj Close, Volume\")\n",
    "else:\n",
    "    print(\"❌ Failed to download DAX data from Yahoo Finance\")"
   ]
  },
  {
   "cell_type": "code",
   "execution_count": null,
   "id": "6dca017c",
   "metadata": {},
   "outputs": [],
   "source": [
    "# Save DAX data to CSV\n",
    "if dax_daily is not None:\n",
    "    safe_save_load_csv(dax_daily, DATA_FILES['dax_daily'], save=True)\n",
    "else:\n",
    "    print(\"❌ No DAX data to save\")"
   ]
  },
  {
   "cell_type": "code",
   "execution_count": 29,
   "id": "9ed6c46e",
   "metadata": {},
   "outputs": [
    {
     "data": {
      "application/vnd.microsoft.datawrangler.viewer.v0+json": {
       "columns": [
        {
         "name": "Date",
         "rawType": "object",
         "type": "unknown"
        },
        {
         "name": "Open",
         "rawType": "float64",
         "type": "float"
        },
        {
         "name": "High",
         "rawType": "float64",
         "type": "float"
        },
        {
         "name": "Low",
         "rawType": "float64",
         "type": "float"
        },
        {
         "name": "Close",
         "rawType": "float64",
         "type": "float"
        },
        {
         "name": "Volume",
         "rawType": "int64",
         "type": "integer"
        },
        {
         "name": "Dividends",
         "rawType": "float64",
         "type": "float"
        },
        {
         "name": "Stock Splits",
         "rawType": "float64",
         "type": "float"
        }
       ],
       "ref": "c0a1e0fe-6576-4d5a-adfc-414ff974d885",
       "rows": [
        [
         "1987-12-30 00:00:00+01:00",
         "1005.1900024414062",
         "1005.1900024414062",
         "1005.1900024414062",
         "1005.1900024414062",
         "0",
         "0.0",
         "0.0"
        ],
        [
         "1988-01-04 00:00:00+01:00",
         "956.489990234375",
         "956.489990234375",
         "956.489990234375",
         "956.489990234375",
         "0",
         "0.0",
         "0.0"
        ],
        [
         "1988-01-05 00:00:00+01:00",
         "996.0999755859376",
         "996.0999755859376",
         "996.0999755859376",
         "996.0999755859376",
         "0",
         "0.0",
         "0.0"
        ],
        [
         "1988-01-06 00:00:00+01:00",
         "1006.010009765625",
         "1006.010009765625",
         "1006.010009765625",
         "1006.010009765625",
         "0",
         "0.0",
         "0.0"
        ],
        [
         "1988-01-07 00:00:00+01:00",
         "1014.469970703125",
         "1014.469970703125",
         "1014.469970703125",
         "1014.469970703125",
         "0",
         "0.0",
         "0.0"
        ]
       ],
       "shape": {
        "columns": 7,
        "rows": 5
       }
      },
      "text/html": [
       "<div>\n",
       "<style scoped>\n",
       "    .dataframe tbody tr th:only-of-type {\n",
       "        vertical-align: middle;\n",
       "    }\n",
       "\n",
       "    .dataframe tbody tr th {\n",
       "        vertical-align: top;\n",
       "    }\n",
       "\n",
       "    .dataframe thead th {\n",
       "        text-align: right;\n",
       "    }\n",
       "</style>\n",
       "<table border=\"1\" class=\"dataframe\">\n",
       "  <thead>\n",
       "    <tr style=\"text-align: right;\">\n",
       "      <th></th>\n",
       "      <th>Open</th>\n",
       "      <th>High</th>\n",
       "      <th>Low</th>\n",
       "      <th>Close</th>\n",
       "      <th>Volume</th>\n",
       "      <th>Dividends</th>\n",
       "      <th>Stock Splits</th>\n",
       "    </tr>\n",
       "    <tr>\n",
       "      <th>Date</th>\n",
       "      <th></th>\n",
       "      <th></th>\n",
       "      <th></th>\n",
       "      <th></th>\n",
       "      <th></th>\n",
       "      <th></th>\n",
       "      <th></th>\n",
       "    </tr>\n",
       "  </thead>\n",
       "  <tbody>\n",
       "    <tr>\n",
       "      <th>1987-12-30 00:00:00+01:00</th>\n",
       "      <td>1005.190002</td>\n",
       "      <td>1005.190002</td>\n",
       "      <td>1005.190002</td>\n",
       "      <td>1005.190002</td>\n",
       "      <td>0</td>\n",
       "      <td>0.0</td>\n",
       "      <td>0.0</td>\n",
       "    </tr>\n",
       "    <tr>\n",
       "      <th>1988-01-04 00:00:00+01:00</th>\n",
       "      <td>956.489990</td>\n",
       "      <td>956.489990</td>\n",
       "      <td>956.489990</td>\n",
       "      <td>956.489990</td>\n",
       "      <td>0</td>\n",
       "      <td>0.0</td>\n",
       "      <td>0.0</td>\n",
       "    </tr>\n",
       "    <tr>\n",
       "      <th>1988-01-05 00:00:00+01:00</th>\n",
       "      <td>996.099976</td>\n",
       "      <td>996.099976</td>\n",
       "      <td>996.099976</td>\n",
       "      <td>996.099976</td>\n",
       "      <td>0</td>\n",
       "      <td>0.0</td>\n",
       "      <td>0.0</td>\n",
       "    </tr>\n",
       "    <tr>\n",
       "      <th>1988-01-06 00:00:00+01:00</th>\n",
       "      <td>1006.010010</td>\n",
       "      <td>1006.010010</td>\n",
       "      <td>1006.010010</td>\n",
       "      <td>1006.010010</td>\n",
       "      <td>0</td>\n",
       "      <td>0.0</td>\n",
       "      <td>0.0</td>\n",
       "    </tr>\n",
       "    <tr>\n",
       "      <th>1988-01-07 00:00:00+01:00</th>\n",
       "      <td>1014.469971</td>\n",
       "      <td>1014.469971</td>\n",
       "      <td>1014.469971</td>\n",
       "      <td>1014.469971</td>\n",
       "      <td>0</td>\n",
       "      <td>0.0</td>\n",
       "      <td>0.0</td>\n",
       "    </tr>\n",
       "  </tbody>\n",
       "</table>\n",
       "</div>"
      ],
      "text/plain": [
       "                                  Open         High          Low        Close  \\\n",
       "Date                                                                            \n",
       "1987-12-30 00:00:00+01:00  1005.190002  1005.190002  1005.190002  1005.190002   \n",
       "1988-01-04 00:00:00+01:00   956.489990   956.489990   956.489990   956.489990   \n",
       "1988-01-05 00:00:00+01:00   996.099976   996.099976   996.099976   996.099976   \n",
       "1988-01-06 00:00:00+01:00  1006.010010  1006.010010  1006.010010  1006.010010   \n",
       "1988-01-07 00:00:00+01:00  1014.469971  1014.469971  1014.469971  1014.469971   \n",
       "\n",
       "                           Volume  Dividends  Stock Splits  \n",
       "Date                                                        \n",
       "1987-12-30 00:00:00+01:00       0        0.0           0.0  \n",
       "1988-01-04 00:00:00+01:00       0        0.0           0.0  \n",
       "1988-01-05 00:00:00+01:00       0        0.0           0.0  \n",
       "1988-01-06 00:00:00+01:00       0        0.0           0.0  \n",
       "1988-01-07 00:00:00+01:00       0        0.0           0.0  "
      ]
     },
     "execution_count": 29,
     "metadata": {},
     "output_type": "execute_result"
    }
   ],
   "source": [
    "# Load the DAX data from CSV\n",
    "dax_daily = pd.read_csv('dax_daily.csv', index_col=0, parse_dates=True)\n",
    "dax_daily.head()"
   ]
  },
  {
   "cell_type": "code",
   "execution_count": 30,
   "id": "0b1c44f9",
   "metadata": {},
   "outputs": [],
   "source": [
    "# normally 252 trading days\n",
    "dax_daily['adj_close_last_year'] = dax_daily['Close'].shift(252)\n",
    "dax_daily['yoy_growth'] = dax_daily['Close'] / dax_daily['adj_close_last_year'] -1"
   ]
  },
  {
   "cell_type": "code",
   "execution_count": 50,
   "id": "8d0fbb19",
   "metadata": {},
   "outputs": [
    {
     "data": {
      "application/vnd.microsoft.datawrangler.viewer.v0+json": {
       "columns": [
        {
         "name": "Date",
         "rawType": "object",
         "type": "unknown"
        },
        {
         "name": "Open",
         "rawType": "float64",
         "type": "float"
        },
        {
         "name": "High",
         "rawType": "float64",
         "type": "float"
        },
        {
         "name": "Low",
         "rawType": "float64",
         "type": "float"
        },
        {
         "name": "Close",
         "rawType": "float64",
         "type": "float"
        },
        {
         "name": "Volume",
         "rawType": "int64",
         "type": "integer"
        },
        {
         "name": "Dividends",
         "rawType": "float64",
         "type": "float"
        },
        {
         "name": "Stock Splits",
         "rawType": "float64",
         "type": "float"
        },
        {
         "name": "adj_close_last_year",
         "rawType": "float64",
         "type": "float"
        },
        {
         "name": "yoy_growth",
         "rawType": "float64",
         "type": "float"
        }
       ],
       "ref": "eb1016d6-a3f8-4975-952b-769e17be0149",
       "rows": [
        [
         "1987-12-30 00:00:00+01:00",
         "1005.1900024414062",
         "1005.1900024414062",
         "1005.1900024414062",
         "1005.1900024414062",
         "0",
         "0.0",
         "0.0",
         null,
         null
        ],
        [
         "1988-01-04 00:00:00+01:00",
         "956.489990234375",
         "956.489990234375",
         "956.489990234375",
         "956.489990234375",
         "0",
         "0.0",
         "0.0",
         null,
         null
        ],
        [
         "1988-01-05 00:00:00+01:00",
         "996.0999755859376",
         "996.0999755859376",
         "996.0999755859376",
         "996.0999755859376",
         "0",
         "0.0",
         "0.0",
         null,
         null
        ],
        [
         "1988-01-06 00:00:00+01:00",
         "1006.010009765625",
         "1006.010009765625",
         "1006.010009765625",
         "1006.010009765625",
         "0",
         "0.0",
         "0.0",
         null,
         null
        ],
        [
         "1988-01-07 00:00:00+01:00",
         "1014.469970703125",
         "1014.469970703125",
         "1014.469970703125",
         "1014.469970703125",
         "0",
         "0.0",
         "0.0",
         null,
         null
        ],
        [
         "1988-01-08 00:00:00+01:00",
         "1026.68994140625",
         "1026.68994140625",
         "1026.68994140625",
         "1026.68994140625",
         "0",
         "0.0",
         "0.0",
         null,
         null
        ],
        [
         "1988-01-11 00:00:00+01:00",
         "987.52001953125",
         "987.52001953125",
         "987.52001953125",
         "987.52001953125",
         "0",
         "0.0",
         "0.0",
         null,
         null
        ],
        [
         "1988-01-12 00:00:00+01:00",
         "986.8900146484376",
         "986.8900146484376",
         "986.8900146484376",
         "986.8900146484376",
         "0",
         "0.0",
         "0.0",
         null,
         null
        ],
        [
         "1988-01-13 00:00:00+01:00",
         "965.77001953125",
         "965.77001953125",
         "965.77001953125",
         "965.77001953125",
         "0",
         "0.0",
         "0.0",
         null,
         null
        ],
        [
         "1988-01-14 00:00:00+01:00",
         "974.4600219726562",
         "974.4600219726562",
         "974.4600219726562",
         "974.4600219726562",
         "0",
         "0.0",
         "0.0",
         null,
         null
        ],
        [
         "1988-01-15 00:00:00+01:00",
         "952.4600219726562",
         "952.4600219726562",
         "952.4600219726562",
         "952.4600219726562",
         "0",
         "0.0",
         "0.0",
         null,
         null
        ],
        [
         "1988-01-18 00:00:00+01:00",
         "1003.1300048828124",
         "1003.1300048828124",
         "1003.1300048828124",
         "1003.1300048828124",
         "0",
         "0.0",
         "0.0",
         null,
         null
        ],
        [
         "1988-01-19 00:00:00+01:00",
         "980.1799926757812",
         "980.1799926757812",
         "980.1799926757812",
         "980.1799926757812",
         "0",
         "0.0",
         "0.0",
         null,
         null
        ],
        [
         "1988-01-20 00:00:00+01:00",
         "960.4400024414062",
         "960.4400024414062",
         "960.4400024414062",
         "960.4400024414062",
         "0",
         "0.0",
         "0.0",
         null,
         null
        ],
        [
         "1988-01-21 00:00:00+01:00",
         "949.239990234375",
         "949.239990234375",
         "949.239990234375",
         "949.239990234375",
         "0",
         "0.0",
         "0.0",
         null,
         null
        ],
        [
         "1988-01-22 00:00:00+01:00",
         "966.47998046875",
         "966.47998046875",
         "966.47998046875",
         "966.47998046875",
         "0",
         "0.0",
         "0.0",
         null,
         null
        ],
        [
         "1988-01-25 00:00:00+01:00",
         "962.6300048828124",
         "962.6300048828124",
         "962.6300048828124",
         "962.6300048828124",
         "0",
         "0.0",
         "0.0",
         null,
         null
        ],
        [
         "1988-01-26 00:00:00+01:00",
         "968.260009765625",
         "968.260009765625",
         "968.260009765625",
         "968.260009765625",
         "0",
         "0.0",
         "0.0",
         null,
         null
        ],
        [
         "1988-01-27 00:00:00+01:00",
         "959.6699829101562",
         "959.6699829101562",
         "959.6699829101562",
         "959.6699829101562",
         "0",
         "0.0",
         "0.0",
         null,
         null
        ],
        [
         "1988-01-28 00:00:00+01:00",
         "937.760009765625",
         "937.760009765625",
         "937.760009765625",
         "937.760009765625",
         "0",
         "0.0",
         "0.0",
         null,
         null
        ],
        [
         "1988-01-29 00:00:00+01:00",
         "936.0",
         "936.0",
         "936.0",
         "936.0",
         "0",
         "0.0",
         "0.0",
         null,
         null
        ],
        [
         "1988-02-01 00:00:00+01:00",
         "951.5",
         "951.5",
         "951.5",
         "951.5",
         "0",
         "0.0",
         "0.0",
         null,
         null
        ],
        [
         "1988-02-02 00:00:00+01:00",
         "955.6699829101562",
         "955.6699829101562",
         "955.6699829101562",
         "955.6699829101562",
         "0",
         "0.0",
         "0.0",
         null,
         null
        ],
        [
         "1988-02-03 00:00:00+01:00",
         "972.1900024414062",
         "972.1900024414062",
         "972.1900024414062",
         "972.1900024414062",
         "0",
         "0.0",
         "0.0",
         null,
         null
        ],
        [
         "1988-02-04 00:00:00+01:00",
         "990.219970703125",
         "990.219970703125",
         "990.219970703125",
         "990.219970703125",
         "0",
         "0.0",
         "0.0",
         null,
         null
        ],
        [
         "1988-02-05 00:00:00+01:00",
         "979.3800048828124",
         "979.3800048828124",
         "979.3800048828124",
         "979.3800048828124",
         "0",
         "0.0",
         "0.0",
         null,
         null
        ],
        [
         "1988-02-08 00:00:00+01:00",
         "986.9500122070312",
         "986.9500122070312",
         "986.9500122070312",
         "986.9500122070312",
         "0",
         "0.0",
         "0.0",
         null,
         null
        ],
        [
         "1988-02-09 00:00:00+01:00",
         "983.3099975585938",
         "983.3099975585938",
         "983.3099975585938",
         "983.3099975585938",
         "0",
         "0.0",
         "0.0",
         null,
         null
        ],
        [
         "1988-02-10 00:00:00+01:00",
         "997.1400146484376",
         "997.1400146484376",
         "997.1400146484376",
         "997.1400146484376",
         "0",
         "0.0",
         "0.0",
         null,
         null
        ],
        [
         "1988-02-11 00:00:00+01:00",
         "1024.68994140625",
         "1024.68994140625",
         "1024.68994140625",
         "1024.68994140625",
         "0",
         "0.0",
         "0.0",
         null,
         null
        ],
        [
         "1988-02-12 00:00:00+01:00",
         "1033.489990234375",
         "1033.489990234375",
         "1033.489990234375",
         "1033.489990234375",
         "0",
         "0.0",
         "0.0",
         null,
         null
        ],
        [
         "1988-02-15 00:00:00+01:00",
         "1049.3499755859375",
         "1049.3499755859375",
         "1049.3499755859375",
         "1049.3499755859375",
         "0",
         "0.0",
         "0.0",
         null,
         null
        ],
        [
         "1988-02-16 00:00:00+01:00",
         "1055.77001953125",
         "1055.77001953125",
         "1055.77001953125",
         "1055.77001953125",
         "0",
         "0.0",
         "0.0",
         null,
         null
        ],
        [
         "1988-02-17 00:00:00+01:00",
         "1053.27001953125",
         "1053.27001953125",
         "1053.27001953125",
         "1053.27001953125",
         "0",
         "0.0",
         "0.0",
         null,
         null
        ],
        [
         "1988-02-18 00:00:00+01:00",
         "1051.93994140625",
         "1051.93994140625",
         "1051.93994140625",
         "1051.93994140625",
         "0",
         "0.0",
         "0.0",
         null,
         null
        ],
        [
         "1988-02-19 00:00:00+01:00",
         "1046.780029296875",
         "1046.780029296875",
         "1046.780029296875",
         "1046.780029296875",
         "0",
         "0.0",
         "0.0",
         null,
         null
        ],
        [
         "1988-02-22 00:00:00+01:00",
         "1059.47998046875",
         "1059.47998046875",
         "1059.47998046875",
         "1059.47998046875",
         "0",
         "0.0",
         "0.0",
         null,
         null
        ],
        [
         "1988-02-23 00:00:00+01:00",
         "1069.030029296875",
         "1069.030029296875",
         "1069.030029296875",
         "1069.030029296875",
         "0",
         "0.0",
         "0.0",
         null,
         null
        ],
        [
         "1988-02-24 00:00:00+01:00",
         "1069.9000244140625",
         "1069.9000244140625",
         "1069.9000244140625",
         "1069.9000244140625",
         "0",
         "0.0",
         "0.0",
         null,
         null
        ],
        [
         "1988-02-25 00:00:00+01:00",
         "1091.5899658203125",
         "1091.5899658203125",
         "1091.5899658203125",
         "1091.5899658203125",
         "0",
         "0.0",
         "0.0",
         null,
         null
        ],
        [
         "1988-02-26 00:00:00+01:00",
         "1079.4000244140625",
         "1079.4000244140625",
         "1079.4000244140625",
         "1079.4000244140625",
         "0",
         "0.0",
         "0.0",
         null,
         null
        ],
        [
         "1988-02-29 00:00:00+01:00",
         "1083.3399658203125",
         "1083.3399658203125",
         "1083.3399658203125",
         "1083.3399658203125",
         "0",
         "0.0",
         "0.0",
         null,
         null
        ],
        [
         "1988-03-01 00:00:00+01:00",
         "1087.3199462890625",
         "1087.3199462890625",
         "1087.3199462890625",
         "1087.3199462890625",
         "0",
         "0.0",
         "0.0",
         null,
         null
        ],
        [
         "1988-03-02 00:00:00+01:00",
         "1080.43994140625",
         "1080.43994140625",
         "1080.43994140625",
         "1080.43994140625",
         "0",
         "0.0",
         "0.0",
         null,
         null
        ],
        [
         "1988-03-03 00:00:00+01:00",
         "1082.239990234375",
         "1082.239990234375",
         "1082.239990234375",
         "1082.239990234375",
         "0",
         "0.0",
         "0.0",
         null,
         null
        ],
        [
         "1988-03-04 00:00:00+01:00",
         "1075.1300048828125",
         "1075.1300048828125",
         "1075.1300048828125",
         "1075.1300048828125",
         "0",
         "0.0",
         "0.0",
         null,
         null
        ],
        [
         "1988-03-07 00:00:00+01:00",
         "1077.3699951171875",
         "1077.3699951171875",
         "1077.3699951171875",
         "1077.3699951171875",
         "0",
         "0.0",
         "0.0",
         null,
         null
        ],
        [
         "1988-03-08 00:00:00+01:00",
         "1079.4200439453125",
         "1079.4200439453125",
         "1079.4200439453125",
         "1079.4200439453125",
         "0",
         "0.0",
         "0.0",
         null,
         null
        ],
        [
         "1988-03-09 00:00:00+01:00",
         "1078.6199951171875",
         "1078.6199951171875",
         "1078.6199951171875",
         "1078.6199951171875",
         "0",
         "0.0",
         "0.0",
         null,
         null
        ],
        [
         "1988-03-10 00:00:00+01:00",
         "1082.5400390625",
         "1082.5400390625",
         "1082.5400390625",
         "1082.5400390625",
         "0",
         "0.0",
         "0.0",
         null,
         null
        ]
       ],
       "shape": {
        "columns": 9,
        "rows": 9485
       }
      },
      "text/html": [
       "<div>\n",
       "<style scoped>\n",
       "    .dataframe tbody tr th:only-of-type {\n",
       "        vertical-align: middle;\n",
       "    }\n",
       "\n",
       "    .dataframe tbody tr th {\n",
       "        vertical-align: top;\n",
       "    }\n",
       "\n",
       "    .dataframe thead th {\n",
       "        text-align: right;\n",
       "    }\n",
       "</style>\n",
       "<table border=\"1\" class=\"dataframe\">\n",
       "  <thead>\n",
       "    <tr style=\"text-align: right;\">\n",
       "      <th></th>\n",
       "      <th>Open</th>\n",
       "      <th>High</th>\n",
       "      <th>Low</th>\n",
       "      <th>Close</th>\n",
       "      <th>Volume</th>\n",
       "      <th>Dividends</th>\n",
       "      <th>Stock Splits</th>\n",
       "      <th>adj_close_last_year</th>\n",
       "      <th>yoy_growth</th>\n",
       "    </tr>\n",
       "    <tr>\n",
       "      <th>Date</th>\n",
       "      <th></th>\n",
       "      <th></th>\n",
       "      <th></th>\n",
       "      <th></th>\n",
       "      <th></th>\n",
       "      <th></th>\n",
       "      <th></th>\n",
       "      <th></th>\n",
       "      <th></th>\n",
       "    </tr>\n",
       "  </thead>\n",
       "  <tbody>\n",
       "    <tr>\n",
       "      <th>1987-12-30 00:00:00+01:00</th>\n",
       "      <td>1005.190002</td>\n",
       "      <td>1005.190002</td>\n",
       "      <td>1005.190002</td>\n",
       "      <td>1005.190002</td>\n",
       "      <td>0</td>\n",
       "      <td>0.0</td>\n",
       "      <td>0.0</td>\n",
       "      <td>NaN</td>\n",
       "      <td>NaN</td>\n",
       "    </tr>\n",
       "    <tr>\n",
       "      <th>1988-01-04 00:00:00+01:00</th>\n",
       "      <td>956.489990</td>\n",
       "      <td>956.489990</td>\n",
       "      <td>956.489990</td>\n",
       "      <td>956.489990</td>\n",
       "      <td>0</td>\n",
       "      <td>0.0</td>\n",
       "      <td>0.0</td>\n",
       "      <td>NaN</td>\n",
       "      <td>NaN</td>\n",
       "    </tr>\n",
       "    <tr>\n",
       "      <th>1988-01-05 00:00:00+01:00</th>\n",
       "      <td>996.099976</td>\n",
       "      <td>996.099976</td>\n",
       "      <td>996.099976</td>\n",
       "      <td>996.099976</td>\n",
       "      <td>0</td>\n",
       "      <td>0.0</td>\n",
       "      <td>0.0</td>\n",
       "      <td>NaN</td>\n",
       "      <td>NaN</td>\n",
       "    </tr>\n",
       "    <tr>\n",
       "      <th>1988-01-06 00:00:00+01:00</th>\n",
       "      <td>1006.010010</td>\n",
       "      <td>1006.010010</td>\n",
       "      <td>1006.010010</td>\n",
       "      <td>1006.010010</td>\n",
       "      <td>0</td>\n",
       "      <td>0.0</td>\n",
       "      <td>0.0</td>\n",
       "      <td>NaN</td>\n",
       "      <td>NaN</td>\n",
       "    </tr>\n",
       "    <tr>\n",
       "      <th>1988-01-07 00:00:00+01:00</th>\n",
       "      <td>1014.469971</td>\n",
       "      <td>1014.469971</td>\n",
       "      <td>1014.469971</td>\n",
       "      <td>1014.469971</td>\n",
       "      <td>0</td>\n",
       "      <td>0.0</td>\n",
       "      <td>0.0</td>\n",
       "      <td>NaN</td>\n",
       "      <td>NaN</td>\n",
       "    </tr>\n",
       "    <tr>\n",
       "      <th>...</th>\n",
       "      <td>...</td>\n",
       "      <td>...</td>\n",
       "      <td>...</td>\n",
       "      <td>...</td>\n",
       "      <td>...</td>\n",
       "      <td>...</td>\n",
       "      <td>...</td>\n",
       "      <td>...</td>\n",
       "      <td>...</td>\n",
       "    </tr>\n",
       "    <tr>\n",
       "      <th>2025-06-30 00:00:00+02:00</th>\n",
       "      <td>24109.150391</td>\n",
       "      <td>24120.820312</td>\n",
       "      <td>23854.310547</td>\n",
       "      <td>23909.609375</td>\n",
       "      <td>70772100</td>\n",
       "      <td>0.0</td>\n",
       "      <td>0.0</td>\n",
       "      <td>18290.660156</td>\n",
       "      <td>0.307203</td>\n",
       "    </tr>\n",
       "    <tr>\n",
       "      <th>2025-07-01 00:00:00+02:00</th>\n",
       "      <td>23966.949219</td>\n",
       "      <td>23978.300781</td>\n",
       "      <td>23671.269531</td>\n",
       "      <td>23673.289062</td>\n",
       "      <td>61850200</td>\n",
       "      <td>0.0</td>\n",
       "      <td>0.0</td>\n",
       "      <td>18164.060547</td>\n",
       "      <td>0.303304</td>\n",
       "    </tr>\n",
       "    <tr>\n",
       "      <th>2025-07-02 00:00:00+02:00</th>\n",
       "      <td>23789.060547</td>\n",
       "      <td>23824.500000</td>\n",
       "      <td>23620.419922</td>\n",
       "      <td>23790.109375</td>\n",
       "      <td>53388000</td>\n",
       "      <td>0.0</td>\n",
       "      <td>0.0</td>\n",
       "      <td>18374.529297</td>\n",
       "      <td>0.294733</td>\n",
       "    </tr>\n",
       "    <tr>\n",
       "      <th>2025-07-03 00:00:00+02:00</th>\n",
       "      <td>23884.800781</td>\n",
       "      <td>23944.099609</td>\n",
       "      <td>23762.419922</td>\n",
       "      <td>23934.130859</td>\n",
       "      <td>46650200</td>\n",
       "      <td>0.0</td>\n",
       "      <td>0.0</td>\n",
       "      <td>18450.480469</td>\n",
       "      <td>0.297209</td>\n",
       "    </tr>\n",
       "    <tr>\n",
       "      <th>2025-07-04 00:00:00+02:00</th>\n",
       "      <td>23833.140625</td>\n",
       "      <td>23868.929688</td>\n",
       "      <td>23702.650391</td>\n",
       "      <td>23787.449219</td>\n",
       "      <td>34239700</td>\n",
       "      <td>0.0</td>\n",
       "      <td>0.0</td>\n",
       "      <td>18475.449219</td>\n",
       "      <td>0.287517</td>\n",
       "    </tr>\n",
       "  </tbody>\n",
       "</table>\n",
       "<p>9485 rows × 9 columns</p>\n",
       "</div>"
      ],
      "text/plain": [
       "                                   Open          High           Low  \\\n",
       "Date                                                                  \n",
       "1987-12-30 00:00:00+01:00   1005.190002   1005.190002   1005.190002   \n",
       "1988-01-04 00:00:00+01:00    956.489990    956.489990    956.489990   \n",
       "1988-01-05 00:00:00+01:00    996.099976    996.099976    996.099976   \n",
       "1988-01-06 00:00:00+01:00   1006.010010   1006.010010   1006.010010   \n",
       "1988-01-07 00:00:00+01:00   1014.469971   1014.469971   1014.469971   \n",
       "...                                 ...           ...           ...   \n",
       "2025-06-30 00:00:00+02:00  24109.150391  24120.820312  23854.310547   \n",
       "2025-07-01 00:00:00+02:00  23966.949219  23978.300781  23671.269531   \n",
       "2025-07-02 00:00:00+02:00  23789.060547  23824.500000  23620.419922   \n",
       "2025-07-03 00:00:00+02:00  23884.800781  23944.099609  23762.419922   \n",
       "2025-07-04 00:00:00+02:00  23833.140625  23868.929688  23702.650391   \n",
       "\n",
       "                                  Close    Volume  Dividends  Stock Splits  \\\n",
       "Date                                                                         \n",
       "1987-12-30 00:00:00+01:00   1005.190002         0        0.0           0.0   \n",
       "1988-01-04 00:00:00+01:00    956.489990         0        0.0           0.0   \n",
       "1988-01-05 00:00:00+01:00    996.099976         0        0.0           0.0   \n",
       "1988-01-06 00:00:00+01:00   1006.010010         0        0.0           0.0   \n",
       "1988-01-07 00:00:00+01:00   1014.469971         0        0.0           0.0   \n",
       "...                                 ...       ...        ...           ...   \n",
       "2025-06-30 00:00:00+02:00  23909.609375  70772100        0.0           0.0   \n",
       "2025-07-01 00:00:00+02:00  23673.289062  61850200        0.0           0.0   \n",
       "2025-07-02 00:00:00+02:00  23790.109375  53388000        0.0           0.0   \n",
       "2025-07-03 00:00:00+02:00  23934.130859  46650200        0.0           0.0   \n",
       "2025-07-04 00:00:00+02:00  23787.449219  34239700        0.0           0.0   \n",
       "\n",
       "                           adj_close_last_year  yoy_growth  \n",
       "Date                                                        \n",
       "1987-12-30 00:00:00+01:00                  NaN         NaN  \n",
       "1988-01-04 00:00:00+01:00                  NaN         NaN  \n",
       "1988-01-05 00:00:00+01:00                  NaN         NaN  \n",
       "1988-01-06 00:00:00+01:00                  NaN         NaN  \n",
       "1988-01-07 00:00:00+01:00                  NaN         NaN  \n",
       "...                                        ...         ...  \n",
       "2025-06-30 00:00:00+02:00         18290.660156    0.307203  \n",
       "2025-07-01 00:00:00+02:00         18164.060547    0.303304  \n",
       "2025-07-02 00:00:00+02:00         18374.529297    0.294733  \n",
       "2025-07-03 00:00:00+02:00         18450.480469    0.297209  \n",
       "2025-07-04 00:00:00+02:00         18475.449219    0.287517  \n",
       "\n",
       "[9485 rows x 9 columns]"
      ]
     },
     "execution_count": 50,
     "metadata": {},
     "output_type": "execute_result"
    }
   ],
   "source": [
    "dax_daily"
   ]
  },
  {
   "cell_type": "markdown",
   "id": "f217b093",
   "metadata": {},
   "source": [
    "## 🔍 1.6 S&P 500 (OHLCV Data)\n",
    "____"
   ]
  },
  {
   "cell_type": "code",
   "execution_count": null,
   "id": "291b90d4",
   "metadata": {},
   "outputs": [],
   "source": [
    "# S&P 500 OHLCV data from Yahoo Finance\n",
    "# Source: https://finance.yahoo.com/quote/%5EGSPC/\n",
    "# Ticker: ^GSPC - S&P 500 Real Time Price (Currency: USD)\n",
    "# Reference: https://www.investopedia.com/insights/introduction-to-stock-market-indices/\n",
    "\n",
    "print(\"📊 Downloading S&P 500 OHLCV data from Yahoo Finance...\")\n",
    "snp500_daily_non_delayed = safe_data_download(\"^GSPC\", \"yahoo\", start_date=start)\n",
    "\n",
    "if snp500_daily_non_delayed is not None:\n",
    "    print(f\"✅ S&P 500 OHLCV data downloaded successfully. Shape: {snp500_daily_non_delayed.shape}\")\n",
    "    print(\"📈 Data includes: Open, High, Low, Close, Volume\")\n",
    "else:\n",
    "    print(\"❌ Failed to download S&P 500 OHLCV data from Yahoo Finance\")"
   ]
  },
  {
   "cell_type": "code",
   "execution_count": null,
   "id": "0cea2361",
   "metadata": {},
   "outputs": [],
   "source": [
    "# Save S&P 500 OHLCV data to CSV\n",
    "if snp500_daily_non_delayed is not None:\n",
    "    safe_save_load_csv(snp500_daily_non_delayed, DATA_FILES['snp500'], save=True)\n",
    "else:\n",
    "    print(\"❌ No S&P 500 OHLCV data to save\")"
   ]
  },
  {
   "cell_type": "code",
   "execution_count": 33,
   "id": "6457b682",
   "metadata": {},
   "outputs": [
    {
     "data": {
      "application/vnd.microsoft.datawrangler.viewer.v0+json": {
       "columns": [
        {
         "name": "Date",
         "rawType": "object",
         "type": "unknown"
        },
        {
         "name": "Open",
         "rawType": "float64",
         "type": "float"
        },
        {
         "name": "High",
         "rawType": "float64",
         "type": "float"
        },
        {
         "name": "Low",
         "rawType": "float64",
         "type": "float"
        },
        {
         "name": "Close",
         "rawType": "float64",
         "type": "float"
        },
        {
         "name": "Volume",
         "rawType": "int64",
         "type": "integer"
        },
        {
         "name": "Dividends",
         "rawType": "float64",
         "type": "float"
        },
        {
         "name": "Stock Splits",
         "rawType": "float64",
         "type": "float"
        }
       ],
       "ref": "d71c982c-a35c-432b-908f-448912cf6b89",
       "rows": [
        [
         "2025-08-18 00:00:00-04:00",
         "6445.02001953125",
         "6455.35009765625",
         "6437.7001953125",
         "6449.14990234375",
         "4162290000",
         "0.0",
         "0.0"
        ],
        [
         "2025-08-19 00:00:00-04:00",
         "6446.240234375",
         "6456.47998046875",
         "6400.22021484375",
         "6411.3701171875",
         "4377440000",
         "0.0",
         "0.0"
        ],
        [
         "2025-08-20 00:00:00-04:00",
         "6406.6201171875",
         "6408.39990234375",
         "6343.85986328125",
         "6395.77978515625",
         "4470390000",
         "0.0",
         "0.0"
        ],
        [
         "2025-08-21 00:00:00-04:00",
         "6380.830078125",
         "6393.64990234375",
         "6352.7099609375",
         "6370.169921875",
         "4013560000",
         "0.0",
         "0.0"
        ],
        [
         "2025-08-22 00:00:00-04:00",
         "6384.58984375",
         "6478.89013671875",
         "6384.58984375",
         "6466.91015625",
         "5046860000",
         "0.0",
         "0.0"
        ]
       ],
       "shape": {
        "columns": 7,
        "rows": 5
       }
      },
      "text/html": [
       "<div>\n",
       "<style scoped>\n",
       "    .dataframe tbody tr th:only-of-type {\n",
       "        vertical-align: middle;\n",
       "    }\n",
       "\n",
       "    .dataframe tbody tr th {\n",
       "        vertical-align: top;\n",
       "    }\n",
       "\n",
       "    .dataframe thead th {\n",
       "        text-align: right;\n",
       "    }\n",
       "</style>\n",
       "<table border=\"1\" class=\"dataframe\">\n",
       "  <thead>\n",
       "    <tr style=\"text-align: right;\">\n",
       "      <th></th>\n",
       "      <th>Open</th>\n",
       "      <th>High</th>\n",
       "      <th>Low</th>\n",
       "      <th>Close</th>\n",
       "      <th>Volume</th>\n",
       "      <th>Dividends</th>\n",
       "      <th>Stock Splits</th>\n",
       "    </tr>\n",
       "    <tr>\n",
       "      <th>Date</th>\n",
       "      <th></th>\n",
       "      <th></th>\n",
       "      <th></th>\n",
       "      <th></th>\n",
       "      <th></th>\n",
       "      <th></th>\n",
       "      <th></th>\n",
       "    </tr>\n",
       "  </thead>\n",
       "  <tbody>\n",
       "    <tr>\n",
       "      <th>2025-08-18 00:00:00-04:00</th>\n",
       "      <td>6445.020020</td>\n",
       "      <td>6455.350098</td>\n",
       "      <td>6437.700195</td>\n",
       "      <td>6449.149902</td>\n",
       "      <td>4162290000</td>\n",
       "      <td>0.0</td>\n",
       "      <td>0.0</td>\n",
       "    </tr>\n",
       "    <tr>\n",
       "      <th>2025-08-19 00:00:00-04:00</th>\n",
       "      <td>6446.240234</td>\n",
       "      <td>6456.479980</td>\n",
       "      <td>6400.220215</td>\n",
       "      <td>6411.370117</td>\n",
       "      <td>4377440000</td>\n",
       "      <td>0.0</td>\n",
       "      <td>0.0</td>\n",
       "    </tr>\n",
       "    <tr>\n",
       "      <th>2025-08-20 00:00:00-04:00</th>\n",
       "      <td>6406.620117</td>\n",
       "      <td>6408.399902</td>\n",
       "      <td>6343.859863</td>\n",
       "      <td>6395.779785</td>\n",
       "      <td>4470390000</td>\n",
       "      <td>0.0</td>\n",
       "      <td>0.0</td>\n",
       "    </tr>\n",
       "    <tr>\n",
       "      <th>2025-08-21 00:00:00-04:00</th>\n",
       "      <td>6380.830078</td>\n",
       "      <td>6393.649902</td>\n",
       "      <td>6352.709961</td>\n",
       "      <td>6370.169922</td>\n",
       "      <td>4013560000</td>\n",
       "      <td>0.0</td>\n",
       "      <td>0.0</td>\n",
       "    </tr>\n",
       "    <tr>\n",
       "      <th>2025-08-22 00:00:00-04:00</th>\n",
       "      <td>6384.589844</td>\n",
       "      <td>6478.890137</td>\n",
       "      <td>6384.589844</td>\n",
       "      <td>6466.910156</td>\n",
       "      <td>5046860000</td>\n",
       "      <td>0.0</td>\n",
       "      <td>0.0</td>\n",
       "    </tr>\n",
       "  </tbody>\n",
       "</table>\n",
       "</div>"
      ],
      "text/plain": [
       "                                  Open         High          Low        Close  \\\n",
       "Date                                                                            \n",
       "2025-08-18 00:00:00-04:00  6445.020020  6455.350098  6437.700195  6449.149902   \n",
       "2025-08-19 00:00:00-04:00  6446.240234  6456.479980  6400.220215  6411.370117   \n",
       "2025-08-20 00:00:00-04:00  6406.620117  6408.399902  6343.859863  6395.779785   \n",
       "2025-08-21 00:00:00-04:00  6380.830078  6393.649902  6352.709961  6370.169922   \n",
       "2025-08-22 00:00:00-04:00  6384.589844  6478.890137  6384.589844  6466.910156   \n",
       "\n",
       "                               Volume  Dividends  Stock Splits  \n",
       "Date                                                            \n",
       "2025-08-18 00:00:00-04:00  4162290000        0.0           0.0  \n",
       "2025-08-19 00:00:00-04:00  4377440000        0.0           0.0  \n",
       "2025-08-20 00:00:00-04:00  4470390000        0.0           0.0  \n",
       "2025-08-21 00:00:00-04:00  4013560000        0.0           0.0  \n",
       "2025-08-22 00:00:00-04:00  5046860000        0.0           0.0  "
      ]
     },
     "execution_count": 33,
     "metadata": {},
     "output_type": "execute_result"
    }
   ],
   "source": [
    "# Load the S&P 500 data from CSV\n",
    "snp500_daily_non_delayed = pd.read_csv('snp500_daily_non_delayed.csv', index_col=0, parse_dates=True)\n",
    "snp500_daily_non_delayed.tail()"
   ]
  },
  {
   "cell_type": "markdown",
   "id": "a3ff03aa",
   "metadata": {},
   "source": [
    "## 🔍 1.7 Macro Economy Data\n",
    "____"
   ]
  },
  {
   "cell_type": "code",
   "execution_count": 34,
   "id": "4d187bad",
   "metadata": {},
   "outputs": [],
   "source": [
    "# Web Scraping for Macro\n",
    "# can't call directly via pd.read_html() as it returns 403 (forbidden) --> need to do a bit of work, but still no Selenium\n",
    "# https://tradingeconomics.com/united-states/indicators\n",
    "import requests\n",
    "from bs4 import BeautifulSoup\n",
    "\n",
    "\n",
    "url = \"https://tradingeconomics.com/united-states/indicators\"\n",
    "headers = {\n",
    "    \"User-Agent\": \"Mozilla/5.0 (Windows NT 10.0; Win64; x64) AppleWebKit/537.36 (KHTML, like Gecko) Chrome/58.0.3029.110 Safari/537.3\"\n",
    "}\n",
    "\n",
    "response = requests.get(url, headers=headers)"
   ]
  },
  {
   "cell_type": "code",
   "execution_count": 35,
   "id": "3d304540",
   "metadata": {},
   "outputs": [
    {
     "name": "stdout",
     "output_type": "stream",
     "text": [
      "                  Unnamed: 0     Last  Previous  Highest    Lowest  \\\n",
      "0                   Currency    97.73     98.62   165.00     70.70   \n",
      "1               Stock Market  6467.00   6370.00  6481.00      4.40   \n",
      "2            GDP Growth Rate     3.00     -0.50    35.20    -28.10   \n",
      "3     GDP Annual Growth Rate     2.00      2.00    13.40     -7.50   \n",
      "4          Unemployment Rate     4.20      4.10    14.90      2.50   \n",
      "5          Non Farm Payrolls    73.00     14.00  4631.00 -20471.00   \n",
      "6             Inflation Rate     2.70      2.70    23.70    -15.80   \n",
      "7         Inflation Rate MoM     0.20      0.30     2.00     -1.80   \n",
      "8              Interest Rate     4.50      4.50    20.00      0.25   \n",
      "9           Balance of Trade   -60.18    -71.66     1.95   -138.00   \n",
      "10           Current Account  -450.00   -312.00     9.96   -450.00   \n",
      "11    Current Account to GDP    -3.90     -3.30     0.20     -6.00   \n",
      "12    Government Debt to GDP   124.00    122.00   126.00     31.80   \n",
      "13         Government Budget    -6.40     -6.20     4.50    -14.70   \n",
      "14       Business Confidence    48.00     49.00    77.50     29.40   \n",
      "15         Manufacturing PMI    53.30     49.80    63.40     36.10   \n",
      "16     Non Manufacturing PMI    50.10     50.80    67.60     37.80   \n",
      "17              Services PMI    55.40     55.70    70.40     26.70   \n",
      "18       Consumer Confidence    58.60     61.70   111.00     50.00   \n",
      "19          Retail Sales MoM     0.50      0.90    19.30    -14.40   \n",
      "20          Building Permits  1354.00   1393.00  2419.00    513.00   \n",
      "21        Corporate Tax Rate    21.00     21.00    52.80      1.00   \n",
      "22  Personal Income Tax Rate    37.00     37.00    39.60     35.00   \n",
      "\n",
      "        Unnamed: 5 Unnamed: 6  \n",
      "0              NaN     Aug/25  \n",
      "1           points     Aug/25  \n",
      "2          percent     Jun/25  \n",
      "3          percent     Jun/25  \n",
      "4          percent     Jul/25  \n",
      "5         Thousand     Jul/25  \n",
      "6          percent     Jul/25  \n",
      "7          percent     Jul/25  \n",
      "8          percent     Jul/25  \n",
      "9      USD Billion     Jun/25  \n",
      "10     USD Billion     Mar/25  \n",
      "11  percent of GDP     Dec/24  \n",
      "12  percent of GDP     Dec/24  \n",
      "13  percent of GDP     Dec/24  \n",
      "14          points     Jul/25  \n",
      "15          points     Aug/25  \n",
      "16          points     Jul/25  \n",
      "17          points     Aug/25  \n",
      "18          points     Aug/25  \n",
      "19         percent     Jul/25  \n",
      "20        Thousand     Jul/25  \n",
      "21         percent     Dec/25  \n",
      "22         percent     Dec/25  \n"
     ]
    },
    {
     "name": "stderr",
     "output_type": "stream",
     "text": [
      "/var/folders/v9/v9j8bf6j2r5cr97thvfgxxyh0000gn/T/ipykernel_76291/51921383.py:14: FutureWarning: Passing literal html to 'read_html' is deprecated and will be removed in a future version. To read from a literal string, wrap it in a 'StringIO' object.\n",
      "  df = pd.read_html(str(table))[0]  # Assuming there's only one table, otherwise, loop through the list\n"
     ]
    }
   ],
   "source": [
    "\n",
    "# Check if the request was successful (status code 200)\n",
    "if response.status_code == 200:\n",
    "    # Parse the HTML content of the webpage\n",
    "    soup = BeautifulSoup(response.content, \"html.parser\")\n",
    "\n",
    "    # You need to be able to find this table tag and read all behind it\n",
    "    # Find the div with class \"table-responsive\"\n",
    "    table_div = soup.find(\"div\", class_=\"table-responsive\")\n",
    "\n",
    "    # Extract the table within the div\n",
    "    table = table_div.find(\"table\")\n",
    "\n",
    "    # Use pandas to read the table into a DataFrame\n",
    "    df = pd.read_html(str(table))[0]  # Assuming there's only one table, otherwise, loop through the list\n",
    "\n",
    "    # Display the DataFrame\n",
    "    print(df)\n",
    "else:\n",
    "    print(\"Failed to retrieve data from the webpage.\")"
   ]
  },
  {
   "cell_type": "code",
   "execution_count": 36,
   "id": "437b89c8",
   "metadata": {},
   "outputs": [],
   "source": [
    "# Save macro data to CSV\n",
    "df.to_csv('macro_data.csv', index=False)"
   ]
  },
  {
   "cell_type": "code",
   "execution_count": 37,
   "id": "ff87d7c9",
   "metadata": {},
   "outputs": [
    {
     "data": {
      "application/vnd.microsoft.datawrangler.viewer.v0+json": {
       "columns": [
        {
         "name": "index",
         "rawType": "int64",
         "type": "integer"
        },
        {
         "name": "Unnamed: 0",
         "rawType": "object",
         "type": "string"
        },
        {
         "name": "Last",
         "rawType": "float64",
         "type": "float"
        },
        {
         "name": "Previous",
         "rawType": "float64",
         "type": "float"
        },
        {
         "name": "Highest",
         "rawType": "float64",
         "type": "float"
        },
        {
         "name": "Lowest",
         "rawType": "float64",
         "type": "float"
        },
        {
         "name": "Unnamed: 5",
         "rawType": "object",
         "type": "unknown"
        },
        {
         "name": "Unnamed: 6",
         "rawType": "object",
         "type": "string"
        }
       ],
       "ref": "2f033e9d-3dde-46d9-a83f-953b6e9bc626",
       "rows": [
        [
         "0",
         "Currency",
         "97.73",
         "98.62",
         "165.0",
         "70.7",
         null,
         "Aug/25"
        ],
        [
         "1",
         "Stock Market",
         "6467.0",
         "6370.0",
         "6481.0",
         "4.4",
         "points",
         "Aug/25"
        ],
        [
         "2",
         "GDP Growth Rate",
         "3.0",
         "-0.5",
         "35.2",
         "-28.1",
         "percent",
         "Jun/25"
        ],
        [
         "3",
         "GDP Annual Growth Rate",
         "2.0",
         "2.0",
         "13.4",
         "-7.5",
         "percent",
         "Jun/25"
        ],
        [
         "4",
         "Unemployment Rate",
         "4.2",
         "4.1",
         "14.9",
         "2.5",
         "percent",
         "Jul/25"
        ],
        [
         "5",
         "Non Farm Payrolls",
         "73.0",
         "14.0",
         "4631.0",
         "-20471.0",
         "Thousand",
         "Jul/25"
        ],
        [
         "6",
         "Inflation Rate",
         "2.7",
         "2.7",
         "23.7",
         "-15.8",
         "percent",
         "Jul/25"
        ],
        [
         "7",
         "Inflation Rate MoM",
         "0.2",
         "0.3",
         "2.0",
         "-1.8",
         "percent",
         "Jul/25"
        ],
        [
         "8",
         "Interest Rate",
         "4.5",
         "4.5",
         "20.0",
         "0.25",
         "percent",
         "Jul/25"
        ],
        [
         "9",
         "Balance of Trade",
         "-60.18",
         "-71.66",
         "1.95",
         "-138.0",
         "USD Billion",
         "Jun/25"
        ],
        [
         "10",
         "Current Account",
         "-450.0",
         "-312.0",
         "9.96",
         "-450.0",
         "USD Billion",
         "Mar/25"
        ],
        [
         "11",
         "Current Account to GDP",
         "-3.9",
         "-3.3",
         "0.2",
         "-6.0",
         "percent of GDP",
         "Dec/24"
        ],
        [
         "12",
         "Government Debt to GDP",
         "124.0",
         "122.0",
         "126.0",
         "31.8",
         "percent of GDP",
         "Dec/24"
        ],
        [
         "13",
         "Government Budget",
         "-6.4",
         "-6.2",
         "4.5",
         "-14.7",
         "percent of GDP",
         "Dec/24"
        ],
        [
         "14",
         "Business Confidence",
         "48.0",
         "49.0",
         "77.5",
         "29.4",
         "points",
         "Jul/25"
        ],
        [
         "15",
         "Manufacturing PMI",
         "53.3",
         "49.8",
         "63.4",
         "36.1",
         "points",
         "Aug/25"
        ],
        [
         "16",
         "Non Manufacturing PMI",
         "50.1",
         "50.8",
         "67.6",
         "37.8",
         "points",
         "Jul/25"
        ],
        [
         "17",
         "Services PMI",
         "55.4",
         "55.7",
         "70.4",
         "26.7",
         "points",
         "Aug/25"
        ],
        [
         "18",
         "Consumer Confidence",
         "58.6",
         "61.7",
         "111.0",
         "50.0",
         "points",
         "Aug/25"
        ],
        [
         "19",
         "Retail Sales MoM",
         "0.5",
         "0.9",
         "19.3",
         "-14.4",
         "percent",
         "Jul/25"
        ],
        [
         "20",
         "Building Permits",
         "1354.0",
         "1393.0",
         "2419.0",
         "513.0",
         "Thousand",
         "Jul/25"
        ],
        [
         "21",
         "Corporate Tax Rate",
         "21.0",
         "21.0",
         "52.8",
         "1.0",
         "percent",
         "Dec/25"
        ],
        [
         "22",
         "Personal Income Tax Rate",
         "37.0",
         "37.0",
         "39.6",
         "35.0",
         "percent",
         "Dec/25"
        ]
       ],
       "shape": {
        "columns": 7,
        "rows": 23
       }
      },
      "text/html": [
       "<div>\n",
       "<style scoped>\n",
       "    .dataframe tbody tr th:only-of-type {\n",
       "        vertical-align: middle;\n",
       "    }\n",
       "\n",
       "    .dataframe tbody tr th {\n",
       "        vertical-align: top;\n",
       "    }\n",
       "\n",
       "    .dataframe thead th {\n",
       "        text-align: right;\n",
       "    }\n",
       "</style>\n",
       "<table border=\"1\" class=\"dataframe\">\n",
       "  <thead>\n",
       "    <tr style=\"text-align: right;\">\n",
       "      <th></th>\n",
       "      <th>Unnamed: 0</th>\n",
       "      <th>Last</th>\n",
       "      <th>Previous</th>\n",
       "      <th>Highest</th>\n",
       "      <th>Lowest</th>\n",
       "      <th>Unnamed: 5</th>\n",
       "      <th>Unnamed: 6</th>\n",
       "    </tr>\n",
       "  </thead>\n",
       "  <tbody>\n",
       "    <tr>\n",
       "      <th>0</th>\n",
       "      <td>Currency</td>\n",
       "      <td>97.73</td>\n",
       "      <td>98.62</td>\n",
       "      <td>165.00</td>\n",
       "      <td>70.70</td>\n",
       "      <td>NaN</td>\n",
       "      <td>Aug/25</td>\n",
       "    </tr>\n",
       "    <tr>\n",
       "      <th>1</th>\n",
       "      <td>Stock Market</td>\n",
       "      <td>6467.00</td>\n",
       "      <td>6370.00</td>\n",
       "      <td>6481.00</td>\n",
       "      <td>4.40</td>\n",
       "      <td>points</td>\n",
       "      <td>Aug/25</td>\n",
       "    </tr>\n",
       "    <tr>\n",
       "      <th>2</th>\n",
       "      <td>GDP Growth Rate</td>\n",
       "      <td>3.00</td>\n",
       "      <td>-0.50</td>\n",
       "      <td>35.20</td>\n",
       "      <td>-28.10</td>\n",
       "      <td>percent</td>\n",
       "      <td>Jun/25</td>\n",
       "    </tr>\n",
       "    <tr>\n",
       "      <th>3</th>\n",
       "      <td>GDP Annual Growth Rate</td>\n",
       "      <td>2.00</td>\n",
       "      <td>2.00</td>\n",
       "      <td>13.40</td>\n",
       "      <td>-7.50</td>\n",
       "      <td>percent</td>\n",
       "      <td>Jun/25</td>\n",
       "    </tr>\n",
       "    <tr>\n",
       "      <th>4</th>\n",
       "      <td>Unemployment Rate</td>\n",
       "      <td>4.20</td>\n",
       "      <td>4.10</td>\n",
       "      <td>14.90</td>\n",
       "      <td>2.50</td>\n",
       "      <td>percent</td>\n",
       "      <td>Jul/25</td>\n",
       "    </tr>\n",
       "    <tr>\n",
       "      <th>5</th>\n",
       "      <td>Non Farm Payrolls</td>\n",
       "      <td>73.00</td>\n",
       "      <td>14.00</td>\n",
       "      <td>4631.00</td>\n",
       "      <td>-20471.00</td>\n",
       "      <td>Thousand</td>\n",
       "      <td>Jul/25</td>\n",
       "    </tr>\n",
       "    <tr>\n",
       "      <th>6</th>\n",
       "      <td>Inflation Rate</td>\n",
       "      <td>2.70</td>\n",
       "      <td>2.70</td>\n",
       "      <td>23.70</td>\n",
       "      <td>-15.80</td>\n",
       "      <td>percent</td>\n",
       "      <td>Jul/25</td>\n",
       "    </tr>\n",
       "    <tr>\n",
       "      <th>7</th>\n",
       "      <td>Inflation Rate MoM</td>\n",
       "      <td>0.20</td>\n",
       "      <td>0.30</td>\n",
       "      <td>2.00</td>\n",
       "      <td>-1.80</td>\n",
       "      <td>percent</td>\n",
       "      <td>Jul/25</td>\n",
       "    </tr>\n",
       "    <tr>\n",
       "      <th>8</th>\n",
       "      <td>Interest Rate</td>\n",
       "      <td>4.50</td>\n",
       "      <td>4.50</td>\n",
       "      <td>20.00</td>\n",
       "      <td>0.25</td>\n",
       "      <td>percent</td>\n",
       "      <td>Jul/25</td>\n",
       "    </tr>\n",
       "    <tr>\n",
       "      <th>9</th>\n",
       "      <td>Balance of Trade</td>\n",
       "      <td>-60.18</td>\n",
       "      <td>-71.66</td>\n",
       "      <td>1.95</td>\n",
       "      <td>-138.00</td>\n",
       "      <td>USD Billion</td>\n",
       "      <td>Jun/25</td>\n",
       "    </tr>\n",
       "    <tr>\n",
       "      <th>10</th>\n",
       "      <td>Current Account</td>\n",
       "      <td>-450.00</td>\n",
       "      <td>-312.00</td>\n",
       "      <td>9.96</td>\n",
       "      <td>-450.00</td>\n",
       "      <td>USD Billion</td>\n",
       "      <td>Mar/25</td>\n",
       "    </tr>\n",
       "    <tr>\n",
       "      <th>11</th>\n",
       "      <td>Current Account to GDP</td>\n",
       "      <td>-3.90</td>\n",
       "      <td>-3.30</td>\n",
       "      <td>0.20</td>\n",
       "      <td>-6.00</td>\n",
       "      <td>percent of GDP</td>\n",
       "      <td>Dec/24</td>\n",
       "    </tr>\n",
       "    <tr>\n",
       "      <th>12</th>\n",
       "      <td>Government Debt to GDP</td>\n",
       "      <td>124.00</td>\n",
       "      <td>122.00</td>\n",
       "      <td>126.00</td>\n",
       "      <td>31.80</td>\n",
       "      <td>percent of GDP</td>\n",
       "      <td>Dec/24</td>\n",
       "    </tr>\n",
       "    <tr>\n",
       "      <th>13</th>\n",
       "      <td>Government Budget</td>\n",
       "      <td>-6.40</td>\n",
       "      <td>-6.20</td>\n",
       "      <td>4.50</td>\n",
       "      <td>-14.70</td>\n",
       "      <td>percent of GDP</td>\n",
       "      <td>Dec/24</td>\n",
       "    </tr>\n",
       "    <tr>\n",
       "      <th>14</th>\n",
       "      <td>Business Confidence</td>\n",
       "      <td>48.00</td>\n",
       "      <td>49.00</td>\n",
       "      <td>77.50</td>\n",
       "      <td>29.40</td>\n",
       "      <td>points</td>\n",
       "      <td>Jul/25</td>\n",
       "    </tr>\n",
       "    <tr>\n",
       "      <th>15</th>\n",
       "      <td>Manufacturing PMI</td>\n",
       "      <td>53.30</td>\n",
       "      <td>49.80</td>\n",
       "      <td>63.40</td>\n",
       "      <td>36.10</td>\n",
       "      <td>points</td>\n",
       "      <td>Aug/25</td>\n",
       "    </tr>\n",
       "    <tr>\n",
       "      <th>16</th>\n",
       "      <td>Non Manufacturing PMI</td>\n",
       "      <td>50.10</td>\n",
       "      <td>50.80</td>\n",
       "      <td>67.60</td>\n",
       "      <td>37.80</td>\n",
       "      <td>points</td>\n",
       "      <td>Jul/25</td>\n",
       "    </tr>\n",
       "    <tr>\n",
       "      <th>17</th>\n",
       "      <td>Services PMI</td>\n",
       "      <td>55.40</td>\n",
       "      <td>55.70</td>\n",
       "      <td>70.40</td>\n",
       "      <td>26.70</td>\n",
       "      <td>points</td>\n",
       "      <td>Aug/25</td>\n",
       "    </tr>\n",
       "    <tr>\n",
       "      <th>18</th>\n",
       "      <td>Consumer Confidence</td>\n",
       "      <td>58.60</td>\n",
       "      <td>61.70</td>\n",
       "      <td>111.00</td>\n",
       "      <td>50.00</td>\n",
       "      <td>points</td>\n",
       "      <td>Aug/25</td>\n",
       "    </tr>\n",
       "    <tr>\n",
       "      <th>19</th>\n",
       "      <td>Retail Sales MoM</td>\n",
       "      <td>0.50</td>\n",
       "      <td>0.90</td>\n",
       "      <td>19.30</td>\n",
       "      <td>-14.40</td>\n",
       "      <td>percent</td>\n",
       "      <td>Jul/25</td>\n",
       "    </tr>\n",
       "    <tr>\n",
       "      <th>20</th>\n",
       "      <td>Building Permits</td>\n",
       "      <td>1354.00</td>\n",
       "      <td>1393.00</td>\n",
       "      <td>2419.00</td>\n",
       "      <td>513.00</td>\n",
       "      <td>Thousand</td>\n",
       "      <td>Jul/25</td>\n",
       "    </tr>\n",
       "    <tr>\n",
       "      <th>21</th>\n",
       "      <td>Corporate Tax Rate</td>\n",
       "      <td>21.00</td>\n",
       "      <td>21.00</td>\n",
       "      <td>52.80</td>\n",
       "      <td>1.00</td>\n",
       "      <td>percent</td>\n",
       "      <td>Dec/25</td>\n",
       "    </tr>\n",
       "    <tr>\n",
       "      <th>22</th>\n",
       "      <td>Personal Income Tax Rate</td>\n",
       "      <td>37.00</td>\n",
       "      <td>37.00</td>\n",
       "      <td>39.60</td>\n",
       "      <td>35.00</td>\n",
       "      <td>percent</td>\n",
       "      <td>Dec/25</td>\n",
       "    </tr>\n",
       "  </tbody>\n",
       "</table>\n",
       "</div>"
      ],
      "text/plain": [
       "                  Unnamed: 0     Last  Previous  Highest    Lowest  \\\n",
       "0                   Currency    97.73     98.62   165.00     70.70   \n",
       "1               Stock Market  6467.00   6370.00  6481.00      4.40   \n",
       "2            GDP Growth Rate     3.00     -0.50    35.20    -28.10   \n",
       "3     GDP Annual Growth Rate     2.00      2.00    13.40     -7.50   \n",
       "4          Unemployment Rate     4.20      4.10    14.90      2.50   \n",
       "5          Non Farm Payrolls    73.00     14.00  4631.00 -20471.00   \n",
       "6             Inflation Rate     2.70      2.70    23.70    -15.80   \n",
       "7         Inflation Rate MoM     0.20      0.30     2.00     -1.80   \n",
       "8              Interest Rate     4.50      4.50    20.00      0.25   \n",
       "9           Balance of Trade   -60.18    -71.66     1.95   -138.00   \n",
       "10           Current Account  -450.00   -312.00     9.96   -450.00   \n",
       "11    Current Account to GDP    -3.90     -3.30     0.20     -6.00   \n",
       "12    Government Debt to GDP   124.00    122.00   126.00     31.80   \n",
       "13         Government Budget    -6.40     -6.20     4.50    -14.70   \n",
       "14       Business Confidence    48.00     49.00    77.50     29.40   \n",
       "15         Manufacturing PMI    53.30     49.80    63.40     36.10   \n",
       "16     Non Manufacturing PMI    50.10     50.80    67.60     37.80   \n",
       "17              Services PMI    55.40     55.70    70.40     26.70   \n",
       "18       Consumer Confidence    58.60     61.70   111.00     50.00   \n",
       "19          Retail Sales MoM     0.50      0.90    19.30    -14.40   \n",
       "20          Building Permits  1354.00   1393.00  2419.00    513.00   \n",
       "21        Corporate Tax Rate    21.00     21.00    52.80      1.00   \n",
       "22  Personal Income Tax Rate    37.00     37.00    39.60     35.00   \n",
       "\n",
       "        Unnamed: 5 Unnamed: 6  \n",
       "0              NaN     Aug/25  \n",
       "1           points     Aug/25  \n",
       "2          percent     Jun/25  \n",
       "3          percent     Jun/25  \n",
       "4          percent     Jul/25  \n",
       "5         Thousand     Jul/25  \n",
       "6          percent     Jul/25  \n",
       "7          percent     Jul/25  \n",
       "8          percent     Jul/25  \n",
       "9      USD Billion     Jun/25  \n",
       "10     USD Billion     Mar/25  \n",
       "11  percent of GDP     Dec/24  \n",
       "12  percent of GDP     Dec/24  \n",
       "13  percent of GDP     Dec/24  \n",
       "14          points     Jul/25  \n",
       "15          points     Aug/25  \n",
       "16          points     Jul/25  \n",
       "17          points     Aug/25  \n",
       "18          points     Aug/25  \n",
       "19         percent     Jul/25  \n",
       "20        Thousand     Jul/25  \n",
       "21         percent     Dec/25  \n",
       "22         percent     Dec/25  "
      ]
     },
     "execution_count": 37,
     "metadata": {},
     "output_type": "execute_result"
    }
   ],
   "source": [
    "macro_data = pd.read_csv('macro_data.csv')\n",
    "macro_data"
   ]
  },
  {
   "cell_type": "markdown",
   "id": "7eceddea",
   "metadata": {},
   "source": [
    "## 🔍 1.8 Financial Reporting - EDGAR (via Yahoo Finance)\n",
    "____"
   ]
  },
  {
   "cell_type": "code",
   "execution_count": 38,
   "id": "d1b657e7",
   "metadata": {},
   "outputs": [],
   "source": [
    "# let's check for NVDA\n",
    "nvda =  yf.Ticker('NVDA')"
   ]
  },
  {
   "cell_type": "code",
   "execution_count": 39,
   "id": "7c385907",
   "metadata": {},
   "outputs": [
    {
     "data": {
      "application/vnd.microsoft.datawrangler.viewer.v0+json": {
       "columns": [
        {
         "name": "index",
         "rawType": "object",
         "type": "string"
        },
        {
         "name": "2025-01-31 00:00:00",
         "rawType": "object",
         "type": "unknown"
        },
        {
         "name": "2024-01-31 00:00:00",
         "rawType": "object",
         "type": "unknown"
        },
        {
         "name": "2023-01-31 00:00:00",
         "rawType": "object",
         "type": "unknown"
        },
        {
         "name": "2022-01-31 00:00:00",
         "rawType": "object",
         "type": "unknown"
        }
       ],
       "ref": "bd75f65c-6d30-40b7-ae0f-7c6f4afa8313",
       "rows": [
        [
         "Tax Effect Of Unusual Items",
         "0.0",
         "0.0",
         "-284130000.0",
         "0.0"
        ],
        [
         "Tax Rate For Calcs",
         "0.133",
         "0.12",
         "0.21",
         "0.019"
        ],
        [
         "Normalized EBITDA",
         "86137000000.0",
         "35583000000.0",
         "7339000000.0",
         "11351000000.0"
        ],
        [
         "Total Unusual Items",
         "0.0",
         "0.0",
         "-1353000000.0",
         "0.0"
        ],
        [
         "Total Unusual Items Excluding Goodwill",
         "0.0",
         "0.0",
         "-1353000000.0",
         "0.0"
        ],
        [
         "Net Income From Continuing Operation Net Minority Interest",
         "72880000000.0",
         "29760000000.0",
         "4368000000.0",
         "9752000000.0"
        ],
        [
         "Reconciled Depreciation",
         "1864000000.0",
         "1508000000.0",
         "1543000000.0",
         "1174000000.0"
        ],
        [
         "Reconciled Cost Of Revenue",
         "32639000000.0",
         "16621000000.0",
         "11618000000.0",
         "9439000000.0"
        ],
        [
         "EBITDA",
         "86137000000.0",
         "35583000000.0",
         "5986000000.0",
         "11351000000.0"
        ],
        [
         "EBIT",
         "84273000000.0",
         "34075000000.0",
         "4443000000.0",
         "10177000000.0"
        ],
        [
         "Net Interest Income",
         "1539000000.0",
         "609000000.0",
         "5000000.0",
         "-207000000.0"
        ],
        [
         "Interest Expense",
         "247000000.0",
         "257000000.0",
         "262000000.0",
         "236000000.0"
        ],
        [
         "Interest Income",
         "1786000000.0",
         "866000000.0",
         "267000000.0",
         "29000000.0"
        ],
        [
         "Normalized Income",
         "72880000000.0",
         "29760000000.0",
         "5436870000.0",
         "9752000000.0"
        ],
        [
         "Net Income From Continuing And Discontinued Operation",
         "72880000000.0",
         "29760000000.0",
         "4368000000.0",
         "9752000000.0"
        ],
        [
         "Total Expenses",
         "49044000000.0",
         "27950000000.0",
         "21397000000.0",
         "16873000000.0"
        ],
        [
         "Total Operating Income As Reported",
         "81453000000.0",
         "32972000000.0",
         "4224000000.0",
         "10041000000.0"
        ],
        [
         "Diluted Average Shares",
         "24804000000.0",
         "24940000000.0",
         "25070000000.0",
         "25350000000.0"
        ],
        [
         "Basic Average Shares",
         "24555000000.0",
         "24690000000.0",
         "24870000000.0",
         "24960000000.0"
        ],
        [
         "Diluted EPS",
         "2.94",
         "1.19",
         "0.174",
         "0.385"
        ],
        [
         "Basic EPS",
         "2.97",
         "1.21",
         "0.176",
         "0.391"
        ],
        [
         "Diluted NI Availto Com Stockholders",
         "72880000000.0",
         "29760000000.0",
         "4368000000.0",
         "9752000000.0"
        ],
        [
         "Net Income Common Stockholders",
         "72880000000.0",
         "29760000000.0",
         "4368000000.0",
         "9752000000.0"
        ],
        [
         "Net Income",
         "72880000000.0",
         "29760000000.0",
         "4368000000.0",
         "9752000000.0"
        ],
        [
         "Net Income Including Noncontrolling Interests",
         "72880000000.0",
         "29760000000.0",
         "4368000000.0",
         "9752000000.0"
        ],
        [
         "Net Income Continuous Operations",
         "72880000000.0",
         "29760000000.0",
         "4368000000.0",
         "9752000000.0"
        ],
        [
         "Tax Provision",
         "11146000000.0",
         "4058000000.0",
         "-187000000.0",
         "189000000.0"
        ],
        [
         "Pretax Income",
         "84026000000.0",
         "33818000000.0",
         "4181000000.0",
         "9941000000.0"
        ],
        [
         "Other Income Expense",
         "1034000000.0",
         "237000000.0",
         "-1401000000.0",
         "107000000.0"
        ],
        [
         "Other Non Operating Income Expenses",
         "1034000000.0",
         "237000000.0",
         "-48000000.0",
         "107000000.0"
        ],
        [
         "Special Income Charges",
         "0.0",
         "0.0",
         "-1353000000.0",
         "0.0"
        ],
        [
         "Restructuring And Mergern Acquisition",
         "0.0",
         "0.0",
         "1353000000.0",
         "0.0"
        ],
        [
         "Net Non Operating Interest Income Expense",
         "1539000000.0",
         "609000000.0",
         "5000000.0",
         "-207000000.0"
        ],
        [
         "Interest Expense Non Operating",
         "247000000.0",
         "257000000.0",
         "262000000.0",
         "236000000.0"
        ],
        [
         "Interest Income Non Operating",
         "1786000000.0",
         "866000000.0",
         "267000000.0",
         "29000000.0"
        ],
        [
         "Operating Income",
         "81453000000.0",
         "32972000000.0",
         "5577000000.0",
         "10041000000.0"
        ],
        [
         "Operating Expense",
         "16405000000.0",
         "11329000000.0",
         "9779000000.0",
         "7434000000.0"
        ],
        [
         "Research And Development",
         "12914000000.0",
         "8675000000.0",
         "7339000000.0",
         "5268000000.0"
        ],
        [
         "Selling General And Administration",
         "3491000000.0",
         "2654000000.0",
         "2440000000.0",
         "2166000000.0"
        ],
        [
         "Gross Profit",
         "97858000000.0",
         "44301000000.0",
         "15356000000.0",
         "17475000000.0"
        ],
        [
         "Cost Of Revenue",
         "32639000000.0",
         "16621000000.0",
         "11618000000.0",
         "9439000000.0"
        ],
        [
         "Total Revenue",
         "130497000000.0",
         "60922000000.0",
         "26974000000.0",
         "26914000000.0"
        ],
        [
         "Operating Revenue",
         "130497000000.0",
         "60922000000.0",
         "26974000000.0",
         "26914000000.0"
        ]
       ],
       "shape": {
        "columns": 4,
        "rows": 43
       }
      },
      "text/html": [
       "<div>\n",
       "<style scoped>\n",
       "    .dataframe tbody tr th:only-of-type {\n",
       "        vertical-align: middle;\n",
       "    }\n",
       "\n",
       "    .dataframe tbody tr th {\n",
       "        vertical-align: top;\n",
       "    }\n",
       "\n",
       "    .dataframe thead th {\n",
       "        text-align: right;\n",
       "    }\n",
       "</style>\n",
       "<table border=\"1\" class=\"dataframe\">\n",
       "  <thead>\n",
       "    <tr style=\"text-align: right;\">\n",
       "      <th></th>\n",
       "      <th>2025-01-31</th>\n",
       "      <th>2024-01-31</th>\n",
       "      <th>2023-01-31</th>\n",
       "      <th>2022-01-31</th>\n",
       "    </tr>\n",
       "  </thead>\n",
       "  <tbody>\n",
       "    <tr>\n",
       "      <th>Tax Effect Of Unusual Items</th>\n",
       "      <td>0.0</td>\n",
       "      <td>0.0</td>\n",
       "      <td>-284130000.0</td>\n",
       "      <td>0.0</td>\n",
       "    </tr>\n",
       "    <tr>\n",
       "      <th>Tax Rate For Calcs</th>\n",
       "      <td>0.133</td>\n",
       "      <td>0.12</td>\n",
       "      <td>0.21</td>\n",
       "      <td>0.019</td>\n",
       "    </tr>\n",
       "    <tr>\n",
       "      <th>Normalized EBITDA</th>\n",
       "      <td>86137000000.0</td>\n",
       "      <td>35583000000.0</td>\n",
       "      <td>7339000000.0</td>\n",
       "      <td>11351000000.0</td>\n",
       "    </tr>\n",
       "    <tr>\n",
       "      <th>Total Unusual Items</th>\n",
       "      <td>0.0</td>\n",
       "      <td>0.0</td>\n",
       "      <td>-1353000000.0</td>\n",
       "      <td>0.0</td>\n",
       "    </tr>\n",
       "    <tr>\n",
       "      <th>Total Unusual Items Excluding Goodwill</th>\n",
       "      <td>0.0</td>\n",
       "      <td>0.0</td>\n",
       "      <td>-1353000000.0</td>\n",
       "      <td>0.0</td>\n",
       "    </tr>\n",
       "    <tr>\n",
       "      <th>Net Income From Continuing Operation Net Minority Interest</th>\n",
       "      <td>72880000000.0</td>\n",
       "      <td>29760000000.0</td>\n",
       "      <td>4368000000.0</td>\n",
       "      <td>9752000000.0</td>\n",
       "    </tr>\n",
       "    <tr>\n",
       "      <th>Reconciled Depreciation</th>\n",
       "      <td>1864000000.0</td>\n",
       "      <td>1508000000.0</td>\n",
       "      <td>1543000000.0</td>\n",
       "      <td>1174000000.0</td>\n",
       "    </tr>\n",
       "    <tr>\n",
       "      <th>Reconciled Cost Of Revenue</th>\n",
       "      <td>32639000000.0</td>\n",
       "      <td>16621000000.0</td>\n",
       "      <td>11618000000.0</td>\n",
       "      <td>9439000000.0</td>\n",
       "    </tr>\n",
       "    <tr>\n",
       "      <th>EBITDA</th>\n",
       "      <td>86137000000.0</td>\n",
       "      <td>35583000000.0</td>\n",
       "      <td>5986000000.0</td>\n",
       "      <td>11351000000.0</td>\n",
       "    </tr>\n",
       "    <tr>\n",
       "      <th>EBIT</th>\n",
       "      <td>84273000000.0</td>\n",
       "      <td>34075000000.0</td>\n",
       "      <td>4443000000.0</td>\n",
       "      <td>10177000000.0</td>\n",
       "    </tr>\n",
       "    <tr>\n",
       "      <th>Net Interest Income</th>\n",
       "      <td>1539000000.0</td>\n",
       "      <td>609000000.0</td>\n",
       "      <td>5000000.0</td>\n",
       "      <td>-207000000.0</td>\n",
       "    </tr>\n",
       "    <tr>\n",
       "      <th>Interest Expense</th>\n",
       "      <td>247000000.0</td>\n",
       "      <td>257000000.0</td>\n",
       "      <td>262000000.0</td>\n",
       "      <td>236000000.0</td>\n",
       "    </tr>\n",
       "    <tr>\n",
       "      <th>Interest Income</th>\n",
       "      <td>1786000000.0</td>\n",
       "      <td>866000000.0</td>\n",
       "      <td>267000000.0</td>\n",
       "      <td>29000000.0</td>\n",
       "    </tr>\n",
       "    <tr>\n",
       "      <th>Normalized Income</th>\n",
       "      <td>72880000000.0</td>\n",
       "      <td>29760000000.0</td>\n",
       "      <td>5436870000.0</td>\n",
       "      <td>9752000000.0</td>\n",
       "    </tr>\n",
       "    <tr>\n",
       "      <th>Net Income From Continuing And Discontinued Operation</th>\n",
       "      <td>72880000000.0</td>\n",
       "      <td>29760000000.0</td>\n",
       "      <td>4368000000.0</td>\n",
       "      <td>9752000000.0</td>\n",
       "    </tr>\n",
       "    <tr>\n",
       "      <th>Total Expenses</th>\n",
       "      <td>49044000000.0</td>\n",
       "      <td>27950000000.0</td>\n",
       "      <td>21397000000.0</td>\n",
       "      <td>16873000000.0</td>\n",
       "    </tr>\n",
       "    <tr>\n",
       "      <th>Total Operating Income As Reported</th>\n",
       "      <td>81453000000.0</td>\n",
       "      <td>32972000000.0</td>\n",
       "      <td>4224000000.0</td>\n",
       "      <td>10041000000.0</td>\n",
       "    </tr>\n",
       "    <tr>\n",
       "      <th>Diluted Average Shares</th>\n",
       "      <td>24804000000.0</td>\n",
       "      <td>24940000000.0</td>\n",
       "      <td>25070000000.0</td>\n",
       "      <td>25350000000.0</td>\n",
       "    </tr>\n",
       "    <tr>\n",
       "      <th>Basic Average Shares</th>\n",
       "      <td>24555000000.0</td>\n",
       "      <td>24690000000.0</td>\n",
       "      <td>24870000000.0</td>\n",
       "      <td>24960000000.0</td>\n",
       "    </tr>\n",
       "    <tr>\n",
       "      <th>Diluted EPS</th>\n",
       "      <td>2.94</td>\n",
       "      <td>1.19</td>\n",
       "      <td>0.174</td>\n",
       "      <td>0.385</td>\n",
       "    </tr>\n",
       "    <tr>\n",
       "      <th>Basic EPS</th>\n",
       "      <td>2.97</td>\n",
       "      <td>1.21</td>\n",
       "      <td>0.176</td>\n",
       "      <td>0.391</td>\n",
       "    </tr>\n",
       "    <tr>\n",
       "      <th>Diluted NI Availto Com Stockholders</th>\n",
       "      <td>72880000000.0</td>\n",
       "      <td>29760000000.0</td>\n",
       "      <td>4368000000.0</td>\n",
       "      <td>9752000000.0</td>\n",
       "    </tr>\n",
       "    <tr>\n",
       "      <th>Net Income Common Stockholders</th>\n",
       "      <td>72880000000.0</td>\n",
       "      <td>29760000000.0</td>\n",
       "      <td>4368000000.0</td>\n",
       "      <td>9752000000.0</td>\n",
       "    </tr>\n",
       "    <tr>\n",
       "      <th>Net Income</th>\n",
       "      <td>72880000000.0</td>\n",
       "      <td>29760000000.0</td>\n",
       "      <td>4368000000.0</td>\n",
       "      <td>9752000000.0</td>\n",
       "    </tr>\n",
       "    <tr>\n",
       "      <th>Net Income Including Noncontrolling Interests</th>\n",
       "      <td>72880000000.0</td>\n",
       "      <td>29760000000.0</td>\n",
       "      <td>4368000000.0</td>\n",
       "      <td>9752000000.0</td>\n",
       "    </tr>\n",
       "    <tr>\n",
       "      <th>Net Income Continuous Operations</th>\n",
       "      <td>72880000000.0</td>\n",
       "      <td>29760000000.0</td>\n",
       "      <td>4368000000.0</td>\n",
       "      <td>9752000000.0</td>\n",
       "    </tr>\n",
       "    <tr>\n",
       "      <th>Tax Provision</th>\n",
       "      <td>11146000000.0</td>\n",
       "      <td>4058000000.0</td>\n",
       "      <td>-187000000.0</td>\n",
       "      <td>189000000.0</td>\n",
       "    </tr>\n",
       "    <tr>\n",
       "      <th>Pretax Income</th>\n",
       "      <td>84026000000.0</td>\n",
       "      <td>33818000000.0</td>\n",
       "      <td>4181000000.0</td>\n",
       "      <td>9941000000.0</td>\n",
       "    </tr>\n",
       "    <tr>\n",
       "      <th>Other Income Expense</th>\n",
       "      <td>1034000000.0</td>\n",
       "      <td>237000000.0</td>\n",
       "      <td>-1401000000.0</td>\n",
       "      <td>107000000.0</td>\n",
       "    </tr>\n",
       "    <tr>\n",
       "      <th>Other Non Operating Income Expenses</th>\n",
       "      <td>1034000000.0</td>\n",
       "      <td>237000000.0</td>\n",
       "      <td>-48000000.0</td>\n",
       "      <td>107000000.0</td>\n",
       "    </tr>\n",
       "    <tr>\n",
       "      <th>Special Income Charges</th>\n",
       "      <td>0.0</td>\n",
       "      <td>0.0</td>\n",
       "      <td>-1353000000.0</td>\n",
       "      <td>0.0</td>\n",
       "    </tr>\n",
       "    <tr>\n",
       "      <th>Restructuring And Mergern Acquisition</th>\n",
       "      <td>0.0</td>\n",
       "      <td>0.0</td>\n",
       "      <td>1353000000.0</td>\n",
       "      <td>0.0</td>\n",
       "    </tr>\n",
       "    <tr>\n",
       "      <th>Net Non Operating Interest Income Expense</th>\n",
       "      <td>1539000000.0</td>\n",
       "      <td>609000000.0</td>\n",
       "      <td>5000000.0</td>\n",
       "      <td>-207000000.0</td>\n",
       "    </tr>\n",
       "    <tr>\n",
       "      <th>Interest Expense Non Operating</th>\n",
       "      <td>247000000.0</td>\n",
       "      <td>257000000.0</td>\n",
       "      <td>262000000.0</td>\n",
       "      <td>236000000.0</td>\n",
       "    </tr>\n",
       "    <tr>\n",
       "      <th>Interest Income Non Operating</th>\n",
       "      <td>1786000000.0</td>\n",
       "      <td>866000000.0</td>\n",
       "      <td>267000000.0</td>\n",
       "      <td>29000000.0</td>\n",
       "    </tr>\n",
       "    <tr>\n",
       "      <th>Operating Income</th>\n",
       "      <td>81453000000.0</td>\n",
       "      <td>32972000000.0</td>\n",
       "      <td>5577000000.0</td>\n",
       "      <td>10041000000.0</td>\n",
       "    </tr>\n",
       "    <tr>\n",
       "      <th>Operating Expense</th>\n",
       "      <td>16405000000.0</td>\n",
       "      <td>11329000000.0</td>\n",
       "      <td>9779000000.0</td>\n",
       "      <td>7434000000.0</td>\n",
       "    </tr>\n",
       "    <tr>\n",
       "      <th>Research And Development</th>\n",
       "      <td>12914000000.0</td>\n",
       "      <td>8675000000.0</td>\n",
       "      <td>7339000000.0</td>\n",
       "      <td>5268000000.0</td>\n",
       "    </tr>\n",
       "    <tr>\n",
       "      <th>Selling General And Administration</th>\n",
       "      <td>3491000000.0</td>\n",
       "      <td>2654000000.0</td>\n",
       "      <td>2440000000.0</td>\n",
       "      <td>2166000000.0</td>\n",
       "    </tr>\n",
       "    <tr>\n",
       "      <th>Gross Profit</th>\n",
       "      <td>97858000000.0</td>\n",
       "      <td>44301000000.0</td>\n",
       "      <td>15356000000.0</td>\n",
       "      <td>17475000000.0</td>\n",
       "    </tr>\n",
       "    <tr>\n",
       "      <th>Cost Of Revenue</th>\n",
       "      <td>32639000000.0</td>\n",
       "      <td>16621000000.0</td>\n",
       "      <td>11618000000.0</td>\n",
       "      <td>9439000000.0</td>\n",
       "    </tr>\n",
       "    <tr>\n",
       "      <th>Total Revenue</th>\n",
       "      <td>130497000000.0</td>\n",
       "      <td>60922000000.0</td>\n",
       "      <td>26974000000.0</td>\n",
       "      <td>26914000000.0</td>\n",
       "    </tr>\n",
       "    <tr>\n",
       "      <th>Operating Revenue</th>\n",
       "      <td>130497000000.0</td>\n",
       "      <td>60922000000.0</td>\n",
       "      <td>26974000000.0</td>\n",
       "      <td>26914000000.0</td>\n",
       "    </tr>\n",
       "  </tbody>\n",
       "</table>\n",
       "</div>"
      ],
      "text/plain": [
       "                                                        2025-01-31  \\\n",
       "Tax Effect Of Unusual Items                                    0.0   \n",
       "Tax Rate For Calcs                                           0.133   \n",
       "Normalized EBITDA                                    86137000000.0   \n",
       "Total Unusual Items                                            0.0   \n",
       "Total Unusual Items Excluding Goodwill                         0.0   \n",
       "Net Income From Continuing Operation Net Minori...   72880000000.0   \n",
       "Reconciled Depreciation                               1864000000.0   \n",
       "Reconciled Cost Of Revenue                           32639000000.0   \n",
       "EBITDA                                               86137000000.0   \n",
       "EBIT                                                 84273000000.0   \n",
       "Net Interest Income                                   1539000000.0   \n",
       "Interest Expense                                       247000000.0   \n",
       "Interest Income                                       1786000000.0   \n",
       "Normalized Income                                    72880000000.0   \n",
       "Net Income From Continuing And Discontinued Ope...   72880000000.0   \n",
       "Total Expenses                                       49044000000.0   \n",
       "Total Operating Income As Reported                   81453000000.0   \n",
       "Diluted Average Shares                               24804000000.0   \n",
       "Basic Average Shares                                 24555000000.0   \n",
       "Diluted EPS                                                   2.94   \n",
       "Basic EPS                                                     2.97   \n",
       "Diluted NI Availto Com Stockholders                  72880000000.0   \n",
       "Net Income Common Stockholders                       72880000000.0   \n",
       "Net Income                                           72880000000.0   \n",
       "Net Income Including Noncontrolling Interests        72880000000.0   \n",
       "Net Income Continuous Operations                     72880000000.0   \n",
       "Tax Provision                                        11146000000.0   \n",
       "Pretax Income                                        84026000000.0   \n",
       "Other Income Expense                                  1034000000.0   \n",
       "Other Non Operating Income Expenses                   1034000000.0   \n",
       "Special Income Charges                                         0.0   \n",
       "Restructuring And Mergern Acquisition                          0.0   \n",
       "Net Non Operating Interest Income Expense             1539000000.0   \n",
       "Interest Expense Non Operating                         247000000.0   \n",
       "Interest Income Non Operating                         1786000000.0   \n",
       "Operating Income                                     81453000000.0   \n",
       "Operating Expense                                    16405000000.0   \n",
       "Research And Development                             12914000000.0   \n",
       "Selling General And Administration                    3491000000.0   \n",
       "Gross Profit                                         97858000000.0   \n",
       "Cost Of Revenue                                      32639000000.0   \n",
       "Total Revenue                                       130497000000.0   \n",
       "Operating Revenue                                   130497000000.0   \n",
       "\n",
       "                                                       2024-01-31  \\\n",
       "Tax Effect Of Unusual Items                                   0.0   \n",
       "Tax Rate For Calcs                                           0.12   \n",
       "Normalized EBITDA                                   35583000000.0   \n",
       "Total Unusual Items                                           0.0   \n",
       "Total Unusual Items Excluding Goodwill                        0.0   \n",
       "Net Income From Continuing Operation Net Minori...  29760000000.0   \n",
       "Reconciled Depreciation                              1508000000.0   \n",
       "Reconciled Cost Of Revenue                          16621000000.0   \n",
       "EBITDA                                              35583000000.0   \n",
       "EBIT                                                34075000000.0   \n",
       "Net Interest Income                                   609000000.0   \n",
       "Interest Expense                                      257000000.0   \n",
       "Interest Income                                       866000000.0   \n",
       "Normalized Income                                   29760000000.0   \n",
       "Net Income From Continuing And Discontinued Ope...  29760000000.0   \n",
       "Total Expenses                                      27950000000.0   \n",
       "Total Operating Income As Reported                  32972000000.0   \n",
       "Diluted Average Shares                              24940000000.0   \n",
       "Basic Average Shares                                24690000000.0   \n",
       "Diluted EPS                                                  1.19   \n",
       "Basic EPS                                                    1.21   \n",
       "Diluted NI Availto Com Stockholders                 29760000000.0   \n",
       "Net Income Common Stockholders                      29760000000.0   \n",
       "Net Income                                          29760000000.0   \n",
       "Net Income Including Noncontrolling Interests       29760000000.0   \n",
       "Net Income Continuous Operations                    29760000000.0   \n",
       "Tax Provision                                        4058000000.0   \n",
       "Pretax Income                                       33818000000.0   \n",
       "Other Income Expense                                  237000000.0   \n",
       "Other Non Operating Income Expenses                   237000000.0   \n",
       "Special Income Charges                                        0.0   \n",
       "Restructuring And Mergern Acquisition                         0.0   \n",
       "Net Non Operating Interest Income Expense             609000000.0   \n",
       "Interest Expense Non Operating                        257000000.0   \n",
       "Interest Income Non Operating                         866000000.0   \n",
       "Operating Income                                    32972000000.0   \n",
       "Operating Expense                                   11329000000.0   \n",
       "Research And Development                             8675000000.0   \n",
       "Selling General And Administration                   2654000000.0   \n",
       "Gross Profit                                        44301000000.0   \n",
       "Cost Of Revenue                                     16621000000.0   \n",
       "Total Revenue                                       60922000000.0   \n",
       "Operating Revenue                                   60922000000.0   \n",
       "\n",
       "                                                       2023-01-31  \\\n",
       "Tax Effect Of Unusual Items                          -284130000.0   \n",
       "Tax Rate For Calcs                                           0.21   \n",
       "Normalized EBITDA                                    7339000000.0   \n",
       "Total Unusual Items                                 -1353000000.0   \n",
       "Total Unusual Items Excluding Goodwill              -1353000000.0   \n",
       "Net Income From Continuing Operation Net Minori...   4368000000.0   \n",
       "Reconciled Depreciation                              1543000000.0   \n",
       "Reconciled Cost Of Revenue                          11618000000.0   \n",
       "EBITDA                                               5986000000.0   \n",
       "EBIT                                                 4443000000.0   \n",
       "Net Interest Income                                     5000000.0   \n",
       "Interest Expense                                      262000000.0   \n",
       "Interest Income                                       267000000.0   \n",
       "Normalized Income                                    5436870000.0   \n",
       "Net Income From Continuing And Discontinued Ope...   4368000000.0   \n",
       "Total Expenses                                      21397000000.0   \n",
       "Total Operating Income As Reported                   4224000000.0   \n",
       "Diluted Average Shares                              25070000000.0   \n",
       "Basic Average Shares                                24870000000.0   \n",
       "Diluted EPS                                                 0.174   \n",
       "Basic EPS                                                   0.176   \n",
       "Diluted NI Availto Com Stockholders                  4368000000.0   \n",
       "Net Income Common Stockholders                       4368000000.0   \n",
       "Net Income                                           4368000000.0   \n",
       "Net Income Including Noncontrolling Interests        4368000000.0   \n",
       "Net Income Continuous Operations                     4368000000.0   \n",
       "Tax Provision                                        -187000000.0   \n",
       "Pretax Income                                        4181000000.0   \n",
       "Other Income Expense                                -1401000000.0   \n",
       "Other Non Operating Income Expenses                   -48000000.0   \n",
       "Special Income Charges                              -1353000000.0   \n",
       "Restructuring And Mergern Acquisition                1353000000.0   \n",
       "Net Non Operating Interest Income Expense               5000000.0   \n",
       "Interest Expense Non Operating                        262000000.0   \n",
       "Interest Income Non Operating                         267000000.0   \n",
       "Operating Income                                     5577000000.0   \n",
       "Operating Expense                                    9779000000.0   \n",
       "Research And Development                             7339000000.0   \n",
       "Selling General And Administration                   2440000000.0   \n",
       "Gross Profit                                        15356000000.0   \n",
       "Cost Of Revenue                                     11618000000.0   \n",
       "Total Revenue                                       26974000000.0   \n",
       "Operating Revenue                                   26974000000.0   \n",
       "\n",
       "                                                       2022-01-31  \n",
       "Tax Effect Of Unusual Items                                   0.0  \n",
       "Tax Rate For Calcs                                          0.019  \n",
       "Normalized EBITDA                                   11351000000.0  \n",
       "Total Unusual Items                                           0.0  \n",
       "Total Unusual Items Excluding Goodwill                        0.0  \n",
       "Net Income From Continuing Operation Net Minori...   9752000000.0  \n",
       "Reconciled Depreciation                              1174000000.0  \n",
       "Reconciled Cost Of Revenue                           9439000000.0  \n",
       "EBITDA                                              11351000000.0  \n",
       "EBIT                                                10177000000.0  \n",
       "Net Interest Income                                  -207000000.0  \n",
       "Interest Expense                                      236000000.0  \n",
       "Interest Income                                        29000000.0  \n",
       "Normalized Income                                    9752000000.0  \n",
       "Net Income From Continuing And Discontinued Ope...   9752000000.0  \n",
       "Total Expenses                                      16873000000.0  \n",
       "Total Operating Income As Reported                  10041000000.0  \n",
       "Diluted Average Shares                              25350000000.0  \n",
       "Basic Average Shares                                24960000000.0  \n",
       "Diluted EPS                                                 0.385  \n",
       "Basic EPS                                                   0.391  \n",
       "Diluted NI Availto Com Stockholders                  9752000000.0  \n",
       "Net Income Common Stockholders                       9752000000.0  \n",
       "Net Income                                           9752000000.0  \n",
       "Net Income Including Noncontrolling Interests        9752000000.0  \n",
       "Net Income Continuous Operations                     9752000000.0  \n",
       "Tax Provision                                         189000000.0  \n",
       "Pretax Income                                        9941000000.0  \n",
       "Other Income Expense                                  107000000.0  \n",
       "Other Non Operating Income Expenses                   107000000.0  \n",
       "Special Income Charges                                        0.0  \n",
       "Restructuring And Mergern Acquisition                         0.0  \n",
       "Net Non Operating Interest Income Expense            -207000000.0  \n",
       "Interest Expense Non Operating                        236000000.0  \n",
       "Interest Income Non Operating                          29000000.0  \n",
       "Operating Income                                    10041000000.0  \n",
       "Operating Expense                                    7434000000.0  \n",
       "Research And Development                             5268000000.0  \n",
       "Selling General And Administration                   2166000000.0  \n",
       "Gross Profit                                        17475000000.0  \n",
       "Cost Of Revenue                                      9439000000.0  \n",
       "Total Revenue                                       26914000000.0  \n",
       "Operating Revenue                                   26914000000.0  "
      ]
     },
     "execution_count": 39,
     "metadata": {},
     "output_type": "execute_result"
    }
   ],
   "source": [
    "# yearly financials for the last 4 years\n",
    "nvda.financials\n"
   ]
  },
  {
   "cell_type": "code",
   "execution_count": 73,
   "id": "9f9fa636",
   "metadata": {},
   "outputs": [
    {
     "data": {
      "application/vnd.microsoft.datawrangler.viewer.v0+json": {
       "columns": [
        {
         "name": "index",
         "rawType": "object",
         "type": "string"
        },
        {
         "name": "2025-01-31 00:00:00",
         "rawType": "object",
         "type": "unknown"
        },
        {
         "name": "2024-01-31 00:00:00",
         "rawType": "object",
         "type": "unknown"
        },
        {
         "name": "2023-01-31 00:00:00",
         "rawType": "object",
         "type": "unknown"
        },
        {
         "name": "2022-01-31 00:00:00",
         "rawType": "object",
         "type": "unknown"
        },
        {
         "name": "2021-01-31 00:00:00",
         "rawType": "object",
         "type": "unknown"
        }
       ],
       "ref": "38c0caab-b21d-4479-9feb-6e4f6d268a6f",
       "rows": [
        [
         "Treasury Shares Number",
         null,
         null,
         null,
         null,
         "13800000000.0"
        ],
        [
         "Ordinary Shares Number",
         "24477000000.0",
         "24640000000.0",
         "24661365720.0",
         "25060000000.0",
         null
        ],
        [
         "Share Issued",
         "24477000000.0",
         "24640000000.0",
         "24661365720.0",
         "25060000000.0",
         null
        ],
        [
         "Net Debt",
         null,
         "2429000000.0",
         "7564000000.0",
         "8956000000.0",
         "6116000000.0"
        ],
        [
         "Total Debt",
         "10270000000.0",
         "11056000000.0",
         "12031000000.0",
         "11831000000.0",
         null
        ],
        [
         "Tangible Book Value",
         "73332000000.0",
         "37436000000.0",
         "16053000000.0",
         "19924000000.0",
         null
        ],
        [
         "Invested Capital",
         "87790000000.0",
         "52687000000.0",
         "33054000000.0",
         "37558000000.0",
         null
        ],
        [
         "Working Capital",
         "62079000000.0",
         "33714000000.0",
         "16510000000.0",
         "24494000000.0",
         null
        ],
        [
         "Net Tangible Assets",
         "73332000000.0",
         "37436000000.0",
         "16053000000.0",
         "19924000000.0",
         null
        ],
        [
         "Capital Lease Obligations",
         "1807000000.0",
         "1347000000.0",
         "1078000000.0",
         "885000000.0",
         null
        ],
        [
         "Common Stock Equity",
         "79327000000.0",
         "42978000000.0",
         "22101000000.0",
         "26612000000.0",
         null
        ],
        [
         "Total Capitalization",
         "87790000000.0",
         "51437000000.0",
         "31804000000.0",
         "37558000000.0",
         null
        ],
        [
         "Total Equity Gross Minority Interest",
         "79327000000.0",
         "42978000000.0",
         "22101000000.0",
         "26612000000.0",
         null
        ],
        [
         "Stockholders Equity",
         "79327000000.0",
         "42978000000.0",
         "22101000000.0",
         "26612000000.0",
         null
        ],
        [
         "Gains Losses Not Affecting Retained Earnings",
         "28000000.0",
         "27000000.0",
         "-43000000.0",
         "-11000000.0",
         null
        ],
        [
         "Other Equity Adjustments",
         "28000000.0",
         "27000000.0",
         "-43000000.0",
         "-11000000.0",
         null
        ],
        [
         "Treasury Stock",
         null,
         null,
         null,
         "0.0",
         "10756000000.0"
        ],
        [
         "Retained Earnings",
         "68038000000.0",
         "29817000000.0",
         "10171000000.0",
         "16235000000.0",
         null
        ],
        [
         "Additional Paid In Capital",
         "11237000000.0",
         "13109000000.0",
         "11971000000.0",
         "10385000000.0",
         null
        ],
        [
         "Capital Stock",
         "24000000.0",
         "25000000.0",
         "2000000.0",
         "3000000.0",
         null
        ],
        [
         "Common Stock",
         "24000000.0",
         "25000000.0",
         "2000000.0",
         "3000000.0",
         null
        ],
        [
         "Preferred Stock",
         "0.0",
         "0.0",
         "0.0",
         "0.0",
         null
        ],
        [
         "Total Liabilities Net Minority Interest",
         "32274000000.0",
         "22750000000.0",
         "19081000000.0",
         "17575000000.0",
         null
        ],
        [
         "Total Non Current Liabilities Net Minority Interest",
         "14227000000.0",
         "12119000000.0",
         "12518000000.0",
         "13240000000.0",
         null
        ],
        [
         "Other Non Current Liabilities",
         "79000000.0",
         "65000000.0",
         "63000000.0",
         "49000000.0",
         null
        ],
        [
         "Employee Benefits",
         null,
         null,
         null,
         null,
         "33000000.0"
        ],
        [
         "Tradeand Other Payables Non Current",
         "2304000000.0",
         "1441000000.0",
         "1385000000.0",
         "1057000000.0",
         null
        ],
        [
         "Non Current Deferred Liabilities",
         "1862000000.0",
         "1035000000.0",
         "465000000.0",
         "447000000.0",
         null
        ],
        [
         "Non Current Deferred Revenue",
         "976000000.0",
         "573000000.0",
         "218000000.0",
         "202000000.0",
         null
        ],
        [
         "Non Current Deferred Taxes Liabilities",
         "886000000.0",
         "462000000.0",
         "247000000.0",
         "245000000.0",
         null
        ],
        [
         "Long Term Debt And Capital Lease Obligation",
         "9982000000.0",
         "9578000000.0",
         "10605000000.0",
         "11687000000.0",
         null
        ],
        [
         "Long Term Capital Lease Obligation",
         "1519000000.0",
         "1119000000.0",
         "902000000.0",
         "741000000.0",
         null
        ],
        [
         "Long Term Debt",
         "8463000000.0",
         "8459000000.0",
         "9703000000.0",
         "10946000000.0",
         null
        ],
        [
         "Current Liabilities",
         "18047000000.0",
         "10631000000.0",
         "6563000000.0",
         "4335000000.0",
         null
        ],
        [
         "Other Current Liabilities",
         "228000000.0",
         "199000000.0",
         "69000000.0",
         "371000000.0",
         null
        ],
        [
         "Current Deferred Liabilities",
         "837000000.0",
         "764000000.0",
         "354000000.0",
         "300000000.0",
         null
        ],
        [
         "Current Deferred Revenue",
         "837000000.0",
         "764000000.0",
         "354000000.0",
         "300000000.0",
         null
        ],
        [
         "Current Debt And Capital Lease Obligation",
         "288000000.0",
         "1478000000.0",
         "1426000000.0",
         "144000000.0",
         null
        ],
        [
         "Current Capital Lease Obligation",
         "288000000.0",
         "228000000.0",
         "176000000.0",
         "144000000.0",
         null
        ],
        [
         "Current Debt",
         null,
         "1250000000.0",
         "1250000000.0",
         null,
         "999000000.0"
        ],
        [
         "Other Current Borrowings",
         null,
         "1250000000.0",
         "1250000000.0",
         null,
         "999000000.0"
        ],
        [
         "Current Provisions",
         "1373000000.0",
         "415000000.0",
         "108000000.0",
         null,
         null
        ],
        [
         "Payables And Accrued Expenses",
         "15321000000.0",
         "7775000000.0",
         "4606000000.0",
         "3520000000.0",
         null
        ],
        [
         "Current Accrued Expenses",
         "8130000000.0",
         "4780000000.0",
         "2946000000.0",
         "1605000000.0",
         null
        ],
        [
         "Interest Payable",
         null,
         null,
         null,
         null,
         "74000000.0"
        ],
        [
         "Payables",
         "7191000000.0",
         "2995000000.0",
         "1660000000.0",
         "1915000000.0",
         null
        ],
        [
         "Total Tax Payable",
         "881000000.0",
         "296000000.0",
         "467000000.0",
         "132000000.0",
         null
        ],
        [
         "Accounts Payable",
         "6310000000.0",
         "2699000000.0",
         "1193000000.0",
         "1783000000.0",
         null
        ],
        [
         "Total Assets",
         "111601000000.0",
         "65728000000.0",
         "41182000000.0",
         "44187000000.0",
         null
        ],
        [
         "Total Non Current Assets",
         "31475000000.0",
         "21383000000.0",
         "18109000000.0",
         "15358000000.0",
         null
        ]
       ],
       "shape": {
        "columns": 5,
        "rows": 86
       }
      },
      "text/html": [
       "<div>\n",
       "<style scoped>\n",
       "    .dataframe tbody tr th:only-of-type {\n",
       "        vertical-align: middle;\n",
       "    }\n",
       "\n",
       "    .dataframe tbody tr th {\n",
       "        vertical-align: top;\n",
       "    }\n",
       "\n",
       "    .dataframe thead th {\n",
       "        text-align: right;\n",
       "    }\n",
       "</style>\n",
       "<table border=\"1\" class=\"dataframe\">\n",
       "  <thead>\n",
       "    <tr style=\"text-align: right;\">\n",
       "      <th></th>\n",
       "      <th>2025-01-31</th>\n",
       "      <th>2024-01-31</th>\n",
       "      <th>2023-01-31</th>\n",
       "      <th>2022-01-31</th>\n",
       "      <th>2021-01-31</th>\n",
       "    </tr>\n",
       "  </thead>\n",
       "  <tbody>\n",
       "    <tr>\n",
       "      <th>Treasury Shares Number</th>\n",
       "      <td>NaN</td>\n",
       "      <td>NaN</td>\n",
       "      <td>NaN</td>\n",
       "      <td>NaN</td>\n",
       "      <td>13800000000.0</td>\n",
       "    </tr>\n",
       "    <tr>\n",
       "      <th>Ordinary Shares Number</th>\n",
       "      <td>24477000000.0</td>\n",
       "      <td>24640000000.0</td>\n",
       "      <td>24661365720.0</td>\n",
       "      <td>25060000000.0</td>\n",
       "      <td>NaN</td>\n",
       "    </tr>\n",
       "    <tr>\n",
       "      <th>Share Issued</th>\n",
       "      <td>24477000000.0</td>\n",
       "      <td>24640000000.0</td>\n",
       "      <td>24661365720.0</td>\n",
       "      <td>25060000000.0</td>\n",
       "      <td>NaN</td>\n",
       "    </tr>\n",
       "    <tr>\n",
       "      <th>Net Debt</th>\n",
       "      <td>NaN</td>\n",
       "      <td>2429000000.0</td>\n",
       "      <td>7564000000.0</td>\n",
       "      <td>8956000000.0</td>\n",
       "      <td>6116000000.0</td>\n",
       "    </tr>\n",
       "    <tr>\n",
       "      <th>Total Debt</th>\n",
       "      <td>10270000000.0</td>\n",
       "      <td>11056000000.0</td>\n",
       "      <td>12031000000.0</td>\n",
       "      <td>11831000000.0</td>\n",
       "      <td>NaN</td>\n",
       "    </tr>\n",
       "    <tr>\n",
       "      <th>...</th>\n",
       "      <td>...</td>\n",
       "      <td>...</td>\n",
       "      <td>...</td>\n",
       "      <td>...</td>\n",
       "      <td>...</td>\n",
       "    </tr>\n",
       "    <tr>\n",
       "      <th>Allowance For Doubtful Accounts Receivable</th>\n",
       "      <td>NaN</td>\n",
       "      <td>NaN</td>\n",
       "      <td>NaN</td>\n",
       "      <td>NaN</td>\n",
       "      <td>-21000000.0</td>\n",
       "    </tr>\n",
       "    <tr>\n",
       "      <th>Gross Accounts Receivable</th>\n",
       "      <td>NaN</td>\n",
       "      <td>NaN</td>\n",
       "      <td>NaN</td>\n",
       "      <td>NaN</td>\n",
       "      <td>2450000000.0</td>\n",
       "    </tr>\n",
       "    <tr>\n",
       "      <th>Cash Cash Equivalents And Short Term Investments</th>\n",
       "      <td>43210000000.0</td>\n",
       "      <td>25984000000.0</td>\n",
       "      <td>13296000000.0</td>\n",
       "      <td>21208000000.0</td>\n",
       "      <td>NaN</td>\n",
       "    </tr>\n",
       "    <tr>\n",
       "      <th>Other Short Term Investments</th>\n",
       "      <td>34621000000.0</td>\n",
       "      <td>18704000000.0</td>\n",
       "      <td>9907000000.0</td>\n",
       "      <td>19218000000.0</td>\n",
       "      <td>NaN</td>\n",
       "    </tr>\n",
       "    <tr>\n",
       "      <th>Cash And Cash Equivalents</th>\n",
       "      <td>8589000000.0</td>\n",
       "      <td>7280000000.0</td>\n",
       "      <td>3389000000.0</td>\n",
       "      <td>1990000000.0</td>\n",
       "      <td>NaN</td>\n",
       "    </tr>\n",
       "  </tbody>\n",
       "</table>\n",
       "<p>86 rows × 5 columns</p>\n",
       "</div>"
      ],
      "text/plain": [
       "                                                     2025-01-31  \\\n",
       "Treasury Shares Number                                      NaN   \n",
       "Ordinary Shares Number                            24477000000.0   \n",
       "Share Issued                                      24477000000.0   \n",
       "Net Debt                                                    NaN   \n",
       "Total Debt                                        10270000000.0   \n",
       "...                                                         ...   \n",
       "Allowance For Doubtful Accounts Receivable                  NaN   \n",
       "Gross Accounts Receivable                                   NaN   \n",
       "Cash Cash Equivalents And Short Term Investments  43210000000.0   \n",
       "Other Short Term Investments                      34621000000.0   \n",
       "Cash And Cash Equivalents                          8589000000.0   \n",
       "\n",
       "                                                     2024-01-31  \\\n",
       "Treasury Shares Number                                      NaN   \n",
       "Ordinary Shares Number                            24640000000.0   \n",
       "Share Issued                                      24640000000.0   \n",
       "Net Debt                                           2429000000.0   \n",
       "Total Debt                                        11056000000.0   \n",
       "...                                                         ...   \n",
       "Allowance For Doubtful Accounts Receivable                  NaN   \n",
       "Gross Accounts Receivable                                   NaN   \n",
       "Cash Cash Equivalents And Short Term Investments  25984000000.0   \n",
       "Other Short Term Investments                      18704000000.0   \n",
       "Cash And Cash Equivalents                          7280000000.0   \n",
       "\n",
       "                                                     2023-01-31  \\\n",
       "Treasury Shares Number                                      NaN   \n",
       "Ordinary Shares Number                            24661365720.0   \n",
       "Share Issued                                      24661365720.0   \n",
       "Net Debt                                           7564000000.0   \n",
       "Total Debt                                        12031000000.0   \n",
       "...                                                         ...   \n",
       "Allowance For Doubtful Accounts Receivable                  NaN   \n",
       "Gross Accounts Receivable                                   NaN   \n",
       "Cash Cash Equivalents And Short Term Investments  13296000000.0   \n",
       "Other Short Term Investments                       9907000000.0   \n",
       "Cash And Cash Equivalents                          3389000000.0   \n",
       "\n",
       "                                                     2022-01-31     2021-01-31  \n",
       "Treasury Shares Number                                      NaN  13800000000.0  \n",
       "Ordinary Shares Number                            25060000000.0            NaN  \n",
       "Share Issued                                      25060000000.0            NaN  \n",
       "Net Debt                                           8956000000.0   6116000000.0  \n",
       "Total Debt                                        11831000000.0            NaN  \n",
       "...                                                         ...            ...  \n",
       "Allowance For Doubtful Accounts Receivable                  NaN    -21000000.0  \n",
       "Gross Accounts Receivable                                   NaN   2450000000.0  \n",
       "Cash Cash Equivalents And Short Term Investments  21208000000.0            NaN  \n",
       "Other Short Term Investments                      19218000000.0            NaN  \n",
       "Cash And Cash Equivalents                          1990000000.0            NaN  \n",
       "\n",
       "[86 rows x 5 columns]"
      ]
     },
     "execution_count": 73,
     "metadata": {},
     "output_type": "execute_result"
    }
   ],
   "source": [
    "# balance sheet\n",
    "nvda.balance_sheet"
   ]
  },
  {
   "cell_type": "markdown",
   "id": "dd62e875",
   "metadata": {},
   "source": [
    "# 📊 2.0 DATA SUMMARY & VALIDATION\n",
    "---\n",
    "\n",
    "Comprehensive overview of all collected financial data with validation checks and quality assessment."
   ]
  },
  {
   "cell_type": "code",
   "execution_count": 51,
   "id": "8b7b65ed",
   "metadata": {},
   "outputs": [
    {
     "name": "stdout",
     "output_type": "stream",
     "text": [
      "📋 FINANCIAL DATA SUMMARY\n",
      "==================================================\n",
      "       Dataset                 Variable               Shape                                             Date Range  Missing Values Memory Usage   Status\n",
      " GDP Potential                   gdppot   280 rows × 3 cols                                               0 to 279               4      22.8 KB ✅ Loaded\n",
      "      Core CPI                   df_cpi   823 rows × 4 cols             1957-01-01 00:00:00 to 2025-07-01 00:00:00              14      32.1 KB ✅ Loaded\n",
      "Fed Funds Rate                 fedfunds   839 rows × 1 cols             1955-09-01 00:00:00 to 2025-07-01 00:00:00               0      13.1 KB ✅ Loaded\n",
      " S&P 500 Index                spx_index 17617 rows × 8 cols             1955-08-24 00:00:00 to 2025-08-22 00:00:00             316    1238.7 KB ✅ Loaded\n",
      "     DAX Index                dax_daily  9520 rows × 9 cols 1987-12-30 00:00:00+01:00 to 2025-08-22 00:00:00+02:00             504    1859.4 KB ✅ Loaded\n",
      " S&P 500 Daily snp500_daily_non_delayed 17617 rows × 7 cols 1955-08-24 00:00:00-04:00 to 2025-08-22 00:00:00-04:00               0    3165.6 KB ✅ Loaded\n",
      "    Macro Data               macro_data    23 rows × 7 cols                                                0 to 22               1       5.4 KB ✅ Loaded\n",
      "\n",
      "\n",
      "🔍 DATA QUALITY VALIDATION\n",
      "==================================================\n",
      "✅ All data quality checks passed!\n",
      "\n",
      "📊 Total datasets processed: 7\n",
      "❌ Missing datasets: 0\n",
      "⚠️  Quality issues: 0\n"
     ]
    }
   ],
   "source": [
    "def create_data_summary():\n",
    "    \"\"\"\n",
    "    Create a comprehensive summary of all collected financial data.\n",
    "    \"\"\"\n",
    "    # Dictionary to store all datasets\n",
    "    datasets = {}\n",
    "    \n",
    "    # Try to load each dataset\n",
    "    dataset_info = [\n",
    "        ('GDP Potential', 'gdppot', gdppot if 'gdppot' in globals() else None),\n",
    "        ('Core CPI', 'df_cpi', df_cpi if 'df_cpi' in globals() else None),\n",
    "        ('Fed Funds Rate', 'fedfunds', fedfunds if 'fedfunds' in globals() else None),\n",
    "        ('S&P 500 Index', 'spx_index', spx_index if 'spx_index' in globals() else None),\n",
    "        ('DAX Index', 'dax_daily', dax_daily if 'dax_daily' in globals() else None),\n",
    "        ('S&P 500 Daily', 'snp500_daily_non_delayed', snp500_daily_non_delayed if 'snp500_daily_non_delayed' in globals() else None),\n",
    "        ('Macro Data', 'macro_data', macro_data if 'macro_data' in globals() else None)\n",
    "    ]\n",
    "    \n",
    "    summary_data = []\n",
    "    \n",
    "    for name, var_name, data in dataset_info:\n",
    "        if data is not None and not data.empty:\n",
    "            summary_data.append({\n",
    "                'Dataset': name,\n",
    "                'Variable': var_name,\n",
    "                'Shape': f\"{data.shape[0]} rows × {data.shape[1]} cols\",\n",
    "                'Date Range': f\"{data.index.min()} to {data.index.max()}\" if hasattr(data.index, 'min') else \"Non-datetime index\",\n",
    "                'Missing Values': data.isnull().sum().sum(),\n",
    "                'Memory Usage': f\"{data.memory_usage(deep=True).sum() / 1024:.1f} KB\",\n",
    "                'Status': '✅ Loaded'\n",
    "            })\n",
    "        else:\n",
    "            summary_data.append({\n",
    "                'Dataset': name,\n",
    "                'Variable': var_name,\n",
    "                'Shape': 'N/A',\n",
    "                'Date Range': 'N/A',\n",
    "                'Missing Values': 'N/A',\n",
    "                'Memory Usage': 'N/A',\n",
    "                'Status': '❌ Missing'\n",
    "            })\n",
    "    \n",
    "    summary_df = pd.DataFrame(summary_data)\n",
    "    return summary_df\n",
    "\n",
    "def validate_data_quality():\n",
    "    \"\"\"\n",
    "    Perform data quality checks on all datasets.\n",
    "    \"\"\"\n",
    "    print(\"🔍 DATA QUALITY VALIDATION\")\n",
    "    print(\"=\" * 50)\n",
    "    \n",
    "    # Check for common data quality issues\n",
    "    quality_issues = []\n",
    "    \n",
    "    # Check GDP data\n",
    "    if 'gdppot' in globals() and gdppot is not None:\n",
    "        if gdppot['GDPPOT'].isnull().any():\n",
    "            quality_issues.append(\"⚠️  GDP data contains missing values\")\n",
    "        if (gdppot['GDPPOT'] <= 0).any():\n",
    "            quality_issues.append(\"⚠️  GDP data contains non-positive values\")\n",
    "    \n",
    "    # Check CPI data\n",
    "    if 'df_cpi' in globals() and df_cpi is not None:\n",
    "        if df_cpi['core_cpi_index'].isnull().any():\n",
    "            quality_issues.append(\"⚠️  CPI data contains missing values\")\n",
    "    \n",
    "    # Check for data gaps\n",
    "    datasets_to_check = [\n",
    "        ('GDP', gdppot if 'gdppot' in globals() else None),\n",
    "        ('CPI', df_cpi if 'df_cpi' in globals() else None),\n",
    "        ('Fed Funds', fedfunds if 'fedfunds' in globals() else None)\n",
    "    ]\n",
    "    \n",
    "    for name, data in datasets_to_check:\n",
    "        if data is not None and hasattr(data.index, 'freq'):\n",
    "            expected_freq = pd.infer_freq(data.index)\n",
    "            if expected_freq is None:\n",
    "                quality_issues.append(f\"⚠️  {name} data has irregular frequency\")\n",
    "    \n",
    "    if not quality_issues:\n",
    "        print(\"✅ All data quality checks passed!\")\n",
    "    else:\n",
    "        print(\"❌ Data quality issues found:\")\n",
    "        for issue in quality_issues:\n",
    "            print(f\"   {issue}\")\n",
    "    \n",
    "    return quality_issues\n",
    "\n",
    "# Generate data summary\n",
    "print(\"📋 FINANCIAL DATA SUMMARY\")\n",
    "print(\"=\" * 50)\n",
    "data_summary = create_data_summary()\n",
    "print(data_summary.to_string(index=False))\n",
    "\n",
    "print(\"\\n\")\n",
    "# Validate data quality\n",
    "validation_results = validate_data_quality()\n",
    "\n",
    "print(f\"\\n📊 Total datasets processed: {len([d for d in data_summary['Status'] if '✅' in d])}\")\n",
    "print(f\"❌ Missing datasets: {len([d for d in data_summary['Status'] if '❌' in d])}\")\n",
    "print(f\"⚠️  Quality issues: {len(validation_results)}\")"
   ]
  },
  {
   "cell_type": "markdown",
   "id": "d57f36d0",
   "metadata": {},
   "source": [
    "# 🎯 3.0 NEXT STEPS & ANALYSIS RECOMMENDATIONS\n",
    "---\n",
    "\n",
    "Based on the data collected, here are recommended analysis directions for subsequent notebooks in this financial data analysis pipeline."
   ]
  },
  {
   "cell_type": "code",
   "execution_count": 53,
   "id": "eeb8213e",
   "metadata": {},
   "outputs": [
    {
     "name": "stdout",
     "output_type": "stream",
     "text": [
      "🎯 RECOMMENDED ANALYSIS DIRECTIONS\n",
      "============================================================\n",
      "\n",
      "📈 Correlation Analysis\n",
      "--------------------\n",
      "  1. Analyze correlation between GDP growth and stock market performance\n",
      "  2. Examine relationship between inflation rates and Fed funds rate changes\n",
      "  3. Study correlation between DAX and S&P 500 performance\n",
      "\n",
      "📊 Time Series Analysis\n",
      "--------------------\n",
      "  1. Perform seasonal decomposition of economic indicators\n",
      "  2. Implement ARIMA modeling for inflation forecasting\n",
      "  3. Analyze volatility clustering in stock returns using GARCH models\n",
      "\n",
      "🔍 Regime Analysis\n",
      "---------------\n",
      "  1. Identify economic regimes (recession, expansion, recovery)\n",
      "  2. Analyze asset performance across different economic cycles\n",
      "  3. Study Fed policy impact on market regimes\n",
      "\n",
      "💼 Portfolio Analysis\n",
      "------------------\n",
      "  1. Construct efficient frontier using collected asset data\n",
      "  2. Implement risk-parity portfolio strategies\n",
      "  3. Analyze portfolio performance during different economic conditions\n",
      "\n",
      "🤖 Machine Learning Applications\n",
      "-----------------------------\n",
      "  1. Develop recession prediction models using macroeconomic indicators\n",
      "  2. Implement anomaly detection for market stress events\n",
      "  3. Create ensemble models for asset return forecasting\n",
      "\n",
      "📋 Risk Management\n",
      "---------------\n",
      "  1. Calculate Value at Risk (VaR) for different asset classes\n",
      "  2. Perform stress testing scenarios\n",
      "  3. Analyze tail risk and extreme value distributions\n",
      "\n",
      "🛠️  TECHNICAL IMPROVEMENTS\n",
      "-------------------------\n",
      "  1. Implement automated data pipeline with scheduling\n",
      "  2. Add real-time data streaming capabilities\n",
      "  3. Create interactive dashboards with Plotly Dash\n",
      "  4. Implement data versioning and lineage tracking\n",
      "  5. Add comprehensive unit testing for data functions\n",
      "  6. Create Docker containerization for reproducible analysis\n",
      "\n",
      "🗺️  ANALYSIS PIPELINE ROADMAP\n",
      "===================================\n",
      "\n",
      "📓 Note 2: Exploratory Data Analysis\n",
      "   📝 Statistical summaries, distributions, outlier detection\n",
      "\n",
      "📓 Note 3: Correlation & Relationship Analysis\n",
      "   📝 Cross-asset correlations, lead-lag relationships\n",
      "\n",
      "📓 Note 4: Time Series Modeling\n",
      "   📝 Trend analysis, seasonality, forecasting models\n",
      "\n",
      "📓 Note 5: Regime Analysis\n",
      "   📝 Economic cycle identification, structural breaks\n",
      "\n",
      "📓 Note 6: Portfolio Construction\n",
      "   📝 Modern portfolio theory, risk-return optimization\n",
      "\n",
      "📓 Note 7: Risk Management\n",
      "   📝 VaR, stress testing, scenario analysis\n",
      "\n",
      "📓 Note 8: Machine Learning Models\n",
      "   📝 Predictive modeling, feature engineering\n",
      "\n",
      "📓 Note 9: Interactive Dashboard\n",
      "   📝 Real-time visualization, user interface\n",
      "\n",
      "📓 Note 10: Automation & Deployment\n",
      "   📝 Pipeline automation, cloud deployment\n",
      "\n",
      "✨ Ready to begin comprehensive financial analysis!\n",
      "💡 Tip: Start with Note 2 - Exploratory Data Analysis\n"
     ]
    }
   ],
   "source": [
    "def generate_analysis_recommendations():\n",
    "    \"\"\"\n",
    "    Generate specific analysis recommendations based on available data.\n",
    "    \"\"\"\n",
    "    recommendations = {\n",
    "        \"📈 Correlation Analysis\": [\n",
    "            \"Analyze correlation between GDP growth and stock market performance\",\n",
    "            \"Examine relationship between inflation rates and Fed funds rate changes\",\n",
    "            \"Study correlation between DAX and S&P 500 performance\"\n",
    "        ],\n",
    "        \n",
    "        \"📊 Time Series Analysis\": [\n",
    "            \"Perform seasonal decomposition of economic indicators\",\n",
    "            \"Implement ARIMA modeling for inflation forecasting\",\n",
    "            \"Analyze volatility clustering in stock returns using GARCH models\"\n",
    "        ],\n",
    "        \n",
    "        \"🔍 Regime Analysis\": [\n",
    "            \"Identify economic regimes (recession, expansion, recovery)\",\n",
    "            \"Analyze asset performance across different economic cycles\",\n",
    "            \"Study Fed policy impact on market regimes\"\n",
    "        ],\n",
    "        \n",
    "        \"💼 Portfolio Analysis\": [\n",
    "            \"Construct efficient frontier using collected asset data\",\n",
    "            \"Implement risk-parity portfolio strategies\",\n",
    "            \"Analyze portfolio performance during different economic conditions\"\n",
    "        ],\n",
    "        \n",
    "        \"🤖 Machine Learning Applications\": [\n",
    "            \"Develop recession prediction models using macroeconomic indicators\",\n",
    "            \"Implement anomaly detection for market stress events\",\n",
    "            \"Create ensemble models for asset return forecasting\"\n",
    "        ],\n",
    "        \n",
    "        \"📋 Risk Management\": [\n",
    "            \"Calculate Value at Risk (VaR) for different asset classes\",\n",
    "            \"Perform stress testing scenarios\",\n",
    "            \"Analyze tail risk and extreme value distributions\"\n",
    "        ]\n",
    "    }\n",
    "    \n",
    "    print(\"🎯 RECOMMENDED ANALYSIS DIRECTIONS\")\n",
    "    print(\"=\" * 60)\n",
    "    \n",
    "    for category, items in recommendations.items():\n",
    "        print(f\"\\n{category}\")\n",
    "        print(\"-\" * (len(category) - 2))\n",
    "        for i, item in enumerate(items, 1):\n",
    "            print(f\"  {i}. {item}\")\n",
    "    \n",
    "    # Additional technical recommendations\n",
    "    print(f\"\\n🛠️  TECHNICAL IMPROVEMENTS\")\n",
    "    print(\"-\" * 25)\n",
    "    tech_improvements = [\n",
    "        \"Implement automated data pipeline with scheduling\",\n",
    "        \"Add real-time data streaming capabilities\", \n",
    "        \"Create interactive dashboards with Plotly Dash\",\n",
    "        \"Implement data versioning and lineage tracking\",\n",
    "        \"Add comprehensive unit testing for data functions\",\n",
    "        \"Create Docker containerization for reproducible analysis\"\n",
    "    ]\n",
    "    \n",
    "    for i, improvement in enumerate(tech_improvements, 1):\n",
    "        print(f\"  {i}. {improvement}\")\n",
    "    \n",
    "    return recommendations\n",
    "\n",
    "# Generate recommendations\n",
    "analysis_recommendations = generate_analysis_recommendations()\n",
    "\n",
    "# Create a roadmap for the analysis pipeline\n",
    "print(f\"\\n🗺️  ANALYSIS PIPELINE ROADMAP\")\n",
    "print(\"=\" * 35)\n",
    "\n",
    "pipeline_steps = [\n",
    "    (\"Note 2\", \"Exploratory Data Analysis\", \"Statistical summaries, distributions, outlier detection\"),\n",
    "    (\"Note 3\", \"Correlation & Relationship Analysis\", \"Cross-asset correlations, lead-lag relationships\"),\n",
    "    (\"Note 4\", \"Time Series Modeling\", \"Trend analysis, seasonality, forecasting models\"),\n",
    "    (\"Note 5\", \"Regime Analysis\", \"Economic cycle identification, structural breaks\"),\n",
    "    (\"Note 6\", \"Portfolio Construction\", \"Modern portfolio theory, risk-return optimization\"),\n",
    "    (\"Note 7\", \"Risk Management\", \"VaR, stress testing, scenario analysis\"),\n",
    "    (\"Note 8\", \"Machine Learning Models\", \"Predictive modeling, feature engineering\"),\n",
    "    (\"Note 9\", \"Interactive Dashboard\", \"Real-time visualization, user interface\"),\n",
    "    (\"Note 10\", \"Automation & Deployment\", \"Pipeline automation, cloud deployment\")\n",
    "]\n",
    "\n",
    "for step, title, description in pipeline_steps:\n",
    "    print(f\"\\n📓 {step}: {title}\")\n",
    "    print(f\"   📝 {description}\")\n",
    "\n",
    "print(f\"\\n✨ Ready to begin comprehensive financial analysis!\")\n",
    "print(f\"💡 Tip: Start with Note 2 - Exploratory Data Analysis\")"
   ]
  },
  {
   "cell_type": "markdown",
   "id": "0beda675",
   "metadata": {},
   "source": [
    "## ✅ Notebook Improvements Summary\n",
    "\n",
    "### **🔧 Issues Fixed:**\n",
    "\n",
    "1. **Section Numbering Consistency**\n",
    "   - ✅ Fixed duplicate \"1.1\" numbering across sections\n",
    "   - ✅ Created proper hierarchical structure (1.1-1.8)\n",
    "\n",
    "2. **Error Handling & Data Validation**\n",
    "   - ✅ Added robust data download functions with retry mechanisms\n",
    "   - ✅ Fixed undefined variable errors in data saving operations\n",
    "   - ✅ Implemented comprehensive data quality validation\n",
    "\n",
    "3. **Code Organization**\n",
    "   - ✅ Added configuration constants and utility functions\n",
    "   - ✅ Standardized data handling across all sections\n",
    "   - ✅ Improved error messages and progress indicators\n",
    "\n",
    "4. **Content Alignment**\n",
    "   - ✅ Ensured headings accurately reflect the content\n",
    "   - ✅ Added clear descriptions for different data sources\n",
    "   - ✅ Clarified differences between similar datasets (S&P 500 from different sources)\n",
    "\n",
    "5. **Documentation & Structure**\n",
    "   - ✅ Added comprehensive data summary and validation\n",
    "   - ✅ Created analysis roadmap for subsequent notebooks\n",
    "   - ✅ Improved code comments and docstrings\n",
    "\n",
    "### **📊 Current Status:**\n",
    "- **7/7 datasets** successfully loaded and validated\n",
    "- **0 data quality issues** detected\n",
    "- **All sections** properly numbered and documented\n",
    "- **Ready for next phase** of analysis\n",
    "\n",
    "### **🎯 Ready for Analysis Pipeline:**\n",
    "The notebook now serves as a solid foundation for the comprehensive financial data analysis pipeline with clean, well-documented, and error-free data extraction and setup."
   ]
  }
 ],
 "metadata": {
  "kernelspec": {
   "display_name": ".venv (3.10.13)",
   "language": "python",
   "name": "python3"
  },
  "language_info": {
   "codemirror_mode": {
    "name": "ipython",
    "version": 3
   },
   "file_extension": ".py",
   "mimetype": "text/x-python",
   "name": "python",
   "nbconvert_exporter": "python",
   "pygments_lexer": "ipython3",
   "version": "3.10.13"
  }
 },
 "nbformat": 4,
 "nbformat_minor": 5
}
