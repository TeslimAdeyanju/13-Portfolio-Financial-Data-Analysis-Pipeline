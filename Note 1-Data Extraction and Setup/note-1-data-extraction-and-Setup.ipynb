{
 "cells": [
  {
   "cell_type": "markdown",
   "id": "52b090b1",
   "metadata": {},
   "source": [
    "# Financial Data Analysis Pipeline: From API to Automated Insights"
   ]
  },
  {
   "cell_type": "markdown",
   "id": "9f0e27d1",
   "metadata": {},
   "source": [
    "───────────────────────────────────────────────────────────────────────────────────────────────────────────────────────────────────────    \n",
    "📘 **Author:** Teslim Uthman Adeyanju  \n",
    "📫 **Email:** [info@adeyanjuteslim.co.uk](mailto:info@adeyanjuteslim.co.uk)  \n",
    "🔗 **LinkedIn:** [linkedin.com/in/adeyanjuteslimuthman](https://www.linkedin.com/in/adeyanjuteslimuthman)  \n",
    "🌐 **Website & Blog:** [adeyanjuteslim.co.uk](https://adeyanjuteslim.co.uk)  \n",
    "───────────────────────────────────────────────────────────────────────────────────────────────────────────────────────────────────────    \n"
   ]
  },
  {
   "cell_type": "markdown",
   "id": "15a6f3c5",
   "metadata": {},
   "source": []
  },
  {
   "cell_type": "code",
   "execution_count": 1,
   "id": "5552d6d4",
   "metadata": {},
   "outputs": [],
   "source": [
    "# IMPORTS\n",
    "import numpy as np\n",
    "import pandas as pd\n",
    "\n",
    "#Fin Data Sources\n",
    "import yfinance as yf\n",
    "import pandas_datareader as pdr\n",
    "\n",
    "#Data viz\n",
    "import plotly.graph_objs as go\n",
    "import plotly.express as px\n",
    "\n",
    "import time\n",
    "from datetime import date\n",
    "\n",
    "import matplotlib.pyplot as plt\n",
    "import seaborn as sns"
   ]
  },
  {
   "cell_type": "code",
   "execution_count": null,
   "id": "0c695c14",
   "metadata": {},
   "outputs": [],
   "source": []
  },
  {
   "cell_type": "markdown",
   "id": "eb697231",
   "metadata": {},
   "source": [
    "# 📚 1.0 INTRODUCTION\n",
    "\n",
    "\n",
    "<div style=\"font-family: Avenir, sans-serif; font-size: 16px; line-height: 1.6; color: white; background-color: #333; padding: 10px; border-radius: 5px;\">\n",
    "This section provides an overview of the dataset and the problem we are trying to solve. We will also discuss the data overview, project objective, methodology and the tools (libaries) we will use to solve the problem.\n",
    "\n",
    "</div>"
   ]
  },
  {
   "cell_type": "markdown",
   "id": "c3d9afdc",
   "metadata": {},
   "source": [
    "## 🔍 1.1 GDP Overview\n",
    "____"
   ]
  },
  {
   "cell_type": "markdown",
   "id": "98872498",
   "metadata": {},
   "source": [
    "The Real Potential GDP (GDPPOT) dataset from the Federal Reserve Economic Data (FRED) provides a comprehensive view of the U.S. economy's potential output. This dataset is crucial for understanding economic growth, inflation, and overall economic health. By analyzing GDPPOT, policymakers and economists can better assess the economy's performance relative to its potential, identify output gaps, and make informed decisions to promote sustainable growth.\n",
    "\n",
    "This data will cover 70 years of economic data, from 1955 to 2025, and will be used to analyze the trends in the U.S. economy's potential output over time. The dataset includes quarterly data points, allowing for a detailed examination of economic fluctuations and long-term trends."
   ]
  },
  {
   "cell_type": "code",
   "execution_count": 2,
   "id": "0c65e20e",
   "metadata": {},
   "outputs": [
    {
     "name": "stdout",
     "output_type": "stream",
     "text": [
      "Year = 2025; month= 7; day=6\n",
      "Period for indexes: 1955-07-06 to 2025-07-06 \n"
     ]
    }
   ],
   "source": [
    "# Setting the Date \n",
    "end = date.today()  \n",
    "print(f'Year = {end.year}; month= {end.month}; day={end.day}')  \n",
    "\n",
    "start = date(year=end.year-70, \n",
    "             month=end.month, \n",
    "             day=end.day)  \n",
    "\n",
    "print(f'Period for indexes: {start} to {end} ')  "
   ]
  },
  {
   "cell_type": "markdown",
   "id": "434f80ee",
   "metadata": {},
   "source": [
    "### Real Potential GDP (GDPPOT) Analysis — U.S. FRED Data"
   ]
  },
  {
   "cell_type": "markdown",
   "id": "9ecbb1c0",
   "metadata": {},
   "source": [
    "The data source for this analysis is the Federal Reserve Economic Data (FRED) database, which provides a wealth of economic data. The GDPPOT dataset specifically focuses on the Real Potential GDP, which is a measure of the economy's maximum sustainable output, adjusted for inflation."
   ]
  },
  {
   "cell_type": "code",
   "execution_count": 3,
   "id": "6e020090",
   "metadata": {},
   "outputs": [],
   "source": [
    "# Download GDPPOT data from FRED\n",
    "gdppot = pdr.DataReader(\"GDPPOT\", \"fred\", start=start)"
   ]
  },
  {
   "cell_type": "code",
   "execution_count": 11,
   "id": "bf3f6af3",
   "metadata": {},
   "outputs": [],
   "source": [
    "gdppot.to_csv('gdppot.csv')"
   ]
  },
  {
   "cell_type": "code",
   "execution_count": 12,
   "id": "2eea12b6",
   "metadata": {},
   "outputs": [],
   "source": [
    "gdppot = pd.read_csv('gdppot.csv')"
   ]
  },
  {
   "cell_type": "code",
   "execution_count": 13,
   "id": "d4bbfadb",
   "metadata": {},
   "outputs": [
    {
     "data": {
      "application/vnd.microsoft.datawrangler.viewer.v0+json": {
       "columns": [
        {
         "name": "index",
         "rawType": "int64",
         "type": "integer"
        },
        {
         "name": "DATE",
         "rawType": "object",
         "type": "string"
        },
        {
         "name": "GDPPOT",
         "rawType": "float64",
         "type": "float"
        },
        {
         "name": "gdppot_us_yoy",
         "rawType": "float64",
         "type": "float"
        },
        {
         "name": "gdppot_us_qoq",
         "rawType": "float64",
         "type": "float"
        }
       ],
       "ref": "1773438d-1a93-4d70-a678-a7e83db34d36",
       "rows": [
        [
         "0",
         "1955-10-01",
         "3019.152595",
         null,
         null
        ],
        [
         "1",
         "1956-01-01",
         "3038.588138",
         null,
         "0.0064374165890743"
        ],
        [
         "2",
         "1956-04-01",
         "3057.44897",
         null,
         "0.0062071038072353"
        ],
        [
         "3",
         "1956-07-01",
         "3077.140146",
         null,
         "0.0064403939994459"
        ],
        [
         "4",
         "1956-10-01",
         "3098.206236",
         "0.0261840495014793",
         "0.0068459962824194"
        ]
       ],
       "shape": {
        "columns": 4,
        "rows": 5
       }
      },
      "text/html": [
       "<div>\n",
       "<style scoped>\n",
       "    .dataframe tbody tr th:only-of-type {\n",
       "        vertical-align: middle;\n",
       "    }\n",
       "\n",
       "    .dataframe tbody tr th {\n",
       "        vertical-align: top;\n",
       "    }\n",
       "\n",
       "    .dataframe thead th {\n",
       "        text-align: right;\n",
       "    }\n",
       "</style>\n",
       "<table border=\"1\" class=\"dataframe\">\n",
       "  <thead>\n",
       "    <tr style=\"text-align: right;\">\n",
       "      <th></th>\n",
       "      <th>DATE</th>\n",
       "      <th>GDPPOT</th>\n",
       "      <th>gdppot_us_yoy</th>\n",
       "      <th>gdppot_us_qoq</th>\n",
       "    </tr>\n",
       "  </thead>\n",
       "  <tbody>\n",
       "    <tr>\n",
       "      <th>0</th>\n",
       "      <td>1955-10-01</td>\n",
       "      <td>3019.152595</td>\n",
       "      <td>NaN</td>\n",
       "      <td>NaN</td>\n",
       "    </tr>\n",
       "    <tr>\n",
       "      <th>1</th>\n",
       "      <td>1956-01-01</td>\n",
       "      <td>3038.588138</td>\n",
       "      <td>NaN</td>\n",
       "      <td>0.006437</td>\n",
       "    </tr>\n",
       "    <tr>\n",
       "      <th>2</th>\n",
       "      <td>1956-04-01</td>\n",
       "      <td>3057.448970</td>\n",
       "      <td>NaN</td>\n",
       "      <td>0.006207</td>\n",
       "    </tr>\n",
       "    <tr>\n",
       "      <th>3</th>\n",
       "      <td>1956-07-01</td>\n",
       "      <td>3077.140146</td>\n",
       "      <td>NaN</td>\n",
       "      <td>0.006440</td>\n",
       "    </tr>\n",
       "    <tr>\n",
       "      <th>4</th>\n",
       "      <td>1956-10-01</td>\n",
       "      <td>3098.206236</td>\n",
       "      <td>0.026184</td>\n",
       "      <td>0.006846</td>\n",
       "    </tr>\n",
       "  </tbody>\n",
       "</table>\n",
       "</div>"
      ],
      "text/plain": [
       "         DATE       GDPPOT  gdppot_us_yoy  gdppot_us_qoq\n",
       "0  1955-10-01  3019.152595            NaN            NaN\n",
       "1  1956-01-01  3038.588138            NaN       0.006437\n",
       "2  1956-04-01  3057.448970            NaN       0.006207\n",
       "3  1956-07-01  3077.140146            NaN       0.006440\n",
       "4  1956-10-01  3098.206236       0.026184       0.006846"
      ]
     },
     "execution_count": 13,
     "metadata": {},
     "output_type": "execute_result"
    }
   ],
   "source": [
    "gdppot.head()"
   ]
  },
  {
   "cell_type": "markdown",
   "id": "72e1bece",
   "metadata": {},
   "source": [
    "The calculation will focused on the Real Potential GDP (GDPPOT) data, which is a key indicator of the economy's potential output. The analysis will involve calculating the growth rate of GDPPOT, identifying trends, and visualizing the data to provide insights into the U.S. economy's performance."
   ]
  },
  {
   "cell_type": "markdown",
   "id": "faa8b34d",
   "metadata": {},
   "source": [
    "### Growth Rate Calculations"
   ]
  },
  {
   "cell_type": "markdown",
   "id": "1590bee9",
   "metadata": {},
   "source": [
    "**Year-over-Year (YoY) Growth Rate**: Measures the percentage change in GDP from one year to the next."
   ]
  },
  {
   "cell_type": "code",
   "execution_count": 14,
   "id": "ef0e20ba",
   "metadata": {},
   "outputs": [],
   "source": [
    "gdppot['gdppot_us_yoy'] = gdppot['GDPPOT'] / gdppot['GDPPOT'].shift(4) - 1\n"
   ]
  },
  {
   "cell_type": "code",
   "execution_count": 15,
   "id": "486082e2",
   "metadata": {},
   "outputs": [
    {
     "data": {
      "application/vnd.microsoft.datawrangler.viewer.v0+json": {
       "columns": [
        {
         "name": "index",
         "rawType": "int64",
         "type": "integer"
        },
        {
         "name": "gdppot_us_yoy",
         "rawType": "float64",
         "type": "float"
        }
       ],
       "ref": "ce2bacdd-e9e7-4548-9e3c-bc1f6393c03b",
       "rows": [
        [
         "0",
         null
        ],
        [
         "1",
         null
        ],
        [
         "2",
         null
        ],
        [
         "3",
         null
        ],
        [
         "4",
         "0.026184049501479345"
        ],
        [
         "5",
         "0.027272053742217306"
        ],
        [
         "6",
         "0.02926497478059309"
        ],
        [
         "7",
         "0.031467437752508376"
        ],
        [
         "8",
         "0.033584610924525915"
        ],
        [
         "9",
         "0.034919208651249756"
        ],
        [
         "10",
         "0.03565326727376794"
        ],
        [
         "11",
         "0.0359236224530981"
        ],
        [
         "12",
         "0.0363126108446854"
        ],
        [
         "13",
         "0.037051401563444"
        ],
        [
         "14",
         "0.03825772808288641"
        ],
        [
         "15",
         "0.04008957499506427"
        ],
        [
         "16",
         "0.04150549102540646"
        ],
        [
         "17",
         "0.04273755932213752"
        ],
        [
         "18",
         "0.04302188332738188"
        ],
        [
         "19",
         "0.04242393777099451"
        ],
        [
         "20",
         "0.04131880259567233"
        ],
        [
         "21",
         "0.03989168181566516"
        ],
        [
         "22",
         "0.038239991891171776"
        ],
        [
         "23",
         "0.037100700710023915"
        ],
        [
         "24",
         "0.03662060281963919"
        ],
        [
         "25",
         "0.03703369374488563"
        ],
        [
         "26",
         "0.03882399393949876"
        ],
        [
         "27",
         "0.04091326381724225"
        ],
        [
         "28",
         "0.04301194413954623"
        ],
        [
         "29",
         "0.044365227819323616"
        ],
        [
         "30",
         "0.04474123081291115"
        ],
        [
         "31",
         "0.04441953264343734"
        ],
        [
         "32",
         "0.043915880442022326"
        ],
        [
         "33",
         "0.04347388736652835"
        ],
        [
         "34",
         "0.0435320076165997"
        ],
        [
         "35",
         "0.043864304823668876"
        ],
        [
         "36",
         "0.04414471308741774"
        ],
        [
         "37",
         "0.044635211755500004"
        ],
        [
         "38",
         "0.0444509336470813"
        ],
        [
         "39",
         "0.04437748528613672"
        ],
        [
         "40",
         "0.04427006401334088"
        ],
        [
         "41",
         "0.04401637145561099"
        ],
        [
         "42",
         "0.04411657484386877"
        ],
        [
         "43",
         "0.04406852353219981"
        ],
        [
         "44",
         "0.04404263942654674"
        ],
        [
         "45",
         "0.04428992963554501"
        ],
        [
         "46",
         "0.04481501224102358"
        ],
        [
         "47",
         "0.04539839504471477"
        ],
        [
         "48",
         "0.04619243728615019"
        ],
        [
         "49",
         "0.04658846116969917"
        ]
       ],
       "shape": {
        "columns": 1,
        "rows": 280
       }
      },
      "text/plain": [
       "0           NaN\n",
       "1           NaN\n",
       "2           NaN\n",
       "3           NaN\n",
       "4      0.026184\n",
       "         ...   \n",
       "275    0.023223\n",
       "276    0.023249\n",
       "277    0.023113\n",
       "278    0.023029\n",
       "279    0.023013\n",
       "Name: gdppot_us_yoy, Length: 280, dtype: float64"
      ]
     },
     "execution_count": 15,
     "metadata": {},
     "output_type": "execute_result"
    }
   ],
   "source": [
    "gdppot['gdppot_us_yoy']"
   ]
  },
  {
   "cell_type": "markdown",
   "id": "784c18f8",
   "metadata": {},
   "source": [
    "**Quarter-over-Quarter (QoQ) Growth Rate**: Measures the percentage change in GDP from one quarter to the next."
   ]
  },
  {
   "cell_type": "code",
   "execution_count": 16,
   "id": "575032ef",
   "metadata": {},
   "outputs": [],
   "source": [
    "gdppot['gdppot_us_qoq'] = gdppot['GDPPOT'] / gdppot['GDPPOT'].shift(1) - 1\n"
   ]
  },
  {
   "cell_type": "code",
   "execution_count": 17,
   "id": "31774b78",
   "metadata": {},
   "outputs": [
    {
     "data": {
      "application/vnd.microsoft.datawrangler.viewer.v0+json": {
       "columns": [
        {
         "name": "index",
         "rawType": "int64",
         "type": "integer"
        },
        {
         "name": "gdppot_us_qoq",
         "rawType": "float64",
         "type": "float"
        }
       ],
       "ref": "f64986e3-2481-4d2c-9cbf-0a6500524a6d",
       "rows": [
        [
         "0",
         null
        ],
        [
         "1",
         "0.006437416589074374"
        ],
        [
         "2",
         "0.006207103807235326"
        ],
        [
         "3",
         "0.006440393999445959"
        ],
        [
         "4",
         "0.006845996282419442"
        ],
        [
         "5",
         "0.007504484604620165"
        ],
        [
         "6",
         "0.008159158570951952"
        ],
        [
         "7",
         "0.008594016006933547"
        ],
        [
         "8",
         "0.008912631886861977"
        ],
        [
         "9",
         "0.008805406832568696"
        ],
        [
         "10",
         "0.008874236537457447"
        ],
        [
         "11",
         "0.008857307423747907"
        ],
        [
         "12",
         "0.009291477675705373"
        ],
        [
         "13",
         "0.00952458757378749"
        ],
        [
         "14",
         "0.01004778660882577"
        ],
        [
         "15",
         "0.010637281791812336"
        ],
        [
         "16",
         "0.010665467009783214"
        ],
        [
         "17",
         "0.01071882346580888"
        ],
        [
         "18",
         "0.010323197070077006"
        ],
        [
         "19",
         "0.010057901740993858"
        ],
        [
         "20",
         "0.00959400086476725"
        ],
        [
         "21",
         "0.009333639762108437"
        ],
        [
         "22",
         "0.008718471621971702"
        ],
        [
         "23",
         "0.008949535593581137"
        ],
        [
         "24",
         "0.009126636461649573"
        ],
        [
         "25",
         "0.009735856895356054"
        ],
        [
         "26",
         "0.01045988936659037"
        ],
        [
         "27",
         "0.010978722332794844"
        ],
        [
         "28",
         "0.011161228860720573"
        ],
        [
         "29",
         "0.011045965627763499"
        ],
        [
         "30",
         "0.010823685415311202"
        ],
        [
         "31",
         "0.010667420361780922"
        ],
        [
         "32",
         "0.010673614867508174"
        ],
        [
         "33",
         "0.010617889645602618"
        ],
        [
         "34",
         "0.010879987088104004"
        ],
        [
         "35",
         "0.01098925233110326"
        ],
        [
         "36",
         "0.010945107275335708"
        ],
        [
         "37",
         "0.011092638713043002"
        ],
        [
         "38",
         "0.010701663545337636"
        ],
        [
         "39",
         "0.010918157077966839"
        ],
        [
         "40",
         "0.010841124748251385"
        ],
        [
         "41",
         "0.010847006202396203"
        ],
        [
         "42",
         "0.010798669429511465"
        ],
        [
         "43",
         "0.01087163359140586"
        ],
        [
         "44",
         "0.010816064402228376"
        ],
        [
         "45",
         "0.011086433748733082"
        ],
        [
         "46",
         "0.011306912192269536"
        ],
        [
         "47",
         "0.01143606377365547"
        ],
        [
         "48",
         "0.01158383930724205"
        ],
        [
         "49",
         "0.011469168666159435"
        ]
       ],
       "shape": {
        "columns": 1,
        "rows": 280
       }
      },
      "text/plain": [
       "0           NaN\n",
       "1      0.006437\n",
       "2      0.006207\n",
       "3      0.006440\n",
       "4      0.006846\n",
       "         ...   \n",
       "275    0.005753\n",
       "276    0.005745\n",
       "277    0.005619\n",
       "278    0.005716\n",
       "279    0.005737\n",
       "Name: gdppot_us_qoq, Length: 280, dtype: float64"
      ]
     },
     "execution_count": 17,
     "metadata": {},
     "output_type": "execute_result"
    }
   ],
   "source": [
    "gdppot['gdppot_us_qoq']"
   ]
  },
  {
   "cell_type": "code",
   "execution_count": 18,
   "id": "3ce103b3",
   "metadata": {},
   "outputs": [
    {
     "data": {
      "application/vnd.microsoft.datawrangler.viewer.v0+json": {
       "columns": [
        {
         "name": "index",
         "rawType": "int64",
         "type": "integer"
        },
        {
         "name": "DATE",
         "rawType": "object",
         "type": "string"
        },
        {
         "name": "GDPPOT",
         "rawType": "float64",
         "type": "float"
        },
        {
         "name": "gdppot_us_yoy",
         "rawType": "float64",
         "type": "float"
        },
        {
         "name": "gdppot_us_qoq",
         "rawType": "float64",
         "type": "float"
        }
       ],
       "ref": "9ee3ba65-719c-4521-ba55-188acaee4971",
       "rows": [
        [
         "265",
         "2022-01-01",
         "21722.0248",
         "0.0208820306810229",
         "0.005366268935486307"
        ],
        [
         "266",
         "2022-04-01",
         "21840.56636",
         "0.02140346002252791",
         "0.005457205812599897"
        ],
        [
         "267",
         "2022-07-01",
         "21961.53508",
         "0.021798516380143074",
         "0.00553871717454868"
        ],
        [
         "268",
         "2022-10-01",
         "22084.92536",
         "0.022162492370504383",
         "0.005618472458802204"
        ],
        [
         "269",
         "2023-01-01",
         "22208.24254",
         "0.02238362880425404",
         "0.005583771644678048"
        ],
        [
         "270",
         "2023-04-01",
         "22333.11239",
         "0.02255188908022432",
         "0.005622680397833868"
        ],
        [
         "271",
         "2023-07-01",
         "22459.74068",
         "0.022685372319610986",
         "0.005669979525858571"
        ],
        [
         "272",
         "2023-10-01",
         "22588.18459",
         "0.022787454419542552",
         "0.005718850980072965"
        ],
        [
         "273",
         "2024-01-01",
         "22718.13",
         "0.022959379117083456",
         "0.005752804501939934"
        ],
        [
         "274",
         "2024-04-01",
         "22849.87",
         "0.02313862935787614",
         "0.005798892778586806"
        ],
        [
         "275",
         "2024-07-01",
         "22981.32",
         "0.023222855839313272",
         "0.005752767958854932"
        ],
        [
         "276",
         "2024-10-01",
         "23113.34",
         "0.023249119817822406",
         "0.005744665667594351"
        ],
        [
         "277",
         "2025-01-01",
         "23243.22",
         "0.023113258001428827",
         "0.005619265757350611"
        ],
        [
         "278",
         "2025-04-01",
         "23376.07",
         "0.02302857740547326",
         "0.005715645250528922"
        ],
        [
         "279",
         "2025-07-01",
         "23510.18",
         "0.02301260327953325",
         "0.005737063586821911"
        ]
       ],
       "shape": {
        "columns": 4,
        "rows": 15
       }
      },
      "text/html": [
       "<div>\n",
       "<style scoped>\n",
       "    .dataframe tbody tr th:only-of-type {\n",
       "        vertical-align: middle;\n",
       "    }\n",
       "\n",
       "    .dataframe tbody tr th {\n",
       "        vertical-align: top;\n",
       "    }\n",
       "\n",
       "    .dataframe thead th {\n",
       "        text-align: right;\n",
       "    }\n",
       "</style>\n",
       "<table border=\"1\" class=\"dataframe\">\n",
       "  <thead>\n",
       "    <tr style=\"text-align: right;\">\n",
       "      <th></th>\n",
       "      <th>DATE</th>\n",
       "      <th>GDPPOT</th>\n",
       "      <th>gdppot_us_yoy</th>\n",
       "      <th>gdppot_us_qoq</th>\n",
       "    </tr>\n",
       "  </thead>\n",
       "  <tbody>\n",
       "    <tr>\n",
       "      <th>265</th>\n",
       "      <td>2022-01-01</td>\n",
       "      <td>21722.02480</td>\n",
       "      <td>0.020882</td>\n",
       "      <td>0.005366</td>\n",
       "    </tr>\n",
       "    <tr>\n",
       "      <th>266</th>\n",
       "      <td>2022-04-01</td>\n",
       "      <td>21840.56636</td>\n",
       "      <td>0.021403</td>\n",
       "      <td>0.005457</td>\n",
       "    </tr>\n",
       "    <tr>\n",
       "      <th>267</th>\n",
       "      <td>2022-07-01</td>\n",
       "      <td>21961.53508</td>\n",
       "      <td>0.021799</td>\n",
       "      <td>0.005539</td>\n",
       "    </tr>\n",
       "    <tr>\n",
       "      <th>268</th>\n",
       "      <td>2022-10-01</td>\n",
       "      <td>22084.92536</td>\n",
       "      <td>0.022162</td>\n",
       "      <td>0.005618</td>\n",
       "    </tr>\n",
       "    <tr>\n",
       "      <th>269</th>\n",
       "      <td>2023-01-01</td>\n",
       "      <td>22208.24254</td>\n",
       "      <td>0.022384</td>\n",
       "      <td>0.005584</td>\n",
       "    </tr>\n",
       "    <tr>\n",
       "      <th>270</th>\n",
       "      <td>2023-04-01</td>\n",
       "      <td>22333.11239</td>\n",
       "      <td>0.022552</td>\n",
       "      <td>0.005623</td>\n",
       "    </tr>\n",
       "    <tr>\n",
       "      <th>271</th>\n",
       "      <td>2023-07-01</td>\n",
       "      <td>22459.74068</td>\n",
       "      <td>0.022685</td>\n",
       "      <td>0.005670</td>\n",
       "    </tr>\n",
       "    <tr>\n",
       "      <th>272</th>\n",
       "      <td>2023-10-01</td>\n",
       "      <td>22588.18459</td>\n",
       "      <td>0.022787</td>\n",
       "      <td>0.005719</td>\n",
       "    </tr>\n",
       "    <tr>\n",
       "      <th>273</th>\n",
       "      <td>2024-01-01</td>\n",
       "      <td>22718.13000</td>\n",
       "      <td>0.022959</td>\n",
       "      <td>0.005753</td>\n",
       "    </tr>\n",
       "    <tr>\n",
       "      <th>274</th>\n",
       "      <td>2024-04-01</td>\n",
       "      <td>22849.87000</td>\n",
       "      <td>0.023139</td>\n",
       "      <td>0.005799</td>\n",
       "    </tr>\n",
       "    <tr>\n",
       "      <th>275</th>\n",
       "      <td>2024-07-01</td>\n",
       "      <td>22981.32000</td>\n",
       "      <td>0.023223</td>\n",
       "      <td>0.005753</td>\n",
       "    </tr>\n",
       "    <tr>\n",
       "      <th>276</th>\n",
       "      <td>2024-10-01</td>\n",
       "      <td>23113.34000</td>\n",
       "      <td>0.023249</td>\n",
       "      <td>0.005745</td>\n",
       "    </tr>\n",
       "    <tr>\n",
       "      <th>277</th>\n",
       "      <td>2025-01-01</td>\n",
       "      <td>23243.22000</td>\n",
       "      <td>0.023113</td>\n",
       "      <td>0.005619</td>\n",
       "    </tr>\n",
       "    <tr>\n",
       "      <th>278</th>\n",
       "      <td>2025-04-01</td>\n",
       "      <td>23376.07000</td>\n",
       "      <td>0.023029</td>\n",
       "      <td>0.005716</td>\n",
       "    </tr>\n",
       "    <tr>\n",
       "      <th>279</th>\n",
       "      <td>2025-07-01</td>\n",
       "      <td>23510.18000</td>\n",
       "      <td>0.023013</td>\n",
       "      <td>0.005737</td>\n",
       "    </tr>\n",
       "  </tbody>\n",
       "</table>\n",
       "</div>"
      ],
      "text/plain": [
       "           DATE       GDPPOT  gdppot_us_yoy  gdppot_us_qoq\n",
       "265  2022-01-01  21722.02480       0.020882       0.005366\n",
       "266  2022-04-01  21840.56636       0.021403       0.005457\n",
       "267  2022-07-01  21961.53508       0.021799       0.005539\n",
       "268  2022-10-01  22084.92536       0.022162       0.005618\n",
       "269  2023-01-01  22208.24254       0.022384       0.005584\n",
       "270  2023-04-01  22333.11239       0.022552       0.005623\n",
       "271  2023-07-01  22459.74068       0.022685       0.005670\n",
       "272  2023-10-01  22588.18459       0.022787       0.005719\n",
       "273  2024-01-01  22718.13000       0.022959       0.005753\n",
       "274  2024-04-01  22849.87000       0.023139       0.005799\n",
       "275  2024-07-01  22981.32000       0.023223       0.005753\n",
       "276  2024-10-01  23113.34000       0.023249       0.005745\n",
       "277  2025-01-01  23243.22000       0.023113       0.005619\n",
       "278  2025-04-01  23376.07000       0.023029       0.005716\n",
       "279  2025-07-01  23510.18000       0.023013       0.005737"
      ]
     },
     "execution_count": 18,
     "metadata": {},
     "output_type": "execute_result"
    }
   ],
   "source": [
    "# View recent data\n",
    "gdppot.tail(15)"
   ]
  },
  {
   "cell_type": "code",
   "execution_count": 19,
   "id": "6567dc64",
   "metadata": {},
   "outputs": [
    {
     "data": {
      "image/png": "[encoded data removed]",
      "text/plain": [
       "<Figure size 1400x600 with 2 Axes>"
      ]
     },
     "metadata": {},
     "output_type": "display_data"
    }
   ],
   "source": [
    "import matplotlib.pyplot as plt\n",
    "import matplotlib.ticker as mtick\n",
    "\n",
    "# Create the figure and axes\n",
    "fig, ax1 = plt.subplots(figsize=(14, 6))\n",
    "\n",
    "# Plot US Potential GDP on the left y-axis\n",
    "ax1.plot(gdppot.index, gdppot.GDPPOT, color='darkred', label='US Potential GDP ($B)')\n",
    "ax1.set_ylabel('US Potential GDP ($ Billions)', color='darkred', fontsize=12)\n",
    "ax1.tick_params(axis='y', labelcolor='darkred')\n",
    "\n",
    "# Create secondary y-axis for YoY growth (%)\n",
    "ax2 = ax1.twinx()\n",
    "ax2.plot(gdppot.index, gdppot.gdppot_us_yoy, color='blue', marker='o', label='GDP Growth (% YoY)')\n",
    "ax2.set_ylabel('GDP Growth (% Y/Y)', color='blue', fontsize=12)\n",
    "ax2.tick_params(axis='y', labelcolor='blue')\n",
    "ax2.yaxis.set_major_formatter(mtick.PercentFormatter(1.0))\n",
    "\n",
    "# Labels and grid\n",
    "ax1.set_xlabel('Date', fontsize=12)\n",
    "ax1.grid(True, linestyle='--', alpha=0.5)\n",
    "\n",
    "# Title\n",
    "plt.title('US Potential GDP and Year-over-Year Growth', fontsize=14, fontweight='bold')\n",
    "\n",
    "# Combine and display legends\n",
    "lines1, labels1 = ax1.get_legend_handles_labels()\n",
    "lines2, labels2 = ax2.get_legend_handles_labels()\n",
    "ax2.legend(lines1 + lines2, labels1 + labels2, loc='upper left')\n",
    "\n",
    "# Show plot\n",
    "plt.tight_layout()\n",
    "plt.show()\n"
   ]
  },
  {
   "cell_type": "markdown",
   "id": "d3a46d2c",
   "metadata": {},
   "source": [
    "## 🔍 1.1 Inflation Overview\n",
    "____"
   ]
  },
  {
   "cell_type": "code",
   "execution_count": 20,
   "id": "8ec01388",
   "metadata": {},
   "outputs": [],
   "source": [
    "import pandas as pd\n",
    "import matplotlib.pyplot as plt\n",
    "import pandas_datareader.data as web\n",
    "from datetime import datetime, timedelta\n"
   ]
  },
  {
   "cell_type": "markdown",
   "id": "b4423dc8",
   "metadata": {},
   "source": [
    "**Fetch Core CPI Data from FRED**: "
   ]
  },
  {
   "cell_type": "markdown",
   "id": "38e09c3b",
   "metadata": {},
   "source": [
    "We will retrieve the Core Consumer Price Index (CPI) data from the FRED database. The Core CPI excludes food and energy prices, providing a clearer view of underlying inflation trends. The Core CPI is a key indicator of inflation, as it reflects the price changes of a basket of goods and services that consumers typically purchase."
   ]
  },
  {
   "cell_type": "code",
   "execution_count": 21,
   "id": "573327b6",
   "metadata": {},
   "outputs": [],
   "source": [
    "def get_core_cpi_data(start=None, end=None):\n",
    "    if start is None:\n",
    "        start = datetime.today() - timedelta(days=365*10)  # Default: last 10 years\n",
    "\n",
    "    # Download Core CPI data (CPILFESL)\n",
    "    df = web.DataReader(\"CPILFESL\", \"fred\", start, end)\n",
    "    df.rename(columns={\"CPILFESL\": \"core_cpi_index\"}, inplace=True)\n",
    "    \n",
    "    # Calculate YoY and MoM growth\n",
    "    df[\"yoy_growth\"] = df[\"core_cpi_index\"].pct_change(12) * 100\n",
    "    df[\"mom_growth\"] = df[\"core_cpi_index\"].pct_change(1) * 100\n",
    "    df[\"mom_annualized\"] = ((1 + df[\"mom_growth\"] / 100) ** 12 - 1) * 100\n",
    "\n",
    "    return df\n",
    "\n",
    "# Call the function and store the result in a variable\n",
    "df_cpi = get_core_cpi_data()"
   ]
  },
  {
   "cell_type": "code",
   "execution_count": 22,
   "id": "09e4da08",
   "metadata": {},
   "outputs": [],
   "source": [
    "df_cpi = df_cpi.to_csv('df_cpi.csv')"
   ]
  },
  {
   "cell_type": "code",
   "execution_count": 23,
   "id": "2e8adee0",
   "metadata": {},
   "outputs": [
    {
     "name": "stdout",
     "output_type": "stream",
     "text": [
      "Year = 2025; month= 7; day=6\n",
      "Period for indexes: 1955-07-06 to 2025-07-06\n",
      "            core_cpi_index  yoy_growth  mom_growth  mom_annualized\n",
      "DATE                                                              \n",
      "2025-01-01         324.739    3.292100    0.446340        5.489543\n",
      "2025-02-01         325.475    3.143668    0.226644        2.753882\n",
      "2025-03-01         325.659    2.808733    0.056533        0.680506\n",
      "2025-04-01         326.430    2.781521    0.236751        2.878296\n",
      "2025-05-01         326.854    2.767149    0.129890        1.569864\n"
     ]
    }
   ],
   "source": [
    "from datetime import date, datetime, timedelta\n",
    "import pandas_datareader.data as web\n",
    "import pandas as pd\n",
    "\n",
    "# Step 1: Set the date range\n",
    "end = date.today()\n",
    "print(f'Year = {end.year}; month= {end.month}; day={end.day}')  \n",
    "\n",
    "start = date(year=end.year - 70, month=end.month, day=end.day)  \n",
    "print(f'Period for indexes: {start} to {end}')  \n",
    "\n",
    "# Step 2: Define the function (same as before)\n",
    "def get_core_cpi_data(start=None, end=None):\n",
    "    if start is None:\n",
    "        start = datetime.today() - timedelta(days=365*10)  # Default: last 10 years\n",
    "\n",
    "    df = web.DataReader(\"CPILFESL\", \"fred\", start, end)\n",
    "    df.rename(columns={\"CPILFESL\": \"core_cpi_index\"}, inplace=True)\n",
    "\n",
    "    df[\"yoy_growth\"] = df[\"core_cpi_index\"].pct_change(12) * 100\n",
    "    df[\"mom_growth\"] = df[\"core_cpi_index\"].pct_change(1) * 100\n",
    "    df[\"mom_annualized\"] = ((1 + df[\"mom_growth\"] / 100) ** 12 - 1) * 100\n",
    "\n",
    "    return df\n",
    "\n",
    "# Step 3: Call the function using custom start and end dates\n",
    "df_cpi = get_core_cpi_data(start=start, end=end)\n",
    "\n",
    "# Step 4: Display the result\n",
    "print(df_cpi.tail())\n"
   ]
  },
  {
   "cell_type": "markdown",
   "id": "18edc0e1",
   "metadata": {},
   "source": [
    "### Plot the CPI Index and Growth Rates"
   ]
  },
  {
   "cell_type": "markdown",
   "id": "12211a75",
   "metadata": {},
   "source": [
    "Note:\n",
    "* The first chart shows the CPI index and YoY growth on dual axes.\n",
    "* The second chart compares YoY and annualized MoM growth to assess inflation trends."
   ]
  },
  {
   "cell_type": "code",
   "execution_count": 24,
   "id": "9e668950",
   "metadata": {},
   "outputs": [
    {
     "data": {
      "image/png": "[encoded data removed]",
      "text/plain": [
       "<Figure size 1400x1000 with 3 Axes>"
      ]
     },
     "metadata": {},
     "output_type": "display_data"
    }
   ],
   "source": [
    "def plot_cpi(df):\n",
    "    fig, (ax1, ax2) = plt.subplots(2, 1, figsize=(14, 10))\n",
    "\n",
    "    # --- First Plot: CPI Index and YoY Growth ---\n",
    "    ax1.plot(df.index, df[\"core_cpi_index\"], color='darkred', label=\"CPI Index\")\n",
    "    ax1.set_ylabel(\"CPI Index Level\", color='darkred')\n",
    "\n",
    "    ax1_twin = ax1.twinx()\n",
    "    ax1_twin.plot(df.index, df[\"yoy_growth\"], color='blue', label=\"YoY Growth (%)\")\n",
    "    ax1_twin.axhline(2, color='green', linestyle='--', label=\"Fed Target (2%)\")\n",
    "    ax1_twin.set_ylabel(\"YoY Growth (%)\", color='blue')\n",
    "    ax1.set_title(\"Core CPI and Year-over-Year Growth\")\n",
    "    ax1.grid(True)\n",
    "\n",
    "    # --- Second Plot: YoY vs Annualized MoM Growth ---\n",
    "    ax2.plot(df.index, df[\"yoy_growth\"], label=\"YoY Growth (%)\", color='blue')\n",
    "    ax2.plot(df.index, df[\"mom_annualized\"], label=\"Annualized MoM Growth (%)\", color='orange')\n",
    "    ax2.axhline(2, color='green', linestyle='--', label=\"Fed Target (2%)\")\n",
    "    ax2.set_title(\"CPI Growth Trends\")\n",
    "    ax2.set_ylabel(\"Growth Rate (%)\")\n",
    "    ax2.set_xlabel(\"Date\")\n",
    "    ax2.grid(True)\n",
    "    ax2.legend()\n",
    "\n",
    "    plt.tight_layout()\n",
    "    plt.show()\n",
    "\n",
    "# Call the plotting function\n",
    "plot_cpi(df_cpi)"
   ]
  },
  {
   "cell_type": "code",
   "execution_count": 25,
   "id": "60321920",
   "metadata": {},
   "outputs": [
    {
     "name": "stdout",
     "output_type": "stream",
     "text": [
      "Latest CPI: 326.85\n",
      "Latest YoY Growth (%): 2.77\n",
      "Latest MoM Growth (%): 0.13\n",
      "Avg YoY Growth (12m): 3.14\n",
      "Volatility YoY (12m): 0.22\n",
      "Months Above 2% (YoY): 12\n",
      "Trend: Falling\n"
     ]
    }
   ],
   "source": [
    "def summarize_inflation(df, months=12):\n",
    "    recent = df.tail(months)\n",
    "\n",
    "    return {\n",
    "        \"Latest CPI\": df[\"core_cpi_index\"].iloc[-1],\n",
    "        \"Latest YoY Growth (%)\": df[\"yoy_growth\"].iloc[-1],\n",
    "        \"Latest MoM Growth (%)\": df[\"mom_growth\"].iloc[-1],\n",
    "        \"Avg YoY Growth (12m)\": recent[\"yoy_growth\"].mean(),\n",
    "        \"Volatility YoY (12m)\": recent[\"yoy_growth\"].std(),\n",
    "        \"Months Above 2% (YoY)\": (recent[\"yoy_growth\"] > 2).sum(),\n",
    "        \"Trend\": \"Rising\" if df[\"yoy_growth\"].iloc[-1] > df[\"yoy_growth\"].iloc[-3] else \"Falling\"\n",
    "    }\n",
    "\n",
    "# Call the summary function\n",
    "inflation_summary = summarize_inflation(df_cpi)\n",
    "for key, value in inflation_summary.items():\n",
    "    print(f\"{key}: {value:.2f}\" if isinstance(value, float) else f\"{key}: {value}\") "
   ]
  },
  {
   "cell_type": "markdown",
   "id": "ce914296",
   "metadata": {},
   "source": [
    "## 🔍 1.1 Interest rate Overview\n",
    "____"
   ]
  },
  {
   "cell_type": "code",
   "execution_count": 26,
   "id": "224f535f",
   "metadata": {},
   "outputs": [
    {
     "data": {
      "application/vnd.microsoft.datawrangler.viewer.v0+json": {
       "columns": [
        {
         "name": "DATE",
         "rawType": "datetime64[ns]",
         "type": "datetime"
        },
        {
         "name": "FEDFUNDS",
         "rawType": "float64",
         "type": "float"
        }
       ],
       "ref": "2699d07d-42ed-44fb-8222-2e84ab7003e1",
       "rows": [
        [
         "2024-09-01 00:00:00",
         "5.13"
        ],
        [
         "2024-10-01 00:00:00",
         "4.83"
        ],
        [
         "2024-11-01 00:00:00",
         "4.64"
        ],
        [
         "2024-12-01 00:00:00",
         "4.48"
        ],
        [
         "2025-01-01 00:00:00",
         "4.33"
        ],
        [
         "2025-02-01 00:00:00",
         "4.33"
        ],
        [
         "2025-03-01 00:00:00",
         "4.33"
        ],
        [
         "2025-04-01 00:00:00",
         "4.33"
        ],
        [
         "2025-05-01 00:00:00",
         "4.33"
        ],
        [
         "2025-06-01 00:00:00",
         "4.33"
        ]
       ],
       "shape": {
        "columns": 1,
        "rows": 10
       }
      },
      "text/html": [
       "<div>\n",
       "<style scoped>\n",
       "    .dataframe tbody tr th:only-of-type {\n",
       "        vertical-align: middle;\n",
       "    }\n",
       "\n",
       "    .dataframe tbody tr th {\n",
       "        vertical-align: top;\n",
       "    }\n",
       "\n",
       "    .dataframe thead th {\n",
       "        text-align: right;\n",
       "    }\n",
       "</style>\n",
       "<table border=\"1\" class=\"dataframe\">\n",
       "  <thead>\n",
       "    <tr style=\"text-align: right;\">\n",
       "      <th></th>\n",
       "      <th>FEDFUNDS</th>\n",
       "    </tr>\n",
       "    <tr>\n",
       "      <th>DATE</th>\n",
       "      <th></th>\n",
       "    </tr>\n",
       "  </thead>\n",
       "  <tbody>\n",
       "    <tr>\n",
       "      <th>2024-09-01</th>\n",
       "      <td>5.13</td>\n",
       "    </tr>\n",
       "    <tr>\n",
       "      <th>2024-10-01</th>\n",
       "      <td>4.83</td>\n",
       "    </tr>\n",
       "    <tr>\n",
       "      <th>2024-11-01</th>\n",
       "      <td>4.64</td>\n",
       "    </tr>\n",
       "    <tr>\n",
       "      <th>2024-12-01</th>\n",
       "      <td>4.48</td>\n",
       "    </tr>\n",
       "    <tr>\n",
       "      <th>2025-01-01</th>\n",
       "      <td>4.33</td>\n",
       "    </tr>\n",
       "    <tr>\n",
       "      <th>2025-02-01</th>\n",
       "      <td>4.33</td>\n",
       "    </tr>\n",
       "    <tr>\n",
       "      <th>2025-03-01</th>\n",
       "      <td>4.33</td>\n",
       "    </tr>\n",
       "    <tr>\n",
       "      <th>2025-04-01</th>\n",
       "      <td>4.33</td>\n",
       "    </tr>\n",
       "    <tr>\n",
       "      <th>2025-05-01</th>\n",
       "      <td>4.33</td>\n",
       "    </tr>\n",
       "    <tr>\n",
       "      <th>2025-06-01</th>\n",
       "      <td>4.33</td>\n",
       "    </tr>\n",
       "  </tbody>\n",
       "</table>\n",
       "</div>"
      ],
      "text/plain": [
       "            FEDFUNDS\n",
       "DATE                \n",
       "2024-09-01      5.13\n",
       "2024-10-01      4.83\n",
       "2024-11-01      4.64\n",
       "2024-12-01      4.48\n",
       "2025-01-01      4.33\n",
       "2025-02-01      4.33\n",
       "2025-03-01      4.33\n",
       "2025-04-01      4.33\n",
       "2025-05-01      4.33\n",
       "2025-06-01      4.33"
      ]
     },
     "execution_count": 26,
     "metadata": {},
     "output_type": "execute_result"
    }
   ],
   "source": [
    "# Fed rate https://fred.stlouisfed.org/series/FEDFUNDS\n",
    "fedfunds = pdr.DataReader(\"FEDFUNDS\", \"fred\", start=start)\n",
    "fedfunds.tail(10)"
   ]
  },
  {
   "cell_type": "code",
   "execution_count": 27,
   "id": "ad06fa4f",
   "metadata": {},
   "outputs": [],
   "source": [
    "fedfunds = fedfunds.to_csv('fedfunds.csv')"
   ]
  },
  {
   "cell_type": "code",
   "execution_count": 29,
   "id": "b6cad847",
   "metadata": {},
   "outputs": [
    {
     "data": {
      "image/png": "[encoded data removed]",
      "text/plain": [
       "<Figure size 2000x600 with 1 Axes>"
      ]
     },
     "metadata": {},
     "output_type": "display_data"
    }
   ],
   "source": [
    "# Load the fedfunds data from the CSV file\n",
    "fedfunds = pd.read_csv('fedfunds.csv', index_col=0, parse_dates=True)\n",
    "\n",
    "# Fed Funds\n",
    "fig, ax = plt.subplots(figsize=(20, 6))\n",
    "plt.grid(True)\n",
    "\n",
    "# Plotting area under US potential GDP curve\n",
    "# ax.fill_between(fedfunds.index, fedfunds.FEDFUNDS, color=\"red\", alpha=0.3, label=\"Core CPI index (monthly)\")\n",
    "\n",
    "# # Creating a secondary y-axis for GDP growth percentage\n",
    "# ax2 = ax.twinx()\n",
    "ax.yaxis.set_major_formatter(mtick.PercentFormatter(1.0))\n",
    "ax.plot(fedfunds.index, fedfunds.FEDFUNDS/100, marker=\"o\", label=\"Fed Funds Rate\")\n",
    "\n",
    "# Setting labels and title\n",
    "ax.set_xlabel(\"Date\", fontsize=14)\n",
    "ax.set_ylabel(\"Fed Funds Rate\", color=\"blue\", fontsize=14)\n",
    "\n",
    "# Adding legend\n",
    "lines, labels = ax.get_legend_handles_labels()\n",
    "ax.legend(lines, labels, loc='upper left')\n",
    "\n",
    "plt.show()"
   ]
  },
  {
   "cell_type": "markdown",
   "id": "8fd59529",
   "metadata": {},
   "source": [
    "## 🔍 1.1 SNP 500\n",
    "____"
   ]
  },
  {
   "cell_type": "code",
   "execution_count": 30,
   "id": "5eecac0c",
   "metadata": {},
   "outputs": [
    {
     "data": {
      "application/vnd.microsoft.datawrangler.viewer.v0+json": {
       "columns": [
        {
         "name": "Date",
         "rawType": "datetime64[ns]",
         "type": "datetime"
        },
        {
         "name": "Open",
         "rawType": "float64",
         "type": "float"
        },
        {
         "name": "High",
         "rawType": "float64",
         "type": "float"
        },
        {
         "name": "Low",
         "rawType": "float64",
         "type": "float"
        },
        {
         "name": "Close",
         "rawType": "float64",
         "type": "float"
        },
        {
         "name": "Volume",
         "rawType": "float64",
         "type": "float"
        }
       ],
       "ref": "fe394fb5-909d-49ba-a4ec-d98159b98213",
       "rows": [
        [
         "2025-07-03 00:00:00",
         "6246.46",
         "6284.65",
         "6246.46",
         "6279.35",
         "1839509804.0"
        ],
        [
         "2025-07-02 00:00:00",
         "6193.88",
         "6227.6",
         "6188.29",
         "6227.42",
         "3141259934.0"
        ],
        [
         "2025-07-01 00:00:00",
         "6187.25",
         "6210.78",
         "6177.97",
         "6198.01",
         "3572880894.0"
        ],
        [
         "2025-06-30 00:00:00",
         "6193.36",
         "6215.08",
         "6174.97",
         "6204.95",
         "3332438031.0"
        ],
        [
         "2025-06-27 00:00:00",
         "6150.7",
         "6187.68",
         "6132.35",
         "6173.07",
         "4642836205.0"
        ]
       ],
       "shape": {
        "columns": 5,
        "rows": 5
       }
      },
      "text/html": [
       "<div>\n",
       "<style scoped>\n",
       "    .dataframe tbody tr th:only-of-type {\n",
       "        vertical-align: middle;\n",
       "    }\n",
       "\n",
       "    .dataframe tbody tr th {\n",
       "        vertical-align: top;\n",
       "    }\n",
       "\n",
       "    .dataframe thead th {\n",
       "        text-align: right;\n",
       "    }\n",
       "</style>\n",
       "<table border=\"1\" class=\"dataframe\">\n",
       "  <thead>\n",
       "    <tr style=\"text-align: right;\">\n",
       "      <th></th>\n",
       "      <th>Open</th>\n",
       "      <th>High</th>\n",
       "      <th>Low</th>\n",
       "      <th>Close</th>\n",
       "      <th>Volume</th>\n",
       "    </tr>\n",
       "    <tr>\n",
       "      <th>Date</th>\n",
       "      <th></th>\n",
       "      <th></th>\n",
       "      <th></th>\n",
       "      <th></th>\n",
       "      <th></th>\n",
       "    </tr>\n",
       "  </thead>\n",
       "  <tbody>\n",
       "    <tr>\n",
       "      <th>2025-07-03</th>\n",
       "      <td>6246.46</td>\n",
       "      <td>6284.65</td>\n",
       "      <td>6246.46</td>\n",
       "      <td>6279.35</td>\n",
       "      <td>1.839510e+09</td>\n",
       "    </tr>\n",
       "    <tr>\n",
       "      <th>2025-07-02</th>\n",
       "      <td>6193.88</td>\n",
       "      <td>6227.60</td>\n",
       "      <td>6188.29</td>\n",
       "      <td>6227.42</td>\n",
       "      <td>3.141260e+09</td>\n",
       "    </tr>\n",
       "    <tr>\n",
       "      <th>2025-07-01</th>\n",
       "      <td>6187.25</td>\n",
       "      <td>6210.78</td>\n",
       "      <td>6177.97</td>\n",
       "      <td>6198.01</td>\n",
       "      <td>3.572881e+09</td>\n",
       "    </tr>\n",
       "    <tr>\n",
       "      <th>2025-06-30</th>\n",
       "      <td>6193.36</td>\n",
       "      <td>6215.08</td>\n",
       "      <td>6174.97</td>\n",
       "      <td>6204.95</td>\n",
       "      <td>3.332438e+09</td>\n",
       "    </tr>\n",
       "    <tr>\n",
       "      <th>2025-06-27</th>\n",
       "      <td>6150.70</td>\n",
       "      <td>6187.68</td>\n",
       "      <td>6132.35</td>\n",
       "      <td>6173.07</td>\n",
       "      <td>4.642836e+09</td>\n",
       "    </tr>\n",
       "  </tbody>\n",
       "</table>\n",
       "</div>"
      ],
      "text/plain": [
       "               Open     High      Low    Close        Volume\n",
       "Date                                                        \n",
       "2025-07-03  6246.46  6284.65  6246.46  6279.35  1.839510e+09\n",
       "2025-07-02  6193.88  6227.60  6188.29  6227.42  3.141260e+09\n",
       "2025-07-01  6187.25  6210.78  6177.97  6198.01  3.572881e+09\n",
       "2025-06-30  6193.36  6215.08  6174.97  6204.95  3.332438e+09\n",
       "2025-06-27  6150.70  6187.68  6132.35  6173.07  4.642836e+09"
      ]
     },
     "execution_count": 30,
     "metadata": {},
     "output_type": "execute_result"
    }
   ],
   "source": [
    "# Other indexes: https://stooq.com/t/\n",
    "\n",
    "# SPX= S&P500\n",
    "spx_index = pdr.get_data_stooq('^SPX', start, end)\n",
    "spx_index.head()"
   ]
  },
  {
   "cell_type": "code",
   "execution_count": 37,
   "id": "e876eb2c",
   "metadata": {},
   "outputs": [
    {
     "name": "stdout",
     "output_type": "stream",
     "text": [
      "S&P 500 index data saved to CSV\n"
     ]
    }
   ],
   "source": [
    "# Save spx_index to CSV if it's not None\n",
    "if spx_index is not None:\n",
    "\tspx_index.to_csv('spx_index.csv')\n",
    "\tprint(\"S&P 500 index data saved to CSV\")\n",
    "else:\n",
    "\tprint(\"Loading S&P 500 data from CSV\")\n",
    "\tspx_index = pd.read_csv('spx_index.csv', index_col=0, parse_dates=True)"
   ]
  },
  {
   "cell_type": "code",
   "execution_count": 38,
   "id": "80da027b",
   "metadata": {},
   "outputs": [
    {
     "data": {
      "application/vnd.microsoft.datawrangler.viewer.v0+json": {
       "columns": [
        {
         "name": "Date",
         "rawType": "datetime64[ns]",
         "type": "datetime"
        },
        {
         "name": "Open",
         "rawType": "float64",
         "type": "float"
        },
        {
         "name": "High",
         "rawType": "float64",
         "type": "float"
        },
        {
         "name": "Low",
         "rawType": "float64",
         "type": "float"
        },
        {
         "name": "Close",
         "rawType": "float64",
         "type": "float"
        },
        {
         "name": "Volume",
         "rawType": "float64",
         "type": "float"
        }
       ],
       "ref": "994e7a3e-c431-40b0-8958-fbdcf9a65b88",
       "rows": [
        [
         "2025-07-03 00:00:00",
         "6246.46",
         "6284.65",
         "6246.46",
         "6279.35",
         "1839509804.0"
        ],
        [
         "2025-07-02 00:00:00",
         "6193.88",
         "6227.6",
         "6188.29",
         "6227.42",
         "3141259934.0"
        ],
        [
         "2025-07-01 00:00:00",
         "6187.25",
         "6210.78",
         "6177.97",
         "6198.01",
         "3572880894.0"
        ],
        [
         "2025-06-30 00:00:00",
         "6193.36",
         "6215.08",
         "6174.97",
         "6204.95",
         "3332438031.0"
        ],
        [
         "2025-06-27 00:00:00",
         "6150.7",
         "6187.68",
         "6132.35",
         "6173.07",
         "4642836205.0"
        ]
       ],
       "shape": {
        "columns": 5,
        "rows": 5
       }
      },
      "text/html": [
       "<div>\n",
       "<style scoped>\n",
       "    .dataframe tbody tr th:only-of-type {\n",
       "        vertical-align: middle;\n",
       "    }\n",
       "\n",
       "    .dataframe tbody tr th {\n",
       "        vertical-align: top;\n",
       "    }\n",
       "\n",
       "    .dataframe thead th {\n",
       "        text-align: right;\n",
       "    }\n",
       "</style>\n",
       "<table border=\"1\" class=\"dataframe\">\n",
       "  <thead>\n",
       "    <tr style=\"text-align: right;\">\n",
       "      <th></th>\n",
       "      <th>Open</th>\n",
       "      <th>High</th>\n",
       "      <th>Low</th>\n",
       "      <th>Close</th>\n",
       "      <th>Volume</th>\n",
       "    </tr>\n",
       "    <tr>\n",
       "      <th>Date</th>\n",
       "      <th></th>\n",
       "      <th></th>\n",
       "      <th></th>\n",
       "      <th></th>\n",
       "      <th></th>\n",
       "    </tr>\n",
       "  </thead>\n",
       "  <tbody>\n",
       "    <tr>\n",
       "      <th>2025-07-03</th>\n",
       "      <td>6246.46</td>\n",
       "      <td>6284.65</td>\n",
       "      <td>6246.46</td>\n",
       "      <td>6279.35</td>\n",
       "      <td>1.839510e+09</td>\n",
       "    </tr>\n",
       "    <tr>\n",
       "      <th>2025-07-02</th>\n",
       "      <td>6193.88</td>\n",
       "      <td>6227.60</td>\n",
       "      <td>6188.29</td>\n",
       "      <td>6227.42</td>\n",
       "      <td>3.141260e+09</td>\n",
       "    </tr>\n",
       "    <tr>\n",
       "      <th>2025-07-01</th>\n",
       "      <td>6187.25</td>\n",
       "      <td>6210.78</td>\n",
       "      <td>6177.97</td>\n",
       "      <td>6198.01</td>\n",
       "      <td>3.572881e+09</td>\n",
       "    </tr>\n",
       "    <tr>\n",
       "      <th>2025-06-30</th>\n",
       "      <td>6193.36</td>\n",
       "      <td>6215.08</td>\n",
       "      <td>6174.97</td>\n",
       "      <td>6204.95</td>\n",
       "      <td>3.332438e+09</td>\n",
       "    </tr>\n",
       "    <tr>\n",
       "      <th>2025-06-27</th>\n",
       "      <td>6150.70</td>\n",
       "      <td>6187.68</td>\n",
       "      <td>6132.35</td>\n",
       "      <td>6173.07</td>\n",
       "      <td>4.642836e+09</td>\n",
       "    </tr>\n",
       "  </tbody>\n",
       "</table>\n",
       "</div>"
      ],
      "text/plain": [
       "               Open     High      Low    Close        Volume\n",
       "Date                                                        \n",
       "2025-07-03  6246.46  6284.65  6246.46  6279.35  1.839510e+09\n",
       "2025-07-02  6193.88  6227.60  6188.29  6227.42  3.141260e+09\n",
       "2025-07-01  6187.25  6210.78  6177.97  6198.01  3.572881e+09\n",
       "2025-06-30  6193.36  6215.08  6174.97  6204.95  3.332438e+09\n",
       "2025-06-27  6150.70  6187.68  6132.35  6173.07  4.642836e+09"
      ]
     },
     "execution_count": 38,
     "metadata": {},
     "output_type": "execute_result"
    }
   ],
   "source": [
    "spx_index.head()"
   ]
  },
  {
   "cell_type": "code",
   "execution_count": 39,
   "id": "8a53aba1",
   "metadata": {},
   "outputs": [],
   "source": [
    "# 252 trading days a year\n",
    "  # REVERSE ORDER OF THE DATA!!!\n",
    "spx_index['spx_dod'] = (spx_index.Close/spx_index.Close.shift(-1)-1)\n",
    "spx_index['spx_qoq'] = (spx_index.Close/spx_index.Close.shift(-63)-1)\n",
    "spx_index['spx_yoy'] = (spx_index.Close/spx_index.Close.shift(-252)-1)"
   ]
  },
  {
   "cell_type": "code",
   "execution_count": 40,
   "id": "4864e05f",
   "metadata": {},
   "outputs": [
    {
     "data": {
      "application/vnd.microsoft.datawrangler.viewer.v0+json": {
       "columns": [
        {
         "name": "Date",
         "rawType": "datetime64[ns]",
         "type": "datetime"
        },
        {
         "name": "Open",
         "rawType": "float64",
         "type": "float"
        },
        {
         "name": "High",
         "rawType": "float64",
         "type": "float"
        },
        {
         "name": "Low",
         "rawType": "float64",
         "type": "float"
        },
        {
         "name": "Close",
         "rawType": "float64",
         "type": "float"
        },
        {
         "name": "Volume",
         "rawType": "float64",
         "type": "float"
        },
        {
         "name": "spx_dod",
         "rawType": "float64",
         "type": "float"
        },
        {
         "name": "spx_qoq",
         "rawType": "float64",
         "type": "float"
        },
        {
         "name": "spx_yoy",
         "rawType": "float64",
         "type": "float"
        }
       ],
       "ref": "e3fde8f3-073e-41f3-9493-6d5d8c39a207",
       "rows": [
        [
         "2025-07-03 00:00:00",
         "6246.46",
         "6284.65",
         "6246.46",
         "6279.35",
         "1839509804.0",
         "0.00833892687501403",
         "0.10727970699897904",
         "0.14689438895068396"
        ],
        [
         "2025-07-02 00:00:00",
         "6193.88",
         "6227.6",
         "6188.29",
         "6227.42",
         "3141259934.0",
         "0.004745071401949907",
         "0.10551084932372579",
         "0.1404528539615566"
        ],
        [
         "2025-07-01 00:00:00",
         "6187.25",
         "6210.78",
         "6177.97",
         "6198.01",
         "3572880894.0",
         "-0.0011184618731818752",
         "0.1044504040557035",
         "0.13043168997258747"
        ],
        [
         "2025-06-30 00:00:00",
         "6193.36",
         "6215.08",
         "6174.97",
         "6204.95",
         "3332438031.0",
         "0.0051643671625301035",
         "0.1118109135736991",
         "0.13272421913507015"
        ],
        [
         "2025-06-27 00:00:00",
         "6150.7",
         "6187.68",
         "6132.35",
         "6173.07",
         "4642836205.0",
         "0.005219002706390752",
         "0.0842673242806029",
         "0.12867643025615694"
        ]
       ],
       "shape": {
        "columns": 8,
        "rows": 5
       }
      },
      "text/html": [
       "<div>\n",
       "<style scoped>\n",
       "    .dataframe tbody tr th:only-of-type {\n",
       "        vertical-align: middle;\n",
       "    }\n",
       "\n",
       "    .dataframe tbody tr th {\n",
       "        vertical-align: top;\n",
       "    }\n",
       "\n",
       "    .dataframe thead th {\n",
       "        text-align: right;\n",
       "    }\n",
       "</style>\n",
       "<table border=\"1\" class=\"dataframe\">\n",
       "  <thead>\n",
       "    <tr style=\"text-align: right;\">\n",
       "      <th></th>\n",
       "      <th>Open</th>\n",
       "      <th>High</th>\n",
       "      <th>Low</th>\n",
       "      <th>Close</th>\n",
       "      <th>Volume</th>\n",
       "      <th>spx_dod</th>\n",
       "      <th>spx_qoq</th>\n",
       "      <th>spx_yoy</th>\n",
       "    </tr>\n",
       "    <tr>\n",
       "      <th>Date</th>\n",
       "      <th></th>\n",
       "      <th></th>\n",
       "      <th></th>\n",
       "      <th></th>\n",
       "      <th></th>\n",
       "      <th></th>\n",
       "      <th></th>\n",
       "      <th></th>\n",
       "    </tr>\n",
       "  </thead>\n",
       "  <tbody>\n",
       "    <tr>\n",
       "      <th>2025-07-03</th>\n",
       "      <td>6246.46</td>\n",
       "      <td>6284.65</td>\n",
       "      <td>6246.46</td>\n",
       "      <td>6279.35</td>\n",
       "      <td>1.839510e+09</td>\n",
       "      <td>0.008339</td>\n",
       "      <td>0.107280</td>\n",
       "      <td>0.146894</td>\n",
       "    </tr>\n",
       "    <tr>\n",
       "      <th>2025-07-02</th>\n",
       "      <td>6193.88</td>\n",
       "      <td>6227.60</td>\n",
       "      <td>6188.29</td>\n",
       "      <td>6227.42</td>\n",
       "      <td>3.141260e+09</td>\n",
       "      <td>0.004745</td>\n",
       "      <td>0.105511</td>\n",
       "      <td>0.140453</td>\n",
       "    </tr>\n",
       "    <tr>\n",
       "      <th>2025-07-01</th>\n",
       "      <td>6187.25</td>\n",
       "      <td>6210.78</td>\n",
       "      <td>6177.97</td>\n",
       "      <td>6198.01</td>\n",
       "      <td>3.572881e+09</td>\n",
       "      <td>-0.001118</td>\n",
       "      <td>0.104450</td>\n",
       "      <td>0.130432</td>\n",
       "    </tr>\n",
       "    <tr>\n",
       "      <th>2025-06-30</th>\n",
       "      <td>6193.36</td>\n",
       "      <td>6215.08</td>\n",
       "      <td>6174.97</td>\n",
       "      <td>6204.95</td>\n",
       "      <td>3.332438e+09</td>\n",
       "      <td>0.005164</td>\n",
       "      <td>0.111811</td>\n",
       "      <td>0.132724</td>\n",
       "    </tr>\n",
       "    <tr>\n",
       "      <th>2025-06-27</th>\n",
       "      <td>6150.70</td>\n",
       "      <td>6187.68</td>\n",
       "      <td>6132.35</td>\n",
       "      <td>6173.07</td>\n",
       "      <td>4.642836e+09</td>\n",
       "      <td>0.005219</td>\n",
       "      <td>0.084267</td>\n",
       "      <td>0.128676</td>\n",
       "    </tr>\n",
       "  </tbody>\n",
       "</table>\n",
       "</div>"
      ],
      "text/plain": [
       "               Open     High      Low    Close        Volume   spx_dod  \\\n",
       "Date                                                                     \n",
       "2025-07-03  6246.46  6284.65  6246.46  6279.35  1.839510e+09  0.008339   \n",
       "2025-07-02  6193.88  6227.60  6188.29  6227.42  3.141260e+09  0.004745   \n",
       "2025-07-01  6187.25  6210.78  6177.97  6198.01  3.572881e+09 -0.001118   \n",
       "2025-06-30  6193.36  6215.08  6174.97  6204.95  3.332438e+09  0.005164   \n",
       "2025-06-27  6150.70  6187.68  6132.35  6173.07  4.642836e+09  0.005219   \n",
       "\n",
       "             spx_qoq   spx_yoy  \n",
       "Date                            \n",
       "2025-07-03  0.107280  0.146894  \n",
       "2025-07-02  0.105511  0.140453  \n",
       "2025-07-01  0.104450  0.130432  \n",
       "2025-06-30  0.111811  0.132724  \n",
       "2025-06-27  0.084267  0.128676  "
      ]
     },
     "execution_count": 40,
     "metadata": {},
     "output_type": "execute_result"
    }
   ],
   "source": [
    "spx_index.head()"
   ]
  },
  {
   "cell_type": "code",
   "execution_count": 41,
   "id": "c423551b",
   "metadata": {},
   "outputs": [],
   "source": [
    "spx_truncated = spx_index[spx_index.index>='1990-01-01']"
   ]
  },
  {
   "cell_type": "code",
   "execution_count": 42,
   "id": "e56e18a0",
   "metadata": {},
   "outputs": [
    {
     "data": {
      "application/vnd.microsoft.datawrangler.viewer.v0+json": {
       "columns": [
        {
         "name": "Date",
         "rawType": "datetime64[ns]",
         "type": "datetime"
        },
        {
         "name": "Open",
         "rawType": "float64",
         "type": "float"
        },
        {
         "name": "High",
         "rawType": "float64",
         "type": "float"
        },
        {
         "name": "Low",
         "rawType": "float64",
         "type": "float"
        },
        {
         "name": "Close",
         "rawType": "float64",
         "type": "float"
        },
        {
         "name": "Volume",
         "rawType": "float64",
         "type": "float"
        },
        {
         "name": "spx_dod",
         "rawType": "float64",
         "type": "float"
        },
        {
         "name": "spx_qoq",
         "rawType": "float64",
         "type": "float"
        },
        {
         "name": "spx_yoy",
         "rawType": "float64",
         "type": "float"
        }
       ],
       "ref": "b1a97a65-731e-4ee7-9a56-f20f7c1b27ec",
       "rows": [
        [
         "2025-07-03 00:00:00",
         "6246.46",
         "6284.65",
         "6246.46",
         "6279.35",
         "1839509804.0",
         "0.00833892687501403",
         "0.10727970699897904",
         "0.14689438895068396"
        ],
        [
         "2025-07-02 00:00:00",
         "6193.88",
         "6227.6",
         "6188.29",
         "6227.42",
         "3141259934.0",
         "0.004745071401949907",
         "0.10551084932372579",
         "0.1404528539615566"
        ],
        [
         "2025-07-01 00:00:00",
         "6187.25",
         "6210.78",
         "6177.97",
         "6198.01",
         "3572880894.0",
         "-0.0011184618731818752",
         "0.1044504040557035",
         "0.13043168997258747"
        ],
        [
         "2025-06-30 00:00:00",
         "6193.36",
         "6215.08",
         "6174.97",
         "6204.95",
         "3332438031.0",
         "0.0051643671625301035",
         "0.1118109135736991",
         "0.13272421913507015"
        ],
        [
         "2025-06-27 00:00:00",
         "6150.7",
         "6187.68",
         "6132.35",
         "6173.07",
         "4642836205.0",
         "0.005219002706390752",
         "0.0842673242806029",
         "0.12867643025615694"
        ],
        [
         "2025-06-26 00:00:00",
         "6112.09",
         "6146.52",
         "6107.27",
         "6141.02",
         "3049538066.0",
         "0.008020143922681022",
         "0.07507090087882085",
         "0.12723321224625406"
        ],
        [
         "2025-06-25 00:00:00",
         "6104.23",
         "6108.51",
         "6080.09",
         "6092.16",
         "2894445051.0",
         "-3.282897091061443e-06",
         "0.05461816104489636",
         "0.11483689625262139"
        ],
        [
         "2025-06-24 00:00:00",
         "6061.21",
         "6101.76",
         "6059.25",
         "6092.18",
         "3291211984.0",
         "0.011121677894565751",
         "0.05628193502636303",
         "0.11309899016474922"
        ],
        [
         "2025-06-23 00:00:00",
         "5969.67",
         "6028.77",
         "5943.23",
         "6025.17",
         "3270234044.0",
         "0.009606490790637912",
         "0.06309769989201697",
         "0.0980749148446427"
        ],
        [
         "2025-06-20 00:00:00",
         "5999.67",
         "6018.2",
         "5952.56",
         "5967.84",
         "5195984630.0",
         "-0.002178612810510794",
         "0.0538505957205595",
         "0.09036894119194705"
        ],
        [
         "2025-06-18 00:00:00",
         "5987.93",
         "6018.25",
         "5971.89",
         "5980.87",
         "2951831932.0",
         "-0.00030922389816012696",
         "0.05384394453851704",
         "0.10112489874070252"
        ],
        [
         "2025-06-17 00:00:00",
         "6012.15",
         "6023.25",
         "5974.8",
         "5982.72",
         "2853845438.0",
         "-0.008352242873078675",
         "0.06555339058821019",
         "0.10103170192169686"
        ],
        [
         "2025-06-16 00:00:00",
         "6004.0",
         "6050.83",
         "6004.0",
         "6033.11",
         "2880110512.0",
         "0.009392719053299414",
         "0.06308060446298924",
         "0.11290843253034932"
        ],
        [
         "2025-06-13 00:00:00",
         "6000.56",
         "6026.16",
         "5963.21",
         "5976.97",
         "3029890480.0",
         "-0.01129645375054178",
         "0.05994566354669506",
         "0.11192822008736236"
        ],
        [
         "2025-06-12 00:00:00",
         "6009.9",
         "6045.43",
         "6003.88",
         "6045.26",
         "2623578843.0",
         "0.0038224979409655635",
         "0.09485431547834655",
         "0.12768080823908412"
        ],
        [
         "2025-06-11 00:00:00",
         "6049.38",
         "6059.4",
         "6002.32",
         "6022.24",
         "2981333190.0",
         "-0.002743918089822439",
         "0.0755344418052255",
         "0.12628600390126032"
        ],
        [
         "2025-06-10 00:00:00",
         "6009.91",
         "6043.01",
         "6000.28",
         "6038.81",
         "3011278347.0",
         "0.005482960032501483",
         "0.08376420253155481",
         "0.12812537362505982"
        ],
        [
         "2025-06-09 00:00:00",
         "6004.63",
         "6021.31",
         "5994.18",
         "6005.88",
         "2893721501.0",
         "0.0009199448033119229",
         "0.06969735829699908",
         "0.12174941119119631"
        ],
        [
         "2025-06-06 00:00:00",
         "5987.06",
         "6016.87",
         "5978.63",
         "6000.36",
         "2556627346.0",
         "0.010280672806559643",
         "0.03988769886659038",
         "0.13399630339384716"
        ],
        [
         "2025-06-05 00:00:00",
         "5985.67",
         "5999.7",
         "5921.2",
         "5939.3",
         "3140507873.0",
         "-0.005277340930292529",
         "0.03498811540257751",
         "0.12414354393004512"
        ],
        [
         "2025-06-04 00:00:00",
         "5978.94",
         "5990.48",
         "5966.11",
         "5970.81",
         "2682443108.0",
         "7.369727504324963e-05",
         "0.021938750186131895",
         "0.1313687704997244"
        ],
        [
         "2025-06-03 00:00:00",
         "5938.56",
         "5981.35",
         "5929.0",
         "5970.37",
         "2995303857.0",
         "0.005800260784307065",
         "0.03326670301047918",
         "0.14036726336458183"
        ],
        [
         "2025-06-02 00:00:00",
         "5896.68",
         "5937.4",
         "5861.43",
         "5935.94",
         "2765357514.0",
         "0.00410204188649943",
         "0.014739167002864928",
         "0.1270165845508311"
        ],
        [
         "2025-05-30 00:00:00",
         "5903.67",
         "5922.14",
         "5843.66",
         "5911.69",
         "4815797845.0",
         "-8.118846379590039e-05",
         "-0.007189520530691107",
         "0.11414350438368337"
        ],
        [
         "2025-05-29 00:00:00",
         "5939.96",
         "5943.13",
         "5873.8",
         "5912.17",
         "2860740970.0",
         "0.004011174227950942",
         "0.008632499483926637",
         "0.11451122773680789"
        ],
        [
         "2025-05-28 00:00:00",
         "5925.54",
         "5939.92",
         "5881.88",
         "5888.55",
         "2671435626.0",
         "-0.005571185873944895",
         "-0.011334674264530609",
         "0.11783007836228898"
        ],
        [
         "2025-05-27 00:00:00",
         "5854.07",
         "5924.33",
         "5854.07",
         "5921.54",
         "2908886707.0",
         "0.020459018201495205",
         "-0.005660551614122045",
         "0.11579590013962648"
        ],
        [
         "2025-05-23 00:00:00",
         "5781.89",
         "5829.51",
         "5767.41",
         "5802.82",
         "2552789941.0",
         "-0.006708307585916562",
         "-0.030155851752809992",
         "0.09046662444727982"
        ],
        [
         "2025-05-22 00:00:00",
         "5841.26",
         "5878.08",
         "5825.82",
         "5842.01",
         "2780476653.0",
         "-0.0004448543187653975",
         "-0.02845772501176591",
         "0.10057779293272784"
        ],
        [
         "2025-05-21 00:00:00",
         "5910.18",
         "5938.37",
         "5830.91",
         "5844.61",
         "3120335266.0",
         "-0.016135114115741978",
         "-0.04461121500215781",
         "0.1020766432785809"
        ],
        [
         "2025-05-20 00:00:00",
         "5944.66",
         "5953.06",
         "5909.26",
         "5940.46",
         "2548764044.0",
         "-0.0038802065866255786",
         "-0.03315185989925373",
         "0.12145513582903855"
        ],
        [
         "2025-05-19 00:00:00",
         "5902.88",
         "5968.61",
         "5895.69",
         "5963.6",
         "2570089512.0",
         "0.000876077054501545",
         "-0.027078527403182506",
         "0.12347993180298245"
        ],
        [
         "2025-05-16 00:00:00",
         "5929.09",
         "5958.62",
         "5907.36",
         "5958.38",
         "2964380123.0",
         "0.0070053220166539365",
         "-0.025553467666890706",
         "0.13564768577462316"
        ],
        [
         "2025-05-15 00:00:00",
         "5869.82",
         "5924.21",
         "5865.16",
         "5916.93",
         "3162012704.0",
         "0.004132315556174104",
         "-0.03240191853895369",
         "0.1332032282405935"
        ],
        [
         "2025-05-14 00:00:00",
         "5896.74",
         "5906.55",
         "5872.11",
         "5892.58",
         "3460287578.0",
         "0.001024369112638146",
         "-0.026336878735353952",
         "0.12826747953158146"
        ],
        [
         "2025-05-13 00:00:00",
         "5854.15",
         "5906.64",
         "5845.02",
         "5886.55",
         "3560150856.0",
         "0.007248224304822415",
         "-0.02998269753645877",
         "0.12897193752301472"
        ],
        [
         "2025-05-12 00:00:00",
         "5807.2",
         "5845.37",
         "5786.08",
         "5844.19",
         "3760355072.0",
         "0.03255882160670387",
         "-0.03663598420160752",
         "0.12655392497980777"
        ],
        [
         "2025-05-09 00:00:00",
         "5679.65",
         "5691.69",
         "5644.15",
         "5659.91",
         "2455756301.0",
         "-0.0007115188367108338",
         "-0.060750183787228296",
         "0.09102492434026632"
        ],
        [
         "2025-05-08 00:00:00",
         "5663.6",
         "5720.1",
         "5635.38",
         "5663.94",
         "3223260422.0",
         "0.005799747126763233",
         "-0.06897759046086427",
         "0.09326852920625228"
        ],
        [
         "2025-05-07 00:00:00",
         "5614.18",
         "5654.73",
         "5578.64",
         "5631.28",
         "3217062436.0",
         "0.004346422539330819",
         "-0.07097276572718214",
         "0.09818849835894206"
        ],
        [
         "2025-05-06 00:00:00",
         "5605.87",
         "5649.58",
         "5586.04",
         "5606.91",
         "2819089147.0",
         "-0.007693287885062627",
         "-0.07137770210736227",
         "0.10716598870502736"
        ],
        [
         "2025-05-05 00:00:00",
         "5655.32",
         "5683.38",
         "5634.48",
         "5650.38",
         "2704187234.0",
         "-0.0063815906321273985",
         "-0.057416962350927525",
         "0.125934811762338"
        ],
        [
         "2025-05-02 00:00:00",
         "5645.88",
         "5700.7",
         "5642.28",
         "5686.67",
         "3023303433.0",
         "0.014726612825518126",
         "-0.05858095233365279",
         "0.12927324755892444"
        ],
        [
         "2025-05-01 00:00:00",
         "5625.14",
         "5658.91",
         "5597.35",
         "5604.14",
         "3254820687.0",
         "0.006299088176460632",
         "-0.07692586437210613",
         "0.09537798783074058"
        ],
        [
         "2025-04-30 00:00:00",
         "5499.44",
         "5581.84",
         "5433.24",
         "5569.06",
         "3778234782.0",
         "0.0014799948928487794",
         "-0.07786485542222543",
         "0.09198111357736138"
        ],
        [
         "2025-04-29 00:00:00",
         "5508.87",
         "5571.95",
         "5505.7",
         "5560.83",
         "2873460382.0",
         "0.0058023965634184105",
         "-0.08353577137960011",
         "0.10149908288137666"
        ],
        [
         "2025-04-28 00:00:00",
         "5529.22",
         "5553.66",
         "5468.64",
         "5528.75",
         "2781484249.0",
         "0.0006406996295162948",
         "-0.08042373276028392",
         "0.0901327581073541"
        ],
        [
         "2025-04-25 00:00:00",
         "5489.73",
         "5528.11",
         "5455.86",
         "5525.21",
         "2948448664.0",
         "0.007373144179245283",
         "-0.09441195560246762",
         "0.0896668014317974"
        ],
        [
         "2025-04-24 00:00:00",
         "5381.38",
         "5489.4",
         "5371.96",
         "5484.77",
         "3167406758.0",
         "0.02025908412793509",
         "-0.10360680600976346",
         "0.09463337724025078"
        ],
        [
         "2025-04-23 00:00:00",
         "5395.92",
         "5469.69",
         "5356.17",
         "5375.86",
         "3557338239.0",
         "0.016661119264111734",
         "-0.11673789138682011",
         "0.08226516589729083"
        ]
       ],
       "shape": {
        "columns": 8,
        "rows": 8942
       }
      },
      "text/html": [
       "<div>\n",
       "<style scoped>\n",
       "    .dataframe tbody tr th:only-of-type {\n",
       "        vertical-align: middle;\n",
       "    }\n",
       "\n",
       "    .dataframe tbody tr th {\n",
       "        vertical-align: top;\n",
       "    }\n",
       "\n",
       "    .dataframe thead th {\n",
       "        text-align: right;\n",
       "    }\n",
       "</style>\n",
       "<table border=\"1\" class=\"dataframe\">\n",
       "  <thead>\n",
       "    <tr style=\"text-align: right;\">\n",
       "      <th></th>\n",
       "      <th>Open</th>\n",
       "      <th>High</th>\n",
       "      <th>Low</th>\n",
       "      <th>Close</th>\n",
       "      <th>Volume</th>\n",
       "      <th>spx_dod</th>\n",
       "      <th>spx_qoq</th>\n",
       "      <th>spx_yoy</th>\n",
       "    </tr>\n",
       "    <tr>\n",
       "      <th>Date</th>\n",
       "      <th></th>\n",
       "      <th></th>\n",
       "      <th></th>\n",
       "      <th></th>\n",
       "      <th></th>\n",
       "      <th></th>\n",
       "      <th></th>\n",
       "      <th></th>\n",
       "    </tr>\n",
       "  </thead>\n",
       "  <tbody>\n",
       "    <tr>\n",
       "      <th>2025-07-03</th>\n",
       "      <td>6246.46</td>\n",
       "      <td>6284.65</td>\n",
       "      <td>6246.46</td>\n",
       "      <td>6279.35</td>\n",
       "      <td>1.839510e+09</td>\n",
       "      <td>0.008339</td>\n",
       "      <td>0.107280</td>\n",
       "      <td>0.146894</td>\n",
       "    </tr>\n",
       "    <tr>\n",
       "      <th>2025-07-02</th>\n",
       "      <td>6193.88</td>\n",
       "      <td>6227.60</td>\n",
       "      <td>6188.29</td>\n",
       "      <td>6227.42</td>\n",
       "      <td>3.141260e+09</td>\n",
       "      <td>0.004745</td>\n",
       "      <td>0.105511</td>\n",
       "      <td>0.140453</td>\n",
       "    </tr>\n",
       "    <tr>\n",
       "      <th>2025-07-01</th>\n",
       "      <td>6187.25</td>\n",
       "      <td>6210.78</td>\n",
       "      <td>6177.97</td>\n",
       "      <td>6198.01</td>\n",
       "      <td>3.572881e+09</td>\n",
       "      <td>-0.001118</td>\n",
       "      <td>0.104450</td>\n",
       "      <td>0.130432</td>\n",
       "    </tr>\n",
       "    <tr>\n",
       "      <th>2025-06-30</th>\n",
       "      <td>6193.36</td>\n",
       "      <td>6215.08</td>\n",
       "      <td>6174.97</td>\n",
       "      <td>6204.95</td>\n",
       "      <td>3.332438e+09</td>\n",
       "      <td>0.005164</td>\n",
       "      <td>0.111811</td>\n",
       "      <td>0.132724</td>\n",
       "    </tr>\n",
       "    <tr>\n",
       "      <th>2025-06-27</th>\n",
       "      <td>6150.70</td>\n",
       "      <td>6187.68</td>\n",
       "      <td>6132.35</td>\n",
       "      <td>6173.07</td>\n",
       "      <td>4.642836e+09</td>\n",
       "      <td>0.005219</td>\n",
       "      <td>0.084267</td>\n",
       "      <td>0.128676</td>\n",
       "    </tr>\n",
       "    <tr>\n",
       "      <th>...</th>\n",
       "      <td>...</td>\n",
       "      <td>...</td>\n",
       "      <td>...</td>\n",
       "      <td>...</td>\n",
       "      <td>...</td>\n",
       "      <td>...</td>\n",
       "      <td>...</td>\n",
       "      <td>...</td>\n",
       "    </tr>\n",
       "    <tr>\n",
       "      <th>1990-01-08</th>\n",
       "      <td>352.20</td>\n",
       "      <td>354.24</td>\n",
       "      <td>350.54</td>\n",
       "      <td>353.79</td>\n",
       "      <td>7.783889e+07</td>\n",
       "      <td>0.004514</td>\n",
       "      <td>-0.013908</td>\n",
       "      <td>0.259129</td>\n",
       "    </tr>\n",
       "    <tr>\n",
       "      <th>1990-01-05</th>\n",
       "      <td>355.67</td>\n",
       "      <td>355.67</td>\n",
       "      <td>351.35</td>\n",
       "      <td>352.20</td>\n",
       "      <td>8.807222e+07</td>\n",
       "      <td>-0.009756</td>\n",
       "      <td>-0.013362</td>\n",
       "      <td>0.254854</td>\n",
       "    </tr>\n",
       "    <tr>\n",
       "      <th>1990-01-04</th>\n",
       "      <td>358.76</td>\n",
       "      <td>358.76</td>\n",
       "      <td>352.89</td>\n",
       "      <td>355.67</td>\n",
       "      <td>9.833333e+07</td>\n",
       "      <td>-0.008613</td>\n",
       "      <td>-0.003558</td>\n",
       "      <td>0.270205</td>\n",
       "    </tr>\n",
       "    <tr>\n",
       "      <th>1990-01-03</th>\n",
       "      <td>359.69</td>\n",
       "      <td>360.59</td>\n",
       "      <td>357.89</td>\n",
       "      <td>358.76</td>\n",
       "      <td>1.068500e+08</td>\n",
       "      <td>-0.002586</td>\n",
       "      <td>0.011418</td>\n",
       "      <td>0.283899</td>\n",
       "    </tr>\n",
       "    <tr>\n",
       "      <th>1990-01-02</th>\n",
       "      <td>353.40</td>\n",
       "      <td>359.69</td>\n",
       "      <td>351.98</td>\n",
       "      <td>359.69</td>\n",
       "      <td>9.003889e+07</td>\n",
       "      <td>0.017799</td>\n",
       "      <td>0.025138</td>\n",
       "      <td>0.306491</td>\n",
       "    </tr>\n",
       "  </tbody>\n",
       "</table>\n",
       "<p>8942 rows × 8 columns</p>\n",
       "</div>"
      ],
      "text/plain": [
       "               Open     High      Low    Close        Volume   spx_dod  \\\n",
       "Date                                                                     \n",
       "2025-07-03  6246.46  6284.65  6246.46  6279.35  1.839510e+09  0.008339   \n",
       "2025-07-02  6193.88  6227.60  6188.29  6227.42  3.141260e+09  0.004745   \n",
       "2025-07-01  6187.25  6210.78  6177.97  6198.01  3.572881e+09 -0.001118   \n",
       "2025-06-30  6193.36  6215.08  6174.97  6204.95  3.332438e+09  0.005164   \n",
       "2025-06-27  6150.70  6187.68  6132.35  6173.07  4.642836e+09  0.005219   \n",
       "...             ...      ...      ...      ...           ...       ...   \n",
       "1990-01-08   352.20   354.24   350.54   353.79  7.783889e+07  0.004514   \n",
       "1990-01-05   355.67   355.67   351.35   352.20  8.807222e+07 -0.009756   \n",
       "1990-01-04   358.76   358.76   352.89   355.67  9.833333e+07 -0.008613   \n",
       "1990-01-03   359.69   360.59   357.89   358.76  1.068500e+08 -0.002586   \n",
       "1990-01-02   353.40   359.69   351.98   359.69  9.003889e+07  0.017799   \n",
       "\n",
       "             spx_qoq   spx_yoy  \n",
       "Date                            \n",
       "2025-07-03  0.107280  0.146894  \n",
       "2025-07-02  0.105511  0.140453  \n",
       "2025-07-01  0.104450  0.130432  \n",
       "2025-06-30  0.111811  0.132724  \n",
       "2025-06-27  0.084267  0.128676  \n",
       "...              ...       ...  \n",
       "1990-01-08 -0.013908  0.259129  \n",
       "1990-01-05 -0.013362  0.254854  \n",
       "1990-01-04 -0.003558  0.270205  \n",
       "1990-01-03  0.011418  0.283899  \n",
       "1990-01-02  0.025138  0.306491  \n",
       "\n",
       "[8942 rows x 8 columns]"
      ]
     },
     "execution_count": 42,
     "metadata": {},
     "output_type": "execute_result"
    }
   ],
   "source": [
    "spx_truncated"
   ]
  },
  {
   "cell_type": "code",
   "execution_count": 43,
   "id": "4eaed7ee",
   "metadata": {},
   "outputs": [
    {
     "data": {
      "image/png": "[encoded data removed]",
      "text/plain": [
       "<Figure size 2000x600 with 2 Axes>"
      ]
     },
     "metadata": {},
     "output_type": "display_data"
    }
   ],
   "source": [
    "# S&P500 abs. vs. relative growth\n",
    "fig, ax = plt.subplots(figsize=(20, 6))\n",
    "plt.grid(True)\n",
    "\n",
    "# Plotting area under CPI\n",
    "ax.fill_between(spx_truncated.index, spx_truncated.Close, color=\"red\", alpha=0.3, label=\"S&P 500 Absolute Value (Close price)\")\n",
    "\n",
    "# Creating a secondary y-axis for CPI growth percentage\n",
    "ax2 = ax.twinx()\n",
    "ax2.yaxis.set_major_formatter(mtick.PercentFormatter(1.0))\n",
    "ax2.plot(spx_truncated.spx_yoy,\n",
    "         color=\"blue\",\n",
    "        #  marker=\".\",\n",
    "         label=\"Year-over-Year Growth (%)\")\n",
    "\n",
    "# Setting labels and title\n",
    "ax.set_xlabel(\"Date\", fontsize=14)\n",
    "ax.set_ylabel(\"S&P 500 Absolute Value (Close price\", color=\"red\", fontsize=14)\n",
    "ax2.set_ylabel(\"Year-over-Year Growth (%)\", color=\"blue\", fontsize=14)\n",
    "\n",
    "# Adding legend\n",
    "lines, labels = ax.get_legend_handles_labels()\n",
    "lines2, labels2 = ax2.get_legend_handles_labels()\n",
    "ax2.legend(lines + lines2, labels + labels2, loc='upper left')\n",
    "\n",
    "plt.show()"
   ]
  },
  {
   "cell_type": "markdown",
   "id": "e5295d3d",
   "metadata": {},
   "source": [
    "## 🔍 1.1 Open-High-Low-Close-Volum(OHLCV) - DAX index\n",
    "____"
   ]
  },
  {
   "cell_type": "code",
   "execution_count": 44,
   "id": "08e51cec",
   "metadata": {},
   "outputs": [],
   "source": [
    "# INDEXES from Yahoo Finance\n",
    "# DAX index (XETRA - XETRA Delayed Price. Currency in EUR)\n",
    "# WEB: https://finance.yahoo.com/quote/%5EGDAXI\n",
    "# Option 1: dax_daily = yf.download(tickers = [\"^GDAXI\"],\n",
    "#                      period = \"max\",\n",
    "#                      interval = \"1d\")\n",
    "\n",
    "# Option 2 (preferred):\n",
    "# Download data with Adj Close for more accurate price reflections\n",
    "ticker_obj = yf.Ticker(\"^GDAXI\")\n",
    "dax_daily = ticker_obj.history(start = start)"
   ]
  },
  {
   "cell_type": "code",
   "execution_count": 45,
   "id": "6dca017c",
   "metadata": {},
   "outputs": [],
   "source": [
    "dax_daily = dax_daily.to_csv('dax_daily.csv')"
   ]
  },
  {
   "cell_type": "code",
   "execution_count": 48,
   "id": "9ed6c46e",
   "metadata": {},
   "outputs": [
    {
     "data": {
      "application/vnd.microsoft.datawrangler.viewer.v0+json": {
       "columns": [
        {
         "name": "Date",
         "rawType": "object",
         "type": "unknown"
        },
        {
         "name": "Open",
         "rawType": "float64",
         "type": "float"
        },
        {
         "name": "High",
         "rawType": "float64",
         "type": "float"
        },
        {
         "name": "Low",
         "rawType": "float64",
         "type": "float"
        },
        {
         "name": "Close",
         "rawType": "float64",
         "type": "float"
        },
        {
         "name": "Volume",
         "rawType": "int64",
         "type": "integer"
        },
        {
         "name": "Dividends",
         "rawType": "float64",
         "type": "float"
        },
        {
         "name": "Stock Splits",
         "rawType": "float64",
         "type": "float"
        }
       ],
       "ref": "66ebfb91-6f25-479b-aea8-c5fd98ae24a0",
       "rows": [
        [
         "1987-12-30 00:00:00+01:00",
         "1005.1900024414062",
         "1005.1900024414062",
         "1005.1900024414062",
         "1005.1900024414062",
         "0",
         "0.0",
         "0.0"
        ],
        [
         "1988-01-04 00:00:00+01:00",
         "956.489990234375",
         "956.489990234375",
         "956.489990234375",
         "956.489990234375",
         "0",
         "0.0",
         "0.0"
        ],
        [
         "1988-01-05 00:00:00+01:00",
         "996.0999755859376",
         "996.0999755859376",
         "996.0999755859376",
         "996.0999755859376",
         "0",
         "0.0",
         "0.0"
        ],
        [
         "1988-01-06 00:00:00+01:00",
         "1006.010009765625",
         "1006.010009765625",
         "1006.010009765625",
         "1006.010009765625",
         "0",
         "0.0",
         "0.0"
        ],
        [
         "1988-01-07 00:00:00+01:00",
         "1014.469970703125",
         "1014.469970703125",
         "1014.469970703125",
         "1014.469970703125",
         "0",
         "0.0",
         "0.0"
        ]
       ],
       "shape": {
        "columns": 7,
        "rows": 5
       }
      },
      "text/html": [
       "<div>\n",
       "<style scoped>\n",
       "    .dataframe tbody tr th:only-of-type {\n",
       "        vertical-align: middle;\n",
       "    }\n",
       "\n",
       "    .dataframe tbody tr th {\n",
       "        vertical-align: top;\n",
       "    }\n",
       "\n",
       "    .dataframe thead th {\n",
       "        text-align: right;\n",
       "    }\n",
       "</style>\n",
       "<table border=\"1\" class=\"dataframe\">\n",
       "  <thead>\n",
       "    <tr style=\"text-align: right;\">\n",
       "      <th></th>\n",
       "      <th>Open</th>\n",
       "      <th>High</th>\n",
       "      <th>Low</th>\n",
       "      <th>Close</th>\n",
       "      <th>Volume</th>\n",
       "      <th>Dividends</th>\n",
       "      <th>Stock Splits</th>\n",
       "    </tr>\n",
       "    <tr>\n",
       "      <th>Date</th>\n",
       "      <th></th>\n",
       "      <th></th>\n",
       "      <th></th>\n",
       "      <th></th>\n",
       "      <th></th>\n",
       "      <th></th>\n",
       "      <th></th>\n",
       "    </tr>\n",
       "  </thead>\n",
       "  <tbody>\n",
       "    <tr>\n",
       "      <th>1987-12-30 00:00:00+01:00</th>\n",
       "      <td>1005.190002</td>\n",
       "      <td>1005.190002</td>\n",
       "      <td>1005.190002</td>\n",
       "      <td>1005.190002</td>\n",
       "      <td>0</td>\n",
       "      <td>0.0</td>\n",
       "      <td>0.0</td>\n",
       "    </tr>\n",
       "    <tr>\n",
       "      <th>1988-01-04 00:00:00+01:00</th>\n",
       "      <td>956.489990</td>\n",
       "      <td>956.489990</td>\n",
       "      <td>956.489990</td>\n",
       "      <td>956.489990</td>\n",
       "      <td>0</td>\n",
       "      <td>0.0</td>\n",
       "      <td>0.0</td>\n",
       "    </tr>\n",
       "    <tr>\n",
       "      <th>1988-01-05 00:00:00+01:00</th>\n",
       "      <td>996.099976</td>\n",
       "      <td>996.099976</td>\n",
       "      <td>996.099976</td>\n",
       "      <td>996.099976</td>\n",
       "      <td>0</td>\n",
       "      <td>0.0</td>\n",
       "      <td>0.0</td>\n",
       "    </tr>\n",
       "    <tr>\n",
       "      <th>1988-01-06 00:00:00+01:00</th>\n",
       "      <td>1006.010010</td>\n",
       "      <td>1006.010010</td>\n",
       "      <td>1006.010010</td>\n",
       "      <td>1006.010010</td>\n",
       "      <td>0</td>\n",
       "      <td>0.0</td>\n",
       "      <td>0.0</td>\n",
       "    </tr>\n",
       "    <tr>\n",
       "      <th>1988-01-07 00:00:00+01:00</th>\n",
       "      <td>1014.469971</td>\n",
       "      <td>1014.469971</td>\n",
       "      <td>1014.469971</td>\n",
       "      <td>1014.469971</td>\n",
       "      <td>0</td>\n",
       "      <td>0.0</td>\n",
       "      <td>0.0</td>\n",
       "    </tr>\n",
       "  </tbody>\n",
       "</table>\n",
       "</div>"
      ],
      "text/plain": [
       "                                  Open         High          Low        Close  \\\n",
       "Date                                                                            \n",
       "1987-12-30 00:00:00+01:00  1005.190002  1005.190002  1005.190002  1005.190002   \n",
       "1988-01-04 00:00:00+01:00   956.489990   956.489990   956.489990   956.489990   \n",
       "1988-01-05 00:00:00+01:00   996.099976   996.099976   996.099976   996.099976   \n",
       "1988-01-06 00:00:00+01:00  1006.010010  1006.010010  1006.010010  1006.010010   \n",
       "1988-01-07 00:00:00+01:00  1014.469971  1014.469971  1014.469971  1014.469971   \n",
       "\n",
       "                           Volume  Dividends  Stock Splits  \n",
       "Date                                                        \n",
       "1987-12-30 00:00:00+01:00       0        0.0           0.0  \n",
       "1988-01-04 00:00:00+01:00       0        0.0           0.0  \n",
       "1988-01-05 00:00:00+01:00       0        0.0           0.0  \n",
       "1988-01-06 00:00:00+01:00       0        0.0           0.0  \n",
       "1988-01-07 00:00:00+01:00       0        0.0           0.0  "
      ]
     },
     "execution_count": 48,
     "metadata": {},
     "output_type": "execute_result"
    }
   ],
   "source": [
    "# Load the DAX data from CSV\n",
    "dax_daily = pd.read_csv('dax_daily.csv', index_col=0, parse_dates=True)\n",
    "dax_daily.head()"
   ]
  },
  {
   "cell_type": "code",
   "execution_count": 49,
   "id": "0b1c44f9",
   "metadata": {},
   "outputs": [],
   "source": [
    "# normally 252 trading days\n",
    "dax_daily['adj_close_last_year'] = dax_daily['Close'].shift(252)\n",
    "dax_daily['yoy_growth'] = dax_daily['Close'] / dax_daily['adj_close_last_year'] -1"
   ]
  },
  {
   "cell_type": "code",
   "execution_count": 50,
   "id": "8d0fbb19",
   "metadata": {},
   "outputs": [
    {
     "data": {
      "application/vnd.microsoft.datawrangler.viewer.v0+json": {
       "columns": [
        {
         "name": "Date",
         "rawType": "object",
         "type": "unknown"
        },
        {
         "name": "Open",
         "rawType": "float64",
         "type": "float"
        },
        {
         "name": "High",
         "rawType": "float64",
         "type": "float"
        },
        {
         "name": "Low",
         "rawType": "float64",
         "type": "float"
        },
        {
         "name": "Close",
         "rawType": "float64",
         "type": "float"
        },
        {
         "name": "Volume",
         "rawType": "int64",
         "type": "integer"
        },
        {
         "name": "Dividends",
         "rawType": "float64",
         "type": "float"
        },
        {
         "name": "Stock Splits",
         "rawType": "float64",
         "type": "float"
        },
        {
         "name": "adj_close_last_year",
         "rawType": "float64",
         "type": "float"
        },
        {
         "name": "yoy_growth",
         "rawType": "float64",
         "type": "float"
        }
       ],
       "ref": "eb1016d6-a3f8-4975-952b-769e17be0149",
       "rows": [
        [
         "1987-12-30 00:00:00+01:00",
         "1005.1900024414062",
         "1005.1900024414062",
         "1005.1900024414062",
         "1005.1900024414062",
         "0",
         "0.0",
         "0.0",
         null,
         null
        ],
        [
         "1988-01-04 00:00:00+01:00",
         "956.489990234375",
         "956.489990234375",
         "956.489990234375",
         "956.489990234375",
         "0",
         "0.0",
         "0.0",
         null,
         null
        ],
        [
         "1988-01-05 00:00:00+01:00",
         "996.0999755859376",
         "996.0999755859376",
         "996.0999755859376",
         "996.0999755859376",
         "0",
         "0.0",
         "0.0",
         null,
         null
        ],
        [
         "1988-01-06 00:00:00+01:00",
         "1006.010009765625",
         "1006.010009765625",
         "1006.010009765625",
         "1006.010009765625",
         "0",
         "0.0",
         "0.0",
         null,
         null
        ],
        [
         "1988-01-07 00:00:00+01:00",
         "1014.469970703125",
         "1014.469970703125",
         "1014.469970703125",
         "1014.469970703125",
         "0",
         "0.0",
         "0.0",
         null,
         null
        ],
        [
         "1988-01-08 00:00:00+01:00",
         "1026.68994140625",
         "1026.68994140625",
         "1026.68994140625",
         "1026.68994140625",
         "0",
         "0.0",
         "0.0",
         null,
         null
        ],
        [
         "1988-01-11 00:00:00+01:00",
         "987.52001953125",
         "987.52001953125",
         "987.52001953125",
         "987.52001953125",
         "0",
         "0.0",
         "0.0",
         null,
         null
        ],
        [
         "1988-01-12 00:00:00+01:00",
         "986.8900146484376",
         "986.8900146484376",
         "986.8900146484376",
         "986.8900146484376",
         "0",
         "0.0",
         "0.0",
         null,
         null
        ],
        [
         "1988-01-13 00:00:00+01:00",
         "965.77001953125",
         "965.77001953125",
         "965.77001953125",
         "965.77001953125",
         "0",
         "0.0",
         "0.0",
         null,
         null
        ],
        [
         "1988-01-14 00:00:00+01:00",
         "974.4600219726562",
         "974.4600219726562",
         "974.4600219726562",
         "974.4600219726562",
         "0",
         "0.0",
         "0.0",
         null,
         null
        ],
        [
         "1988-01-15 00:00:00+01:00",
         "952.4600219726562",
         "952.4600219726562",
         "952.4600219726562",
         "952.4600219726562",
         "0",
         "0.0",
         "0.0",
         null,
         null
        ],
        [
         "1988-01-18 00:00:00+01:00",
         "1003.1300048828124",
         "1003.1300048828124",
         "1003.1300048828124",
         "1003.1300048828124",
         "0",
         "0.0",
         "0.0",
         null,
         null
        ],
        [
         "1988-01-19 00:00:00+01:00",
         "980.1799926757812",
         "980.1799926757812",
         "980.1799926757812",
         "980.1799926757812",
         "0",
         "0.0",
         "0.0",
         null,
         null
        ],
        [
         "1988-01-20 00:00:00+01:00",
         "960.4400024414062",
         "960.4400024414062",
         "960.4400024414062",
         "960.4400024414062",
         "0",
         "0.0",
         "0.0",
         null,
         null
        ],
        [
         "1988-01-21 00:00:00+01:00",
         "949.239990234375",
         "949.239990234375",
         "949.239990234375",
         "949.239990234375",
         "0",
         "0.0",
         "0.0",
         null,
         null
        ],
        [
         "1988-01-22 00:00:00+01:00",
         "966.47998046875",
         "966.47998046875",
         "966.47998046875",
         "966.47998046875",
         "0",
         "0.0",
         "0.0",
         null,
         null
        ],
        [
         "1988-01-25 00:00:00+01:00",
         "962.6300048828124",
         "962.6300048828124",
         "962.6300048828124",
         "962.6300048828124",
         "0",
         "0.0",
         "0.0",
         null,
         null
        ],
        [
         "1988-01-26 00:00:00+01:00",
         "968.260009765625",
         "968.260009765625",
         "968.260009765625",
         "968.260009765625",
         "0",
         "0.0",
         "0.0",
         null,
         null
        ],
        [
         "1988-01-27 00:00:00+01:00",
         "959.6699829101562",
         "959.6699829101562",
         "959.6699829101562",
         "959.6699829101562",
         "0",
         "0.0",
         "0.0",
         null,
         null
        ],
        [
         "1988-01-28 00:00:00+01:00",
         "937.760009765625",
         "937.760009765625",
         "937.760009765625",
         "937.760009765625",
         "0",
         "0.0",
         "0.0",
         null,
         null
        ],
        [
         "1988-01-29 00:00:00+01:00",
         "936.0",
         "936.0",
         "936.0",
         "936.0",
         "0",
         "0.0",
         "0.0",
         null,
         null
        ],
        [
         "1988-02-01 00:00:00+01:00",
         "951.5",
         "951.5",
         "951.5",
         "951.5",
         "0",
         "0.0",
         "0.0",
         null,
         null
        ],
        [
         "1988-02-02 00:00:00+01:00",
         "955.6699829101562",
         "955.6699829101562",
         "955.6699829101562",
         "955.6699829101562",
         "0",
         "0.0",
         "0.0",
         null,
         null
        ],
        [
         "1988-02-03 00:00:00+01:00",
         "972.1900024414062",
         "972.1900024414062",
         "972.1900024414062",
         "972.1900024414062",
         "0",
         "0.0",
         "0.0",
         null,
         null
        ],
        [
         "1988-02-04 00:00:00+01:00",
         "990.219970703125",
         "990.219970703125",
         "990.219970703125",
         "990.219970703125",
         "0",
         "0.0",
         "0.0",
         null,
         null
        ],
        [
         "1988-02-05 00:00:00+01:00",
         "979.3800048828124",
         "979.3800048828124",
         "979.3800048828124",
         "979.3800048828124",
         "0",
         "0.0",
         "0.0",
         null,
         null
        ],
        [
         "1988-02-08 00:00:00+01:00",
         "986.9500122070312",
         "986.9500122070312",
         "986.9500122070312",
         "986.9500122070312",
         "0",
         "0.0",
         "0.0",
         null,
         null
        ],
        [
         "1988-02-09 00:00:00+01:00",
         "983.3099975585938",
         "983.3099975585938",
         "983.3099975585938",
         "983.3099975585938",
         "0",
         "0.0",
         "0.0",
         null,
         null
        ],
        [
         "1988-02-10 00:00:00+01:00",
         "997.1400146484376",
         "997.1400146484376",
         "997.1400146484376",
         "997.1400146484376",
         "0",
         "0.0",
         "0.0",
         null,
         null
        ],
        [
         "1988-02-11 00:00:00+01:00",
         "1024.68994140625",
         "1024.68994140625",
         "1024.68994140625",
         "1024.68994140625",
         "0",
         "0.0",
         "0.0",
         null,
         null
        ],
        [
         "1988-02-12 00:00:00+01:00",
         "1033.489990234375",
         "1033.489990234375",
         "1033.489990234375",
         "1033.489990234375",
         "0",
         "0.0",
         "0.0",
         null,
         null
        ],
        [
         "1988-02-15 00:00:00+01:00",
         "1049.3499755859375",
         "1049.3499755859375",
         "1049.3499755859375",
         "1049.3499755859375",
         "0",
         "0.0",
         "0.0",
         null,
         null
        ],
        [
         "1988-02-16 00:00:00+01:00",
         "1055.77001953125",
         "1055.77001953125",
         "1055.77001953125",
         "1055.77001953125",
         "0",
         "0.0",
         "0.0",
         null,
         null
        ],
        [
         "1988-02-17 00:00:00+01:00",
         "1053.27001953125",
         "1053.27001953125",
         "1053.27001953125",
         "1053.27001953125",
         "0",
         "0.0",
         "0.0",
         null,
         null
        ],
        [
         "1988-02-18 00:00:00+01:00",
         "1051.93994140625",
         "1051.93994140625",
         "1051.93994140625",
         "1051.93994140625",
         "0",
         "0.0",
         "0.0",
         null,
         null
        ],
        [
         "1988-02-19 00:00:00+01:00",
         "1046.780029296875",
         "1046.780029296875",
         "1046.780029296875",
         "1046.780029296875",
         "0",
         "0.0",
         "0.0",
         null,
         null
        ],
        [
         "1988-02-22 00:00:00+01:00",
         "1059.47998046875",
         "1059.47998046875",
         "1059.47998046875",
         "1059.47998046875",
         "0",
         "0.0",
         "0.0",
         null,
         null
        ],
        [
         "1988-02-23 00:00:00+01:00",
         "1069.030029296875",
         "1069.030029296875",
         "1069.030029296875",
         "1069.030029296875",
         "0",
         "0.0",
         "0.0",
         null,
         null
        ],
        [
         "1988-02-24 00:00:00+01:00",
         "1069.9000244140625",
         "1069.9000244140625",
         "1069.9000244140625",
         "1069.9000244140625",
         "0",
         "0.0",
         "0.0",
         null,
         null
        ],
        [
         "1988-02-25 00:00:00+01:00",
         "1091.5899658203125",
         "1091.5899658203125",
         "1091.5899658203125",
         "1091.5899658203125",
         "0",
         "0.0",
         "0.0",
         null,
         null
        ],
        [
         "1988-02-26 00:00:00+01:00",
         "1079.4000244140625",
         "1079.4000244140625",
         "1079.4000244140625",
         "1079.4000244140625",
         "0",
         "0.0",
         "0.0",
         null,
         null
        ],
        [
         "1988-02-29 00:00:00+01:00",
         "1083.3399658203125",
         "1083.3399658203125",
         "1083.3399658203125",
         "1083.3399658203125",
         "0",
         "0.0",
         "0.0",
         null,
         null
        ],
        [
         "1988-03-01 00:00:00+01:00",
         "1087.3199462890625",
         "1087.3199462890625",
         "1087.3199462890625",
         "1087.3199462890625",
         "0",
         "0.0",
         "0.0",
         null,
         null
        ],
        [
         "1988-03-02 00:00:00+01:00",
         "1080.43994140625",
         "1080.43994140625",
         "1080.43994140625",
         "1080.43994140625",
         "0",
         "0.0",
         "0.0",
         null,
         null
        ],
        [
         "1988-03-03 00:00:00+01:00",
         "1082.239990234375",
         "1082.239990234375",
         "1082.239990234375",
         "1082.239990234375",
         "0",
         "0.0",
         "0.0",
         null,
         null
        ],
        [
         "1988-03-04 00:00:00+01:00",
         "1075.1300048828125",
         "1075.1300048828125",
         "1075.1300048828125",
         "1075.1300048828125",
         "0",
         "0.0",
         "0.0",
         null,
         null
        ],
        [
         "1988-03-07 00:00:00+01:00",
         "1077.3699951171875",
         "1077.3699951171875",
         "1077.3699951171875",
         "1077.3699951171875",
         "0",
         "0.0",
         "0.0",
         null,
         null
        ],
        [
         "1988-03-08 00:00:00+01:00",
         "1079.4200439453125",
         "1079.4200439453125",
         "1079.4200439453125",
         "1079.4200439453125",
         "0",
         "0.0",
         "0.0",
         null,
         null
        ],
        [
         "1988-03-09 00:00:00+01:00",
         "1078.6199951171875",
         "1078.6199951171875",
         "1078.6199951171875",
         "1078.6199951171875",
         "0",
         "0.0",
         "0.0",
         null,
         null
        ],
        [
         "1988-03-10 00:00:00+01:00",
         "1082.5400390625",
         "1082.5400390625",
         "1082.5400390625",
         "1082.5400390625",
         "0",
         "0.0",
         "0.0",
         null,
         null
        ]
       ],
       "shape": {
        "columns": 9,
        "rows": 9485
       }
      },
      "text/html": [
       "<div>\n",
       "<style scoped>\n",
       "    .dataframe tbody tr th:only-of-type {\n",
       "        vertical-align: middle;\n",
       "    }\n",
       "\n",
       "    .dataframe tbody tr th {\n",
       "        vertical-align: top;\n",
       "    }\n",
       "\n",
       "    .dataframe thead th {\n",
       "        text-align: right;\n",
       "    }\n",
       "</style>\n",
       "<table border=\"1\" class=\"dataframe\">\n",
       "  <thead>\n",
       "    <tr style=\"text-align: right;\">\n",
       "      <th></th>\n",
       "      <th>Open</th>\n",
       "      <th>High</th>\n",
       "      <th>Low</th>\n",
       "      <th>Close</th>\n",
       "      <th>Volume</th>\n",
       "      <th>Dividends</th>\n",
       "      <th>Stock Splits</th>\n",
       "      <th>adj_close_last_year</th>\n",
       "      <th>yoy_growth</th>\n",
       "    </tr>\n",
       "    <tr>\n",
       "      <th>Date</th>\n",
       "      <th></th>\n",
       "      <th></th>\n",
       "      <th></th>\n",
       "      <th></th>\n",
       "      <th></th>\n",
       "      <th></th>\n",
       "      <th></th>\n",
       "      <th></th>\n",
       "      <th></th>\n",
       "    </tr>\n",
       "  </thead>\n",
       "  <tbody>\n",
       "    <tr>\n",
       "      <th>1987-12-30 00:00:00+01:00</th>\n",
       "      <td>1005.190002</td>\n",
       "      <td>1005.190002</td>\n",
       "      <td>1005.190002</td>\n",
       "      <td>1005.190002</td>\n",
       "      <td>0</td>\n",
       "      <td>0.0</td>\n",
       "      <td>0.0</td>\n",
       "      <td>NaN</td>\n",
       "      <td>NaN</td>\n",
       "    </tr>\n",
       "    <tr>\n",
       "      <th>1988-01-04 00:00:00+01:00</th>\n",
       "      <td>956.489990</td>\n",
       "      <td>956.489990</td>\n",
       "      <td>956.489990</td>\n",
       "      <td>956.489990</td>\n",
       "      <td>0</td>\n",
       "      <td>0.0</td>\n",
       "      <td>0.0</td>\n",
       "      <td>NaN</td>\n",
       "      <td>NaN</td>\n",
       "    </tr>\n",
       "    <tr>\n",
       "      <th>1988-01-05 00:00:00+01:00</th>\n",
       "      <td>996.099976</td>\n",
       "      <td>996.099976</td>\n",
       "      <td>996.099976</td>\n",
       "      <td>996.099976</td>\n",
       "      <td>0</td>\n",
       "      <td>0.0</td>\n",
       "      <td>0.0</td>\n",
       "      <td>NaN</td>\n",
       "      <td>NaN</td>\n",
       "    </tr>\n",
       "    <tr>\n",
       "      <th>1988-01-06 00:00:00+01:00</th>\n",
       "      <td>1006.010010</td>\n",
       "      <td>1006.010010</td>\n",
       "      <td>1006.010010</td>\n",
       "      <td>1006.010010</td>\n",
       "      <td>0</td>\n",
       "      <td>0.0</td>\n",
       "      <td>0.0</td>\n",
       "      <td>NaN</td>\n",
       "      <td>NaN</td>\n",
       "    </tr>\n",
       "    <tr>\n",
       "      <th>1988-01-07 00:00:00+01:00</th>\n",
       "      <td>1014.469971</td>\n",
       "      <td>1014.469971</td>\n",
       "      <td>1014.469971</td>\n",
       "      <td>1014.469971</td>\n",
       "      <td>0</td>\n",
       "      <td>0.0</td>\n",
       "      <td>0.0</td>\n",
       "      <td>NaN</td>\n",
       "      <td>NaN</td>\n",
       "    </tr>\n",
       "    <tr>\n",
       "      <th>...</th>\n",
       "      <td>...</td>\n",
       "      <td>...</td>\n",
       "      <td>...</td>\n",
       "      <td>...</td>\n",
       "      <td>...</td>\n",
       "      <td>...</td>\n",
       "      <td>...</td>\n",
       "      <td>...</td>\n",
       "      <td>...</td>\n",
       "    </tr>\n",
       "    <tr>\n",
       "      <th>2025-06-30 00:00:00+02:00</th>\n",
       "      <td>24109.150391</td>\n",
       "      <td>24120.820312</td>\n",
       "      <td>23854.310547</td>\n",
       "      <td>23909.609375</td>\n",
       "      <td>70772100</td>\n",
       "      <td>0.0</td>\n",
       "      <td>0.0</td>\n",
       "      <td>18290.660156</td>\n",
       "      <td>0.307203</td>\n",
       "    </tr>\n",
       "    <tr>\n",
       "      <th>2025-07-01 00:00:00+02:00</th>\n",
       "      <td>23966.949219</td>\n",
       "      <td>23978.300781</td>\n",
       "      <td>23671.269531</td>\n",
       "      <td>23673.289062</td>\n",
       "      <td>61850200</td>\n",
       "      <td>0.0</td>\n",
       "      <td>0.0</td>\n",
       "      <td>18164.060547</td>\n",
       "      <td>0.303304</td>\n",
       "    </tr>\n",
       "    <tr>\n",
       "      <th>2025-07-02 00:00:00+02:00</th>\n",
       "      <td>23789.060547</td>\n",
       "      <td>23824.500000</td>\n",
       "      <td>23620.419922</td>\n",
       "      <td>23790.109375</td>\n",
       "      <td>53388000</td>\n",
       "      <td>0.0</td>\n",
       "      <td>0.0</td>\n",
       "      <td>18374.529297</td>\n",
       "      <td>0.294733</td>\n",
       "    </tr>\n",
       "    <tr>\n",
       "      <th>2025-07-03 00:00:00+02:00</th>\n",
       "      <td>23884.800781</td>\n",
       "      <td>23944.099609</td>\n",
       "      <td>23762.419922</td>\n",
       "      <td>23934.130859</td>\n",
       "      <td>46650200</td>\n",
       "      <td>0.0</td>\n",
       "      <td>0.0</td>\n",
       "      <td>18450.480469</td>\n",
       "      <td>0.297209</td>\n",
       "    </tr>\n",
       "    <tr>\n",
       "      <th>2025-07-04 00:00:00+02:00</th>\n",
       "      <td>23833.140625</td>\n",
       "      <td>23868.929688</td>\n",
       "      <td>23702.650391</td>\n",
       "      <td>23787.449219</td>\n",
       "      <td>34239700</td>\n",
       "      <td>0.0</td>\n",
       "      <td>0.0</td>\n",
       "      <td>18475.449219</td>\n",
       "      <td>0.287517</td>\n",
       "    </tr>\n",
       "  </tbody>\n",
       "</table>\n",
       "<p>9485 rows × 9 columns</p>\n",
       "</div>"
      ],
      "text/plain": [
       "                                   Open          High           Low  \\\n",
       "Date                                                                  \n",
       "1987-12-30 00:00:00+01:00   1005.190002   1005.190002   1005.190002   \n",
       "1988-01-04 00:00:00+01:00    956.489990    956.489990    956.489990   \n",
       "1988-01-05 00:00:00+01:00    996.099976    996.099976    996.099976   \n",
       "1988-01-06 00:00:00+01:00   1006.010010   1006.010010   1006.010010   \n",
       "1988-01-07 00:00:00+01:00   1014.469971   1014.469971   1014.469971   \n",
       "...                                 ...           ...           ...   \n",
       "2025-06-30 00:00:00+02:00  24109.150391  24120.820312  23854.310547   \n",
       "2025-07-01 00:00:00+02:00  23966.949219  23978.300781  23671.269531   \n",
       "2025-07-02 00:00:00+02:00  23789.060547  23824.500000  23620.419922   \n",
       "2025-07-03 00:00:00+02:00  23884.800781  23944.099609  23762.419922   \n",
       "2025-07-04 00:00:00+02:00  23833.140625  23868.929688  23702.650391   \n",
       "\n",
       "                                  Close    Volume  Dividends  Stock Splits  \\\n",
       "Date                                                                         \n",
       "1987-12-30 00:00:00+01:00   1005.190002         0        0.0           0.0   \n",
       "1988-01-04 00:00:00+01:00    956.489990         0        0.0           0.0   \n",
       "1988-01-05 00:00:00+01:00    996.099976         0        0.0           0.0   \n",
       "1988-01-06 00:00:00+01:00   1006.010010         0        0.0           0.0   \n",
       "1988-01-07 00:00:00+01:00   1014.469971         0        0.0           0.0   \n",
       "...                                 ...       ...        ...           ...   \n",
       "2025-06-30 00:00:00+02:00  23909.609375  70772100        0.0           0.0   \n",
       "2025-07-01 00:00:00+02:00  23673.289062  61850200        0.0           0.0   \n",
       "2025-07-02 00:00:00+02:00  23790.109375  53388000        0.0           0.0   \n",
       "2025-07-03 00:00:00+02:00  23934.130859  46650200        0.0           0.0   \n",
       "2025-07-04 00:00:00+02:00  23787.449219  34239700        0.0           0.0   \n",
       "\n",
       "                           adj_close_last_year  yoy_growth  \n",
       "Date                                                        \n",
       "1987-12-30 00:00:00+01:00                  NaN         NaN  \n",
       "1988-01-04 00:00:00+01:00                  NaN         NaN  \n",
       "1988-01-05 00:00:00+01:00                  NaN         NaN  \n",
       "1988-01-06 00:00:00+01:00                  NaN         NaN  \n",
       "1988-01-07 00:00:00+01:00                  NaN         NaN  \n",
       "...                                        ...         ...  \n",
       "2025-06-30 00:00:00+02:00         18290.660156    0.307203  \n",
       "2025-07-01 00:00:00+02:00         18164.060547    0.303304  \n",
       "2025-07-02 00:00:00+02:00         18374.529297    0.294733  \n",
       "2025-07-03 00:00:00+02:00         18450.480469    0.297209  \n",
       "2025-07-04 00:00:00+02:00         18475.449219    0.287517  \n",
       "\n",
       "[9485 rows x 9 columns]"
      ]
     },
     "execution_count": 50,
     "metadata": {},
     "output_type": "execute_result"
    }
   ],
   "source": [
    "dax_daily"
   ]
  },
  {
   "cell_type": "markdown",
   "id": "f217b093",
   "metadata": {},
   "source": [
    "## 🔍 1.1 Open-High-Low-Close-Volum(OHLCV) - SNP 500\n",
    "____"
   ]
  },
  {
   "cell_type": "code",
   "execution_count": 51,
   "id": "291b90d4",
   "metadata": {},
   "outputs": [],
   "source": [
    "# https://finance.yahoo.com/quote/%5EGSPC/\n",
    "# SNP - SNP Real Time Price. Currency in USD\n",
    "# https://www.investopedia.com/insights/introduction-to-stock-market-indices/\n",
    "\n",
    "ticker_obj = yf.Ticker(\"^GSPC\")\n",
    "snp500_daily_non_delayed = ticker_obj.history(start = start, interval = \"1d\")\n",
    "\n",
    "# old version:\n",
    "# snp500_daily_non_delayed = yf.download(tickers = \"^GSPC\",\n",
    "#                      period = \"max\",\n",
    "#                      interval = \"1d\")"
   ]
  },
  {
   "cell_type": "code",
   "execution_count": 52,
   "id": "0cea2361",
   "metadata": {},
   "outputs": [],
   "source": [
    "snp500_daily_non_delayed  = snp500_daily_non_delayed.to_csv('snp500_daily_non_delayed.csv')"
   ]
  },
  {
   "cell_type": "code",
   "execution_count": 54,
   "id": "6457b682",
   "metadata": {},
   "outputs": [
    {
     "data": {
      "application/vnd.microsoft.datawrangler.viewer.v0+json": {
       "columns": [
        {
         "name": "Date",
         "rawType": "object",
         "type": "unknown"
        },
        {
         "name": "Open",
         "rawType": "float64",
         "type": "float"
        },
        {
         "name": "High",
         "rawType": "float64",
         "type": "float"
        },
        {
         "name": "Low",
         "rawType": "float64",
         "type": "float"
        },
        {
         "name": "Close",
         "rawType": "float64",
         "type": "float"
        },
        {
         "name": "Volume",
         "rawType": "int64",
         "type": "integer"
        },
        {
         "name": "Dividends",
         "rawType": "float64",
         "type": "float"
        },
        {
         "name": "Stock Splits",
         "rawType": "float64",
         "type": "float"
        }
       ],
       "ref": "2f59c1bf-7dbf-4189-b107-25d351d06b71",
       "rows": [
        [
         "2025-06-27 00:00:00-04:00",
         "6150.7001953125",
         "6187.68017578125",
         "6132.35009765625",
         "6173.06982421875",
         "7889350000",
         "0.0",
         "0.0"
        ],
        [
         "2025-06-30 00:00:00-04:00",
         "6193.35986328125",
         "6215.080078125",
         "6174.97021484375",
         "6204.9501953125",
         "5782900000",
         "0.0",
         "0.0"
        ],
        [
         "2025-07-01 00:00:00-04:00",
         "6187.25",
         "6210.77978515625",
         "6177.97021484375",
         "6198.009765625",
         "6275310000",
         "0.0",
         "0.0"
        ],
        [
         "2025-07-02 00:00:00-04:00",
         "6193.8798828125",
         "6227.60009765625",
         "6188.2900390625",
         "6227.419921875",
         "5645710000",
         "0.0",
         "0.0"
        ],
        [
         "2025-07-03 00:00:00-04:00",
         "6246.4599609375",
         "6284.64990234375",
         "6246.4599609375",
         "6279.35009765625",
         "3378110000",
         "0.0",
         "0.0"
        ]
       ],
       "shape": {
        "columns": 7,
        "rows": 5
       }
      },
      "text/html": [
       "<div>\n",
       "<style scoped>\n",
       "    .dataframe tbody tr th:only-of-type {\n",
       "        vertical-align: middle;\n",
       "    }\n",
       "\n",
       "    .dataframe tbody tr th {\n",
       "        vertical-align: top;\n",
       "    }\n",
       "\n",
       "    .dataframe thead th {\n",
       "        text-align: right;\n",
       "    }\n",
       "</style>\n",
       "<table border=\"1\" class=\"dataframe\">\n",
       "  <thead>\n",
       "    <tr style=\"text-align: right;\">\n",
       "      <th></th>\n",
       "      <th>Open</th>\n",
       "      <th>High</th>\n",
       "      <th>Low</th>\n",
       "      <th>Close</th>\n",
       "      <th>Volume</th>\n",
       "      <th>Dividends</th>\n",
       "      <th>Stock Splits</th>\n",
       "    </tr>\n",
       "    <tr>\n",
       "      <th>Date</th>\n",
       "      <th></th>\n",
       "      <th></th>\n",
       "      <th></th>\n",
       "      <th></th>\n",
       "      <th></th>\n",
       "      <th></th>\n",
       "      <th></th>\n",
       "    </tr>\n",
       "  </thead>\n",
       "  <tbody>\n",
       "    <tr>\n",
       "      <th>2025-06-27 00:00:00-04:00</th>\n",
       "      <td>6150.700195</td>\n",
       "      <td>6187.680176</td>\n",
       "      <td>6132.350098</td>\n",
       "      <td>6173.069824</td>\n",
       "      <td>7889350000</td>\n",
       "      <td>0.0</td>\n",
       "      <td>0.0</td>\n",
       "    </tr>\n",
       "    <tr>\n",
       "      <th>2025-06-30 00:00:00-04:00</th>\n",
       "      <td>6193.359863</td>\n",
       "      <td>6215.080078</td>\n",
       "      <td>6174.970215</td>\n",
       "      <td>6204.950195</td>\n",
       "      <td>5782900000</td>\n",
       "      <td>0.0</td>\n",
       "      <td>0.0</td>\n",
       "    </tr>\n",
       "    <tr>\n",
       "      <th>2025-07-01 00:00:00-04:00</th>\n",
       "      <td>6187.250000</td>\n",
       "      <td>6210.779785</td>\n",
       "      <td>6177.970215</td>\n",
       "      <td>6198.009766</td>\n",
       "      <td>6275310000</td>\n",
       "      <td>0.0</td>\n",
       "      <td>0.0</td>\n",
       "    </tr>\n",
       "    <tr>\n",
       "      <th>2025-07-02 00:00:00-04:00</th>\n",
       "      <td>6193.879883</td>\n",
       "      <td>6227.600098</td>\n",
       "      <td>6188.290039</td>\n",
       "      <td>6227.419922</td>\n",
       "      <td>5645710000</td>\n",
       "      <td>0.0</td>\n",
       "      <td>0.0</td>\n",
       "    </tr>\n",
       "    <tr>\n",
       "      <th>2025-07-03 00:00:00-04:00</th>\n",
       "      <td>6246.459961</td>\n",
       "      <td>6284.649902</td>\n",
       "      <td>6246.459961</td>\n",
       "      <td>6279.350098</td>\n",
       "      <td>3378110000</td>\n",
       "      <td>0.0</td>\n",
       "      <td>0.0</td>\n",
       "    </tr>\n",
       "  </tbody>\n",
       "</table>\n",
       "</div>"
      ],
      "text/plain": [
       "                                  Open         High          Low        Close  \\\n",
       "Date                                                                            \n",
       "2025-06-27 00:00:00-04:00  6150.700195  6187.680176  6132.350098  6173.069824   \n",
       "2025-06-30 00:00:00-04:00  6193.359863  6215.080078  6174.970215  6204.950195   \n",
       "2025-07-01 00:00:00-04:00  6187.250000  6210.779785  6177.970215  6198.009766   \n",
       "2025-07-02 00:00:00-04:00  6193.879883  6227.600098  6188.290039  6227.419922   \n",
       "2025-07-03 00:00:00-04:00  6246.459961  6284.649902  6246.459961  6279.350098   \n",
       "\n",
       "                               Volume  Dividends  Stock Splits  \n",
       "Date                                                            \n",
       "2025-06-27 00:00:00-04:00  7889350000        0.0           0.0  \n",
       "2025-06-30 00:00:00-04:00  5782900000        0.0           0.0  \n",
       "2025-07-01 00:00:00-04:00  6275310000        0.0           0.0  \n",
       "2025-07-02 00:00:00-04:00  5645710000        0.0           0.0  \n",
       "2025-07-03 00:00:00-04:00  3378110000        0.0           0.0  "
      ]
     },
     "execution_count": 54,
     "metadata": {},
     "output_type": "execute_result"
    }
   ],
   "source": [
    "# Load the S&P 500 data from CSV\n",
    "snp500_daily_non_delayed = pd.read_csv('snp500_daily_non_delayed.csv', index_col=0, parse_dates=True)\n",
    "snp500_daily_non_delayed.tail()"
   ]
  },
  {
   "cell_type": "markdown",
   "id": "a3ff03aa",
   "metadata": {},
   "source": [
    "## 🔍 1.1 Macro Economy Data\n",
    "____"
   ]
  },
  {
   "cell_type": "code",
   "execution_count": 55,
   "id": "4d187bad",
   "metadata": {},
   "outputs": [],
   "source": [
    "# Web Scraping for Macro\n",
    "# can't call directly via pd.read_html() as it returns 403 (forbidden) --> need to do a bit of work, but still no Selenium\n",
    "# https://tradingeconomics.com/united-states/indicators\n",
    "import requests\n",
    "from bs4 import BeautifulSoup\n",
    "\n",
    "\n",
    "url = \"https://tradingeconomics.com/united-states/indicators\"\n",
    "headers = {\n",
    "    \"User-Agent\": \"Mozilla/5.0 (Windows NT 10.0; Win64; x64) AppleWebKit/537.36 (KHTML, like Gecko) Chrome/58.0.3029.110 Safari/537.3\"\n",
    "}\n",
    "\n",
    "response = requests.get(url, headers=headers)"
   ]
  },
  {
   "cell_type": "code",
   "execution_count": 56,
   "id": "3d304540",
   "metadata": {},
   "outputs": [
    {
     "name": "stdout",
     "output_type": "stream",
     "text": [
      "                  Unnamed: 0     Last  Previous  Highest    Lowest  \\\n",
      "0                   Currency    96.99     97.18   165.00     70.70   \n",
      "1               Stock Market  6279.00   6227.00  6287.00      4.40   \n",
      "2            GDP Growth Rate    -0.50      2.40    35.20    -28.10   \n",
      "3     GDP Annual Growth Rate     2.00      2.50    13.40     -7.50   \n",
      "4          Unemployment Rate     4.10      4.20    14.90      2.50   \n",
      "5          Non Farm Payrolls   147.00    144.00  4631.00 -20471.00   \n",
      "6             Inflation Rate     2.40      2.30    23.70    -15.80   \n",
      "7         Inflation Rate MoM     0.10      0.20     2.00     -1.80   \n",
      "8              Interest Rate     4.50      4.50    20.00      0.25   \n",
      "9           Balance of Trade   -71.52    -60.26     1.95   -138.00   \n",
      "10           Current Account  -450.00   -312.00     9.96   -450.00   \n",
      "11    Current Account to GDP    -3.90     -3.30     0.20     -6.00   \n",
      "12    Government Debt to GDP   124.00    122.00   126.00     31.80   \n",
      "13         Government Budget    -6.20     -5.40     4.50    -14.70   \n",
      "14       Business Confidence    49.00     48.50    77.50     29.40   \n",
      "15         Manufacturing PMI    52.90     52.00    63.40     36.10   \n",
      "16     Non Manufacturing PMI    50.80     49.90    67.60     37.80   \n",
      "17              Services PMI    52.90     53.70    70.40     26.70   \n",
      "18       Consumer Confidence    60.70     52.20   111.00     50.00   \n",
      "19          Retail Sales MoM    -0.90     -0.10    19.30    -14.40   \n",
      "20          Building Permits  1394.00   1422.00  2419.00    513.00   \n",
      "21        Corporate Tax Rate    21.00     21.00    52.80      1.00   \n",
      "22  Personal Income Tax Rate    37.00     37.00    39.60     35.00   \n",
      "\n",
      "        Unnamed: 5 Unnamed: 6  \n",
      "0              NaN     Jul/25  \n",
      "1           points     Jul/25  \n",
      "2          percent     Mar/25  \n",
      "3          percent     Mar/25  \n",
      "4          percent     Jun/25  \n",
      "5         Thousand     Jun/25  \n",
      "6          percent     May/25  \n",
      "7          percent     May/25  \n",
      "8          percent     Jun/25  \n",
      "9      USD Billion     May/25  \n",
      "10     USD Billion     Mar/25  \n",
      "11  percent of GDP     Dec/24  \n",
      "12  percent of GDP     Dec/24  \n",
      "13  percent of GDP     Dec/23  \n",
      "14          points     Jun/25  \n",
      "15          points     Jun/25  \n",
      "16          points     Jun/25  \n",
      "17          points     Jun/25  \n",
      "18          points     Jun/25  \n",
      "19         percent     May/25  \n",
      "20        Thousand     May/25  \n",
      "21         percent     Dec/25  \n",
      "22         percent     Dec/25  \n"
     ]
    },
    {
     "name": "stderr",
     "output_type": "stream",
     "text": [
      "/var/folders/v9/v9j8bf6j2r5cr97thvfgxxyh0000gn/T/ipykernel_48628/51921383.py:14: FutureWarning: Passing literal html to 'read_html' is deprecated and will be removed in a future version. To read from a literal string, wrap it in a 'StringIO' object.\n",
      "  df = pd.read_html(str(table))[0]  # Assuming there's only one table, otherwise, loop through the list\n"
     ]
    }
   ],
   "source": [
    "\n",
    "# Check if the request was successful (status code 200)\n",
    "if response.status_code == 200:\n",
    "    # Parse the HTML content of the webpage\n",
    "    soup = BeautifulSoup(response.content, \"html.parser\")\n",
    "\n",
    "    # You need to be able to find this table tag and read all behind it\n",
    "    # Find the div with class \"table-responsive\"\n",
    "    table_div = soup.find(\"div\", class_=\"table-responsive\")\n",
    "\n",
    "    # Extract the table within the div\n",
    "    table = table_div.find(\"table\")\n",
    "\n",
    "    # Use pandas to read the table into a DataFrame\n",
    "    df = pd.read_html(str(table))[0]  # Assuming there's only one table, otherwise, loop through the list\n",
    "\n",
    "    # Display the DataFrame\n",
    "    print(df)\n",
    "else:\n",
    "    print(\"Failed to retrieve data from the webpage.\")"
   ]
  },
  {
   "cell_type": "code",
   "execution_count": null,
   "id": "437b89c8",
   "metadata": {},
   "outputs": [],
   "source": [
    "# Save macro data to CSV\n",
    "df.to_csv('macro_data.csv', index=False)"
   ]
  },
  {
   "cell_type": "code",
   "execution_count": 70,
   "id": "ff87d7c9",
   "metadata": {},
   "outputs": [
    {
     "data": {
      "application/vnd.microsoft.datawrangler.viewer.v0+json": {
       "columns": [
        {
         "name": "index",
         "rawType": "int64",
         "type": "integer"
        },
        {
         "name": "Unnamed: 0",
         "rawType": "object",
         "type": "string"
        },
        {
         "name": "Last",
         "rawType": "float64",
         "type": "float"
        },
        {
         "name": "Previous",
         "rawType": "float64",
         "type": "float"
        },
        {
         "name": "Highest",
         "rawType": "float64",
         "type": "float"
        },
        {
         "name": "Lowest",
         "rawType": "float64",
         "type": "float"
        },
        {
         "name": "Unnamed: 5",
         "rawType": "object",
         "type": "unknown"
        },
        {
         "name": "Unnamed: 6",
         "rawType": "object",
         "type": "string"
        }
       ],
       "ref": "5fd969dd-f3ff-4c6b-910d-cc55095ae507",
       "rows": [
        [
         "0",
         "Currency",
         "96.99",
         "97.18",
         "165.0",
         "70.7",
         null,
         "Jul/25"
        ],
        [
         "1",
         "Stock Market",
         "6279.0",
         "6227.0",
         "6287.0",
         "4.4",
         "points",
         "Jul/25"
        ],
        [
         "2",
         "GDP Growth Rate",
         "-0.5",
         "2.4",
         "35.2",
         "-28.1",
         "percent",
         "Mar/25"
        ],
        [
         "3",
         "GDP Annual Growth Rate",
         "2.0",
         "2.5",
         "13.4",
         "-7.5",
         "percent",
         "Mar/25"
        ],
        [
         "4",
         "Unemployment Rate",
         "4.1",
         "4.2",
         "14.9",
         "2.5",
         "percent",
         "Jun/25"
        ],
        [
         "5",
         "Non Farm Payrolls",
         "147.0",
         "144.0",
         "4631.0",
         "-20471.0",
         "Thousand",
         "Jun/25"
        ],
        [
         "6",
         "Inflation Rate",
         "2.4",
         "2.3",
         "23.7",
         "-15.8",
         "percent",
         "May/25"
        ],
        [
         "7",
         "Inflation Rate MoM",
         "0.1",
         "0.2",
         "2.0",
         "-1.8",
         "percent",
         "May/25"
        ],
        [
         "8",
         "Interest Rate",
         "4.5",
         "4.5",
         "20.0",
         "0.25",
         "percent",
         "Jun/25"
        ],
        [
         "9",
         "Balance of Trade",
         "-71.52",
         "-60.26",
         "1.95",
         "-138.0",
         "USD Billion",
         "May/25"
        ],
        [
         "10",
         "Current Account",
         "-450.0",
         "-312.0",
         "9.96",
         "-450.0",
         "USD Billion",
         "Mar/25"
        ],
        [
         "11",
         "Current Account to GDP",
         "-3.9",
         "-3.3",
         "0.2",
         "-6.0",
         "percent of GDP",
         "Dec/24"
        ],
        [
         "12",
         "Government Debt to GDP",
         "124.0",
         "122.0",
         "126.0",
         "31.8",
         "percent of GDP",
         "Dec/24"
        ],
        [
         "13",
         "Government Budget",
         "-6.2",
         "-5.4",
         "4.5",
         "-14.7",
         "percent of GDP",
         "Dec/23"
        ],
        [
         "14",
         "Business Confidence",
         "49.0",
         "48.5",
         "77.5",
         "29.4",
         "points",
         "Jun/25"
        ],
        [
         "15",
         "Manufacturing PMI",
         "52.9",
         "52.0",
         "63.4",
         "36.1",
         "points",
         "Jun/25"
        ],
        [
         "16",
         "Non Manufacturing PMI",
         "50.8",
         "49.9",
         "67.6",
         "37.8",
         "points",
         "Jun/25"
        ],
        [
         "17",
         "Services PMI",
         "52.9",
         "53.7",
         "70.4",
         "26.7",
         "points",
         "Jun/25"
        ],
        [
         "18",
         "Consumer Confidence",
         "60.7",
         "52.2",
         "111.0",
         "50.0",
         "points",
         "Jun/25"
        ],
        [
         "19",
         "Retail Sales MoM",
         "-0.9",
         "-0.1",
         "19.3",
         "-14.4",
         "percent",
         "May/25"
        ],
        [
         "20",
         "Building Permits",
         "1394.0",
         "1422.0",
         "2419.0",
         "513.0",
         "Thousand",
         "May/25"
        ],
        [
         "21",
         "Corporate Tax Rate",
         "21.0",
         "21.0",
         "52.8",
         "1.0",
         "percent",
         "Dec/25"
        ],
        [
         "22",
         "Personal Income Tax Rate",
         "37.0",
         "37.0",
         "39.6",
         "35.0",
         "percent",
         "Dec/25"
        ]
       ],
       "shape": {
        "columns": 7,
        "rows": 23
       }
      },
      "text/html": [
       "<div>\n",
       "<style scoped>\n",
       "    .dataframe tbody tr th:only-of-type {\n",
       "        vertical-align: middle;\n",
       "    }\n",
       "\n",
       "    .dataframe tbody tr th {\n",
       "        vertical-align: top;\n",
       "    }\n",
       "\n",
       "    .dataframe thead th {\n",
       "        text-align: right;\n",
       "    }\n",
       "</style>\n",
       "<table border=\"1\" class=\"dataframe\">\n",
       "  <thead>\n",
       "    <tr style=\"text-align: right;\">\n",
       "      <th></th>\n",
       "      <th>Unnamed: 0</th>\n",
       "      <th>Last</th>\n",
       "      <th>Previous</th>\n",
       "      <th>Highest</th>\n",
       "      <th>Lowest</th>\n",
       "      <th>Unnamed: 5</th>\n",
       "      <th>Unnamed: 6</th>\n",
       "    </tr>\n",
       "  </thead>\n",
       "  <tbody>\n",
       "    <tr>\n",
       "      <th>0</th>\n",
       "      <td>Currency</td>\n",
       "      <td>96.99</td>\n",
       "      <td>97.18</td>\n",
       "      <td>165.00</td>\n",
       "      <td>70.70</td>\n",
       "      <td>NaN</td>\n",
       "      <td>Jul/25</td>\n",
       "    </tr>\n",
       "    <tr>\n",
       "      <th>1</th>\n",
       "      <td>Stock Market</td>\n",
       "      <td>6279.00</td>\n",
       "      <td>6227.00</td>\n",
       "      <td>6287.00</td>\n",
       "      <td>4.40</td>\n",
       "      <td>points</td>\n",
       "      <td>Jul/25</td>\n",
       "    </tr>\n",
       "    <tr>\n",
       "      <th>2</th>\n",
       "      <td>GDP Growth Rate</td>\n",
       "      <td>-0.50</td>\n",
       "      <td>2.40</td>\n",
       "      <td>35.20</td>\n",
       "      <td>-28.10</td>\n",
       "      <td>percent</td>\n",
       "      <td>Mar/25</td>\n",
       "    </tr>\n",
       "    <tr>\n",
       "      <th>3</th>\n",
       "      <td>GDP Annual Growth Rate</td>\n",
       "      <td>2.00</td>\n",
       "      <td>2.50</td>\n",
       "      <td>13.40</td>\n",
       "      <td>-7.50</td>\n",
       "      <td>percent</td>\n",
       "      <td>Mar/25</td>\n",
       "    </tr>\n",
       "    <tr>\n",
       "      <th>4</th>\n",
       "      <td>Unemployment Rate</td>\n",
       "      <td>4.10</td>\n",
       "      <td>4.20</td>\n",
       "      <td>14.90</td>\n",
       "      <td>2.50</td>\n",
       "      <td>percent</td>\n",
       "      <td>Jun/25</td>\n",
       "    </tr>\n",
       "    <tr>\n",
       "      <th>5</th>\n",
       "      <td>Non Farm Payrolls</td>\n",
       "      <td>147.00</td>\n",
       "      <td>144.00</td>\n",
       "      <td>4631.00</td>\n",
       "      <td>-20471.00</td>\n",
       "      <td>Thousand</td>\n",
       "      <td>Jun/25</td>\n",
       "    </tr>\n",
       "    <tr>\n",
       "      <th>6</th>\n",
       "      <td>Inflation Rate</td>\n",
       "      <td>2.40</td>\n",
       "      <td>2.30</td>\n",
       "      <td>23.70</td>\n",
       "      <td>-15.80</td>\n",
       "      <td>percent</td>\n",
       "      <td>May/25</td>\n",
       "    </tr>\n",
       "    <tr>\n",
       "      <th>7</th>\n",
       "      <td>Inflation Rate MoM</td>\n",
       "      <td>0.10</td>\n",
       "      <td>0.20</td>\n",
       "      <td>2.00</td>\n",
       "      <td>-1.80</td>\n",
       "      <td>percent</td>\n",
       "      <td>May/25</td>\n",
       "    </tr>\n",
       "    <tr>\n",
       "      <th>8</th>\n",
       "      <td>Interest Rate</td>\n",
       "      <td>4.50</td>\n",
       "      <td>4.50</td>\n",
       "      <td>20.00</td>\n",
       "      <td>0.25</td>\n",
       "      <td>percent</td>\n",
       "      <td>Jun/25</td>\n",
       "    </tr>\n",
       "    <tr>\n",
       "      <th>9</th>\n",
       "      <td>Balance of Trade</td>\n",
       "      <td>-71.52</td>\n",
       "      <td>-60.26</td>\n",
       "      <td>1.95</td>\n",
       "      <td>-138.00</td>\n",
       "      <td>USD Billion</td>\n",
       "      <td>May/25</td>\n",
       "    </tr>\n",
       "    <tr>\n",
       "      <th>10</th>\n",
       "      <td>Current Account</td>\n",
       "      <td>-450.00</td>\n",
       "      <td>-312.00</td>\n",
       "      <td>9.96</td>\n",
       "      <td>-450.00</td>\n",
       "      <td>USD Billion</td>\n",
       "      <td>Mar/25</td>\n",
       "    </tr>\n",
       "    <tr>\n",
       "      <th>11</th>\n",
       "      <td>Current Account to GDP</td>\n",
       "      <td>-3.90</td>\n",
       "      <td>-3.30</td>\n",
       "      <td>0.20</td>\n",
       "      <td>-6.00</td>\n",
       "      <td>percent of GDP</td>\n",
       "      <td>Dec/24</td>\n",
       "    </tr>\n",
       "    <tr>\n",
       "      <th>12</th>\n",
       "      <td>Government Debt to GDP</td>\n",
       "      <td>124.00</td>\n",
       "      <td>122.00</td>\n",
       "      <td>126.00</td>\n",
       "      <td>31.80</td>\n",
       "      <td>percent of GDP</td>\n",
       "      <td>Dec/24</td>\n",
       "    </tr>\n",
       "    <tr>\n",
       "      <th>13</th>\n",
       "      <td>Government Budget</td>\n",
       "      <td>-6.20</td>\n",
       "      <td>-5.40</td>\n",
       "      <td>4.50</td>\n",
       "      <td>-14.70</td>\n",
       "      <td>percent of GDP</td>\n",
       "      <td>Dec/23</td>\n",
       "    </tr>\n",
       "    <tr>\n",
       "      <th>14</th>\n",
       "      <td>Business Confidence</td>\n",
       "      <td>49.00</td>\n",
       "      <td>48.50</td>\n",
       "      <td>77.50</td>\n",
       "      <td>29.40</td>\n",
       "      <td>points</td>\n",
       "      <td>Jun/25</td>\n",
       "    </tr>\n",
       "    <tr>\n",
       "      <th>15</th>\n",
       "      <td>Manufacturing PMI</td>\n",
       "      <td>52.90</td>\n",
       "      <td>52.00</td>\n",
       "      <td>63.40</td>\n",
       "      <td>36.10</td>\n",
       "      <td>points</td>\n",
       "      <td>Jun/25</td>\n",
       "    </tr>\n",
       "    <tr>\n",
       "      <th>16</th>\n",
       "      <td>Non Manufacturing PMI</td>\n",
       "      <td>50.80</td>\n",
       "      <td>49.90</td>\n",
       "      <td>67.60</td>\n",
       "      <td>37.80</td>\n",
       "      <td>points</td>\n",
       "      <td>Jun/25</td>\n",
       "    </tr>\n",
       "    <tr>\n",
       "      <th>17</th>\n",
       "      <td>Services PMI</td>\n",
       "      <td>52.90</td>\n",
       "      <td>53.70</td>\n",
       "      <td>70.40</td>\n",
       "      <td>26.70</td>\n",
       "      <td>points</td>\n",
       "      <td>Jun/25</td>\n",
       "    </tr>\n",
       "    <tr>\n",
       "      <th>18</th>\n",
       "      <td>Consumer Confidence</td>\n",
       "      <td>60.70</td>\n",
       "      <td>52.20</td>\n",
       "      <td>111.00</td>\n",
       "      <td>50.00</td>\n",
       "      <td>points</td>\n",
       "      <td>Jun/25</td>\n",
       "    </tr>\n",
       "    <tr>\n",
       "      <th>19</th>\n",
       "      <td>Retail Sales MoM</td>\n",
       "      <td>-0.90</td>\n",
       "      <td>-0.10</td>\n",
       "      <td>19.30</td>\n",
       "      <td>-14.40</td>\n",
       "      <td>percent</td>\n",
       "      <td>May/25</td>\n",
       "    </tr>\n",
       "    <tr>\n",
       "      <th>20</th>\n",
       "      <td>Building Permits</td>\n",
       "      <td>1394.00</td>\n",
       "      <td>1422.00</td>\n",
       "      <td>2419.00</td>\n",
       "      <td>513.00</td>\n",
       "      <td>Thousand</td>\n",
       "      <td>May/25</td>\n",
       "    </tr>\n",
       "    <tr>\n",
       "      <th>21</th>\n",
       "      <td>Corporate Tax Rate</td>\n",
       "      <td>21.00</td>\n",
       "      <td>21.00</td>\n",
       "      <td>52.80</td>\n",
       "      <td>1.00</td>\n",
       "      <td>percent</td>\n",
       "      <td>Dec/25</td>\n",
       "    </tr>\n",
       "    <tr>\n",
       "      <th>22</th>\n",
       "      <td>Personal Income Tax Rate</td>\n",
       "      <td>37.00</td>\n",
       "      <td>37.00</td>\n",
       "      <td>39.60</td>\n",
       "      <td>35.00</td>\n",
       "      <td>percent</td>\n",
       "      <td>Dec/25</td>\n",
       "    </tr>\n",
       "  </tbody>\n",
       "</table>\n",
       "</div>"
      ],
      "text/plain": [
       "                  Unnamed: 0     Last  Previous  Highest    Lowest  \\\n",
       "0                   Currency    96.99     97.18   165.00     70.70   \n",
       "1               Stock Market  6279.00   6227.00  6287.00      4.40   \n",
       "2            GDP Growth Rate    -0.50      2.40    35.20    -28.10   \n",
       "3     GDP Annual Growth Rate     2.00      2.50    13.40     -7.50   \n",
       "4          Unemployment Rate     4.10      4.20    14.90      2.50   \n",
       "5          Non Farm Payrolls   147.00    144.00  4631.00 -20471.00   \n",
       "6             Inflation Rate     2.40      2.30    23.70    -15.80   \n",
       "7         Inflation Rate MoM     0.10      0.20     2.00     -1.80   \n",
       "8              Interest Rate     4.50      4.50    20.00      0.25   \n",
       "9           Balance of Trade   -71.52    -60.26     1.95   -138.00   \n",
       "10           Current Account  -450.00   -312.00     9.96   -450.00   \n",
       "11    Current Account to GDP    -3.90     -3.30     0.20     -6.00   \n",
       "12    Government Debt to GDP   124.00    122.00   126.00     31.80   \n",
       "13         Government Budget    -6.20     -5.40     4.50    -14.70   \n",
       "14       Business Confidence    49.00     48.50    77.50     29.40   \n",
       "15         Manufacturing PMI    52.90     52.00    63.40     36.10   \n",
       "16     Non Manufacturing PMI    50.80     49.90    67.60     37.80   \n",
       "17              Services PMI    52.90     53.70    70.40     26.70   \n",
       "18       Consumer Confidence    60.70     52.20   111.00     50.00   \n",
       "19          Retail Sales MoM    -0.90     -0.10    19.30    -14.40   \n",
       "20          Building Permits  1394.00   1422.00  2419.00    513.00   \n",
       "21        Corporate Tax Rate    21.00     21.00    52.80      1.00   \n",
       "22  Personal Income Tax Rate    37.00     37.00    39.60     35.00   \n",
       "\n",
       "        Unnamed: 5 Unnamed: 6  \n",
       "0              NaN     Jul/25  \n",
       "1           points     Jul/25  \n",
       "2          percent     Mar/25  \n",
       "3          percent     Mar/25  \n",
       "4          percent     Jun/25  \n",
       "5         Thousand     Jun/25  \n",
       "6          percent     May/25  \n",
       "7          percent     May/25  \n",
       "8          percent     Jun/25  \n",
       "9      USD Billion     May/25  \n",
       "10     USD Billion     Mar/25  \n",
       "11  percent of GDP     Dec/24  \n",
       "12  percent of GDP     Dec/24  \n",
       "13  percent of GDP     Dec/23  \n",
       "14          points     Jun/25  \n",
       "15          points     Jun/25  \n",
       "16          points     Jun/25  \n",
       "17          points     Jun/25  \n",
       "18          points     Jun/25  \n",
       "19         percent     May/25  \n",
       "20        Thousand     May/25  \n",
       "21         percent     Dec/25  \n",
       "22         percent     Dec/25  "
      ]
     },
     "execution_count": 70,
     "metadata": {},
     "output_type": "execute_result"
    }
   ],
   "source": [
    "macro_data = pd.read_csv('macro_data.csv')\n",
    "macro_data"
   ]
  },
  {
   "cell_type": "markdown",
   "id": "7eceddea",
   "metadata": {},
   "source": [
    "## 🔍 1.1 Financial reporting - EDGAR (in Yahoo)\n",
    "____"
   ]
  },
  {
   "cell_type": "code",
   "execution_count": 71,
   "id": "d1b657e7",
   "metadata": {},
   "outputs": [],
   "source": [
    "# let's check for NVDA\n",
    "nvda =  yf.Ticker('NVDA')"
   ]
  },
  {
   "cell_type": "code",
   "execution_count": 72,
   "id": "7c385907",
   "metadata": {},
   "outputs": [
    {
     "data": {
      "application/vnd.microsoft.datawrangler.viewer.v0+json": {
       "columns": [
        {
         "name": "index",
         "rawType": "object",
         "type": "string"
        },
        {
         "name": "2025-01-31 00:00:00",
         "rawType": "object",
         "type": "unknown"
        },
        {
         "name": "2024-01-31 00:00:00",
         "rawType": "object",
         "type": "unknown"
        },
        {
         "name": "2023-01-31 00:00:00",
         "rawType": "object",
         "type": "unknown"
        },
        {
         "name": "2022-01-31 00:00:00",
         "rawType": "object",
         "type": "unknown"
        }
       ],
       "ref": "76517bd5-9db2-4180-8280-624f4b6123da",
       "rows": [
        [
         "Tax Effect Of Unusual Items",
         "0.0",
         "0.0",
         "-284130000.0",
         "0.0"
        ],
        [
         "Tax Rate For Calcs",
         "0.133",
         "0.12",
         "0.21",
         "0.019"
        ],
        [
         "Normalized EBITDA",
         "86137000000.0",
         "35583000000.0",
         "7339000000.0",
         "11351000000.0"
        ],
        [
         "Total Unusual Items",
         "0.0",
         "0.0",
         "-1353000000.0",
         "0.0"
        ],
        [
         "Total Unusual Items Excluding Goodwill",
         "0.0",
         "0.0",
         "-1353000000.0",
         "0.0"
        ],
        [
         "Net Income From Continuing Operation Net Minority Interest",
         "72880000000.0",
         "29760000000.0",
         "4368000000.0",
         "9752000000.0"
        ],
        [
         "Reconciled Depreciation",
         "1864000000.0",
         "1508000000.0",
         "1543000000.0",
         "1174000000.0"
        ],
        [
         "Reconciled Cost Of Revenue",
         "32639000000.0",
         "16621000000.0",
         "11618000000.0",
         "9439000000.0"
        ],
        [
         "EBITDA",
         "86137000000.0",
         "35583000000.0",
         "5986000000.0",
         "11351000000.0"
        ],
        [
         "EBIT",
         "84273000000.0",
         "34075000000.0",
         "4443000000.0",
         "10177000000.0"
        ],
        [
         "Net Interest Income",
         "1539000000.0",
         "609000000.0",
         "5000000.0",
         "-207000000.0"
        ],
        [
         "Interest Expense",
         "247000000.0",
         "257000000.0",
         "262000000.0",
         "236000000.0"
        ],
        [
         "Interest Income",
         "1786000000.0",
         "866000000.0",
         "267000000.0",
         "29000000.0"
        ],
        [
         "Normalized Income",
         "72880000000.0",
         "29760000000.0",
         "5436870000.0",
         "9752000000.0"
        ],
        [
         "Net Income From Continuing And Discontinued Operation",
         "72880000000.0",
         "29760000000.0",
         "4368000000.0",
         "9752000000.0"
        ],
        [
         "Total Expenses",
         "49044000000.0",
         "27950000000.0",
         "21397000000.0",
         "16873000000.0"
        ],
        [
         "Total Operating Income As Reported",
         "81453000000.0",
         "32972000000.0",
         "4224000000.0",
         "10041000000.0"
        ],
        [
         "Diluted Average Shares",
         "24804000000.0",
         "24940000000.0",
         "25070000000.0",
         "25350000000.0"
        ],
        [
         "Basic Average Shares",
         "24555000000.0",
         "24690000000.0",
         "24870000000.0",
         "24960000000.0"
        ],
        [
         "Diluted EPS",
         "2.94",
         "1.19",
         "0.174",
         "0.385"
        ],
        [
         "Basic EPS",
         "2.97",
         "1.21",
         "0.176",
         "0.391"
        ],
        [
         "Diluted NI Availto Com Stockholders",
         "72880000000.0",
         "29760000000.0",
         "4368000000.0",
         "9752000000.0"
        ],
        [
         "Net Income Common Stockholders",
         "72880000000.0",
         "29760000000.0",
         "4368000000.0",
         "9752000000.0"
        ],
        [
         "Net Income",
         "72880000000.0",
         "29760000000.0",
         "4368000000.0",
         "9752000000.0"
        ],
        [
         "Net Income Including Noncontrolling Interests",
         "72880000000.0",
         "29760000000.0",
         "4368000000.0",
         "9752000000.0"
        ],
        [
         "Net Income Continuous Operations",
         "72880000000.0",
         "29760000000.0",
         "4368000000.0",
         "9752000000.0"
        ],
        [
         "Tax Provision",
         "11146000000.0",
         "4058000000.0",
         "-187000000.0",
         "189000000.0"
        ],
        [
         "Pretax Income",
         "84026000000.0",
         "33818000000.0",
         "4181000000.0",
         "9941000000.0"
        ],
        [
         "Other Income Expense",
         "1034000000.0",
         "237000000.0",
         "-1401000000.0",
         "107000000.0"
        ],
        [
         "Other Non Operating Income Expenses",
         "1034000000.0",
         "237000000.0",
         "-48000000.0",
         "107000000.0"
        ],
        [
         "Special Income Charges",
         "0.0",
         "0.0",
         "-1353000000.0",
         "0.0"
        ],
        [
         "Restructuring And Mergern Acquisition",
         "0.0",
         "0.0",
         "1353000000.0",
         "0.0"
        ],
        [
         "Net Non Operating Interest Income Expense",
         "1539000000.0",
         "609000000.0",
         "5000000.0",
         "-207000000.0"
        ],
        [
         "Interest Expense Non Operating",
         "247000000.0",
         "257000000.0",
         "262000000.0",
         "236000000.0"
        ],
        [
         "Interest Income Non Operating",
         "1786000000.0",
         "866000000.0",
         "267000000.0",
         "29000000.0"
        ],
        [
         "Operating Income",
         "81453000000.0",
         "32972000000.0",
         "5577000000.0",
         "10041000000.0"
        ],
        [
         "Operating Expense",
         "16405000000.0",
         "11329000000.0",
         "9779000000.0",
         "7434000000.0"
        ],
        [
         "Research And Development",
         "12914000000.0",
         "8675000000.0",
         "7339000000.0",
         "5268000000.0"
        ],
        [
         "Selling General And Administration",
         "3491000000.0",
         "2654000000.0",
         "2440000000.0",
         "2166000000.0"
        ],
        [
         "Gross Profit",
         "97858000000.0",
         "44301000000.0",
         "15356000000.0",
         "17475000000.0"
        ],
        [
         "Cost Of Revenue",
         "32639000000.0",
         "16621000000.0",
         "11618000000.0",
         "9439000000.0"
        ],
        [
         "Total Revenue",
         "130497000000.0",
         "60922000000.0",
         "26974000000.0",
         "26914000000.0"
        ],
        [
         "Operating Revenue",
         "130497000000.0",
         "60922000000.0",
         "26974000000.0",
         "26914000000.0"
        ]
       ],
       "shape": {
        "columns": 4,
        "rows": 43
       }
      },
      "text/html": [
       "<div>\n",
       "<style scoped>\n",
       "    .dataframe tbody tr th:only-of-type {\n",
       "        vertical-align: middle;\n",
       "    }\n",
       "\n",
       "    .dataframe tbody tr th {\n",
       "        vertical-align: top;\n",
       "    }\n",
       "\n",
       "    .dataframe thead th {\n",
       "        text-align: right;\n",
       "    }\n",
       "</style>\n",
       "<table border=\"1\" class=\"dataframe\">\n",
       "  <thead>\n",
       "    <tr style=\"text-align: right;\">\n",
       "      <th></th>\n",
       "      <th>2025-01-31</th>\n",
       "      <th>2024-01-31</th>\n",
       "      <th>2023-01-31</th>\n",
       "      <th>2022-01-31</th>\n",
       "    </tr>\n",
       "  </thead>\n",
       "  <tbody>\n",
       "    <tr>\n",
       "      <th>Tax Effect Of Unusual Items</th>\n",
       "      <td>0.0</td>\n",
       "      <td>0.0</td>\n",
       "      <td>-284130000.0</td>\n",
       "      <td>0.0</td>\n",
       "    </tr>\n",
       "    <tr>\n",
       "      <th>Tax Rate For Calcs</th>\n",
       "      <td>0.133</td>\n",
       "      <td>0.12</td>\n",
       "      <td>0.21</td>\n",
       "      <td>0.019</td>\n",
       "    </tr>\n",
       "    <tr>\n",
       "      <th>Normalized EBITDA</th>\n",
       "      <td>86137000000.0</td>\n",
       "      <td>35583000000.0</td>\n",
       "      <td>7339000000.0</td>\n",
       "      <td>11351000000.0</td>\n",
       "    </tr>\n",
       "    <tr>\n",
       "      <th>Total Unusual Items</th>\n",
       "      <td>0.0</td>\n",
       "      <td>0.0</td>\n",
       "      <td>-1353000000.0</td>\n",
       "      <td>0.0</td>\n",
       "    </tr>\n",
       "    <tr>\n",
       "      <th>Total Unusual Items Excluding Goodwill</th>\n",
       "      <td>0.0</td>\n",
       "      <td>0.0</td>\n",
       "      <td>-1353000000.0</td>\n",
       "      <td>0.0</td>\n",
       "    </tr>\n",
       "    <tr>\n",
       "      <th>Net Income From Continuing Operation Net Minority Interest</th>\n",
       "      <td>72880000000.0</td>\n",
       "      <td>29760000000.0</td>\n",
       "      <td>4368000000.0</td>\n",
       "      <td>9752000000.0</td>\n",
       "    </tr>\n",
       "    <tr>\n",
       "      <th>Reconciled Depreciation</th>\n",
       "      <td>1864000000.0</td>\n",
       "      <td>1508000000.0</td>\n",
       "      <td>1543000000.0</td>\n",
       "      <td>1174000000.0</td>\n",
       "    </tr>\n",
       "    <tr>\n",
       "      <th>Reconciled Cost Of Revenue</th>\n",
       "      <td>32639000000.0</td>\n",
       "      <td>16621000000.0</td>\n",
       "      <td>11618000000.0</td>\n",
       "      <td>9439000000.0</td>\n",
       "    </tr>\n",
       "    <tr>\n",
       "      <th>EBITDA</th>\n",
       "      <td>86137000000.0</td>\n",
       "      <td>35583000000.0</td>\n",
       "      <td>5986000000.0</td>\n",
       "      <td>11351000000.0</td>\n",
       "    </tr>\n",
       "    <tr>\n",
       "      <th>EBIT</th>\n",
       "      <td>84273000000.0</td>\n",
       "      <td>34075000000.0</td>\n",
       "      <td>4443000000.0</td>\n",
       "      <td>10177000000.0</td>\n",
       "    </tr>\n",
       "    <tr>\n",
       "      <th>Net Interest Income</th>\n",
       "      <td>1539000000.0</td>\n",
       "      <td>609000000.0</td>\n",
       "      <td>5000000.0</td>\n",
       "      <td>-207000000.0</td>\n",
       "    </tr>\n",
       "    <tr>\n",
       "      <th>Interest Expense</th>\n",
       "      <td>247000000.0</td>\n",
       "      <td>257000000.0</td>\n",
       "      <td>262000000.0</td>\n",
       "      <td>236000000.0</td>\n",
       "    </tr>\n",
       "    <tr>\n",
       "      <th>Interest Income</th>\n",
       "      <td>1786000000.0</td>\n",
       "      <td>866000000.0</td>\n",
       "      <td>267000000.0</td>\n",
       "      <td>29000000.0</td>\n",
       "    </tr>\n",
       "    <tr>\n",
       "      <th>Normalized Income</th>\n",
       "      <td>72880000000.0</td>\n",
       "      <td>29760000000.0</td>\n",
       "      <td>5436870000.0</td>\n",
       "      <td>9752000000.0</td>\n",
       "    </tr>\n",
       "    <tr>\n",
       "      <th>Net Income From Continuing And Discontinued Operation</th>\n",
       "      <td>72880000000.0</td>\n",
       "      <td>29760000000.0</td>\n",
       "      <td>4368000000.0</td>\n",
       "      <td>9752000000.0</td>\n",
       "    </tr>\n",
       "    <tr>\n",
       "      <th>Total Expenses</th>\n",
       "      <td>49044000000.0</td>\n",
       "      <td>27950000000.0</td>\n",
       "      <td>21397000000.0</td>\n",
       "      <td>16873000000.0</td>\n",
       "    </tr>\n",
       "    <tr>\n",
       "      <th>Total Operating Income As Reported</th>\n",
       "      <td>81453000000.0</td>\n",
       "      <td>32972000000.0</td>\n",
       "      <td>4224000000.0</td>\n",
       "      <td>10041000000.0</td>\n",
       "    </tr>\n",
       "    <tr>\n",
       "      <th>Diluted Average Shares</th>\n",
       "      <td>24804000000.0</td>\n",
       "      <td>24940000000.0</td>\n",
       "      <td>25070000000.0</td>\n",
       "      <td>25350000000.0</td>\n",
       "    </tr>\n",
       "    <tr>\n",
       "      <th>Basic Average Shares</th>\n",
       "      <td>24555000000.0</td>\n",
       "      <td>24690000000.0</td>\n",
       "      <td>24870000000.0</td>\n",
       "      <td>24960000000.0</td>\n",
       "    </tr>\n",
       "    <tr>\n",
       "      <th>Diluted EPS</th>\n",
       "      <td>2.94</td>\n",
       "      <td>1.19</td>\n",
       "      <td>0.174</td>\n",
       "      <td>0.385</td>\n",
       "    </tr>\n",
       "    <tr>\n",
       "      <th>Basic EPS</th>\n",
       "      <td>2.97</td>\n",
       "      <td>1.21</td>\n",
       "      <td>0.176</td>\n",
       "      <td>0.391</td>\n",
       "    </tr>\n",
       "    <tr>\n",
       "      <th>Diluted NI Availto Com Stockholders</th>\n",
       "      <td>72880000000.0</td>\n",
       "      <td>29760000000.0</td>\n",
       "      <td>4368000000.0</td>\n",
       "      <td>9752000000.0</td>\n",
       "    </tr>\n",
       "    <tr>\n",
       "      <th>Net Income Common Stockholders</th>\n",
       "      <td>72880000000.0</td>\n",
       "      <td>29760000000.0</td>\n",
       "      <td>4368000000.0</td>\n",
       "      <td>9752000000.0</td>\n",
       "    </tr>\n",
       "    <tr>\n",
       "      <th>Net Income</th>\n",
       "      <td>72880000000.0</td>\n",
       "      <td>29760000000.0</td>\n",
       "      <td>4368000000.0</td>\n",
       "      <td>9752000000.0</td>\n",
       "    </tr>\n",
       "    <tr>\n",
       "      <th>Net Income Including Noncontrolling Interests</th>\n",
       "      <td>72880000000.0</td>\n",
       "      <td>29760000000.0</td>\n",
       "      <td>4368000000.0</td>\n",
       "      <td>9752000000.0</td>\n",
       "    </tr>\n",
       "    <tr>\n",
       "      <th>Net Income Continuous Operations</th>\n",
       "      <td>72880000000.0</td>\n",
       "      <td>29760000000.0</td>\n",
       "      <td>4368000000.0</td>\n",
       "      <td>9752000000.0</td>\n",
       "    </tr>\n",
       "    <tr>\n",
       "      <th>Tax Provision</th>\n",
       "      <td>11146000000.0</td>\n",
       "      <td>4058000000.0</td>\n",
       "      <td>-187000000.0</td>\n",
       "      <td>189000000.0</td>\n",
       "    </tr>\n",
       "    <tr>\n",
       "      <th>Pretax Income</th>\n",
       "      <td>84026000000.0</td>\n",
       "      <td>33818000000.0</td>\n",
       "      <td>4181000000.0</td>\n",
       "      <td>9941000000.0</td>\n",
       "    </tr>\n",
       "    <tr>\n",
       "      <th>Other Income Expense</th>\n",
       "      <td>1034000000.0</td>\n",
       "      <td>237000000.0</td>\n",
       "      <td>-1401000000.0</td>\n",
       "      <td>107000000.0</td>\n",
       "    </tr>\n",
       "    <tr>\n",
       "      <th>Other Non Operating Income Expenses</th>\n",
       "      <td>1034000000.0</td>\n",
       "      <td>237000000.0</td>\n",
       "      <td>-48000000.0</td>\n",
       "      <td>107000000.0</td>\n",
       "    </tr>\n",
       "    <tr>\n",
       "      <th>Special Income Charges</th>\n",
       "      <td>0.0</td>\n",
       "      <td>0.0</td>\n",
       "      <td>-1353000000.0</td>\n",
       "      <td>0.0</td>\n",
       "    </tr>\n",
       "    <tr>\n",
       "      <th>Restructuring And Mergern Acquisition</th>\n",
       "      <td>0.0</td>\n",
       "      <td>0.0</td>\n",
       "      <td>1353000000.0</td>\n",
       "      <td>0.0</td>\n",
       "    </tr>\n",
       "    <tr>\n",
       "      <th>Net Non Operating Interest Income Expense</th>\n",
       "      <td>1539000000.0</td>\n",
       "      <td>609000000.0</td>\n",
       "      <td>5000000.0</td>\n",
       "      <td>-207000000.0</td>\n",
       "    </tr>\n",
       "    <tr>\n",
       "      <th>Interest Expense Non Operating</th>\n",
       "      <td>247000000.0</td>\n",
       "      <td>257000000.0</td>\n",
       "      <td>262000000.0</td>\n",
       "      <td>236000000.0</td>\n",
       "    </tr>\n",
       "    <tr>\n",
       "      <th>Interest Income Non Operating</th>\n",
       "      <td>1786000000.0</td>\n",
       "      <td>866000000.0</td>\n",
       "      <td>267000000.0</td>\n",
       "      <td>29000000.0</td>\n",
       "    </tr>\n",
       "    <tr>\n",
       "      <th>Operating Income</th>\n",
       "      <td>81453000000.0</td>\n",
       "      <td>32972000000.0</td>\n",
       "      <td>5577000000.0</td>\n",
       "      <td>10041000000.0</td>\n",
       "    </tr>\n",
       "    <tr>\n",
       "      <th>Operating Expense</th>\n",
       "      <td>16405000000.0</td>\n",
       "      <td>11329000000.0</td>\n",
       "      <td>9779000000.0</td>\n",
       "      <td>7434000000.0</td>\n",
       "    </tr>\n",
       "    <tr>\n",
       "      <th>Research And Development</th>\n",
       "      <td>12914000000.0</td>\n",
       "      <td>8675000000.0</td>\n",
       "      <td>7339000000.0</td>\n",
       "      <td>5268000000.0</td>\n",
       "    </tr>\n",
       "    <tr>\n",
       "      <th>Selling General And Administration</th>\n",
       "      <td>3491000000.0</td>\n",
       "      <td>2654000000.0</td>\n",
       "      <td>2440000000.0</td>\n",
       "      <td>2166000000.0</td>\n",
       "    </tr>\n",
       "    <tr>\n",
       "      <th>Gross Profit</th>\n",
       "      <td>97858000000.0</td>\n",
       "      <td>44301000000.0</td>\n",
       "      <td>15356000000.0</td>\n",
       "      <td>17475000000.0</td>\n",
       "    </tr>\n",
       "    <tr>\n",
       "      <th>Cost Of Revenue</th>\n",
       "      <td>32639000000.0</td>\n",
       "      <td>16621000000.0</td>\n",
       "      <td>11618000000.0</td>\n",
       "      <td>9439000000.0</td>\n",
       "    </tr>\n",
       "    <tr>\n",
       "      <th>Total Revenue</th>\n",
       "      <td>130497000000.0</td>\n",
       "      <td>60922000000.0</td>\n",
       "      <td>26974000000.0</td>\n",
       "      <td>26914000000.0</td>\n",
       "    </tr>\n",
       "    <tr>\n",
       "      <th>Operating Revenue</th>\n",
       "      <td>130497000000.0</td>\n",
       "      <td>60922000000.0</td>\n",
       "      <td>26974000000.0</td>\n",
       "      <td>26914000000.0</td>\n",
       "    </tr>\n",
       "  </tbody>\n",
       "</table>\n",
       "</div>"
      ],
      "text/plain": [
       "                                                        2025-01-31  \\\n",
       "Tax Effect Of Unusual Items                                    0.0   \n",
       "Tax Rate For Calcs                                           0.133   \n",
       "Normalized EBITDA                                    86137000000.0   \n",
       "Total Unusual Items                                            0.0   \n",
       "Total Unusual Items Excluding Goodwill                         0.0   \n",
       "Net Income From Continuing Operation Net Minori...   72880000000.0   \n",
       "Reconciled Depreciation                               1864000000.0   \n",
       "Reconciled Cost Of Revenue                           32639000000.0   \n",
       "EBITDA                                               86137000000.0   \n",
       "EBIT                                                 84273000000.0   \n",
       "Net Interest Income                                   1539000000.0   \n",
       "Interest Expense                                       247000000.0   \n",
       "Interest Income                                       1786000000.0   \n",
       "Normalized Income                                    72880000000.0   \n",
       "Net Income From Continuing And Discontinued Ope...   72880000000.0   \n",
       "Total Expenses                                       49044000000.0   \n",
       "Total Operating Income As Reported                   81453000000.0   \n",
       "Diluted Average Shares                               24804000000.0   \n",
       "Basic Average Shares                                 24555000000.0   \n",
       "Diluted EPS                                                   2.94   \n",
       "Basic EPS                                                     2.97   \n",
       "Diluted NI Availto Com Stockholders                  72880000000.0   \n",
       "Net Income Common Stockholders                       72880000000.0   \n",
       "Net Income                                           72880000000.0   \n",
       "Net Income Including Noncontrolling Interests        72880000000.0   \n",
       "Net Income Continuous Operations                     72880000000.0   \n",
       "Tax Provision                                        11146000000.0   \n",
       "Pretax Income                                        84026000000.0   \n",
       "Other Income Expense                                  1034000000.0   \n",
       "Other Non Operating Income Expenses                   1034000000.0   \n",
       "Special Income Charges                                         0.0   \n",
       "Restructuring And Mergern Acquisition                          0.0   \n",
       "Net Non Operating Interest Income Expense             1539000000.0   \n",
       "Interest Expense Non Operating                         247000000.0   \n",
       "Interest Income Non Operating                         1786000000.0   \n",
       "Operating Income                                     81453000000.0   \n",
       "Operating Expense                                    16405000000.0   \n",
       "Research And Development                             12914000000.0   \n",
       "Selling General And Administration                    3491000000.0   \n",
       "Gross Profit                                         97858000000.0   \n",
       "Cost Of Revenue                                      32639000000.0   \n",
       "Total Revenue                                       130497000000.0   \n",
       "Operating Revenue                                   130497000000.0   \n",
       "\n",
       "                                                       2024-01-31  \\\n",
       "Tax Effect Of Unusual Items                                   0.0   \n",
       "Tax Rate For Calcs                                           0.12   \n",
       "Normalized EBITDA                                   35583000000.0   \n",
       "Total Unusual Items                                           0.0   \n",
       "Total Unusual Items Excluding Goodwill                        0.0   \n",
       "Net Income From Continuing Operation Net Minori...  29760000000.0   \n",
       "Reconciled Depreciation                              1508000000.0   \n",
       "Reconciled Cost Of Revenue                          16621000000.0   \n",
       "EBITDA                                              35583000000.0   \n",
       "EBIT                                                34075000000.0   \n",
       "Net Interest Income                                   609000000.0   \n",
       "Interest Expense                                      257000000.0   \n",
       "Interest Income                                       866000000.0   \n",
       "Normalized Income                                   29760000000.0   \n",
       "Net Income From Continuing And Discontinued Ope...  29760000000.0   \n",
       "Total Expenses                                      27950000000.0   \n",
       "Total Operating Income As Reported                  32972000000.0   \n",
       "Diluted Average Shares                              24940000000.0   \n",
       "Basic Average Shares                                24690000000.0   \n",
       "Diluted EPS                                                  1.19   \n",
       "Basic EPS                                                    1.21   \n",
       "Diluted NI Availto Com Stockholders                 29760000000.0   \n",
       "Net Income Common Stockholders                      29760000000.0   \n",
       "Net Income                                          29760000000.0   \n",
       "Net Income Including Noncontrolling Interests       29760000000.0   \n",
       "Net Income Continuous Operations                    29760000000.0   \n",
       "Tax Provision                                        4058000000.0   \n",
       "Pretax Income                                       33818000000.0   \n",
       "Other Income Expense                                  237000000.0   \n",
       "Other Non Operating Income Expenses                   237000000.0   \n",
       "Special Income Charges                                        0.0   \n",
       "Restructuring And Mergern Acquisition                         0.0   \n",
       "Net Non Operating Interest Income Expense             609000000.0   \n",
       "Interest Expense Non Operating                        257000000.0   \n",
       "Interest Income Non Operating                         866000000.0   \n",
       "Operating Income                                    32972000000.0   \n",
       "Operating Expense                                   11329000000.0   \n",
       "Research And Development                             8675000000.0   \n",
       "Selling General And Administration                   2654000000.0   \n",
       "Gross Profit                                        44301000000.0   \n",
       "Cost Of Revenue                                     16621000000.0   \n",
       "Total Revenue                                       60922000000.0   \n",
       "Operating Revenue                                   60922000000.0   \n",
       "\n",
       "                                                       2023-01-31  \\\n",
       "Tax Effect Of Unusual Items                          -284130000.0   \n",
       "Tax Rate For Calcs                                           0.21   \n",
       "Normalized EBITDA                                    7339000000.0   \n",
       "Total Unusual Items                                 -1353000000.0   \n",
       "Total Unusual Items Excluding Goodwill              -1353000000.0   \n",
       "Net Income From Continuing Operation Net Minori...   4368000000.0   \n",
       "Reconciled Depreciation                              1543000000.0   \n",
       "Reconciled Cost Of Revenue                          11618000000.0   \n",
       "EBITDA                                               5986000000.0   \n",
       "EBIT                                                 4443000000.0   \n",
       "Net Interest Income                                     5000000.0   \n",
       "Interest Expense                                      262000000.0   \n",
       "Interest Income                                       267000000.0   \n",
       "Normalized Income                                    5436870000.0   \n",
       "Net Income From Continuing And Discontinued Ope...   4368000000.0   \n",
       "Total Expenses                                      21397000000.0   \n",
       "Total Operating Income As Reported                   4224000000.0   \n",
       "Diluted Average Shares                              25070000000.0   \n",
       "Basic Average Shares                                24870000000.0   \n",
       "Diluted EPS                                                 0.174   \n",
       "Basic EPS                                                   0.176   \n",
       "Diluted NI Availto Com Stockholders                  4368000000.0   \n",
       "Net Income Common Stockholders                       4368000000.0   \n",
       "Net Income                                           4368000000.0   \n",
       "Net Income Including Noncontrolling Interests        4368000000.0   \n",
       "Net Income Continuous Operations                     4368000000.0   \n",
       "Tax Provision                                        -187000000.0   \n",
       "Pretax Income                                        4181000000.0   \n",
       "Other Income Expense                                -1401000000.0   \n",
       "Other Non Operating Income Expenses                   -48000000.0   \n",
       "Special Income Charges                              -1353000000.0   \n",
       "Restructuring And Mergern Acquisition                1353000000.0   \n",
       "Net Non Operating Interest Income Expense               5000000.0   \n",
       "Interest Expense Non Operating                        262000000.0   \n",
       "Interest Income Non Operating                         267000000.0   \n",
       "Operating Income                                     5577000000.0   \n",
       "Operating Expense                                    9779000000.0   \n",
       "Research And Development                             7339000000.0   \n",
       "Selling General And Administration                   2440000000.0   \n",
       "Gross Profit                                        15356000000.0   \n",
       "Cost Of Revenue                                     11618000000.0   \n",
       "Total Revenue                                       26974000000.0   \n",
       "Operating Revenue                                   26974000000.0   \n",
       "\n",
       "                                                       2022-01-31  \n",
       "Tax Effect Of Unusual Items                                   0.0  \n",
       "Tax Rate For Calcs                                          0.019  \n",
       "Normalized EBITDA                                   11351000000.0  \n",
       "Total Unusual Items                                           0.0  \n",
       "Total Unusual Items Excluding Goodwill                        0.0  \n",
       "Net Income From Continuing Operation Net Minori...   9752000000.0  \n",
       "Reconciled Depreciation                              1174000000.0  \n",
       "Reconciled Cost Of Revenue                           9439000000.0  \n",
       "EBITDA                                              11351000000.0  \n",
       "EBIT                                                10177000000.0  \n",
       "Net Interest Income                                  -207000000.0  \n",
       "Interest Expense                                      236000000.0  \n",
       "Interest Income                                        29000000.0  \n",
       "Normalized Income                                    9752000000.0  \n",
       "Net Income From Continuing And Discontinued Ope...   9752000000.0  \n",
       "Total Expenses                                      16873000000.0  \n",
       "Total Operating Income As Reported                  10041000000.0  \n",
       "Diluted Average Shares                              25350000000.0  \n",
       "Basic Average Shares                                24960000000.0  \n",
       "Diluted EPS                                                 0.385  \n",
       "Basic EPS                                                   0.391  \n",
       "Diluted NI Availto Com Stockholders                  9752000000.0  \n",
       "Net Income Common Stockholders                       9752000000.0  \n",
       "Net Income                                           9752000000.0  \n",
       "Net Income Including Noncontrolling Interests        9752000000.0  \n",
       "Net Income Continuous Operations                     9752000000.0  \n",
       "Tax Provision                                         189000000.0  \n",
       "Pretax Income                                        9941000000.0  \n",
       "Other Income Expense                                  107000000.0  \n",
       "Other Non Operating Income Expenses                   107000000.0  \n",
       "Special Income Charges                                        0.0  \n",
       "Restructuring And Mergern Acquisition                         0.0  \n",
       "Net Non Operating Interest Income Expense            -207000000.0  \n",
       "Interest Expense Non Operating                        236000000.0  \n",
       "Interest Income Non Operating                          29000000.0  \n",
       "Operating Income                                    10041000000.0  \n",
       "Operating Expense                                    7434000000.0  \n",
       "Research And Development                             5268000000.0  \n",
       "Selling General And Administration                   2166000000.0  \n",
       "Gross Profit                                        17475000000.0  \n",
       "Cost Of Revenue                                      9439000000.0  \n",
       "Total Revenue                                       26914000000.0  \n",
       "Operating Revenue                                   26914000000.0  "
      ]
     },
     "execution_count": 72,
     "metadata": {},
     "output_type": "execute_result"
    }
   ],
   "source": [
    "# yearly financials for the last 4 years\n",
    "nvda.financials\n"
   ]
  },
  {
   "cell_type": "code",
   "execution_count": 73,
   "id": "9f9fa636",
   "metadata": {},
   "outputs": [
    {
     "data": {
      "application/vnd.microsoft.datawrangler.viewer.v0+json": {
       "columns": [
        {
         "name": "index",
         "rawType": "object",
         "type": "string"
        },
        {
         "name": "2025-01-31 00:00:00",
         "rawType": "object",
         "type": "unknown"
        },
        {
         "name": "2024-01-31 00:00:00",
         "rawType": "object",
         "type": "unknown"
        },
        {
         "name": "2023-01-31 00:00:00",
         "rawType": "object",
         "type": "unknown"
        },
        {
         "name": "2022-01-31 00:00:00",
         "rawType": "object",
         "type": "unknown"
        },
        {
         "name": "2021-01-31 00:00:00",
         "rawType": "object",
         "type": "unknown"
        }
       ],
       "ref": "38c0caab-b21d-4479-9feb-6e4f6d268a6f",
       "rows": [
        [
         "Treasury Shares Number",
         null,
         null,
         null,
         null,
         "13800000000.0"
        ],
        [
         "Ordinary Shares Number",
         "24477000000.0",
         "24640000000.0",
         "24661365720.0",
         "25060000000.0",
         null
        ],
        [
         "Share Issued",
         "24477000000.0",
         "24640000000.0",
         "24661365720.0",
         "25060000000.0",
         null
        ],
        [
         "Net Debt",
         null,
         "2429000000.0",
         "7564000000.0",
         "8956000000.0",
         "6116000000.0"
        ],
        [
         "Total Debt",
         "10270000000.0",
         "11056000000.0",
         "12031000000.0",
         "11831000000.0",
         null
        ],
        [
         "Tangible Book Value",
         "73332000000.0",
         "37436000000.0",
         "16053000000.0",
         "19924000000.0",
         null
        ],
        [
         "Invested Capital",
         "87790000000.0",
         "52687000000.0",
         "33054000000.0",
         "37558000000.0",
         null
        ],
        [
         "Working Capital",
         "62079000000.0",
         "33714000000.0",
         "16510000000.0",
         "24494000000.0",
         null
        ],
        [
         "Net Tangible Assets",
         "73332000000.0",
         "37436000000.0",
         "16053000000.0",
         "19924000000.0",
         null
        ],
        [
         "Capital Lease Obligations",
         "1807000000.0",
         "1347000000.0",
         "1078000000.0",
         "885000000.0",
         null
        ],
        [
         "Common Stock Equity",
         "79327000000.0",
         "42978000000.0",
         "22101000000.0",
         "26612000000.0",
         null
        ],
        [
         "Total Capitalization",
         "87790000000.0",
         "51437000000.0",
         "31804000000.0",
         "37558000000.0",
         null
        ],
        [
         "Total Equity Gross Minority Interest",
         "79327000000.0",
         "42978000000.0",
         "22101000000.0",
         "26612000000.0",
         null
        ],
        [
         "Stockholders Equity",
         "79327000000.0",
         "42978000000.0",
         "22101000000.0",
         "26612000000.0",
         null
        ],
        [
         "Gains Losses Not Affecting Retained Earnings",
         "28000000.0",
         "27000000.0",
         "-43000000.0",
         "-11000000.0",
         null
        ],
        [
         "Other Equity Adjustments",
         "28000000.0",
         "27000000.0",
         "-43000000.0",
         "-11000000.0",
         null
        ],
        [
         "Treasury Stock",
         null,
         null,
         null,
         "0.0",
         "10756000000.0"
        ],
        [
         "Retained Earnings",
         "68038000000.0",
         "29817000000.0",
         "10171000000.0",
         "16235000000.0",
         null
        ],
        [
         "Additional Paid In Capital",
         "11237000000.0",
         "13109000000.0",
         "11971000000.0",
         "10385000000.0",
         null
        ],
        [
         "Capital Stock",
         "24000000.0",
         "25000000.0",
         "2000000.0",
         "3000000.0",
         null
        ],
        [
         "Common Stock",
         "24000000.0",
         "25000000.0",
         "2000000.0",
         "3000000.0",
         null
        ],
        [
         "Preferred Stock",
         "0.0",
         "0.0",
         "0.0",
         "0.0",
         null
        ],
        [
         "Total Liabilities Net Minority Interest",
         "32274000000.0",
         "22750000000.0",
         "19081000000.0",
         "17575000000.0",
         null
        ],
        [
         "Total Non Current Liabilities Net Minority Interest",
         "14227000000.0",
         "12119000000.0",
         "12518000000.0",
         "13240000000.0",
         null
        ],
        [
         "Other Non Current Liabilities",
         "79000000.0",
         "65000000.0",
         "63000000.0",
         "49000000.0",
         null
        ],
        [
         "Employee Benefits",
         null,
         null,
         null,
         null,
         "33000000.0"
        ],
        [
         "Tradeand Other Payables Non Current",
         "2304000000.0",
         "1441000000.0",
         "1385000000.0",
         "1057000000.0",
         null
        ],
        [
         "Non Current Deferred Liabilities",
         "1862000000.0",
         "1035000000.0",
         "465000000.0",
         "447000000.0",
         null
        ],
        [
         "Non Current Deferred Revenue",
         "976000000.0",
         "573000000.0",
         "218000000.0",
         "202000000.0",
         null
        ],
        [
         "Non Current Deferred Taxes Liabilities",
         "886000000.0",
         "462000000.0",
         "247000000.0",
         "245000000.0",
         null
        ],
        [
         "Long Term Debt And Capital Lease Obligation",
         "9982000000.0",
         "9578000000.0",
         "10605000000.0",
         "11687000000.0",
         null
        ],
        [
         "Long Term Capital Lease Obligation",
         "1519000000.0",
         "1119000000.0",
         "902000000.0",
         "741000000.0",
         null
        ],
        [
         "Long Term Debt",
         "8463000000.0",
         "8459000000.0",
         "9703000000.0",
         "10946000000.0",
         null
        ],
        [
         "Current Liabilities",
         "18047000000.0",
         "10631000000.0",
         "6563000000.0",
         "4335000000.0",
         null
        ],
        [
         "Other Current Liabilities",
         "228000000.0",
         "199000000.0",
         "69000000.0",
         "371000000.0",
         null
        ],
        [
         "Current Deferred Liabilities",
         "837000000.0",
         "764000000.0",
         "354000000.0",
         "300000000.0",
         null
        ],
        [
         "Current Deferred Revenue",
         "837000000.0",
         "764000000.0",
         "354000000.0",
         "300000000.0",
         null
        ],
        [
         "Current Debt And Capital Lease Obligation",
         "288000000.0",
         "1478000000.0",
         "1426000000.0",
         "144000000.0",
         null
        ],
        [
         "Current Capital Lease Obligation",
         "288000000.0",
         "228000000.0",
         "176000000.0",
         "144000000.0",
         null
        ],
        [
         "Current Debt",
         null,
         "1250000000.0",
         "1250000000.0",
         null,
         "999000000.0"
        ],
        [
         "Other Current Borrowings",
         null,
         "1250000000.0",
         "1250000000.0",
         null,
         "999000000.0"
        ],
        [
         "Current Provisions",
         "1373000000.0",
         "415000000.0",
         "108000000.0",
         null,
         null
        ],
        [
         "Payables And Accrued Expenses",
         "15321000000.0",
         "7775000000.0",
         "4606000000.0",
         "3520000000.0",
         null
        ],
        [
         "Current Accrued Expenses",
         "8130000000.0",
         "4780000000.0",
         "2946000000.0",
         "1605000000.0",
         null
        ],
        [
         "Interest Payable",
         null,
         null,
         null,
         null,
         "74000000.0"
        ],
        [
         "Payables",
         "7191000000.0",
         "2995000000.0",
         "1660000000.0",
         "1915000000.0",
         null
        ],
        [
         "Total Tax Payable",
         "881000000.0",
         "296000000.0",
         "467000000.0",
         "132000000.0",
         null
        ],
        [
         "Accounts Payable",
         "6310000000.0",
         "2699000000.0",
         "1193000000.0",
         "1783000000.0",
         null
        ],
        [
         "Total Assets",
         "111601000000.0",
         "65728000000.0",
         "41182000000.0",
         "44187000000.0",
         null
        ],
        [
         "Total Non Current Assets",
         "31475000000.0",
         "21383000000.0",
         "18109000000.0",
         "15358000000.0",
         null
        ]
       ],
       "shape": {
        "columns": 5,
        "rows": 86
       }
      },
      "text/html": [
       "<div>\n",
       "<style scoped>\n",
       "    .dataframe tbody tr th:only-of-type {\n",
       "        vertical-align: middle;\n",
       "    }\n",
       "\n",
       "    .dataframe tbody tr th {\n",
       "        vertical-align: top;\n",
       "    }\n",
       "\n",
       "    .dataframe thead th {\n",
       "        text-align: right;\n",
       "    }\n",
       "</style>\n",
       "<table border=\"1\" class=\"dataframe\">\n",
       "  <thead>\n",
       "    <tr style=\"text-align: right;\">\n",
       "      <th></th>\n",
       "      <th>2025-01-31</th>\n",
       "      <th>2024-01-31</th>\n",
       "      <th>2023-01-31</th>\n",
       "      <th>2022-01-31</th>\n",
       "      <th>2021-01-31</th>\n",
       "    </tr>\n",
       "  </thead>\n",
       "  <tbody>\n",
       "    <tr>\n",
       "      <th>Treasury Shares Number</th>\n",
       "      <td>NaN</td>\n",
       "      <td>NaN</td>\n",
       "      <td>NaN</td>\n",
       "      <td>NaN</td>\n",
       "      <td>13800000000.0</td>\n",
       "    </tr>\n",
       "    <tr>\n",
       "      <th>Ordinary Shares Number</th>\n",
       "      <td>24477000000.0</td>\n",
       "      <td>24640000000.0</td>\n",
       "      <td>24661365720.0</td>\n",
       "      <td>25060000000.0</td>\n",
       "      <td>NaN</td>\n",
       "    </tr>\n",
       "    <tr>\n",
       "      <th>Share Issued</th>\n",
       "      <td>24477000000.0</td>\n",
       "      <td>24640000000.0</td>\n",
       "      <td>24661365720.0</td>\n",
       "      <td>25060000000.0</td>\n",
       "      <td>NaN</td>\n",
       "    </tr>\n",
       "    <tr>\n",
       "      <th>Net Debt</th>\n",
       "      <td>NaN</td>\n",
       "      <td>2429000000.0</td>\n",
       "      <td>7564000000.0</td>\n",
       "      <td>8956000000.0</td>\n",
       "      <td>6116000000.0</td>\n",
       "    </tr>\n",
       "    <tr>\n",
       "      <th>Total Debt</th>\n",
       "      <td>10270000000.0</td>\n",
       "      <td>11056000000.0</td>\n",
       "      <td>12031000000.0</td>\n",
       "      <td>11831000000.0</td>\n",
       "      <td>NaN</td>\n",
       "    </tr>\n",
       "    <tr>\n",
       "      <th>...</th>\n",
       "      <td>...</td>\n",
       "      <td>...</td>\n",
       "      <td>...</td>\n",
       "      <td>...</td>\n",
       "      <td>...</td>\n",
       "    </tr>\n",
       "    <tr>\n",
       "      <th>Allowance For Doubtful Accounts Receivable</th>\n",
       "      <td>NaN</td>\n",
       "      <td>NaN</td>\n",
       "      <td>NaN</td>\n",
       "      <td>NaN</td>\n",
       "      <td>-21000000.0</td>\n",
       "    </tr>\n",
       "    <tr>\n",
       "      <th>Gross Accounts Receivable</th>\n",
       "      <td>NaN</td>\n",
       "      <td>NaN</td>\n",
       "      <td>NaN</td>\n",
       "      <td>NaN</td>\n",
       "      <td>2450000000.0</td>\n",
       "    </tr>\n",
       "    <tr>\n",
       "      <th>Cash Cash Equivalents And Short Term Investments</th>\n",
       "      <td>43210000000.0</td>\n",
       "      <td>25984000000.0</td>\n",
       "      <td>13296000000.0</td>\n",
       "      <td>21208000000.0</td>\n",
       "      <td>NaN</td>\n",
       "    </tr>\n",
       "    <tr>\n",
       "      <th>Other Short Term Investments</th>\n",
       "      <td>34621000000.0</td>\n",
       "      <td>18704000000.0</td>\n",
       "      <td>9907000000.0</td>\n",
       "      <td>19218000000.0</td>\n",
       "      <td>NaN</td>\n",
       "    </tr>\n",
       "    <tr>\n",
       "      <th>Cash And Cash Equivalents</th>\n",
       "      <td>8589000000.0</td>\n",
       "      <td>7280000000.0</td>\n",
       "      <td>3389000000.0</td>\n",
       "      <td>1990000000.0</td>\n",
       "      <td>NaN</td>\n",
       "    </tr>\n",
       "  </tbody>\n",
       "</table>\n",
       "<p>86 rows × 5 columns</p>\n",
       "</div>"
      ],
      "text/plain": [
       "                                                     2025-01-31  \\\n",
       "Treasury Shares Number                                      NaN   \n",
       "Ordinary Shares Number                            24477000000.0   \n",
       "Share Issued                                      24477000000.0   \n",
       "Net Debt                                                    NaN   \n",
       "Total Debt                                        10270000000.0   \n",
       "...                                                         ...   \n",
       "Allowance For Doubtful Accounts Receivable                  NaN   \n",
       "Gross Accounts Receivable                                   NaN   \n",
       "Cash Cash Equivalents And Short Term Investments  43210000000.0   \n",
       "Other Short Term Investments                      34621000000.0   \n",
       "Cash And Cash Equivalents                          8589000000.0   \n",
       "\n",
       "                                                     2024-01-31  \\\n",
       "Treasury Shares Number                                      NaN   \n",
       "Ordinary Shares Number                            24640000000.0   \n",
       "Share Issued                                      24640000000.0   \n",
       "Net Debt                                           2429000000.0   \n",
       "Total Debt                                        11056000000.0   \n",
       "...                                                         ...   \n",
       "Allowance For Doubtful Accounts Receivable                  NaN   \n",
       "Gross Accounts Receivable                                   NaN   \n",
       "Cash Cash Equivalents And Short Term Investments  25984000000.0   \n",
       "Other Short Term Investments                      18704000000.0   \n",
       "Cash And Cash Equivalents                          7280000000.0   \n",
       "\n",
       "                                                     2023-01-31  \\\n",
       "Treasury Shares Number                                      NaN   \n",
       "Ordinary Shares Number                            24661365720.0   \n",
       "Share Issued                                      24661365720.0   \n",
       "Net Debt                                           7564000000.0   \n",
       "Total Debt                                        12031000000.0   \n",
       "...                                                         ...   \n",
       "Allowance For Doubtful Accounts Receivable                  NaN   \n",
       "Gross Accounts Receivable                                   NaN   \n",
       "Cash Cash Equivalents And Short Term Investments  13296000000.0   \n",
       "Other Short Term Investments                       9907000000.0   \n",
       "Cash And Cash Equivalents                          3389000000.0   \n",
       "\n",
       "                                                     2022-01-31     2021-01-31  \n",
       "Treasury Shares Number                                      NaN  13800000000.0  \n",
       "Ordinary Shares Number                            25060000000.0            NaN  \n",
       "Share Issued                                      25060000000.0            NaN  \n",
       "Net Debt                                           8956000000.0   6116000000.0  \n",
       "Total Debt                                        11831000000.0            NaN  \n",
       "...                                                         ...            ...  \n",
       "Allowance For Doubtful Accounts Receivable                  NaN    -21000000.0  \n",
       "Gross Accounts Receivable                                   NaN   2450000000.0  \n",
       "Cash Cash Equivalents And Short Term Investments  21208000000.0            NaN  \n",
       "Other Short Term Investments                      19218000000.0            NaN  \n",
       "Cash And Cash Equivalents                          1990000000.0            NaN  \n",
       "\n",
       "[86 rows x 5 columns]"
      ]
     },
     "execution_count": 73,
     "metadata": {},
     "output_type": "execute_result"
    }
   ],
   "source": [
    "# balance sheet\n",
    "nvda.balance_sheet"
   ]
  }
 ],
 "metadata": {
  "kernelspec": {
   "display_name": "financial-ml-env",
   "language": "python",
   "name": "python3"
  },
  "language_info": {
   "codemirror_mode": {
    "name": "ipython",
    "version": 3
   },
   "file_extension": ".py",
   "mimetype": "text/x-python",
   "name": "python",
   "nbconvert_exporter": "python",
   "pygments_lexer": "ipython3",
   "version": "3.11.10"
  }
 },
 "nbformat": 4,
 "nbformat_minor": 5
}
